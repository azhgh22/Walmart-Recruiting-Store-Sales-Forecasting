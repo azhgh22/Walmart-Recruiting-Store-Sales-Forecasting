{
  "cells": [
    {
      "cell_type": "markdown",
      "metadata": {
        "id": "view-in-github",
        "colab_type": "text"
      },
      "source": [
        "<a href=\"https://colab.research.google.com/github/azhgh22/Walmart-Recruiting-Store-Sales-Forecasting/blob/main/notebooks/xgboost_base_model.ipynb\" target=\"_parent\"><img src=\"https://colab.research.google.com/assets/colab-badge.svg\" alt=\"Open In Colab\"/></a>"
      ]
    },
    {
      "cell_type": "markdown",
      "source": [
        "## Notebook Objective\n",
        "\n",
        "The main focus of this notebook is to evaluate how tree-based models, particularly **XGBoost**, perform on our forecasting task.\n",
        "\n",
        "We will apply several feature engineering techniques to enhance model input and then search for the best-performing XGBoost model through hyperparameter tuning.\n"
      ],
      "metadata": {
        "id": "0Ud0sdZksPbU"
      },
      "id": "0Ud0sdZksPbU"
    },
    {
      "cell_type": "markdown",
      "source": [
        "## Notebook Setup\n",
        "\n",
        "The following code handles the initial setup of the notebook: cloning the GitHub repository, loading the data, and splitting it for training and validation. This setup code is user-specific and may need to be adjusted depending on your environment.\n"
      ],
      "metadata": {
        "id": "lBEax5FAskLw"
      },
      "id": "lBEax5FAskLw"
    },
    {
      "cell_type": "code",
      "execution_count": 1,
      "id": "3e52d889",
      "metadata": {
        "colab": {
          "base_uri": "https://localhost:8080/"
        },
        "id": "3e52d889",
        "outputId": "f2e1167e-c4cb-45eb-ab85-c51dea883be4"
      },
      "outputs": [
        {
          "output_type": "stream",
          "name": "stdout",
          "text": [
            "Mounted at /content/drive\n"
          ]
        }
      ],
      "source": [
        "from google.colab import drive\n",
        "drive.mount('/content/drive')"
      ]
    },
    {
      "cell_type": "code",
      "source": [
        "from google.colab import userdata\n",
        "token = userdata.get('GITHUB_TOKEN')\n",
        "user_name = userdata.get('GITHUB_USERNAME')\n",
        "mail = userdata.get('GITHUB_MAIL')\n",
        "\n",
        "!git config --global user.name \"{user_name}\"\n",
        "!git config --global user.email \"{mail}\"\n",
        "!git clone https://{token}@github.com/azhgh22/Walmart-Recruiting-Store-Sales-Forecasting.git\n",
        "\n",
        "%cd Walmart-Recruiting-Store-Sales-Forecasting"
      ],
      "metadata": {
        "colab": {
          "base_uri": "https://localhost:8080/"
        },
        "id": "u3cRwSz0PsGw",
        "outputId": "bd9a9cc8-473a-484e-ad77-c7872e084376"
      },
      "id": "u3cRwSz0PsGw",
      "execution_count": 2,
      "outputs": [
        {
          "output_type": "stream",
          "name": "stdout",
          "text": [
            "Cloning into 'Walmart-Recruiting-Store-Sales-Forecasting'...\n",
            "remote: Enumerating objects: 437, done.\u001b[K\n",
            "remote: Counting objects: 100% (33/33), done.\u001b[K\n",
            "remote: Compressing objects: 100% (26/26), done.\u001b[K\n",
            "remote: Total 437 (delta 17), reused 7 (delta 7), pack-reused 404 (from 1)\u001b[K\n",
            "Receiving objects: 100% (437/437), 9.11 MiB | 16.65 MiB/s, done.\n",
            "Resolving deltas: 100% (235/235), done.\n",
            "/content/Walmart-Recruiting-Store-Sales-Forecasting\n"
          ]
        }
      ]
    },
    {
      "cell_type": "code",
      "source": [
        "%%capture\n",
        "from google.colab import userdata\n",
        "!pip install -r requirements.txt\n",
        "kaggle_json_path = userdata.get('KAGGLE_JSON_PATH')\n",
        "! ./src/data_loader.sh -f {kaggle_json_path}"
      ],
      "metadata": {
        "id": "K3sdpsFoP0vh"
      },
      "id": "K3sdpsFoP0vh",
      "execution_count": 3,
      "outputs": []
    },
    {
      "cell_type": "code",
      "source": [
        "import pandas as pd\n",
        "import numpy as np\n",
        "import matplotlib.pyplot as plt\n",
        "import seaborn as sns"
      ],
      "metadata": {
        "id": "irVmks2kP-9b"
      },
      "id": "irVmks2kP-9b",
      "execution_count": 6,
      "outputs": []
    },
    {
      "cell_type": "code",
      "source": [
        "from src.config import *\n",
        "\n",
        "stores = pd.read_csv(STORES_PATH)\n",
        "features = pd.read_csv(FEATURES_PATH)\n",
        "train = pd.read_csv(TRAIN_PATH)\n",
        "test = pd.read_csv(TEST_PATH)"
      ],
      "metadata": {
        "id": "pzy0BHMtQB2U"
      },
      "id": "pzy0BHMtQB2U",
      "execution_count": 7,
      "outputs": []
    },
    {
      "cell_type": "code",
      "source": [
        "merged_train = pd.merge(train,stores,on='Store',how='left').merge(features,how='left',on=['Store','Date','IsHoliday'])"
      ],
      "metadata": {
        "id": "A2pAEl5eQDk6"
      },
      "id": "A2pAEl5eQDk6",
      "execution_count": 8,
      "outputs": []
    },
    {
      "cell_type": "code",
      "source": [
        "from src.time_series_split import TimeSeriesSplit\n",
        "from src.config import SPLIT_DATE\n",
        "merged_train.Date = pd.to_datetime(merged_train.Date)\n",
        "x_train, x_val = TimeSeriesSplit(SPLIT_DATE).split(merged_train)\n",
        "\n",
        "y_train = x_train.pop('Weekly_Sales')\n",
        "y_val = x_val.pop('Weekly_Sales')"
      ],
      "metadata": {
        "id": "HqczOQCDQ7cV"
      },
      "id": "HqczOQCDQ7cV",
      "execution_count": 9,
      "outputs": []
    },
    {
      "cell_type": "code",
      "source": [
        "merged_train.head()"
      ],
      "metadata": {
        "colab": {
          "base_uri": "https://localhost:8080/",
          "height": 206
        },
        "id": "4O6BpjQn6foc",
        "outputId": "c1011dec-8d82-482a-a130-5bfe70914a66"
      },
      "id": "4O6BpjQn6foc",
      "execution_count": 10,
      "outputs": [
        {
          "output_type": "execute_result",
          "data": {
            "text/plain": [
              "   Store  Dept       Date  Weekly_Sales  IsHoliday Type    Size  Temperature  \\\n",
              "0      1     1 2010-02-05      24924.50      False    A  151315        42.31   \n",
              "1      1     1 2010-02-12      46039.49       True    A  151315        38.51   \n",
              "2      1     1 2010-02-19      41595.55      False    A  151315        39.93   \n",
              "3      1     1 2010-02-26      19403.54      False    A  151315        46.63   \n",
              "4      1     1 2010-03-05      21827.90      False    A  151315        46.50   \n",
              "\n",
              "   Fuel_Price  MarkDown1  MarkDown2  MarkDown3  MarkDown4  MarkDown5  \\\n",
              "0       2.572        NaN        NaN        NaN        NaN        NaN   \n",
              "1       2.548        NaN        NaN        NaN        NaN        NaN   \n",
              "2       2.514        NaN        NaN        NaN        NaN        NaN   \n",
              "3       2.561        NaN        NaN        NaN        NaN        NaN   \n",
              "4       2.625        NaN        NaN        NaN        NaN        NaN   \n",
              "\n",
              "          CPI  Unemployment  \n",
              "0  211.096358         8.106  \n",
              "1  211.242170         8.106  \n",
              "2  211.289143         8.106  \n",
              "3  211.319643         8.106  \n",
              "4  211.350143         8.106  "
            ],
            "text/html": [
              "\n",
              "  <div id=\"df-190d8347-cfb1-4b81-b1d3-b9e2ab6b7b92\" class=\"colab-df-container\">\n",
              "    <div>\n",
              "<style scoped>\n",
              "    .dataframe tbody tr th:only-of-type {\n",
              "        vertical-align: middle;\n",
              "    }\n",
              "\n",
              "    .dataframe tbody tr th {\n",
              "        vertical-align: top;\n",
              "    }\n",
              "\n",
              "    .dataframe thead th {\n",
              "        text-align: right;\n",
              "    }\n",
              "</style>\n",
              "<table border=\"1\" class=\"dataframe\">\n",
              "  <thead>\n",
              "    <tr style=\"text-align: right;\">\n",
              "      <th></th>\n",
              "      <th>Store</th>\n",
              "      <th>Dept</th>\n",
              "      <th>Date</th>\n",
              "      <th>Weekly_Sales</th>\n",
              "      <th>IsHoliday</th>\n",
              "      <th>Type</th>\n",
              "      <th>Size</th>\n",
              "      <th>Temperature</th>\n",
              "      <th>Fuel_Price</th>\n",
              "      <th>MarkDown1</th>\n",
              "      <th>MarkDown2</th>\n",
              "      <th>MarkDown3</th>\n",
              "      <th>MarkDown4</th>\n",
              "      <th>MarkDown5</th>\n",
              "      <th>CPI</th>\n",
              "      <th>Unemployment</th>\n",
              "    </tr>\n",
              "  </thead>\n",
              "  <tbody>\n",
              "    <tr>\n",
              "      <th>0</th>\n",
              "      <td>1</td>\n",
              "      <td>1</td>\n",
              "      <td>2010-02-05</td>\n",
              "      <td>24924.50</td>\n",
              "      <td>False</td>\n",
              "      <td>A</td>\n",
              "      <td>151315</td>\n",
              "      <td>42.31</td>\n",
              "      <td>2.572</td>\n",
              "      <td>NaN</td>\n",
              "      <td>NaN</td>\n",
              "      <td>NaN</td>\n",
              "      <td>NaN</td>\n",
              "      <td>NaN</td>\n",
              "      <td>211.096358</td>\n",
              "      <td>8.106</td>\n",
              "    </tr>\n",
              "    <tr>\n",
              "      <th>1</th>\n",
              "      <td>1</td>\n",
              "      <td>1</td>\n",
              "      <td>2010-02-12</td>\n",
              "      <td>46039.49</td>\n",
              "      <td>True</td>\n",
              "      <td>A</td>\n",
              "      <td>151315</td>\n",
              "      <td>38.51</td>\n",
              "      <td>2.548</td>\n",
              "      <td>NaN</td>\n",
              "      <td>NaN</td>\n",
              "      <td>NaN</td>\n",
              "      <td>NaN</td>\n",
              "      <td>NaN</td>\n",
              "      <td>211.242170</td>\n",
              "      <td>8.106</td>\n",
              "    </tr>\n",
              "    <tr>\n",
              "      <th>2</th>\n",
              "      <td>1</td>\n",
              "      <td>1</td>\n",
              "      <td>2010-02-19</td>\n",
              "      <td>41595.55</td>\n",
              "      <td>False</td>\n",
              "      <td>A</td>\n",
              "      <td>151315</td>\n",
              "      <td>39.93</td>\n",
              "      <td>2.514</td>\n",
              "      <td>NaN</td>\n",
              "      <td>NaN</td>\n",
              "      <td>NaN</td>\n",
              "      <td>NaN</td>\n",
              "      <td>NaN</td>\n",
              "      <td>211.289143</td>\n",
              "      <td>8.106</td>\n",
              "    </tr>\n",
              "    <tr>\n",
              "      <th>3</th>\n",
              "      <td>1</td>\n",
              "      <td>1</td>\n",
              "      <td>2010-02-26</td>\n",
              "      <td>19403.54</td>\n",
              "      <td>False</td>\n",
              "      <td>A</td>\n",
              "      <td>151315</td>\n",
              "      <td>46.63</td>\n",
              "      <td>2.561</td>\n",
              "      <td>NaN</td>\n",
              "      <td>NaN</td>\n",
              "      <td>NaN</td>\n",
              "      <td>NaN</td>\n",
              "      <td>NaN</td>\n",
              "      <td>211.319643</td>\n",
              "      <td>8.106</td>\n",
              "    </tr>\n",
              "    <tr>\n",
              "      <th>4</th>\n",
              "      <td>1</td>\n",
              "      <td>1</td>\n",
              "      <td>2010-03-05</td>\n",
              "      <td>21827.90</td>\n",
              "      <td>False</td>\n",
              "      <td>A</td>\n",
              "      <td>151315</td>\n",
              "      <td>46.50</td>\n",
              "      <td>2.625</td>\n",
              "      <td>NaN</td>\n",
              "      <td>NaN</td>\n",
              "      <td>NaN</td>\n",
              "      <td>NaN</td>\n",
              "      <td>NaN</td>\n",
              "      <td>211.350143</td>\n",
              "      <td>8.106</td>\n",
              "    </tr>\n",
              "  </tbody>\n",
              "</table>\n",
              "</div>\n",
              "    <div class=\"colab-df-buttons\">\n",
              "\n",
              "  <div class=\"colab-df-container\">\n",
              "    <button class=\"colab-df-convert\" onclick=\"convertToInteractive('df-190d8347-cfb1-4b81-b1d3-b9e2ab6b7b92')\"\n",
              "            title=\"Convert this dataframe to an interactive table.\"\n",
              "            style=\"display:none;\">\n",
              "\n",
              "  <svg xmlns=\"http://www.w3.org/2000/svg\" height=\"24px\" viewBox=\"0 -960 960 960\">\n",
              "    <path d=\"M120-120v-720h720v720H120Zm60-500h600v-160H180v160Zm220 220h160v-160H400v160Zm0 220h160v-160H400v160ZM180-400h160v-160H180v160Zm440 0h160v-160H620v160ZM180-180h160v-160H180v160Zm440 0h160v-160H620v160Z\"/>\n",
              "  </svg>\n",
              "    </button>\n",
              "\n",
              "  <style>\n",
              "    .colab-df-container {\n",
              "      display:flex;\n",
              "      gap: 12px;\n",
              "    }\n",
              "\n",
              "    .colab-df-convert {\n",
              "      background-color: #E8F0FE;\n",
              "      border: none;\n",
              "      border-radius: 50%;\n",
              "      cursor: pointer;\n",
              "      display: none;\n",
              "      fill: #1967D2;\n",
              "      height: 32px;\n",
              "      padding: 0 0 0 0;\n",
              "      width: 32px;\n",
              "    }\n",
              "\n",
              "    .colab-df-convert:hover {\n",
              "      background-color: #E2EBFA;\n",
              "      box-shadow: 0px 1px 2px rgba(60, 64, 67, 0.3), 0px 1px 3px 1px rgba(60, 64, 67, 0.15);\n",
              "      fill: #174EA6;\n",
              "    }\n",
              "\n",
              "    .colab-df-buttons div {\n",
              "      margin-bottom: 4px;\n",
              "    }\n",
              "\n",
              "    [theme=dark] .colab-df-convert {\n",
              "      background-color: #3B4455;\n",
              "      fill: #D2E3FC;\n",
              "    }\n",
              "\n",
              "    [theme=dark] .colab-df-convert:hover {\n",
              "      background-color: #434B5C;\n",
              "      box-shadow: 0px 1px 3px 1px rgba(0, 0, 0, 0.15);\n",
              "      filter: drop-shadow(0px 1px 2px rgba(0, 0, 0, 0.3));\n",
              "      fill: #FFFFFF;\n",
              "    }\n",
              "  </style>\n",
              "\n",
              "    <script>\n",
              "      const buttonEl =\n",
              "        document.querySelector('#df-190d8347-cfb1-4b81-b1d3-b9e2ab6b7b92 button.colab-df-convert');\n",
              "      buttonEl.style.display =\n",
              "        google.colab.kernel.accessAllowed ? 'block' : 'none';\n",
              "\n",
              "      async function convertToInteractive(key) {\n",
              "        const element = document.querySelector('#df-190d8347-cfb1-4b81-b1d3-b9e2ab6b7b92');\n",
              "        const dataTable =\n",
              "          await google.colab.kernel.invokeFunction('convertToInteractive',\n",
              "                                                    [key], {});\n",
              "        if (!dataTable) return;\n",
              "\n",
              "        const docLinkHtml = 'Like what you see? Visit the ' +\n",
              "          '<a target=\"_blank\" href=https://colab.research.google.com/notebooks/data_table.ipynb>data table notebook</a>'\n",
              "          + ' to learn more about interactive tables.';\n",
              "        element.innerHTML = '';\n",
              "        dataTable['output_type'] = 'display_data';\n",
              "        await google.colab.output.renderOutput(dataTable, element);\n",
              "        const docLink = document.createElement('div');\n",
              "        docLink.innerHTML = docLinkHtml;\n",
              "        element.appendChild(docLink);\n",
              "      }\n",
              "    </script>\n",
              "  </div>\n",
              "\n",
              "\n",
              "    <div id=\"df-bf4ca6db-e75d-47dc-afad-bdb18659bdf6\">\n",
              "      <button class=\"colab-df-quickchart\" onclick=\"quickchart('df-bf4ca6db-e75d-47dc-afad-bdb18659bdf6')\"\n",
              "                title=\"Suggest charts\"\n",
              "                style=\"display:none;\">\n",
              "\n",
              "<svg xmlns=\"http://www.w3.org/2000/svg\" height=\"24px\"viewBox=\"0 0 24 24\"\n",
              "     width=\"24px\">\n",
              "    <g>\n",
              "        <path d=\"M19 3H5c-1.1 0-2 .9-2 2v14c0 1.1.9 2 2 2h14c1.1 0 2-.9 2-2V5c0-1.1-.9-2-2-2zM9 17H7v-7h2v7zm4 0h-2V7h2v10zm4 0h-2v-4h2v4z\"/>\n",
              "    </g>\n",
              "</svg>\n",
              "      </button>\n",
              "\n",
              "<style>\n",
              "  .colab-df-quickchart {\n",
              "      --bg-color: #E8F0FE;\n",
              "      --fill-color: #1967D2;\n",
              "      --hover-bg-color: #E2EBFA;\n",
              "      --hover-fill-color: #174EA6;\n",
              "      --disabled-fill-color: #AAA;\n",
              "      --disabled-bg-color: #DDD;\n",
              "  }\n",
              "\n",
              "  [theme=dark] .colab-df-quickchart {\n",
              "      --bg-color: #3B4455;\n",
              "      --fill-color: #D2E3FC;\n",
              "      --hover-bg-color: #434B5C;\n",
              "      --hover-fill-color: #FFFFFF;\n",
              "      --disabled-bg-color: #3B4455;\n",
              "      --disabled-fill-color: #666;\n",
              "  }\n",
              "\n",
              "  .colab-df-quickchart {\n",
              "    background-color: var(--bg-color);\n",
              "    border: none;\n",
              "    border-radius: 50%;\n",
              "    cursor: pointer;\n",
              "    display: none;\n",
              "    fill: var(--fill-color);\n",
              "    height: 32px;\n",
              "    padding: 0;\n",
              "    width: 32px;\n",
              "  }\n",
              "\n",
              "  .colab-df-quickchart:hover {\n",
              "    background-color: var(--hover-bg-color);\n",
              "    box-shadow: 0 1px 2px rgba(60, 64, 67, 0.3), 0 1px 3px 1px rgba(60, 64, 67, 0.15);\n",
              "    fill: var(--button-hover-fill-color);\n",
              "  }\n",
              "\n",
              "  .colab-df-quickchart-complete:disabled,\n",
              "  .colab-df-quickchart-complete:disabled:hover {\n",
              "    background-color: var(--disabled-bg-color);\n",
              "    fill: var(--disabled-fill-color);\n",
              "    box-shadow: none;\n",
              "  }\n",
              "\n",
              "  .colab-df-spinner {\n",
              "    border: 2px solid var(--fill-color);\n",
              "    border-color: transparent;\n",
              "    border-bottom-color: var(--fill-color);\n",
              "    animation:\n",
              "      spin 1s steps(1) infinite;\n",
              "  }\n",
              "\n",
              "  @keyframes spin {\n",
              "    0% {\n",
              "      border-color: transparent;\n",
              "      border-bottom-color: var(--fill-color);\n",
              "      border-left-color: var(--fill-color);\n",
              "    }\n",
              "    20% {\n",
              "      border-color: transparent;\n",
              "      border-left-color: var(--fill-color);\n",
              "      border-top-color: var(--fill-color);\n",
              "    }\n",
              "    30% {\n",
              "      border-color: transparent;\n",
              "      border-left-color: var(--fill-color);\n",
              "      border-top-color: var(--fill-color);\n",
              "      border-right-color: var(--fill-color);\n",
              "    }\n",
              "    40% {\n",
              "      border-color: transparent;\n",
              "      border-right-color: var(--fill-color);\n",
              "      border-top-color: var(--fill-color);\n",
              "    }\n",
              "    60% {\n",
              "      border-color: transparent;\n",
              "      border-right-color: var(--fill-color);\n",
              "    }\n",
              "    80% {\n",
              "      border-color: transparent;\n",
              "      border-right-color: var(--fill-color);\n",
              "      border-bottom-color: var(--fill-color);\n",
              "    }\n",
              "    90% {\n",
              "      border-color: transparent;\n",
              "      border-bottom-color: var(--fill-color);\n",
              "    }\n",
              "  }\n",
              "</style>\n",
              "\n",
              "      <script>\n",
              "        async function quickchart(key) {\n",
              "          const quickchartButtonEl =\n",
              "            document.querySelector('#' + key + ' button');\n",
              "          quickchartButtonEl.disabled = true;  // To prevent multiple clicks.\n",
              "          quickchartButtonEl.classList.add('colab-df-spinner');\n",
              "          try {\n",
              "            const charts = await google.colab.kernel.invokeFunction(\n",
              "                'suggestCharts', [key], {});\n",
              "          } catch (error) {\n",
              "            console.error('Error during call to suggestCharts:', error);\n",
              "          }\n",
              "          quickchartButtonEl.classList.remove('colab-df-spinner');\n",
              "          quickchartButtonEl.classList.add('colab-df-quickchart-complete');\n",
              "        }\n",
              "        (() => {\n",
              "          let quickchartButtonEl =\n",
              "            document.querySelector('#df-bf4ca6db-e75d-47dc-afad-bdb18659bdf6 button');\n",
              "          quickchartButtonEl.style.display =\n",
              "            google.colab.kernel.accessAllowed ? 'block' : 'none';\n",
              "        })();\n",
              "      </script>\n",
              "    </div>\n",
              "\n",
              "    </div>\n",
              "  </div>\n"
            ],
            "application/vnd.google.colaboratory.intrinsic+json": {
              "type": "dataframe",
              "variable_name": "merged_train"
            }
          },
          "metadata": {},
          "execution_count": 10
        }
      ]
    },
    {
      "cell_type": "markdown",
      "source": [
        "# Custom Feature Engineering Classes\n",
        "\n",
        "For feature engineering, we will use the following custom-built classes:\n",
        "\n",
        "1. **FeatureAdder**  \n",
        "   Adds various time-related features such as Fourier terms, week of the year, and more.  \n",
        "   Implementation: `feature_engineering/time_features`\n",
        "\n",
        "2. **NAImputer**  \n",
        "   Handles missing values by identifying columns with NaNs and applying a specified imputation strategy (default: `'mean'`).  \n",
        "   It uses `SimpleImputer` internally and fills missing values while preserving the rest of the data.  \n",
        "   Implementation: `feature_engineering/feature_transformers`\n",
        "\n",
        "3. **Cat2Num**  \n",
        "   Transforms categorical columns into numerical format.  \n",
        "   - Converts `'IsHoliday'` to integers  \n",
        "   - Encodes `'Type'` as categorical numeric codes  \n",
        "\n",
        "Implementation: `feature_engineering/feature_transformers`\n"
      ],
      "metadata": {
        "id": "ovcB3UrVvkPA"
      },
      "id": "ovcB3UrVvkPA"
    },
    {
      "cell_type": "code",
      "source": [
        "from feature_engineering.time_features import FeatureAdder\n",
        "from feature_engineering.imputers import NaImputer\n",
        "from feature_engineering.feature_transformers import Cat2Num\n"
      ],
      "metadata": {
        "id": "ZukYktexrSXk"
      },
      "id": "ZukYktexrSXk",
      "execution_count": 11,
      "outputs": []
    },
    {
      "cell_type": "markdown",
      "source": [
        "# Training and Validating"
      ],
      "metadata": {
        "id": "Xx14KtxrbKt7"
      },
      "id": "Xx14KtxrbKt7"
    },
    {
      "cell_type": "markdown",
      "source": [
        "We begin by using cross-validation with XGBoost to establish a strong baseline model.\n"
      ],
      "metadata": {
        "id": "sjxqcUVv0Jc0"
      },
      "id": "sjxqcUVv0Jc0"
    },
    {
      "cell_type": "code",
      "source": [
        "from xgboost import DMatrix\n",
        "from xgboost import XGBRegressor\n",
        "from sklearn.metrics import mean_squared_error\n",
        "from sklearn.metrics import root_mean_squared_error\n",
        "from sklearn.metrics import mean_absolute_error\n",
        "from src.utils import wmae"
      ],
      "metadata": {
        "id": "JKEZylACbKXU"
      },
      "id": "JKEZylACbKXU",
      "execution_count": 12,
      "outputs": []
    },
    {
      "cell_type": "code",
      "source": [
        "from src.cross_validation import manual_model_search\n",
        "from sklearn.pipeline import Pipeline\n",
        "\n",
        "pipeline = Pipeline([\n",
        "    ('adder', FeatureAdder()),\n",
        "    ('imputer', NaImputer()),\n",
        "    ('cat2num', Cat2Num()),\n",
        "  ])\n",
        "\n",
        "\n",
        "mod = Pipeline([\n",
        "    ('model', XGBRegressor(\n",
        "        n_estimators=1000,\n",
        "        learning_rate=0.1,\n",
        "        max_depth=7,\n",
        "        reg_lambda=3,\n",
        "        min_split_loss=100,\n",
        "        objective='reg:squarederror',\n",
        "        random_state=42,\n",
        "    ))\n",
        "  ])\n",
        "\n",
        "transformed_train = pipeline.fit_transform(x_train,y_train)\n",
        "transformed_val = pipeline.transform(x_val)\n",
        "\n",
        "param_grid = {\n",
        "    'model__n_estimators': [200,500,800,1000],\n",
        "    'model__learning_rate': [0.1],\n",
        "    'model__max_depth': [7],\n",
        "    'model__reg_lambda': [3],\n",
        "    'model__min_split_loss': [100],\n",
        "}\n",
        "\n",
        "\n",
        "metric_kwargs = {\n",
        "    'is_holiday': transformed_val['IsHoliday']\n",
        "}\n",
        "\n",
        "best_model, best_params, best_score = manual_model_search(\n",
        "    model=mod,\n",
        "    param_grid=param_grid,\n",
        "    X_train=transformed_train,\n",
        "    y_train=y_train,\n",
        "    X_valid=transformed_val,\n",
        "    y_valid=y_val,\n",
        "    metric_func=wmae,\n",
        "    metric_kwargs=metric_kwargs\n",
        ")\n",
        "\n",
        "print(\"\\nBest Params:\", best_params)\n",
        "print(\"Best Validation Score:\", best_score)"
      ],
      "metadata": {
        "id": "hkrg3iOn5wtJ",
        "outputId": "7617801c-dfeb-4966-80fc-88d1c7f37dc5",
        "colab": {
          "base_uri": "https://localhost:8080/"
        }
      },
      "id": "hkrg3iOn5wtJ",
      "execution_count": 13,
      "outputs": [
        {
          "output_type": "stream",
          "name": "stderr",
          "text": [
            "/usr/local/lib/python3.11/dist-packages/sklearn/pipeline.py:62: FutureWarning: This Pipeline instance is not fitted yet. Call 'fit' with appropriate arguments before using other methods such as transform, predict, etc. This will raise an error in 1.8 instead of the current warning.\n",
            "  warnings.warn(\n"
          ]
        },
        {
          "output_type": "stream",
          "name": "stdout",
          "text": [
            "Params: {'model__n_estimators': 200, 'model__learning_rate': 0.1, 'model__max_depth': 7, 'model__reg_lambda': 3, 'model__min_split_loss': 100} -> Score: 3383.7155\n",
            "Params: {'model__n_estimators': 500, 'model__learning_rate': 0.1, 'model__max_depth': 7, 'model__reg_lambda': 3, 'model__min_split_loss': 100} -> Score: 3020.4466\n",
            "Params: {'model__n_estimators': 800, 'model__learning_rate': 0.1, 'model__max_depth': 7, 'model__reg_lambda': 3, 'model__min_split_loss': 100} -> Score: 2895.2265\n",
            "Params: {'model__n_estimators': 1000, 'model__learning_rate': 0.1, 'model__max_depth': 7, 'model__reg_lambda': 3, 'model__min_split_loss': 100} -> Score: 2848.9664\n",
            "\n",
            "Best Params: {'model__n_estimators': 1000, 'model__learning_rate': 0.1, 'model__max_depth': 7, 'model__reg_lambda': 3, 'model__min_split_loss': 100}\n",
            "Best Validation Score: 2848.966433266072\n"
          ]
        }
      ]
    },
    {
      "cell_type": "code",
      "source": [
        "from sklearn.pipeline import Pipeline\n",
        "from feature_engineering.lag_adder import LagAdder\n",
        "\n",
        "xgb = XGBRegressor(\n",
        "        n_estimators=1000,\n",
        "        learning_rate=0.1,\n",
        "        max_depth=7,\n",
        "        reg_lambda=3,\n",
        "        objective='reg:squarederror',\n",
        "        random_state=42,\n",
        "    )\n",
        "\n",
        "pipeline = Pipeline([\n",
        "    ('adder', FeatureAdder(\n",
        "        add_week_num=True,\n",
        "        add_holiday_flags=False,\n",
        "        add_holiday_proximity=False,\n",
        "        add_holiday_windows=False,\n",
        "        add_fourier_features=True,\n",
        "        add_month_and_year=False,\n",
        "        list_of_holiday_proximity=None,\n",
        "        replace_time_index = False,\n",
        "\n",
        "        add_dummy_date=True,start_date=pd.Timestamp('2010-02-05'))),\n",
        "    ('imputer', NaImputer()),\n",
        "    ('cat2num', Cat2Num()),\n",
        "    ('model', xgb)\n",
        "  ])\n",
        "\n",
        "model = pipeline.fit(x_train, y_train)\n",
        "\n",
        "\n",
        "y_train_predict = model.predict(x_train)\n",
        "y_val_predict = model.predict(x_val)\n",
        "\n",
        "train_score = wmae(y_train, y_train_predict,x_train['IsHoliday'].to_list())\n",
        "val_score = wmae(y_val, y_val_predict,x_val['IsHoliday'].to_list())\n",
        "print(f\"Train wmae: {train_score}, Val wmae: {val_score}\")"
      ],
      "metadata": {
        "id": "vqQDie2KyhTH",
        "outputId": "0160378a-2815-4326-84b6-cb8f781f3561",
        "colab": {
          "base_uri": "https://localhost:8080/"
        }
      },
      "id": "vqQDie2KyhTH",
      "execution_count": 17,
      "outputs": [
        {
          "output_type": "stream",
          "name": "stdout",
          "text": [
            "Train wmae: 1632.747744372342, Val wmae: 2893.6627682140415\n"
          ]
        }
      ]
    },
    {
      "cell_type": "markdown",
      "source": [
        "Next, we introduce the `LagAdder` function, which plays a key role in making XGBoost act as an **autoregressive** model. It works by adding lagged versions of the target variable (predicted values from previous time steps) as new features to the dataset. This allows the model to incorporate past values directly into its predictions, capturing temporal dependencies. This technique is good for adapting non-sequential models like XGBoost to time series forecasting tasks."
      ],
      "metadata": {
        "id": "jpwiceQM0c2Q"
      },
      "id": "jpwiceQM0c2Q"
    },
    {
      "cell_type": "code",
      "source": [
        "from sklearn.pipeline import Pipeline\n",
        "from feature_engineering.lag_adder import LagAdder\n",
        "\n",
        "xgb = XGBRegressor(\n",
        "        n_estimators=1000,\n",
        "        learning_rate=0.01,\n",
        "        max_depth=7,\n",
        "        reg_lambda=1000,\n",
        "        objective='reg:squarederror',\n",
        "        random_state=42,\n",
        "    )\n",
        "\n",
        "pipeline = Pipeline([\n",
        "    ('adder', FeatureAdder(\n",
        "        add_week_num=True,\n",
        "        add_holiday_flags=False,\n",
        "        add_holiday_proximity=False,\n",
        "        add_holiday_windows=False,\n",
        "        add_fourier_features=True,\n",
        "        add_month_and_year=False,\n",
        "        list_of_holiday_proximity=None,\n",
        "        replace_time_index = False,\n",
        "\n",
        "        add_dummy_date=True,start_date=pd.Timestamp('2010-02-05'))),\n",
        "    ('imputer', NaImputer()),\n",
        "    ('cat2num', Cat2Num()),\n",
        "    ('model', LagAdder(y_val,xgb,2))\n",
        "  ])\n",
        "\n",
        "model = pipeline.fit(x_train, y_train)\n",
        "\n",
        "\n",
        "y_train_predict = model.predict(x_train)\n",
        "y_val_predict = model.predict(x_val)\n",
        "\n",
        "train_score = wmae(y_train, y_train_predict,x_train['IsHoliday'].to_list())\n",
        "val_score = wmae(y_val, y_val_predict,x_val['IsHoliday'].to_list())\n",
        "print(f\"Train wmae: {train_score}, Val wmae: {val_score}\")"
      ],
      "metadata": {
        "colab": {
          "base_uri": "https://localhost:8080/"
        },
        "id": "BwAh7iMq_Nah",
        "outputId": "0a57cbfb-ce9f-46e7-d59b-ab34b1d04710"
      },
      "id": "BwAh7iMq_Nah",
      "execution_count": 16,
      "outputs": [
        {
          "output_type": "stream",
          "name": "stdout",
          "text": [
            "0\n",
            "0\n",
            "1\n"
          ]
        },
        {
          "output_type": "stream",
          "name": "stderr",
          "text": [
            "/usr/local/lib/python3.11/dist-packages/sklearn/pipeline.py:62: FutureWarning: This Pipeline instance is not fitted yet. Call 'fit' with appropriate arguments before using other methods such as transform, predict, etc. This will raise an error in 1.8 instead of the current warning.\n",
            "  warnings.warn(\n"
          ]
        },
        {
          "output_type": "stream",
          "name": "stdout",
          "text": [
            "Train wmae: 3001.246717622876, Val wmae: 3232.624473235746\n"
          ]
        },
        {
          "output_type": "stream",
          "name": "stderr",
          "text": [
            "/usr/local/lib/python3.11/dist-packages/sklearn/pipeline.py:62: FutureWarning: This Pipeline instance is not fitted yet. Call 'fit' with appropriate arguments before using other methods such as transform, predict, etc. This will raise an error in 1.8 instead of the current warning.\n",
            "  warnings.warn(\n"
          ]
        }
      ]
    },
    {
      "cell_type": "markdown",
      "source": [
        "We will not proceed with further training in this notebook.\n",
        "\n",
        "Our experiments suggest that **autoregressive modeling** using lagged features has a negative impact on performance in this case, and is not suitable for our XGBoost setup.\n",
        "\n",
        "While **XGBoost** is a strong model — achieving a mean absolute error (MAE) of approximately **2848** (as seen in Weights & Biases logs, though not shown here) — it alone is **not sufficient** for capturing the full complexity of the time series patterns in this problem.\n"
      ],
      "metadata": {
        "id": "UZzR5PPR0_R0"
      },
      "id": "UZzR5PPR0_R0"
    },
    {
      "cell_type": "markdown",
      "source": [
        "# Log to WandB"
      ],
      "metadata": {
        "id": "BCBJZKD2zXIq"
      },
      "id": "BCBJZKD2zXIq"
    },
    {
      "cell_type": "code",
      "source": [
        "xgb = XGBRegressor(\n",
        "        n_estimators=1000,\n",
        "        learning_rate=0.1,\n",
        "        max_depth=7,\n",
        "        reg_lambda=3,\n",
        "        objective='reg:squarederror',\n",
        "        random_state=42,\n",
        "    )\n",
        "\n",
        "pipeline = Pipeline([\n",
        "    ('adder', FeatureAdder(\n",
        "        add_week_num=True,\n",
        "        add_holiday_flags=False,\n",
        "        add_holiday_proximity=False,\n",
        "        add_holiday_windows=False,\n",
        "        add_fourier_features=True,\n",
        "        add_month_and_year=False,\n",
        "        list_of_holiday_proximity=None,\n",
        "        replace_time_index = False,\n",
        "\n",
        "        add_dummy_date=True,start_date=pd.Timestamp('2010-02-05'))),\n",
        "    ('imputer', NaImputer()),\n",
        "    ('cat2num', Cat2Num()),\n",
        "    ('model', xgb)\n",
        "  ])"
      ],
      "metadata": {
        "id": "eG1KwXvHzesN"
      },
      "id": "eG1KwXvHzesN",
      "execution_count": 18,
      "outputs": []
    },
    {
      "cell_type": "code",
      "source": [
        "! wandb login"
      ],
      "metadata": {
        "colab": {
          "base_uri": "https://localhost:8080/"
        },
        "id": "a185XW-zzWqO",
        "outputId": "7285eec8-a00b-4cb8-ac21-93bb3e9872ad"
      },
      "id": "a185XW-zzWqO",
      "execution_count": null,
      "outputs": [
        {
          "output_type": "stream",
          "name": "stdout",
          "text": [
            "\u001b[34m\u001b[1mwandb\u001b[0m: Logging into wandb.ai. (Learn how to deploy a W&B server locally: https://wandb.me/wandb-server)\n",
            "\u001b[34m\u001b[1mwandb\u001b[0m: You can find your API key in your browser here: https://wandb.ai/authorize?ref=models\n",
            "\u001b[34m\u001b[1mwandb\u001b[0m: Paste an API key from your profile and hit enter, or press ctrl+c to quit: \n",
            "\u001b[34m\u001b[1mwandb\u001b[0m: \u001b[33mWARNING\u001b[0m If you're specifying your api key in code, ensure this code is not shared publicly.\n",
            "\u001b[34m\u001b[1mwandb\u001b[0m: \u001b[33mWARNING\u001b[0m Consider setting the WANDB_API_KEY environment variable, or running `wandb login` from the command line.\n",
            "\u001b[34m\u001b[1mwandb\u001b[0m: No netrc file found, creating one.\n",
            "\u001b[34m\u001b[1mwandb\u001b[0m: Appending key for api.wandb.ai to your netrc file: /root/.netrc\n",
            "\u001b[34m\u001b[1mwandb\u001b[0m: Currently logged in as: \u001b[33mazhgh22\u001b[0m (\u001b[33mMLBeasts\u001b[0m) to \u001b[32mhttps://api.wandb.ai\u001b[0m. Use \u001b[1m`wandb login --relogin`\u001b[0m to force relogin\n"
          ]
        }
      ]
    },
    {
      "cell_type": "code",
      "source": [
        "import wandb\n",
        "import joblib\n",
        "\n",
        "y = merged_train['Weekly_Sales'].copy()\n",
        "x = merged_train.drop(columns=['Weekly_Sales'])\n",
        "\n",
        "fin_model = pipeline.fit(x,y)\n",
        "\n",
        "joblib.dump(model, \"xgb_pipeline_lags.pkl\")\n",
        "wandb.init(project=\"Walmart Recruiting - Store Sales Forecasting\", name=\"xgboost:run2:lag_features\")\n",
        "\n",
        "wandb.config.update({\n",
        "    'merge1' : 'train, store, how=left, on=Store',\n",
        "    'merge2' : 'train, features, how=left, on=Store, Date, IsHoliday',\n",
        "    'merged_tables' : ['train','stores','features'],\n",
        "    'time_features' : [\n",
        "        'DateDummy', 'Month', 'Year',\n",
        "       'WeekOfYear', 'week_sin', 'week_cos', 'month_sin', 'month_cos'\n",
        "    ],\n",
        "    'lags' : 2,\n",
        "    'add_dummy_date' : True,\n",
        "    'start_date' : '2010-02-05',\n",
        "    'score_metric' : 'WMAE',\n",
        "    'score_policy' : {\n",
        "        'weight on holidays' : 5,\n",
        "        'weight on non_holidays' : 1\n",
        "    },\n",
        "    'model' : 'Xgboost',\n",
        "    'n_estimators' : 1000,\n",
        "    'learning_rate' : 0.1,\n",
        "    'max_depth' : 7,\n",
        "    'reg_lambda' : 1000,\n",
        "    'objective' : 'reg:squarederror',\n",
        "})\n",
        "\n",
        "wandb.log({\n",
        "    'train_wmae': train_score,\n",
        "    'val_wmae': val_score\n",
        "})\n",
        "\n",
        "\n",
        "artifact = wandb.Artifact(\n",
        "    name=\"xgb_pipeline\",\n",
        "    type=\"model\",\n",
        "    description=\"XGBoost pipeline with Date engineering and imputing\"\n",
        ")\n",
        "\n",
        "artifact.add_file(\"xgb_pipeline_lags.pkl\")\n",
        "wandb.log_artifact(artifact)\n",
        "\n",
        "wandb.finish()"
      ],
      "metadata": {
        "colab": {
          "base_uri": "https://localhost:8080/",
          "height": 466
        },
        "id": "Qxv7UN_o07mj",
        "outputId": "6282649e-a6a9-4c25-9da1-110d6a47976c"
      },
      "id": "Qxv7UN_o07mj",
      "execution_count": null,
      "outputs": [
        {
          "output_type": "stream",
          "name": "stderr",
          "text": [
            "\u001b[34m\u001b[1mwandb\u001b[0m: Currently logged in as: \u001b[33mazhgh22\u001b[0m (\u001b[33mMLBeasts\u001b[0m) to \u001b[32mhttps://api.wandb.ai\u001b[0m. Use \u001b[1m`wandb login --relogin`\u001b[0m to force relogin\n"
          ]
        },
        {
          "output_type": "display_data",
          "data": {
            "text/plain": [
              "<IPython.core.display.HTML object>"
            ],
            "text/html": [
              "Tracking run with wandb version 0.20.1"
            ]
          },
          "metadata": {}
        },
        {
          "output_type": "display_data",
          "data": {
            "text/plain": [
              "<IPython.core.display.HTML object>"
            ],
            "text/html": [
              "Run data is saved locally in <code>/content/Walmart-Recruiting-Store-Sales-Forecasting/wandb/run-20250703_204117-c0unrxa8</code>"
            ]
          },
          "metadata": {}
        },
        {
          "output_type": "display_data",
          "data": {
            "text/plain": [
              "<IPython.core.display.HTML object>"
            ],
            "text/html": [
              "Syncing run <strong><a href='https://wandb.ai/MLBeasts/Walmart%20Recruiting%20-%20Store%20Sales%20Forecasting/runs/c0unrxa8' target=\"_blank\">xgboost:run2:lag_features</a></strong> to <a href='https://wandb.ai/MLBeasts/Walmart%20Recruiting%20-%20Store%20Sales%20Forecasting' target=\"_blank\">Weights & Biases</a> (<a href='https://wandb.me/developer-guide' target=\"_blank\">docs</a>)<br>"
            ]
          },
          "metadata": {}
        },
        {
          "output_type": "display_data",
          "data": {
            "text/plain": [
              "<IPython.core.display.HTML object>"
            ],
            "text/html": [
              " View project at <a href='https://wandb.ai/MLBeasts/Walmart%20Recruiting%20-%20Store%20Sales%20Forecasting' target=\"_blank\">https://wandb.ai/MLBeasts/Walmart%20Recruiting%20-%20Store%20Sales%20Forecasting</a>"
            ]
          },
          "metadata": {}
        },
        {
          "output_type": "display_data",
          "data": {
            "text/plain": [
              "<IPython.core.display.HTML object>"
            ],
            "text/html": [
              " View run at <a href='https://wandb.ai/MLBeasts/Walmart%20Recruiting%20-%20Store%20Sales%20Forecasting/runs/c0unrxa8' target=\"_blank\">https://wandb.ai/MLBeasts/Walmart%20Recruiting%20-%20Store%20Sales%20Forecasting/runs/c0unrxa8</a>"
            ]
          },
          "metadata": {}
        },
        {
          "output_type": "display_data",
          "data": {
            "text/plain": [
              "<IPython.core.display.HTML object>"
            ],
            "text/html": []
          },
          "metadata": {}
        },
        {
          "output_type": "display_data",
          "data": {
            "text/plain": [
              "<IPython.core.display.HTML object>"
            ],
            "text/html": [
              "<br>    <style><br>        .wandb-row {<br>            display: flex;<br>            flex-direction: row;<br>            flex-wrap: wrap;<br>            justify-content: flex-start;<br>            width: 100%;<br>        }<br>        .wandb-col {<br>            display: flex;<br>            flex-direction: column;<br>            flex-basis: 100%;<br>            flex: 1;<br>            padding: 10px;<br>        }<br>    </style><br><div class=\"wandb-row\"><div class=\"wandb-col\"><h3>Run history:</h3><br/><table class=\"wandb\"><tr><td>train_wmae</td><td>▁</td></tr><tr><td>val_wmae</td><td>▁</td></tr></table><br/></div><div class=\"wandb-col\"><h3>Run summary:</h3><br/><table class=\"wandb\"><tr><td>train_wmae</td><td>3001.24672</td></tr><tr><td>val_wmae</td><td>3232.62447</td></tr></table><br/></div></div>"
            ]
          },
          "metadata": {}
        },
        {
          "output_type": "display_data",
          "data": {
            "text/plain": [
              "<IPython.core.display.HTML object>"
            ],
            "text/html": [
              " View run <strong style=\"color:#cdcd00\">xgboost:run2:lag_features</strong> at: <a href='https://wandb.ai/MLBeasts/Walmart%20Recruiting%20-%20Store%20Sales%20Forecasting/runs/c0unrxa8' target=\"_blank\">https://wandb.ai/MLBeasts/Walmart%20Recruiting%20-%20Store%20Sales%20Forecasting/runs/c0unrxa8</a><br> View project at: <a href='https://wandb.ai/MLBeasts/Walmart%20Recruiting%20-%20Store%20Sales%20Forecasting' target=\"_blank\">https://wandb.ai/MLBeasts/Walmart%20Recruiting%20-%20Store%20Sales%20Forecasting</a><br>Synced 5 W&B file(s), 0 media file(s), 2 artifact file(s) and 0 other file(s)"
            ]
          },
          "metadata": {}
        },
        {
          "output_type": "display_data",
          "data": {
            "text/plain": [
              "<IPython.core.display.HTML object>"
            ],
            "text/html": [
              "Find logs at: <code>./wandb/run-20250703_204117-c0unrxa8/logs</code>"
            ]
          },
          "metadata": {}
        }
      ]
    }
  ],
  "metadata": {
    "language_info": {
      "name": "python"
    },
    "colab": {
      "provenance": [],
      "include_colab_link": true
    },
    "kernelspec": {
      "name": "python3",
      "display_name": "Python 3"
    }
  },
  "nbformat": 4,
  "nbformat_minor": 5
}

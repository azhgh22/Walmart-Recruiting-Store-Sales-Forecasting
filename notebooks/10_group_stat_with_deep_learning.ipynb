{
  "nbformat": 4,
  "nbformat_minor": 0,
  "metadata": {
    "colab": {
      "provenance": [],
      "collapsed_sections": [
        "VHiAbF46zcRA",
        "LjrevTEVmrKE",
        "DVbdZIJo199V"
      ],
      "gpuType": "T4",
      "include_colab_link": true
    },
    "kernelspec": {
      "name": "python3",
      "display_name": "Python 3"
    },
    "language_info": {
      "name": "python"
    },
    "accelerator": "GPU"
  },
  "cells": [
    {
      "cell_type": "markdown",
      "metadata": {
        "id": "view-in-github",
        "colab_type": "text"
      },
      "source": [
        "<a href=\"https://colab.research.google.com/github/azhgh22/Walmart-Recruiting-Store-Sales-Forecasting/blob/main/notebooks/group_stat_with_deep_learning.ipynb\" target=\"_parent\"><img src=\"https://colab.research.google.com/assets/colab-badge.svg\" alt=\"Open In Colab\"/></a>"
      ]
    },
    {
      "cell_type": "markdown",
      "source": [
        "# Notebook Setup"
      ],
      "metadata": {
        "id": "VHiAbF46zcRA"
      }
    },
    {
      "cell_type": "markdown",
      "source": [
        "The following setup is provided as a basic example for initializing the notebook environment. It includes necessary imports, optional configuration, and a placeholder for data loading or downloading.\n",
        "\n",
        "This section is **not part of the core model logic**, and the code here may vary depending on your environment or data access method."
      ],
      "metadata": {
        "id": "xVwRoP1Il_-b"
      }
    },
    {
      "cell_type": "markdown",
      "source": [
        "## Setup Environment\n"
      ],
      "metadata": {
        "id": "LjrevTEVmrKE"
      }
    },
    {
      "cell_type": "code",
      "source": [
        "from google.colab import drive\n",
        "drive.mount('/content/drive')"
      ],
      "metadata": {
        "colab": {
          "base_uri": "https://localhost:8080/"
        },
        "id": "eFytplbW1H5E",
        "outputId": "61c43b4f-27e4-4587-ae65-d2453d794ba3"
      },
      "execution_count": 1,
      "outputs": [
        {
          "output_type": "stream",
          "name": "stdout",
          "text": [
            "Mounted at /content/drive\n"
          ]
        }
      ]
    },
    {
      "cell_type": "code",
      "source": [
        "from google.colab import userdata\n",
        "token = userdata.get('GITHUB_TOKEN')\n",
        "user_name = userdata.get('GITHUB_USERNAME')\n",
        "mail = userdata.get('GITHUB_MAIL')\n",
        "\n",
        "!git config --global user.name \"{user_name}\"\n",
        "!git config --global user.email \"{mail}\"\n",
        "!git clone https://{token}@github.com/azhgh22/Walmart-Recruiting-Store-Sales-Forecasting.git\n",
        "\n",
        "%cd Walmart-Recruiting-Store-Sales-Forecasting"
      ],
      "metadata": {
        "colab": {
          "base_uri": "https://localhost:8080/"
        },
        "id": "fkYQEp-uzdmm",
        "outputId": "30003dd1-236f-45ab-e131-915087db396b"
      },
      "execution_count": 2,
      "outputs": [
        {
          "output_type": "stream",
          "name": "stdout",
          "text": [
            "Cloning into 'Walmart-Recruiting-Store-Sales-Forecasting'...\n",
            "remote: Enumerating objects: 484, done.\u001b[K\n",
            "remote: Counting objects: 100% (80/80), done.\u001b[K\n",
            "remote: Compressing objects: 100% (67/67), done.\u001b[K\n",
            "remote: Total 484 (delta 45), reused 21 (delta 13), pack-reused 404 (from 1)\u001b[K\n",
            "Receiving objects: 100% (484/484), 9.23 MiB | 13.42 MiB/s, done.\n",
            "Resolving deltas: 100% (263/263), done.\n",
            "/content/Walmart-Recruiting-Store-Sales-Forecasting\n"
          ]
        }
      ]
    },
    {
      "cell_type": "code",
      "source": [
        "%%capture\n",
        "!pip install -r requirements.txt"
      ],
      "metadata": {
        "id": "2slMc4nq3esY"
      },
      "execution_count": 3,
      "outputs": []
    },
    {
      "cell_type": "code",
      "source": [
        "from google.colab import userdata\n",
        "kaggle_json_path = userdata.get('KAGGLE_JSON_PATH')\n",
        "! ./src/data_loader.sh -f {kaggle_json_path}"
      ],
      "metadata": {
        "colab": {
          "base_uri": "https://localhost:8080/"
        },
        "id": "_vSvSwpw4Qqj",
        "outputId": "e5e5130d-fa89-4583-ef3a-14ef35259f84"
      },
      "execution_count": 4,
      "outputs": [
        {
          "output_type": "stream",
          "name": "stdout",
          "text": [
            "Setting up Kaggle credentials...\n",
            "Ensuring data directory exists at 'data/'...\n",
            "Downloading data from Kaggle for competition: 'walmart-recruiting-store-sales-forecasting'...\n",
            "Downloading walmart-recruiting-store-sales-forecasting.zip to data\n",
            "  0% 0.00/2.70M [00:00<?, ?B/s]\n",
            "100% 2.70M/2.70M [00:00<00:00, 920MB/s]\n",
            "Unzipping files...\n",
            "Archive:  walmart-recruiting-store-sales-forecasting.zip\n",
            "  inflating: features.csv.zip        \n",
            "  inflating: sampleSubmission.csv.zip  \n",
            "  inflating: stores.csv              \n",
            "  inflating: test.csv.zip            \n",
            "  inflating: train.csv.zip           \n",
            "Archive:  features.csv.zip\n",
            "  inflating: features.csv            \n",
            "Archive:  sampleSubmission.csv.zip\n",
            "  inflating: sampleSubmission.csv    \n",
            "Archive:  test.csv.zip\n",
            "  inflating: test.csv                \n",
            "Archive:  train.csv.zip\n",
            "  inflating: train.csv               \n",
            "Data downloaded and extracted successfully to 'data/'.\n"
          ]
        }
      ]
    },
    {
      "cell_type": "code",
      "source": [
        "from google.colab import userdata\n",
        "wandb_login = userdata.get('WANDB_API_LOGIN')\n",
        "!wandb login {wandb_login}"
      ],
      "metadata": {
        "colab": {
          "base_uri": "https://localhost:8080/"
        },
        "id": "z0W9kKnYkbg7",
        "outputId": "e7504143-64a8-4887-c55a-76ea4c4ac417"
      },
      "execution_count": 5,
      "outputs": [
        {
          "output_type": "stream",
          "name": "stdout",
          "text": [
            "\u001b[34m\u001b[1mwandb\u001b[0m: \u001b[33mWARNING\u001b[0m If you're specifying your api key in code, ensure this code is not shared publicly.\n",
            "\u001b[34m\u001b[1mwandb\u001b[0m: \u001b[33mWARNING\u001b[0m Consider setting the WANDB_API_KEY environment variable, or running `wandb login` from the command line.\n",
            "\u001b[34m\u001b[1mwandb\u001b[0m: No netrc file found, creating one.\n",
            "\u001b[34m\u001b[1mwandb\u001b[0m: Appending key for api.wandb.ai to your netrc file: /root/.netrc\n",
            "\u001b[34m\u001b[1mwandb\u001b[0m: W&B API key is configured. Use \u001b[1m`wandb login --relogin`\u001b[0m to force relogin\n"
          ]
        }
      ]
    },
    {
      "cell_type": "markdown",
      "source": [
        "## Load and Split Data"
      ],
      "metadata": {
        "id": "DVbdZIJo199V"
      }
    },
    {
      "cell_type": "code",
      "source": [
        "from src import data_loader, processing\n",
        "import importlib\n",
        "importlib.reload(processing)\n",
        "\n",
        "dataframes = data_loader.load_raw_data()\n",
        "df = processing.run_preprocessing(dataframes, process_test=False)['train']\n",
        "X_train, y_train, X_valid, y_valid = processing.split_data_by_ratio(df, separate_target=True)\n",
        "\n",
        "print(f\"Shapes of X_train and y_train: {X_train.shape}, {y_train.shape}\")\n",
        "print(f\"Shapes of X_valid and y_valid: {X_valid.shape}, {y_valid.shape}\")"
      ],
      "metadata": {
        "colab": {
          "base_uri": "https://localhost:8080/"
        },
        "id": "QX_ddIHAk7M_",
        "outputId": "10ccbfbb-87f0-4092-8bde-995b0067fb74"
      },
      "execution_count": 33,
      "outputs": [
        {
          "output_type": "stream",
          "name": "stdout",
          "text": [
            "Data loading complete.\n",
            "Shapes of X_train and y_train: (337256, 15), (337256,)\n",
            "Shapes of X_valid and y_valid: (84314, 15), (84314,)\n"
          ]
        }
      ]
    },
    {
      "cell_type": "code",
      "source": [
        "X_train"
      ],
      "metadata": {
        "colab": {
          "base_uri": "https://localhost:8080/",
          "height": 444
        },
        "id": "l6L-ODoqlb6r",
        "outputId": "aad65c85-fae8-4613-a642-2ed175818af1"
      },
      "execution_count": 34,
      "outputs": [
        {
          "output_type": "execute_result",
          "data": {
            "text/plain": [
              "        Store  Dept       Date  IsHoliday  Temperature  Fuel_Price  MarkDown1  \\\n",
              "0           1     1 2010-02-05      False        42.31       2.572        NaN   \n",
              "1           1     2 2010-02-05      False        42.31       2.572        NaN   \n",
              "2           1     3 2010-02-05      False        42.31       2.572        NaN   \n",
              "3           1     4 2010-02-05      False        42.31       2.572        NaN   \n",
              "4           1     5 2010-02-05      False        42.31       2.572        NaN   \n",
              "...       ...   ...        ...        ...          ...         ...        ...   \n",
              "337251     22    27 2012-04-13      False        49.89       4.025     5981.5   \n",
              "337252     22    28 2012-04-13      False        49.89       4.025     5981.5   \n",
              "337253     22    29 2012-04-13      False        49.89       4.025     5981.5   \n",
              "337254     22    30 2012-04-13      False        49.89       4.025     5981.5   \n",
              "337255     22    31 2012-04-13      False        49.89       4.025     5981.5   \n",
              "\n",
              "        MarkDown2  MarkDown3  MarkDown4  MarkDown5         CPI  Unemployment  \\\n",
              "0             NaN        NaN        NaN        NaN  211.096358         8.106   \n",
              "1             NaN        NaN        NaN        NaN  211.096358         8.106   \n",
              "2             NaN        NaN        NaN        NaN  211.096358         8.106   \n",
              "3             NaN        NaN        NaN        NaN  211.096358         8.106   \n",
              "4             NaN        NaN        NaN        NaN  211.096358         8.106   \n",
              "...           ...        ...        ...        ...         ...           ...   \n",
              "337251   10877.85        9.5    1633.96    1932.86  141.843393         7.671   \n",
              "337252   10877.85        9.5    1633.96    1932.86  141.843393         7.671   \n",
              "337253   10877.85        9.5    1633.96    1932.86  141.843393         7.671   \n",
              "337254   10877.85        9.5    1633.96    1932.86  141.843393         7.671   \n",
              "337255   10877.85        9.5    1633.96    1932.86  141.843393         7.671   \n",
              "\n",
              "       Type    Size  \n",
              "0         A  151315  \n",
              "1         A  151315  \n",
              "2         A  151315  \n",
              "3         A  151315  \n",
              "4         A  151315  \n",
              "...     ...     ...  \n",
              "337251    B  119557  \n",
              "337252    B  119557  \n",
              "337253    B  119557  \n",
              "337254    B  119557  \n",
              "337255    B  119557  \n",
              "\n",
              "[337256 rows x 15 columns]"
            ],
            "text/html": [
              "\n",
              "  <div id=\"df-b7dbb92c-1996-4f1c-9873-004dd0c1dead\" class=\"colab-df-container\">\n",
              "    <div>\n",
              "<style scoped>\n",
              "    .dataframe tbody tr th:only-of-type {\n",
              "        vertical-align: middle;\n",
              "    }\n",
              "\n",
              "    .dataframe tbody tr th {\n",
              "        vertical-align: top;\n",
              "    }\n",
              "\n",
              "    .dataframe thead th {\n",
              "        text-align: right;\n",
              "    }\n",
              "</style>\n",
              "<table border=\"1\" class=\"dataframe\">\n",
              "  <thead>\n",
              "    <tr style=\"text-align: right;\">\n",
              "      <th></th>\n",
              "      <th>Store</th>\n",
              "      <th>Dept</th>\n",
              "      <th>Date</th>\n",
              "      <th>IsHoliday</th>\n",
              "      <th>Temperature</th>\n",
              "      <th>Fuel_Price</th>\n",
              "      <th>MarkDown1</th>\n",
              "      <th>MarkDown2</th>\n",
              "      <th>MarkDown3</th>\n",
              "      <th>MarkDown4</th>\n",
              "      <th>MarkDown5</th>\n",
              "      <th>CPI</th>\n",
              "      <th>Unemployment</th>\n",
              "      <th>Type</th>\n",
              "      <th>Size</th>\n",
              "    </tr>\n",
              "  </thead>\n",
              "  <tbody>\n",
              "    <tr>\n",
              "      <th>0</th>\n",
              "      <td>1</td>\n",
              "      <td>1</td>\n",
              "      <td>2010-02-05</td>\n",
              "      <td>False</td>\n",
              "      <td>42.31</td>\n",
              "      <td>2.572</td>\n",
              "      <td>NaN</td>\n",
              "      <td>NaN</td>\n",
              "      <td>NaN</td>\n",
              "      <td>NaN</td>\n",
              "      <td>NaN</td>\n",
              "      <td>211.096358</td>\n",
              "      <td>8.106</td>\n",
              "      <td>A</td>\n",
              "      <td>151315</td>\n",
              "    </tr>\n",
              "    <tr>\n",
              "      <th>1</th>\n",
              "      <td>1</td>\n",
              "      <td>2</td>\n",
              "      <td>2010-02-05</td>\n",
              "      <td>False</td>\n",
              "      <td>42.31</td>\n",
              "      <td>2.572</td>\n",
              "      <td>NaN</td>\n",
              "      <td>NaN</td>\n",
              "      <td>NaN</td>\n",
              "      <td>NaN</td>\n",
              "      <td>NaN</td>\n",
              "      <td>211.096358</td>\n",
              "      <td>8.106</td>\n",
              "      <td>A</td>\n",
              "      <td>151315</td>\n",
              "    </tr>\n",
              "    <tr>\n",
              "      <th>2</th>\n",
              "      <td>1</td>\n",
              "      <td>3</td>\n",
              "      <td>2010-02-05</td>\n",
              "      <td>False</td>\n",
              "      <td>42.31</td>\n",
              "      <td>2.572</td>\n",
              "      <td>NaN</td>\n",
              "      <td>NaN</td>\n",
              "      <td>NaN</td>\n",
              "      <td>NaN</td>\n",
              "      <td>NaN</td>\n",
              "      <td>211.096358</td>\n",
              "      <td>8.106</td>\n",
              "      <td>A</td>\n",
              "      <td>151315</td>\n",
              "    </tr>\n",
              "    <tr>\n",
              "      <th>3</th>\n",
              "      <td>1</td>\n",
              "      <td>4</td>\n",
              "      <td>2010-02-05</td>\n",
              "      <td>False</td>\n",
              "      <td>42.31</td>\n",
              "      <td>2.572</td>\n",
              "      <td>NaN</td>\n",
              "      <td>NaN</td>\n",
              "      <td>NaN</td>\n",
              "      <td>NaN</td>\n",
              "      <td>NaN</td>\n",
              "      <td>211.096358</td>\n",
              "      <td>8.106</td>\n",
              "      <td>A</td>\n",
              "      <td>151315</td>\n",
              "    </tr>\n",
              "    <tr>\n",
              "      <th>4</th>\n",
              "      <td>1</td>\n",
              "      <td>5</td>\n",
              "      <td>2010-02-05</td>\n",
              "      <td>False</td>\n",
              "      <td>42.31</td>\n",
              "      <td>2.572</td>\n",
              "      <td>NaN</td>\n",
              "      <td>NaN</td>\n",
              "      <td>NaN</td>\n",
              "      <td>NaN</td>\n",
              "      <td>NaN</td>\n",
              "      <td>211.096358</td>\n",
              "      <td>8.106</td>\n",
              "      <td>A</td>\n",
              "      <td>151315</td>\n",
              "    </tr>\n",
              "    <tr>\n",
              "      <th>...</th>\n",
              "      <td>...</td>\n",
              "      <td>...</td>\n",
              "      <td>...</td>\n",
              "      <td>...</td>\n",
              "      <td>...</td>\n",
              "      <td>...</td>\n",
              "      <td>...</td>\n",
              "      <td>...</td>\n",
              "      <td>...</td>\n",
              "      <td>...</td>\n",
              "      <td>...</td>\n",
              "      <td>...</td>\n",
              "      <td>...</td>\n",
              "      <td>...</td>\n",
              "      <td>...</td>\n",
              "    </tr>\n",
              "    <tr>\n",
              "      <th>337251</th>\n",
              "      <td>22</td>\n",
              "      <td>27</td>\n",
              "      <td>2012-04-13</td>\n",
              "      <td>False</td>\n",
              "      <td>49.89</td>\n",
              "      <td>4.025</td>\n",
              "      <td>5981.5</td>\n",
              "      <td>10877.85</td>\n",
              "      <td>9.5</td>\n",
              "      <td>1633.96</td>\n",
              "      <td>1932.86</td>\n",
              "      <td>141.843393</td>\n",
              "      <td>7.671</td>\n",
              "      <td>B</td>\n",
              "      <td>119557</td>\n",
              "    </tr>\n",
              "    <tr>\n",
              "      <th>337252</th>\n",
              "      <td>22</td>\n",
              "      <td>28</td>\n",
              "      <td>2012-04-13</td>\n",
              "      <td>False</td>\n",
              "      <td>49.89</td>\n",
              "      <td>4.025</td>\n",
              "      <td>5981.5</td>\n",
              "      <td>10877.85</td>\n",
              "      <td>9.5</td>\n",
              "      <td>1633.96</td>\n",
              "      <td>1932.86</td>\n",
              "      <td>141.843393</td>\n",
              "      <td>7.671</td>\n",
              "      <td>B</td>\n",
              "      <td>119557</td>\n",
              "    </tr>\n",
              "    <tr>\n",
              "      <th>337253</th>\n",
              "      <td>22</td>\n",
              "      <td>29</td>\n",
              "      <td>2012-04-13</td>\n",
              "      <td>False</td>\n",
              "      <td>49.89</td>\n",
              "      <td>4.025</td>\n",
              "      <td>5981.5</td>\n",
              "      <td>10877.85</td>\n",
              "      <td>9.5</td>\n",
              "      <td>1633.96</td>\n",
              "      <td>1932.86</td>\n",
              "      <td>141.843393</td>\n",
              "      <td>7.671</td>\n",
              "      <td>B</td>\n",
              "      <td>119557</td>\n",
              "    </tr>\n",
              "    <tr>\n",
              "      <th>337254</th>\n",
              "      <td>22</td>\n",
              "      <td>30</td>\n",
              "      <td>2012-04-13</td>\n",
              "      <td>False</td>\n",
              "      <td>49.89</td>\n",
              "      <td>4.025</td>\n",
              "      <td>5981.5</td>\n",
              "      <td>10877.85</td>\n",
              "      <td>9.5</td>\n",
              "      <td>1633.96</td>\n",
              "      <td>1932.86</td>\n",
              "      <td>141.843393</td>\n",
              "      <td>7.671</td>\n",
              "      <td>B</td>\n",
              "      <td>119557</td>\n",
              "    </tr>\n",
              "    <tr>\n",
              "      <th>337255</th>\n",
              "      <td>22</td>\n",
              "      <td>31</td>\n",
              "      <td>2012-04-13</td>\n",
              "      <td>False</td>\n",
              "      <td>49.89</td>\n",
              "      <td>4.025</td>\n",
              "      <td>5981.5</td>\n",
              "      <td>10877.85</td>\n",
              "      <td>9.5</td>\n",
              "      <td>1633.96</td>\n",
              "      <td>1932.86</td>\n",
              "      <td>141.843393</td>\n",
              "      <td>7.671</td>\n",
              "      <td>B</td>\n",
              "      <td>119557</td>\n",
              "    </tr>\n",
              "  </tbody>\n",
              "</table>\n",
              "<p>337256 rows × 15 columns</p>\n",
              "</div>\n",
              "    <div class=\"colab-df-buttons\">\n",
              "\n",
              "  <div class=\"colab-df-container\">\n",
              "    <button class=\"colab-df-convert\" onclick=\"convertToInteractive('df-b7dbb92c-1996-4f1c-9873-004dd0c1dead')\"\n",
              "            title=\"Convert this dataframe to an interactive table.\"\n",
              "            style=\"display:none;\">\n",
              "\n",
              "  <svg xmlns=\"http://www.w3.org/2000/svg\" height=\"24px\" viewBox=\"0 -960 960 960\">\n",
              "    <path d=\"M120-120v-720h720v720H120Zm60-500h600v-160H180v160Zm220 220h160v-160H400v160Zm0 220h160v-160H400v160ZM180-400h160v-160H180v160Zm440 0h160v-160H620v160ZM180-180h160v-160H180v160Zm440 0h160v-160H620v160Z\"/>\n",
              "  </svg>\n",
              "    </button>\n",
              "\n",
              "  <style>\n",
              "    .colab-df-container {\n",
              "      display:flex;\n",
              "      gap: 12px;\n",
              "    }\n",
              "\n",
              "    .colab-df-convert {\n",
              "      background-color: #E8F0FE;\n",
              "      border: none;\n",
              "      border-radius: 50%;\n",
              "      cursor: pointer;\n",
              "      display: none;\n",
              "      fill: #1967D2;\n",
              "      height: 32px;\n",
              "      padding: 0 0 0 0;\n",
              "      width: 32px;\n",
              "    }\n",
              "\n",
              "    .colab-df-convert:hover {\n",
              "      background-color: #E2EBFA;\n",
              "      box-shadow: 0px 1px 2px rgba(60, 64, 67, 0.3), 0px 1px 3px 1px rgba(60, 64, 67, 0.15);\n",
              "      fill: #174EA6;\n",
              "    }\n",
              "\n",
              "    .colab-df-buttons div {\n",
              "      margin-bottom: 4px;\n",
              "    }\n",
              "\n",
              "    [theme=dark] .colab-df-convert {\n",
              "      background-color: #3B4455;\n",
              "      fill: #D2E3FC;\n",
              "    }\n",
              "\n",
              "    [theme=dark] .colab-df-convert:hover {\n",
              "      background-color: #434B5C;\n",
              "      box-shadow: 0px 1px 3px 1px rgba(0, 0, 0, 0.15);\n",
              "      filter: drop-shadow(0px 1px 2px rgba(0, 0, 0, 0.3));\n",
              "      fill: #FFFFFF;\n",
              "    }\n",
              "  </style>\n",
              "\n",
              "    <script>\n",
              "      const buttonEl =\n",
              "        document.querySelector('#df-b7dbb92c-1996-4f1c-9873-004dd0c1dead button.colab-df-convert');\n",
              "      buttonEl.style.display =\n",
              "        google.colab.kernel.accessAllowed ? 'block' : 'none';\n",
              "\n",
              "      async function convertToInteractive(key) {\n",
              "        const element = document.querySelector('#df-b7dbb92c-1996-4f1c-9873-004dd0c1dead');\n",
              "        const dataTable =\n",
              "          await google.colab.kernel.invokeFunction('convertToInteractive',\n",
              "                                                    [key], {});\n",
              "        if (!dataTable) return;\n",
              "\n",
              "        const docLinkHtml = 'Like what you see? Visit the ' +\n",
              "          '<a target=\"_blank\" href=https://colab.research.google.com/notebooks/data_table.ipynb>data table notebook</a>'\n",
              "          + ' to learn more about interactive tables.';\n",
              "        element.innerHTML = '';\n",
              "        dataTable['output_type'] = 'display_data';\n",
              "        await google.colab.output.renderOutput(dataTable, element);\n",
              "        const docLink = document.createElement('div');\n",
              "        docLink.innerHTML = docLinkHtml;\n",
              "        element.appendChild(docLink);\n",
              "      }\n",
              "    </script>\n",
              "  </div>\n",
              "\n",
              "\n",
              "    <div id=\"df-22c189f6-b980-4842-9117-c1110a5049e0\">\n",
              "      <button class=\"colab-df-quickchart\" onclick=\"quickchart('df-22c189f6-b980-4842-9117-c1110a5049e0')\"\n",
              "                title=\"Suggest charts\"\n",
              "                style=\"display:none;\">\n",
              "\n",
              "<svg xmlns=\"http://www.w3.org/2000/svg\" height=\"24px\"viewBox=\"0 0 24 24\"\n",
              "     width=\"24px\">\n",
              "    <g>\n",
              "        <path d=\"M19 3H5c-1.1 0-2 .9-2 2v14c0 1.1.9 2 2 2h14c1.1 0 2-.9 2-2V5c0-1.1-.9-2-2-2zM9 17H7v-7h2v7zm4 0h-2V7h2v10zm4 0h-2v-4h2v4z\"/>\n",
              "    </g>\n",
              "</svg>\n",
              "      </button>\n",
              "\n",
              "<style>\n",
              "  .colab-df-quickchart {\n",
              "      --bg-color: #E8F0FE;\n",
              "      --fill-color: #1967D2;\n",
              "      --hover-bg-color: #E2EBFA;\n",
              "      --hover-fill-color: #174EA6;\n",
              "      --disabled-fill-color: #AAA;\n",
              "      --disabled-bg-color: #DDD;\n",
              "  }\n",
              "\n",
              "  [theme=dark] .colab-df-quickchart {\n",
              "      --bg-color: #3B4455;\n",
              "      --fill-color: #D2E3FC;\n",
              "      --hover-bg-color: #434B5C;\n",
              "      --hover-fill-color: #FFFFFF;\n",
              "      --disabled-bg-color: #3B4455;\n",
              "      --disabled-fill-color: #666;\n",
              "  }\n",
              "\n",
              "  .colab-df-quickchart {\n",
              "    background-color: var(--bg-color);\n",
              "    border: none;\n",
              "    border-radius: 50%;\n",
              "    cursor: pointer;\n",
              "    display: none;\n",
              "    fill: var(--fill-color);\n",
              "    height: 32px;\n",
              "    padding: 0;\n",
              "    width: 32px;\n",
              "  }\n",
              "\n",
              "  .colab-df-quickchart:hover {\n",
              "    background-color: var(--hover-bg-color);\n",
              "    box-shadow: 0 1px 2px rgba(60, 64, 67, 0.3), 0 1px 3px 1px rgba(60, 64, 67, 0.15);\n",
              "    fill: var(--button-hover-fill-color);\n",
              "  }\n",
              "\n",
              "  .colab-df-quickchart-complete:disabled,\n",
              "  .colab-df-quickchart-complete:disabled:hover {\n",
              "    background-color: var(--disabled-bg-color);\n",
              "    fill: var(--disabled-fill-color);\n",
              "    box-shadow: none;\n",
              "  }\n",
              "\n",
              "  .colab-df-spinner {\n",
              "    border: 2px solid var(--fill-color);\n",
              "    border-color: transparent;\n",
              "    border-bottom-color: var(--fill-color);\n",
              "    animation:\n",
              "      spin 1s steps(1) infinite;\n",
              "  }\n",
              "\n",
              "  @keyframes spin {\n",
              "    0% {\n",
              "      border-color: transparent;\n",
              "      border-bottom-color: var(--fill-color);\n",
              "      border-left-color: var(--fill-color);\n",
              "    }\n",
              "    20% {\n",
              "      border-color: transparent;\n",
              "      border-left-color: var(--fill-color);\n",
              "      border-top-color: var(--fill-color);\n",
              "    }\n",
              "    30% {\n",
              "      border-color: transparent;\n",
              "      border-left-color: var(--fill-color);\n",
              "      border-top-color: var(--fill-color);\n",
              "      border-right-color: var(--fill-color);\n",
              "    }\n",
              "    40% {\n",
              "      border-color: transparent;\n",
              "      border-right-color: var(--fill-color);\n",
              "      border-top-color: var(--fill-color);\n",
              "    }\n",
              "    60% {\n",
              "      border-color: transparent;\n",
              "      border-right-color: var(--fill-color);\n",
              "    }\n",
              "    80% {\n",
              "      border-color: transparent;\n",
              "      border-right-color: var(--fill-color);\n",
              "      border-bottom-color: var(--fill-color);\n",
              "    }\n",
              "    90% {\n",
              "      border-color: transparent;\n",
              "      border-bottom-color: var(--fill-color);\n",
              "    }\n",
              "  }\n",
              "</style>\n",
              "\n",
              "      <script>\n",
              "        async function quickchart(key) {\n",
              "          const quickchartButtonEl =\n",
              "            document.querySelector('#' + key + ' button');\n",
              "          quickchartButtonEl.disabled = true;  // To prevent multiple clicks.\n",
              "          quickchartButtonEl.classList.add('colab-df-spinner');\n",
              "          try {\n",
              "            const charts = await google.colab.kernel.invokeFunction(\n",
              "                'suggestCharts', [key], {});\n",
              "          } catch (error) {\n",
              "            console.error('Error during call to suggestCharts:', error);\n",
              "          }\n",
              "          quickchartButtonEl.classList.remove('colab-df-spinner');\n",
              "          quickchartButtonEl.classList.add('colab-df-quickchart-complete');\n",
              "        }\n",
              "        (() => {\n",
              "          let quickchartButtonEl =\n",
              "            document.querySelector('#df-22c189f6-b980-4842-9117-c1110a5049e0 button');\n",
              "          quickchartButtonEl.style.display =\n",
              "            google.colab.kernel.accessAllowed ? 'block' : 'none';\n",
              "        })();\n",
              "      </script>\n",
              "    </div>\n",
              "\n",
              "  <div id=\"id_3ab85156-f50b-4067-9e2f-fdb95608f7fc\">\n",
              "    <style>\n",
              "      .colab-df-generate {\n",
              "        background-color: #E8F0FE;\n",
              "        border: none;\n",
              "        border-radius: 50%;\n",
              "        cursor: pointer;\n",
              "        display: none;\n",
              "        fill: #1967D2;\n",
              "        height: 32px;\n",
              "        padding: 0 0 0 0;\n",
              "        width: 32px;\n",
              "      }\n",
              "\n",
              "      .colab-df-generate:hover {\n",
              "        background-color: #E2EBFA;\n",
              "        box-shadow: 0px 1px 2px rgba(60, 64, 67, 0.3), 0px 1px 3px 1px rgba(60, 64, 67, 0.15);\n",
              "        fill: #174EA6;\n",
              "      }\n",
              "\n",
              "      [theme=dark] .colab-df-generate {\n",
              "        background-color: #3B4455;\n",
              "        fill: #D2E3FC;\n",
              "      }\n",
              "\n",
              "      [theme=dark] .colab-df-generate:hover {\n",
              "        background-color: #434B5C;\n",
              "        box-shadow: 0px 1px 3px 1px rgba(0, 0, 0, 0.15);\n",
              "        filter: drop-shadow(0px 1px 2px rgba(0, 0, 0, 0.3));\n",
              "        fill: #FFFFFF;\n",
              "      }\n",
              "    </style>\n",
              "    <button class=\"colab-df-generate\" onclick=\"generateWithVariable('X_train')\"\n",
              "            title=\"Generate code using this dataframe.\"\n",
              "            style=\"display:none;\">\n",
              "\n",
              "  <svg xmlns=\"http://www.w3.org/2000/svg\" height=\"24px\"viewBox=\"0 0 24 24\"\n",
              "       width=\"24px\">\n",
              "    <path d=\"M7,19H8.4L18.45,9,17,7.55,7,17.6ZM5,21V16.75L18.45,3.32a2,2,0,0,1,2.83,0l1.4,1.43a1.91,1.91,0,0,1,.58,1.4,1.91,1.91,0,0,1-.58,1.4L9.25,21ZM18.45,9,17,7.55Zm-12,3A5.31,5.31,0,0,0,4.9,8.1,5.31,5.31,0,0,0,1,6.5,5.31,5.31,0,0,0,4.9,4.9,5.31,5.31,0,0,0,6.5,1,5.31,5.31,0,0,0,8.1,4.9,5.31,5.31,0,0,0,12,6.5,5.46,5.46,0,0,0,6.5,12Z\"/>\n",
              "  </svg>\n",
              "    </button>\n",
              "    <script>\n",
              "      (() => {\n",
              "      const buttonEl =\n",
              "        document.querySelector('#id_3ab85156-f50b-4067-9e2f-fdb95608f7fc button.colab-df-generate');\n",
              "      buttonEl.style.display =\n",
              "        google.colab.kernel.accessAllowed ? 'block' : 'none';\n",
              "\n",
              "      buttonEl.onclick = () => {\n",
              "        google.colab.notebook.generateWithVariable('X_train');\n",
              "      }\n",
              "      })();\n",
              "    </script>\n",
              "  </div>\n",
              "\n",
              "    </div>\n",
              "  </div>\n"
            ],
            "application/vnd.google.colaboratory.intrinsic+json": {
              "type": "dataframe",
              "variable_name": "X_train"
            }
          },
          "metadata": {},
          "execution_count": 34
        }
      ]
    },
    {
      "cell_type": "code",
      "source": [
        "X_valid"
      ],
      "metadata": {
        "colab": {
          "base_uri": "https://localhost:8080/",
          "height": 444
        },
        "id": "-Z0UtJEm2Bpg",
        "outputId": "906c1859-74c4-4d35-d1aa-3711c75e96fc"
      },
      "execution_count": 35,
      "outputs": [
        {
          "output_type": "execute_result",
          "data": {
            "text/plain": [
              "        Store  Dept       Date  IsHoliday  Temperature  Fuel_Price  MarkDown1  \\\n",
              "337256     22    32 2012-04-13      False        49.89       4.025    5981.50   \n",
              "337257     22    33 2012-04-13      False        49.89       4.025    5981.50   \n",
              "337258     22    34 2012-04-13      False        49.89       4.025    5981.50   \n",
              "337259     22    35 2012-04-13      False        49.89       4.025    5981.50   \n",
              "337260     22    36 2012-04-13      False        49.89       4.025    5981.50   \n",
              "...       ...   ...        ...        ...          ...         ...        ...   \n",
              "421565     45    93 2012-10-26      False        58.85       3.882    4018.91   \n",
              "421566     45    94 2012-10-26      False        58.85       3.882    4018.91   \n",
              "421567     45    95 2012-10-26      False        58.85       3.882    4018.91   \n",
              "421568     45    97 2012-10-26      False        58.85       3.882    4018.91   \n",
              "421569     45    98 2012-10-26      False        58.85       3.882    4018.91   \n",
              "\n",
              "        MarkDown2  MarkDown3  MarkDown4  MarkDown5         CPI  Unemployment  \\\n",
              "337256   10877.85        9.5    1633.96    1932.86  141.843393         7.671   \n",
              "337257   10877.85        9.5    1633.96    1932.86  141.843393         7.671   \n",
              "337258   10877.85        9.5    1633.96    1932.86  141.843393         7.671   \n",
              "337259   10877.85        9.5    1633.96    1932.86  141.843393         7.671   \n",
              "337260   10877.85        9.5    1633.96    1932.86  141.843393         7.671   \n",
              "...           ...        ...        ...        ...         ...           ...   \n",
              "421565      58.08      100.0     211.94     858.33  192.308899         8.667   \n",
              "421566      58.08      100.0     211.94     858.33  192.308899         8.667   \n",
              "421567      58.08      100.0     211.94     858.33  192.308899         8.667   \n",
              "421568      58.08      100.0     211.94     858.33  192.308899         8.667   \n",
              "421569      58.08      100.0     211.94     858.33  192.308899         8.667   \n",
              "\n",
              "       Type    Size  \n",
              "337256    B  119557  \n",
              "337257    B  119557  \n",
              "337258    B  119557  \n",
              "337259    B  119557  \n",
              "337260    B  119557  \n",
              "...     ...     ...  \n",
              "421565    B  118221  \n",
              "421566    B  118221  \n",
              "421567    B  118221  \n",
              "421568    B  118221  \n",
              "421569    B  118221  \n",
              "\n",
              "[84314 rows x 15 columns]"
            ],
            "text/html": [
              "\n",
              "  <div id=\"df-40b87dc3-3e5e-4c37-952a-a80e80f97fbb\" class=\"colab-df-container\">\n",
              "    <div>\n",
              "<style scoped>\n",
              "    .dataframe tbody tr th:only-of-type {\n",
              "        vertical-align: middle;\n",
              "    }\n",
              "\n",
              "    .dataframe tbody tr th {\n",
              "        vertical-align: top;\n",
              "    }\n",
              "\n",
              "    .dataframe thead th {\n",
              "        text-align: right;\n",
              "    }\n",
              "</style>\n",
              "<table border=\"1\" class=\"dataframe\">\n",
              "  <thead>\n",
              "    <tr style=\"text-align: right;\">\n",
              "      <th></th>\n",
              "      <th>Store</th>\n",
              "      <th>Dept</th>\n",
              "      <th>Date</th>\n",
              "      <th>IsHoliday</th>\n",
              "      <th>Temperature</th>\n",
              "      <th>Fuel_Price</th>\n",
              "      <th>MarkDown1</th>\n",
              "      <th>MarkDown2</th>\n",
              "      <th>MarkDown3</th>\n",
              "      <th>MarkDown4</th>\n",
              "      <th>MarkDown5</th>\n",
              "      <th>CPI</th>\n",
              "      <th>Unemployment</th>\n",
              "      <th>Type</th>\n",
              "      <th>Size</th>\n",
              "    </tr>\n",
              "  </thead>\n",
              "  <tbody>\n",
              "    <tr>\n",
              "      <th>337256</th>\n",
              "      <td>22</td>\n",
              "      <td>32</td>\n",
              "      <td>2012-04-13</td>\n",
              "      <td>False</td>\n",
              "      <td>49.89</td>\n",
              "      <td>4.025</td>\n",
              "      <td>5981.50</td>\n",
              "      <td>10877.85</td>\n",
              "      <td>9.5</td>\n",
              "      <td>1633.96</td>\n",
              "      <td>1932.86</td>\n",
              "      <td>141.843393</td>\n",
              "      <td>7.671</td>\n",
              "      <td>B</td>\n",
              "      <td>119557</td>\n",
              "    </tr>\n",
              "    <tr>\n",
              "      <th>337257</th>\n",
              "      <td>22</td>\n",
              "      <td>33</td>\n",
              "      <td>2012-04-13</td>\n",
              "      <td>False</td>\n",
              "      <td>49.89</td>\n",
              "      <td>4.025</td>\n",
              "      <td>5981.50</td>\n",
              "      <td>10877.85</td>\n",
              "      <td>9.5</td>\n",
              "      <td>1633.96</td>\n",
              "      <td>1932.86</td>\n",
              "      <td>141.843393</td>\n",
              "      <td>7.671</td>\n",
              "      <td>B</td>\n",
              "      <td>119557</td>\n",
              "    </tr>\n",
              "    <tr>\n",
              "      <th>337258</th>\n",
              "      <td>22</td>\n",
              "      <td>34</td>\n",
              "      <td>2012-04-13</td>\n",
              "      <td>False</td>\n",
              "      <td>49.89</td>\n",
              "      <td>4.025</td>\n",
              "      <td>5981.50</td>\n",
              "      <td>10877.85</td>\n",
              "      <td>9.5</td>\n",
              "      <td>1633.96</td>\n",
              "      <td>1932.86</td>\n",
              "      <td>141.843393</td>\n",
              "      <td>7.671</td>\n",
              "      <td>B</td>\n",
              "      <td>119557</td>\n",
              "    </tr>\n",
              "    <tr>\n",
              "      <th>337259</th>\n",
              "      <td>22</td>\n",
              "      <td>35</td>\n",
              "      <td>2012-04-13</td>\n",
              "      <td>False</td>\n",
              "      <td>49.89</td>\n",
              "      <td>4.025</td>\n",
              "      <td>5981.50</td>\n",
              "      <td>10877.85</td>\n",
              "      <td>9.5</td>\n",
              "      <td>1633.96</td>\n",
              "      <td>1932.86</td>\n",
              "      <td>141.843393</td>\n",
              "      <td>7.671</td>\n",
              "      <td>B</td>\n",
              "      <td>119557</td>\n",
              "    </tr>\n",
              "    <tr>\n",
              "      <th>337260</th>\n",
              "      <td>22</td>\n",
              "      <td>36</td>\n",
              "      <td>2012-04-13</td>\n",
              "      <td>False</td>\n",
              "      <td>49.89</td>\n",
              "      <td>4.025</td>\n",
              "      <td>5981.50</td>\n",
              "      <td>10877.85</td>\n",
              "      <td>9.5</td>\n",
              "      <td>1633.96</td>\n",
              "      <td>1932.86</td>\n",
              "      <td>141.843393</td>\n",
              "      <td>7.671</td>\n",
              "      <td>B</td>\n",
              "      <td>119557</td>\n",
              "    </tr>\n",
              "    <tr>\n",
              "      <th>...</th>\n",
              "      <td>...</td>\n",
              "      <td>...</td>\n",
              "      <td>...</td>\n",
              "      <td>...</td>\n",
              "      <td>...</td>\n",
              "      <td>...</td>\n",
              "      <td>...</td>\n",
              "      <td>...</td>\n",
              "      <td>...</td>\n",
              "      <td>...</td>\n",
              "      <td>...</td>\n",
              "      <td>...</td>\n",
              "      <td>...</td>\n",
              "      <td>...</td>\n",
              "      <td>...</td>\n",
              "    </tr>\n",
              "    <tr>\n",
              "      <th>421565</th>\n",
              "      <td>45</td>\n",
              "      <td>93</td>\n",
              "      <td>2012-10-26</td>\n",
              "      <td>False</td>\n",
              "      <td>58.85</td>\n",
              "      <td>3.882</td>\n",
              "      <td>4018.91</td>\n",
              "      <td>58.08</td>\n",
              "      <td>100.0</td>\n",
              "      <td>211.94</td>\n",
              "      <td>858.33</td>\n",
              "      <td>192.308899</td>\n",
              "      <td>8.667</td>\n",
              "      <td>B</td>\n",
              "      <td>118221</td>\n",
              "    </tr>\n",
              "    <tr>\n",
              "      <th>421566</th>\n",
              "      <td>45</td>\n",
              "      <td>94</td>\n",
              "      <td>2012-10-26</td>\n",
              "      <td>False</td>\n",
              "      <td>58.85</td>\n",
              "      <td>3.882</td>\n",
              "      <td>4018.91</td>\n",
              "      <td>58.08</td>\n",
              "      <td>100.0</td>\n",
              "      <td>211.94</td>\n",
              "      <td>858.33</td>\n",
              "      <td>192.308899</td>\n",
              "      <td>8.667</td>\n",
              "      <td>B</td>\n",
              "      <td>118221</td>\n",
              "    </tr>\n",
              "    <tr>\n",
              "      <th>421567</th>\n",
              "      <td>45</td>\n",
              "      <td>95</td>\n",
              "      <td>2012-10-26</td>\n",
              "      <td>False</td>\n",
              "      <td>58.85</td>\n",
              "      <td>3.882</td>\n",
              "      <td>4018.91</td>\n",
              "      <td>58.08</td>\n",
              "      <td>100.0</td>\n",
              "      <td>211.94</td>\n",
              "      <td>858.33</td>\n",
              "      <td>192.308899</td>\n",
              "      <td>8.667</td>\n",
              "      <td>B</td>\n",
              "      <td>118221</td>\n",
              "    </tr>\n",
              "    <tr>\n",
              "      <th>421568</th>\n",
              "      <td>45</td>\n",
              "      <td>97</td>\n",
              "      <td>2012-10-26</td>\n",
              "      <td>False</td>\n",
              "      <td>58.85</td>\n",
              "      <td>3.882</td>\n",
              "      <td>4018.91</td>\n",
              "      <td>58.08</td>\n",
              "      <td>100.0</td>\n",
              "      <td>211.94</td>\n",
              "      <td>858.33</td>\n",
              "      <td>192.308899</td>\n",
              "      <td>8.667</td>\n",
              "      <td>B</td>\n",
              "      <td>118221</td>\n",
              "    </tr>\n",
              "    <tr>\n",
              "      <th>421569</th>\n",
              "      <td>45</td>\n",
              "      <td>98</td>\n",
              "      <td>2012-10-26</td>\n",
              "      <td>False</td>\n",
              "      <td>58.85</td>\n",
              "      <td>3.882</td>\n",
              "      <td>4018.91</td>\n",
              "      <td>58.08</td>\n",
              "      <td>100.0</td>\n",
              "      <td>211.94</td>\n",
              "      <td>858.33</td>\n",
              "      <td>192.308899</td>\n",
              "      <td>8.667</td>\n",
              "      <td>B</td>\n",
              "      <td>118221</td>\n",
              "    </tr>\n",
              "  </tbody>\n",
              "</table>\n",
              "<p>84314 rows × 15 columns</p>\n",
              "</div>\n",
              "    <div class=\"colab-df-buttons\">\n",
              "\n",
              "  <div class=\"colab-df-container\">\n",
              "    <button class=\"colab-df-convert\" onclick=\"convertToInteractive('df-40b87dc3-3e5e-4c37-952a-a80e80f97fbb')\"\n",
              "            title=\"Convert this dataframe to an interactive table.\"\n",
              "            style=\"display:none;\">\n",
              "\n",
              "  <svg xmlns=\"http://www.w3.org/2000/svg\" height=\"24px\" viewBox=\"0 -960 960 960\">\n",
              "    <path d=\"M120-120v-720h720v720H120Zm60-500h600v-160H180v160Zm220 220h160v-160H400v160Zm0 220h160v-160H400v160ZM180-400h160v-160H180v160Zm440 0h160v-160H620v160ZM180-180h160v-160H180v160Zm440 0h160v-160H620v160Z\"/>\n",
              "  </svg>\n",
              "    </button>\n",
              "\n",
              "  <style>\n",
              "    .colab-df-container {\n",
              "      display:flex;\n",
              "      gap: 12px;\n",
              "    }\n",
              "\n",
              "    .colab-df-convert {\n",
              "      background-color: #E8F0FE;\n",
              "      border: none;\n",
              "      border-radius: 50%;\n",
              "      cursor: pointer;\n",
              "      display: none;\n",
              "      fill: #1967D2;\n",
              "      height: 32px;\n",
              "      padding: 0 0 0 0;\n",
              "      width: 32px;\n",
              "    }\n",
              "\n",
              "    .colab-df-convert:hover {\n",
              "      background-color: #E2EBFA;\n",
              "      box-shadow: 0px 1px 2px rgba(60, 64, 67, 0.3), 0px 1px 3px 1px rgba(60, 64, 67, 0.15);\n",
              "      fill: #174EA6;\n",
              "    }\n",
              "\n",
              "    .colab-df-buttons div {\n",
              "      margin-bottom: 4px;\n",
              "    }\n",
              "\n",
              "    [theme=dark] .colab-df-convert {\n",
              "      background-color: #3B4455;\n",
              "      fill: #D2E3FC;\n",
              "    }\n",
              "\n",
              "    [theme=dark] .colab-df-convert:hover {\n",
              "      background-color: #434B5C;\n",
              "      box-shadow: 0px 1px 3px 1px rgba(0, 0, 0, 0.15);\n",
              "      filter: drop-shadow(0px 1px 2px rgba(0, 0, 0, 0.3));\n",
              "      fill: #FFFFFF;\n",
              "    }\n",
              "  </style>\n",
              "\n",
              "    <script>\n",
              "      const buttonEl =\n",
              "        document.querySelector('#df-40b87dc3-3e5e-4c37-952a-a80e80f97fbb button.colab-df-convert');\n",
              "      buttonEl.style.display =\n",
              "        google.colab.kernel.accessAllowed ? 'block' : 'none';\n",
              "\n",
              "      async function convertToInteractive(key) {\n",
              "        const element = document.querySelector('#df-40b87dc3-3e5e-4c37-952a-a80e80f97fbb');\n",
              "        const dataTable =\n",
              "          await google.colab.kernel.invokeFunction('convertToInteractive',\n",
              "                                                    [key], {});\n",
              "        if (!dataTable) return;\n",
              "\n",
              "        const docLinkHtml = 'Like what you see? Visit the ' +\n",
              "          '<a target=\"_blank\" href=https://colab.research.google.com/notebooks/data_table.ipynb>data table notebook</a>'\n",
              "          + ' to learn more about interactive tables.';\n",
              "        element.innerHTML = '';\n",
              "        dataTable['output_type'] = 'display_data';\n",
              "        await google.colab.output.renderOutput(dataTable, element);\n",
              "        const docLink = document.createElement('div');\n",
              "        docLink.innerHTML = docLinkHtml;\n",
              "        element.appendChild(docLink);\n",
              "      }\n",
              "    </script>\n",
              "  </div>\n",
              "\n",
              "\n",
              "    <div id=\"df-4e9df78f-7991-40c5-b0d0-206775f939d2\">\n",
              "      <button class=\"colab-df-quickchart\" onclick=\"quickchart('df-4e9df78f-7991-40c5-b0d0-206775f939d2')\"\n",
              "                title=\"Suggest charts\"\n",
              "                style=\"display:none;\">\n",
              "\n",
              "<svg xmlns=\"http://www.w3.org/2000/svg\" height=\"24px\"viewBox=\"0 0 24 24\"\n",
              "     width=\"24px\">\n",
              "    <g>\n",
              "        <path d=\"M19 3H5c-1.1 0-2 .9-2 2v14c0 1.1.9 2 2 2h14c1.1 0 2-.9 2-2V5c0-1.1-.9-2-2-2zM9 17H7v-7h2v7zm4 0h-2V7h2v10zm4 0h-2v-4h2v4z\"/>\n",
              "    </g>\n",
              "</svg>\n",
              "      </button>\n",
              "\n",
              "<style>\n",
              "  .colab-df-quickchart {\n",
              "      --bg-color: #E8F0FE;\n",
              "      --fill-color: #1967D2;\n",
              "      --hover-bg-color: #E2EBFA;\n",
              "      --hover-fill-color: #174EA6;\n",
              "      --disabled-fill-color: #AAA;\n",
              "      --disabled-bg-color: #DDD;\n",
              "  }\n",
              "\n",
              "  [theme=dark] .colab-df-quickchart {\n",
              "      --bg-color: #3B4455;\n",
              "      --fill-color: #D2E3FC;\n",
              "      --hover-bg-color: #434B5C;\n",
              "      --hover-fill-color: #FFFFFF;\n",
              "      --disabled-bg-color: #3B4455;\n",
              "      --disabled-fill-color: #666;\n",
              "  }\n",
              "\n",
              "  .colab-df-quickchart {\n",
              "    background-color: var(--bg-color);\n",
              "    border: none;\n",
              "    border-radius: 50%;\n",
              "    cursor: pointer;\n",
              "    display: none;\n",
              "    fill: var(--fill-color);\n",
              "    height: 32px;\n",
              "    padding: 0;\n",
              "    width: 32px;\n",
              "  }\n",
              "\n",
              "  .colab-df-quickchart:hover {\n",
              "    background-color: var(--hover-bg-color);\n",
              "    box-shadow: 0 1px 2px rgba(60, 64, 67, 0.3), 0 1px 3px 1px rgba(60, 64, 67, 0.15);\n",
              "    fill: var(--button-hover-fill-color);\n",
              "  }\n",
              "\n",
              "  .colab-df-quickchart-complete:disabled,\n",
              "  .colab-df-quickchart-complete:disabled:hover {\n",
              "    background-color: var(--disabled-bg-color);\n",
              "    fill: var(--disabled-fill-color);\n",
              "    box-shadow: none;\n",
              "  }\n",
              "\n",
              "  .colab-df-spinner {\n",
              "    border: 2px solid var(--fill-color);\n",
              "    border-color: transparent;\n",
              "    border-bottom-color: var(--fill-color);\n",
              "    animation:\n",
              "      spin 1s steps(1) infinite;\n",
              "  }\n",
              "\n",
              "  @keyframes spin {\n",
              "    0% {\n",
              "      border-color: transparent;\n",
              "      border-bottom-color: var(--fill-color);\n",
              "      border-left-color: var(--fill-color);\n",
              "    }\n",
              "    20% {\n",
              "      border-color: transparent;\n",
              "      border-left-color: var(--fill-color);\n",
              "      border-top-color: var(--fill-color);\n",
              "    }\n",
              "    30% {\n",
              "      border-color: transparent;\n",
              "      border-left-color: var(--fill-color);\n",
              "      border-top-color: var(--fill-color);\n",
              "      border-right-color: var(--fill-color);\n",
              "    }\n",
              "    40% {\n",
              "      border-color: transparent;\n",
              "      border-right-color: var(--fill-color);\n",
              "      border-top-color: var(--fill-color);\n",
              "    }\n",
              "    60% {\n",
              "      border-color: transparent;\n",
              "      border-right-color: var(--fill-color);\n",
              "    }\n",
              "    80% {\n",
              "      border-color: transparent;\n",
              "      border-right-color: var(--fill-color);\n",
              "      border-bottom-color: var(--fill-color);\n",
              "    }\n",
              "    90% {\n",
              "      border-color: transparent;\n",
              "      border-bottom-color: var(--fill-color);\n",
              "    }\n",
              "  }\n",
              "</style>\n",
              "\n",
              "      <script>\n",
              "        async function quickchart(key) {\n",
              "          const quickchartButtonEl =\n",
              "            document.querySelector('#' + key + ' button');\n",
              "          quickchartButtonEl.disabled = true;  // To prevent multiple clicks.\n",
              "          quickchartButtonEl.classList.add('colab-df-spinner');\n",
              "          try {\n",
              "            const charts = await google.colab.kernel.invokeFunction(\n",
              "                'suggestCharts', [key], {});\n",
              "          } catch (error) {\n",
              "            console.error('Error during call to suggestCharts:', error);\n",
              "          }\n",
              "          quickchartButtonEl.classList.remove('colab-df-spinner');\n",
              "          quickchartButtonEl.classList.add('colab-df-quickchart-complete');\n",
              "        }\n",
              "        (() => {\n",
              "          let quickchartButtonEl =\n",
              "            document.querySelector('#df-4e9df78f-7991-40c5-b0d0-206775f939d2 button');\n",
              "          quickchartButtonEl.style.display =\n",
              "            google.colab.kernel.accessAllowed ? 'block' : 'none';\n",
              "        })();\n",
              "      </script>\n",
              "    </div>\n",
              "\n",
              "  <div id=\"id_86b09db0-a073-46b7-a611-d7f6aa55d496\">\n",
              "    <style>\n",
              "      .colab-df-generate {\n",
              "        background-color: #E8F0FE;\n",
              "        border: none;\n",
              "        border-radius: 50%;\n",
              "        cursor: pointer;\n",
              "        display: none;\n",
              "        fill: #1967D2;\n",
              "        height: 32px;\n",
              "        padding: 0 0 0 0;\n",
              "        width: 32px;\n",
              "      }\n",
              "\n",
              "      .colab-df-generate:hover {\n",
              "        background-color: #E2EBFA;\n",
              "        box-shadow: 0px 1px 2px rgba(60, 64, 67, 0.3), 0px 1px 3px 1px rgba(60, 64, 67, 0.15);\n",
              "        fill: #174EA6;\n",
              "      }\n",
              "\n",
              "      [theme=dark] .colab-df-generate {\n",
              "        background-color: #3B4455;\n",
              "        fill: #D2E3FC;\n",
              "      }\n",
              "\n",
              "      [theme=dark] .colab-df-generate:hover {\n",
              "        background-color: #434B5C;\n",
              "        box-shadow: 0px 1px 3px 1px rgba(0, 0, 0, 0.15);\n",
              "        filter: drop-shadow(0px 1px 2px rgba(0, 0, 0, 0.3));\n",
              "        fill: #FFFFFF;\n",
              "      }\n",
              "    </style>\n",
              "    <button class=\"colab-df-generate\" onclick=\"generateWithVariable('X_valid')\"\n",
              "            title=\"Generate code using this dataframe.\"\n",
              "            style=\"display:none;\">\n",
              "\n",
              "  <svg xmlns=\"http://www.w3.org/2000/svg\" height=\"24px\"viewBox=\"0 0 24 24\"\n",
              "       width=\"24px\">\n",
              "    <path d=\"M7,19H8.4L18.45,9,17,7.55,7,17.6ZM5,21V16.75L18.45,3.32a2,2,0,0,1,2.83,0l1.4,1.43a1.91,1.91,0,0,1,.58,1.4,1.91,1.91,0,0,1-.58,1.4L9.25,21ZM18.45,9,17,7.55Zm-12,3A5.31,5.31,0,0,0,4.9,8.1,5.31,5.31,0,0,0,1,6.5,5.31,5.31,0,0,0,4.9,4.9,5.31,5.31,0,0,0,6.5,1,5.31,5.31,0,0,0,8.1,4.9,5.31,5.31,0,0,0,12,6.5,5.46,5.46,0,0,0,6.5,12Z\"/>\n",
              "  </svg>\n",
              "    </button>\n",
              "    <script>\n",
              "      (() => {\n",
              "      const buttonEl =\n",
              "        document.querySelector('#id_86b09db0-a073-46b7-a611-d7f6aa55d496 button.colab-df-generate');\n",
              "      buttonEl.style.display =\n",
              "        google.colab.kernel.accessAllowed ? 'block' : 'none';\n",
              "\n",
              "      buttonEl.onclick = () => {\n",
              "        google.colab.notebook.generateWithVariable('X_valid');\n",
              "      }\n",
              "      })();\n",
              "    </script>\n",
              "  </div>\n",
              "\n",
              "    </div>\n",
              "  </div>\n"
            ],
            "application/vnd.google.colaboratory.intrinsic+json": {
              "type": "dataframe",
              "variable_name": "X_valid",
              "summary": "{\n  \"name\": \"X_valid\",\n  \"rows\": 84314,\n  \"fields\": [\n    {\n      \"column\": \"Store\",\n      \"properties\": {\n        \"dtype\": \"number\",\n        \"std\": 12,\n        \"min\": 1,\n        \"max\": 45,\n        \"num_unique_values\": 45,\n        \"samples\": [\n          16,\n          2,\n          3\n        ],\n        \"semantic_type\": \"\",\n        \"description\": \"\"\n      }\n    },\n    {\n      \"column\": \"Dept\",\n      \"properties\": {\n        \"dtype\": \"number\",\n        \"std\": 30,\n        \"min\": 1,\n        \"max\": 99,\n        \"num_unique_values\": 81,\n        \"samples\": [\n          87,\n          32,\n          72\n        ],\n        \"semantic_type\": \"\",\n        \"description\": \"\"\n      }\n    },\n    {\n      \"column\": \"Date\",\n      \"properties\": {\n        \"dtype\": \"date\",\n        \"min\": \"2012-04-13 00:00:00\",\n        \"max\": \"2012-10-26 00:00:00\",\n        \"num_unique_values\": 29,\n        \"samples\": [\n          \"2012-10-19 00:00:00\",\n          \"2012-08-03 00:00:00\",\n          \"2012-07-06 00:00:00\"\n        ],\n        \"semantic_type\": \"\",\n        \"description\": \"\"\n      }\n    },\n    {\n      \"column\": \"IsHoliday\",\n      \"properties\": {\n        \"dtype\": \"boolean\",\n        \"num_unique_values\": 2,\n        \"samples\": [\n          true,\n          false\n        ],\n        \"semantic_type\": \"\",\n        \"description\": \"\"\n      }\n    },\n    {\n      \"column\": \"Temperature\",\n      \"properties\": {\n        \"dtype\": \"number\",\n        \"std\": 11.771164221733477,\n        \"min\": 36.9,\n        \"max\": 100.07,\n        \"num_unique_values\": 886,\n        \"samples\": [\n          50.81,\n          84.2\n        ],\n        \"semantic_type\": \"\",\n        \"description\": \"\"\n      }\n    },\n    {\n      \"column\": \"Fuel_Price\",\n      \"properties\": {\n        \"dtype\": \"number\",\n        \"std\": 0.24844121376386458,\n        \"min\": 3.187,\n        \"max\": 4.468,\n        \"num_unique_values\": 229,\n        \"samples\": [\n          3.594,\n          3.85\n        ],\n        \"semantic_type\": \"\",\n        \"description\": \"\"\n      }\n    },\n    {\n      \"column\": \"MarkDown1\",\n      \"properties\": {\n        \"dtype\": \"number\",\n        \"std\": 6532.775605541016,\n        \"min\": 0.27,\n        \"max\": 48280.91,\n        \"num_unique_values\": 1275,\n        \"samples\": [\n          2360.14,\n          4488.47\n        ],\n        \"semantic_type\": \"\",\n        \"description\": \"\"\n      }\n    },\n    {\n      \"column\": \"MarkDown2\",\n      \"properties\": {\n        \"dtype\": \"number\",\n        \"std\": 1099.1219135497565,\n        \"min\": -265.76,\n        \"max\": 11361.33,\n        \"num_unique_values\": 691,\n        \"samples\": [\n          102.5,\n          2.98\n        ],\n        \"semantic_type\": \"\",\n        \"description\": \"\"\n      }\n    },\n    {\n      \"column\": \"MarkDown3\",\n      \"properties\": {\n        \"dtype\": \"number\",\n        \"std\": 118.47811776792365,\n        \"min\": -29.1,\n        \"max\": 1095.85,\n        \"num_unique_values\": 951,\n        \"samples\": [\n          9.46,\n          13.1\n        ],\n        \"semantic_type\": \"\",\n        \"description\": \"\"\n      }\n    },\n    {\n      \"column\": \"MarkDown4\",\n      \"properties\": {\n        \"dtype\": \"number\",\n        \"std\": 3479.139322321313,\n        \"min\": 0.22,\n        \"max\": 25656.34,\n        \"num_unique_values\": 1098,\n        \"samples\": [\n          657.56,\n          10055.75\n        ],\n        \"semantic_type\": \"\",\n        \"description\": \"\"\n      }\n    },\n    {\n      \"column\": \"MarkDown5\",\n      \"properties\": {\n        \"dtype\": \"number\",\n        \"std\": 6479.512541370954,\n        \"min\": 164.08,\n        \"max\": 108519.28,\n        \"num_unique_values\": 1283,\n        \"samples\": [\n          598.74,\n          1691.31\n        ],\n        \"semantic_type\": \"\",\n        \"description\": \"\"\n      }\n    },\n    {\n      \"column\": \"CPI\",\n      \"properties\": {\n        \"dtype\": \"number\",\n        \"std\": 40.550088885781136,\n        \"min\": 130.683,\n        \"max\": 227.2328068,\n        \"num_unique_values\": 429,\n        \"samples\": [\n          227.0369359,\n          197.5553137\n        ],\n        \"semantic_type\": \"\",\n        \"description\": \"\"\n      }\n    },\n    {\n      \"column\": \"Unemployment\",\n      \"properties\": {\n        \"dtype\": \"number\",\n        \"std\": 1.6850525995839225,\n        \"min\": 3.879,\n        \"max\": 11.627,\n        \"num_unique_values\": 88,\n        \"samples\": [\n          7.293,\n          7.671\n        ],\n        \"semantic_type\": \"\",\n        \"description\": \"\"\n      }\n    },\n    {\n      \"column\": \"Type\",\n      \"properties\": {\n        \"dtype\": \"category\",\n        \"num_unique_values\": 3,\n        \"samples\": [\n          \"B\",\n          \"A\"\n        ],\n        \"semantic_type\": \"\",\n        \"description\": \"\"\n      }\n    },\n    {\n      \"column\": \"Size\",\n      \"properties\": {\n        \"dtype\": \"number\",\n        \"std\": 61191,\n        \"min\": 34875,\n        \"max\": 219622,\n        \"num_unique_values\": 40,\n        \"samples\": [\n          118221,\n          155083\n        ],\n        \"semantic_type\": \"\",\n        \"description\": \"\"\n      }\n    }\n  ]\n}"
            }
          },
          "metadata": {},
          "execution_count": 35
        }
      ]
    },
    {
      "cell_type": "markdown",
      "source": [
        "# Improve GroupStat (without DeepLearning)"
      ],
      "metadata": {
        "id": "TcvweACLvptY"
      }
    },
    {
      "cell_type": "markdown",
      "source": [
        "First, we will focus on improving our **GroupStat** model as much as possible.This specifically involves **modifying the feature engineering techniques** used for each group."
      ],
      "metadata": {
        "id": "285TQQws-QVh"
      }
    },
    {
      "cell_type": "markdown",
      "source": [
        "We begin by adding the feature `week_of_year_avg`, created using `time_features.WeeklyStoreDept()`. This is a valuable feature because it captures the **average sales trend for each week of the year** at the store–department level. Given that our data exhibits strong **annual seasonality**, this feature helps the model learn recurring yearly patterns more effectively."
      ],
      "metadata": {
        "id": "rh3Rl2p2OPWK"
      }
    },
    {
      "cell_type": "code",
      "source": [
        "from sklearn.pipeline import Pipeline\n",
        "from xgboost import XGBRegressor\n",
        "from lightgbm import LGBMRegressor\n",
        "from feature_engineering import feature_transformers, time_features\n",
        "from models.group_stat import GroupStatModel\n",
        "\n",
        "import importlib\n",
        "importlib.reload(time_features)\n",
        "\n",
        "\n",
        "columns_to_drop=['MarkDown1', 'MarkDown2', 'MarkDown3', 'MarkDown4', 'MarkDown5']\n",
        "\n",
        "store_pipeline = Pipeline([\n",
        "    ('feature_adder', time_features.FeatureAdder(\n",
        "        add_week_num=True,\n",
        "        add_holiday_flags=True,\n",
        "        add_holiday_proximity=True,\n",
        "        add_holiday_windows=True,\n",
        "        add_fourier_features=True,\n",
        "        add_month_and_year=True,\n",
        "        replace_time_index=True\n",
        "    )),\n",
        "    ('object_to_cat', feature_transformers.ObjectToCategory()),\n",
        "    ('group_stat', feature_transformers.GroupStatFeatureAdder(groupby_cols='Store')),\n",
        "    ('make_cat', feature_transformers.MakeCategorical(['Store'])),\n",
        "    ('drop_markdowns', feature_transformers.ChangeColumns(columns_to_drop=columns_to_drop)),\n",
        "    ('model', XGBRegressor(\n",
        "        objective='reg:squarederror',\n",
        "        enable_categorical=True,\n",
        "        random_state=42,\n",
        "        n_estimators=200,\n",
        "        learning_rate=0.1,\n",
        "        max_depth=7,\n",
        "        subsample=0.6,\n",
        "        colsample_bytree=1.0,\n",
        "        min_child_weight=5\n",
        "    ))\n",
        "])\n",
        "\n",
        "dept_pipeline = Pipeline([\n",
        "    ('feature_adder', time_features.FeatureAdder(\n",
        "        add_week_num=True,\n",
        "        add_holiday_flags=True,\n",
        "        add_holiday_proximity=True,\n",
        "        add_holiday_windows=True,\n",
        "        add_fourier_features=True,\n",
        "        add_month_and_year=True,\n",
        "        replace_time_index=True\n",
        "    )),\n",
        "    ('group_stat', feature_transformers.GroupStatFeatureAdder(groupby_cols='Dept')),\n",
        "    ('object_to_cat', feature_transformers.ObjectToCategory()),\n",
        "    ('make_cat', feature_transformers.MakeCategorical(['Dept'])),\n",
        "    ('model', XGBRegressor(\n",
        "        objective='reg:squarederror',\n",
        "        enable_categorical=True,\n",
        "        random_state=42,\n",
        "        n_estimators=300,\n",
        "        learning_rate=0.1,\n",
        "        max_depth=7,\n",
        "        subsample=1.0,\n",
        "        colsample_bytree=0.5,\n",
        "        min_child_weight=1\n",
        "    ))\n",
        "])\n",
        "\n",
        "global_pipeline = Pipeline([\n",
        "    ('feature_adder', time_features.FeatureAdder(\n",
        "        add_week_num=True,\n",
        "        add_holiday_flags=True,\n",
        "        add_holiday_proximity=True,\n",
        "        add_holiday_windows=True,\n",
        "        add_fourier_features=True,\n",
        "        add_month_and_year=True,\n",
        "        replace_time_index=True\n",
        "    )),\n",
        "    ('drop_markdowns', feature_transformers.ChangeColumns(columns_to_drop=columns_to_drop)),\n",
        "    ('object_to_cat', feature_transformers.ObjectToCategory()),\n",
        "    ('week_of_year_avg', time_features.WeeklyStoreDept()),\n",
        "    ('make_cat', feature_transformers.MakeCategorical(['Dept', 'Store'])),\n",
        "    ('model', LGBMRegressor(\n",
        "        objective='regression',\n",
        "        random_state=42,\n",
        "        verbose=-1,\n",
        "        n_estimators=1000,\n",
        "        learning_rate=0.1,\n",
        "        max_depth=10\n",
        "    ))\n",
        "])"
      ],
      "metadata": {
        "id": "gdQOnTh55gV1"
      },
      "execution_count": null,
      "outputs": []
    },
    {
      "cell_type": "code",
      "source": [
        "from models import group_stat\n",
        "from src.utils import wmae as compute_wmae\n",
        "\n",
        "mdl = group_stat.GroupStatModel(store_pipeline=store_pipeline, dept_pipeline=dept_pipeline, global_pipeline=global_pipeline)\n",
        "\n",
        "mdl.fit(X_train, y_train)\n",
        "\n",
        "pred = mdl.predict(X_train)\n",
        "train_wmae = compute_wmae(y_train, pred, is_holiday=X_train['IsHoliday'])\n",
        "print(f\"Train WMAE: {train_wmae:.2f}\")\n",
        "\n",
        "pred = mdl.predict(X_valid)\n",
        "valid_wmae = compute_wmae(y_valid, pred, is_holiday=X_valid['IsHoliday'])\n",
        "print(f\"Valid WMAE: {valid_wmae:.2f}\")\n",
        "\n",
        "from configs.basic_config import minimal_config\n",
        "from src.utils import log_to_wandb\n",
        "\n",
        "log_to_wandb(\n",
        "    model=mdl,\n",
        "    train_score=train_wmae,\n",
        "    val_score=valid_wmae,\n",
        "    config=minimal_config,\n",
        "    run_name='group_stat_02',\n",
        "    artifact_name=\"group_stat_model\",\n",
        ")"
      ],
      "metadata": {
        "colab": {
          "base_uri": "https://localhost:8080/",
          "height": 500
        },
        "id": "hegLWlrrvw11",
        "outputId": "98e4adab-4cae-40e8-bb37-69be565b6b36"
      },
      "execution_count": null,
      "outputs": [
        {
          "output_type": "stream",
          "name": "stdout",
          "text": [
            "Train WMAE: 559.72\n",
            "Valid WMAE: 1827.40\n"
          ]
        },
        {
          "output_type": "display_data",
          "data": {
            "text/plain": [
              "<IPython.core.display.HTML object>"
            ],
            "text/html": [
              "Tracking run with wandb version 0.20.1"
            ]
          },
          "metadata": {}
        },
        {
          "output_type": "display_data",
          "data": {
            "text/plain": [
              "<IPython.core.display.HTML object>"
            ],
            "text/html": [
              "Run data is saved locally in <code>/content/Walmart-Recruiting-Store-Sales-Forecasting/wandb/run-20250708_122413-2wute91s</code>"
            ]
          },
          "metadata": {}
        },
        {
          "output_type": "display_data",
          "data": {
            "text/plain": [
              "<IPython.core.display.HTML object>"
            ],
            "text/html": [
              "Syncing run <strong><a href='https://wandb.ai/MLBeasts/Walmart%20Recruiting%20-%20Store%20Sales%20Forecasting/runs/2wute91s' target=\"_blank\">group_stat_02</a></strong> to <a href='https://wandb.ai/MLBeasts/Walmart%20Recruiting%20-%20Store%20Sales%20Forecasting' target=\"_blank\">Weights & Biases</a> (<a href='https://wandb.me/developer-guide' target=\"_blank\">docs</a>)<br>"
            ]
          },
          "metadata": {}
        },
        {
          "output_type": "display_data",
          "data": {
            "text/plain": [
              "<IPython.core.display.HTML object>"
            ],
            "text/html": [
              " View project at <a href='https://wandb.ai/MLBeasts/Walmart%20Recruiting%20-%20Store%20Sales%20Forecasting' target=\"_blank\">https://wandb.ai/MLBeasts/Walmart%20Recruiting%20-%20Store%20Sales%20Forecasting</a>"
            ]
          },
          "metadata": {}
        },
        {
          "output_type": "display_data",
          "data": {
            "text/plain": [
              "<IPython.core.display.HTML object>"
            ],
            "text/html": [
              " View run at <a href='https://wandb.ai/MLBeasts/Walmart%20Recruiting%20-%20Store%20Sales%20Forecasting/runs/2wute91s' target=\"_blank\">https://wandb.ai/MLBeasts/Walmart%20Recruiting%20-%20Store%20Sales%20Forecasting/runs/2wute91s</a>"
            ]
          },
          "metadata": {}
        },
        {
          "output_type": "display_data",
          "data": {
            "text/plain": [
              "<IPython.core.display.HTML object>"
            ],
            "text/html": []
          },
          "metadata": {}
        },
        {
          "output_type": "display_data",
          "data": {
            "text/plain": [
              "<IPython.core.display.HTML object>"
            ],
            "text/html": [
              "<br>    <style><br>        .wandb-row {<br>            display: flex;<br>            flex-direction: row;<br>            flex-wrap: wrap;<br>            justify-content: flex-start;<br>            width: 100%;<br>        }<br>        .wandb-col {<br>            display: flex;<br>            flex-direction: column;<br>            flex-basis: 100%;<br>            flex: 1;<br>            padding: 10px;<br>        }<br>    </style><br><div class=\"wandb-row\"><div class=\"wandb-col\"><h3>Run history:</h3><br/><table class=\"wandb\"><tr><td>train_wmae</td><td>▁</td></tr><tr><td>val_wmae</td><td>▁</td></tr></table><br/></div><div class=\"wandb-col\"><h3>Run summary:</h3><br/><table class=\"wandb\"><tr><td>train_wmae</td><td>559.72332</td></tr><tr><td>val_wmae</td><td>1827.39547</td></tr></table><br/></div></div>"
            ]
          },
          "metadata": {}
        },
        {
          "output_type": "display_data",
          "data": {
            "text/plain": [
              "<IPython.core.display.HTML object>"
            ],
            "text/html": [
              " View run <strong style=\"color:#cdcd00\">group_stat_02</strong> at: <a href='https://wandb.ai/MLBeasts/Walmart%20Recruiting%20-%20Store%20Sales%20Forecasting/runs/2wute91s' target=\"_blank\">https://wandb.ai/MLBeasts/Walmart%20Recruiting%20-%20Store%20Sales%20Forecasting/runs/2wute91s</a><br> View project at: <a href='https://wandb.ai/MLBeasts/Walmart%20Recruiting%20-%20Store%20Sales%20Forecasting' target=\"_blank\">https://wandb.ai/MLBeasts/Walmart%20Recruiting%20-%20Store%20Sales%20Forecasting</a><br>Synced 5 W&B file(s), 0 media file(s), 2 artifact file(s) and 0 other file(s)"
            ]
          },
          "metadata": {}
        },
        {
          "output_type": "display_data",
          "data": {
            "text/plain": [
              "<IPython.core.display.HTML object>"
            ],
            "text/html": [
              "Find logs at: <code>./wandb/run-20250708_122413-2wute91s/logs</code>"
            ]
          },
          "metadata": {}
        }
      ]
    },
    {
      "cell_type": "markdown",
      "source": [
        "We will include the `week_of_year_avg` feature in **each pipeline**, as it effectively captures annual seasonality and provides valuable context for modeling weekly sales trends.\n"
      ],
      "metadata": {
        "id": "o6qMuaQ9-ii_"
      }
    },
    {
      "cell_type": "code",
      "source": [
        "from sklearn.pipeline import Pipeline\n",
        "from xgboost import XGBRegressor\n",
        "from lightgbm import LGBMRegressor\n",
        "from feature_engineering import feature_transformers, time_features\n",
        "from models.group_stat import GroupStatModel\n",
        "\n",
        "import importlib\n",
        "importlib.reload(time_features)\n",
        "\n",
        "\n",
        "columns_to_drop=['MarkDown1', 'MarkDown2', 'MarkDown3', 'MarkDown4', 'MarkDown5']\n",
        "\n",
        "store_pipeline = Pipeline([\n",
        "    ('feature_adder', time_features.FeatureAdder(\n",
        "        add_week_num=True,\n",
        "        add_holiday_flags=True,\n",
        "        add_holiday_proximity=True,\n",
        "        add_holiday_windows=True,\n",
        "        add_fourier_features=True,\n",
        "        add_month_and_year=True,\n",
        "        replace_time_index=True\n",
        "    )),\n",
        "    ('object_to_cat', feature_transformers.ObjectToCategory()),\n",
        "    ('group_stat', feature_transformers.GroupStatFeatureAdder(groupby_cols='Store')),\n",
        "    ('make_cat', feature_transformers.MakeCategorical(['Store'])),\n",
        "    ('week_of_year_avg', time_features.WeeklyStoreDept(dept_col=None)),\n",
        "    ('drop_markdowns', feature_transformers.ChangeColumns(columns_to_drop=columns_to_drop)),\n",
        "    ('model', XGBRegressor(\n",
        "        objective='reg:squarederror',\n",
        "        enable_categorical=True,\n",
        "        random_state=42,\n",
        "        n_estimators=200,\n",
        "        learning_rate=0.1,\n",
        "        max_depth=7,\n",
        "        subsample=0.6,\n",
        "        colsample_bytree=1.0,\n",
        "        min_child_weight=5\n",
        "    ))\n",
        "])\n",
        "\n",
        "dept_pipeline = Pipeline([\n",
        "    ('feature_adder', time_features.FeatureAdder(\n",
        "        add_week_num=True,\n",
        "        add_holiday_flags=True,\n",
        "        add_holiday_proximity=True,\n",
        "        add_holiday_windows=True,\n",
        "        add_fourier_features=True,\n",
        "        add_month_and_year=True,\n",
        "        replace_time_index=True\n",
        "    )),\n",
        "    ('group_stat', feature_transformers.GroupStatFeatureAdder(groupby_cols='Dept')),\n",
        "    ('object_to_cat', feature_transformers.ObjectToCategory()),\n",
        "    ('week_of_year_avg', time_features.WeeklyStoreDept(store_col=None)),\n",
        "    ('make_cat', feature_transformers.MakeCategorical(['Dept'])),\n",
        "    ('model', XGBRegressor(\n",
        "        objective='reg:squarederror',\n",
        "        enable_categorical=True,\n",
        "        random_state=42,\n",
        "        n_estimators=300,\n",
        "        learning_rate=0.1,\n",
        "        max_depth=7,\n",
        "        subsample=1.0,\n",
        "        colsample_bytree=0.5,\n",
        "        min_child_weight=1\n",
        "    ))\n",
        "])\n",
        "\n",
        "global_pipeline = Pipeline([\n",
        "    ('feature_adder', time_features.FeatureAdder(\n",
        "        add_week_num=True,\n",
        "        add_holiday_flags=True,\n",
        "        add_holiday_proximity=True,\n",
        "        add_holiday_windows=True,\n",
        "        add_fourier_features=True,\n",
        "        add_month_and_year=True,\n",
        "        replace_time_index=True\n",
        "    )),\n",
        "    ('drop_markdowns', feature_transformers.ChangeColumns(columns_to_drop=columns_to_drop)),\n",
        "    ('object_to_cat', feature_transformers.ObjectToCategory()),\n",
        "    ('week_of_year_avg', time_features.WeeklyStoreDept()),\n",
        "    ('make_cat', feature_transformers.MakeCategorical(['Dept', 'Store'])),\n",
        "    ('model', LGBMRegressor(\n",
        "        objective='regression',\n",
        "        random_state=42,\n",
        "        verbose=-1,\n",
        "        n_estimators=1000,\n",
        "        learning_rate=0.1,\n",
        "        max_depth=10\n",
        "    ))\n",
        "])"
      ],
      "metadata": {
        "id": "y3EG5RKj-lLR"
      },
      "execution_count": null,
      "outputs": []
    },
    {
      "cell_type": "code",
      "source": [
        "from models import group_stat\n",
        "from src.utils import wmae as compute_wmae\n",
        "\n",
        "mdl = group_stat.GroupStatModel(store_pipeline=store_pipeline, dept_pipeline=dept_pipeline, global_pipeline=global_pipeline)\n",
        "\n",
        "mdl.fit(X_train, y_train)\n",
        "\n",
        "pred = mdl.predict(X_train)\n",
        "train_wmae = compute_wmae(y_train, pred, is_holiday=X_train['IsHoliday'])\n",
        "print(f\"Train WMAE: {train_wmae:.2f}\")\n",
        "\n",
        "pred = mdl.predict(X_valid)\n",
        "valid_wmae = compute_wmae(y_valid, pred, is_holiday=X_valid['IsHoliday'])\n",
        "print(f\"Valid WMAE: {valid_wmae:.2f}\")\n",
        "\n",
        "from configs.basic_config import minimal_config\n",
        "from src.utils import log_to_wandb\n",
        "\n",
        "log_to_wandb(\n",
        "    model=mdl,\n",
        "    train_score=train_wmae,\n",
        "    val_score=valid_wmae,\n",
        "    config=minimal_config,\n",
        "    run_name='group_stat_03',\n",
        "    artifact_name=\"group_stat_model\",\n",
        ")"
      ],
      "metadata": {
        "colab": {
          "base_uri": "https://localhost:8080/",
          "height": 555
        },
        "id": "kprSU0Tp_PQL",
        "outputId": "18094b20-049f-40fe-bd30-2f90e287ca7b"
      },
      "execution_count": null,
      "outputs": [
        {
          "output_type": "stream",
          "name": "stderr",
          "text": [
            "/content/Walmart-Recruiting-Store-Sales-Forecasting/feature_engineering/time_features.py:188: FutureWarning: The default of observed=False is deprecated and will be changed to True in a future version of pandas. Pass observed=False to retain current behavior or observed=True to adopt the future default and silence this warning.\n",
            "  df.groupby(self.group_cols_)[self.target_col]\n"
          ]
        },
        {
          "output_type": "stream",
          "name": "stdout",
          "text": [
            "Train WMAE: 560.68\n",
            "Valid WMAE: 1821.19\n"
          ]
        },
        {
          "output_type": "display_data",
          "data": {
            "text/plain": [
              "<IPython.core.display.HTML object>"
            ],
            "text/html": [
              "Tracking run with wandb version 0.20.1"
            ]
          },
          "metadata": {}
        },
        {
          "output_type": "display_data",
          "data": {
            "text/plain": [
              "<IPython.core.display.HTML object>"
            ],
            "text/html": [
              "Run data is saved locally in <code>/content/Walmart-Recruiting-Store-Sales-Forecasting/wandb/run-20250708_122615-j3ab9fxs</code>"
            ]
          },
          "metadata": {}
        },
        {
          "output_type": "display_data",
          "data": {
            "text/plain": [
              "<IPython.core.display.HTML object>"
            ],
            "text/html": [
              "Syncing run <strong><a href='https://wandb.ai/MLBeasts/Walmart%20Recruiting%20-%20Store%20Sales%20Forecasting/runs/j3ab9fxs' target=\"_blank\">group_stat_03</a></strong> to <a href='https://wandb.ai/MLBeasts/Walmart%20Recruiting%20-%20Store%20Sales%20Forecasting' target=\"_blank\">Weights & Biases</a> (<a href='https://wandb.me/developer-guide' target=\"_blank\">docs</a>)<br>"
            ]
          },
          "metadata": {}
        },
        {
          "output_type": "display_data",
          "data": {
            "text/plain": [
              "<IPython.core.display.HTML object>"
            ],
            "text/html": [
              " View project at <a href='https://wandb.ai/MLBeasts/Walmart%20Recruiting%20-%20Store%20Sales%20Forecasting' target=\"_blank\">https://wandb.ai/MLBeasts/Walmart%20Recruiting%20-%20Store%20Sales%20Forecasting</a>"
            ]
          },
          "metadata": {}
        },
        {
          "output_type": "display_data",
          "data": {
            "text/plain": [
              "<IPython.core.display.HTML object>"
            ],
            "text/html": [
              " View run at <a href='https://wandb.ai/MLBeasts/Walmart%20Recruiting%20-%20Store%20Sales%20Forecasting/runs/j3ab9fxs' target=\"_blank\">https://wandb.ai/MLBeasts/Walmart%20Recruiting%20-%20Store%20Sales%20Forecasting/runs/j3ab9fxs</a>"
            ]
          },
          "metadata": {}
        },
        {
          "output_type": "display_data",
          "data": {
            "text/plain": [
              "<IPython.core.display.HTML object>"
            ],
            "text/html": []
          },
          "metadata": {}
        },
        {
          "output_type": "display_data",
          "data": {
            "text/plain": [
              "<IPython.core.display.HTML object>"
            ],
            "text/html": [
              "<br>    <style><br>        .wandb-row {<br>            display: flex;<br>            flex-direction: row;<br>            flex-wrap: wrap;<br>            justify-content: flex-start;<br>            width: 100%;<br>        }<br>        .wandb-col {<br>            display: flex;<br>            flex-direction: column;<br>            flex-basis: 100%;<br>            flex: 1;<br>            padding: 10px;<br>        }<br>    </style><br><div class=\"wandb-row\"><div class=\"wandb-col\"><h3>Run history:</h3><br/><table class=\"wandb\"><tr><td>train_wmae</td><td>▁</td></tr><tr><td>val_wmae</td><td>▁</td></tr></table><br/></div><div class=\"wandb-col\"><h3>Run summary:</h3><br/><table class=\"wandb\"><tr><td>train_wmae</td><td>560.67546</td></tr><tr><td>val_wmae</td><td>1821.18896</td></tr></table><br/></div></div>"
            ]
          },
          "metadata": {}
        },
        {
          "output_type": "display_data",
          "data": {
            "text/plain": [
              "<IPython.core.display.HTML object>"
            ],
            "text/html": [
              " View run <strong style=\"color:#cdcd00\">group_stat_03</strong> at: <a href='https://wandb.ai/MLBeasts/Walmart%20Recruiting%20-%20Store%20Sales%20Forecasting/runs/j3ab9fxs' target=\"_blank\">https://wandb.ai/MLBeasts/Walmart%20Recruiting%20-%20Store%20Sales%20Forecasting/runs/j3ab9fxs</a><br> View project at: <a href='https://wandb.ai/MLBeasts/Walmart%20Recruiting%20-%20Store%20Sales%20Forecasting' target=\"_blank\">https://wandb.ai/MLBeasts/Walmart%20Recruiting%20-%20Store%20Sales%20Forecasting</a><br>Synced 5 W&B file(s), 0 media file(s), 2 artifact file(s) and 0 other file(s)"
            ]
          },
          "metadata": {}
        },
        {
          "output_type": "display_data",
          "data": {
            "text/plain": [
              "<IPython.core.display.HTML object>"
            ],
            "text/html": [
              "Find logs at: <code>./wandb/run-20250708_122615-j3ab9fxs/logs</code>"
            ]
          },
          "metadata": {}
        }
      ]
    },
    {
      "cell_type": "markdown",
      "source": [
        "As a final improvement, we will include **shared transformers** (i.e., applied to all data, not group-specific) as part of a unified preprocessing pipeline.\n",
        "\n",
        "This is beneficial because:\n",
        "\n",
        "- It allows the model to capture **global patterns** that apply across all stores and departments.\n",
        "- It simplifies the pipeline architecture and makes feature management more consistent and modular.\n",
        "\n",
        "This unified approach helps create a more balanced and generalizable model."
      ],
      "metadata": {
        "id": "2S8iJqkS_uQw"
      }
    },
    {
      "cell_type": "code",
      "source": [
        "from sklearn.pipeline import Pipeline\n",
        "from xgboost import XGBRegressor\n",
        "from lightgbm import LGBMRegressor\n",
        "from feature_engineering import feature_transformers, time_features\n",
        "from models.group_stat import GroupStatModel\n",
        "\n",
        "import importlib\n",
        "importlib.reload(time_features)\n",
        "\n",
        "\n",
        "columns_to_drop=['MarkDown1', 'MarkDown2', 'MarkDown3', 'MarkDown4', 'MarkDown5']\n",
        "\n",
        "preprocess = Pipeline([\n",
        "    ('feature_adder', time_features.FeatureAdder(\n",
        "        add_week_num=True,\n",
        "        add_holiday_flags=True,\n",
        "        add_holiday_proximity=True,\n",
        "        add_holiday_windows=True,\n",
        "        add_fourier_features=True,\n",
        "        add_month_and_year=True,\n",
        "        replace_time_index=True\n",
        "    )),\n",
        "    ('object_to_cat', feature_transformers.ObjectToCategory()),\n",
        "    ('week_of_year_avg', time_features.WeeklyStoreDept()),\n",
        "    ('make_cat', feature_transformers.MakeCategorical(['Dept', 'Store'])),\n",
        "    ('drop_markdowns', feature_transformers.ChangeColumns(columns_to_drop=columns_to_drop)),\n",
        "])\n",
        "\n",
        "store_pipeline = Pipeline([\n",
        "    ('group_stat', feature_transformers.GroupStatFeatureAdder(groupby_cols='Store')),\n",
        "    ('model', XGBRegressor(\n",
        "        objective='reg:squarederror',\n",
        "        enable_categorical=True,\n",
        "        random_state=42,\n",
        "        n_estimators=200,\n",
        "        learning_rate=0.1,\n",
        "        max_depth=7,\n",
        "        subsample=0.6,\n",
        "        colsample_bytree=1.0,\n",
        "        min_child_weight=5\n",
        "    ))\n",
        "])\n",
        "\n",
        "dept_pipeline = Pipeline([\n",
        "    ('group_stat', feature_transformers.GroupStatFeatureAdder(groupby_cols='Dept')),\n",
        "    ('model', XGBRegressor(\n",
        "        objective='reg:squarederror',\n",
        "        enable_categorical=True,\n",
        "        random_state=42,\n",
        "        n_estimators=300,\n",
        "        learning_rate=0.1,\n",
        "        max_depth=7,\n",
        "        subsample=1.0,\n",
        "        colsample_bytree=0.5,\n",
        "        min_child_weight=1\n",
        "    ))\n",
        "])\n",
        "\n",
        "global_pipeline = Pipeline([\n",
        "    ('model', LGBMRegressor(\n",
        "        objective='regression',\n",
        "        random_state=42,\n",
        "        verbose=-1,\n",
        "        n_estimators=1000,\n",
        "        learning_rate=0.1,\n",
        "        max_depth=10\n",
        "    ))\n",
        "])"
      ],
      "metadata": {
        "id": "AC2lLkeC_1qF"
      },
      "execution_count": null,
      "outputs": []
    },
    {
      "cell_type": "code",
      "source": [
        "from models import group_stat\n",
        "from src.utils import wmae as compute_wmae\n",
        "\n",
        "mdl = group_stat.GroupStatModel(store_pipeline=store_pipeline, dept_pipeline=dept_pipeline, global_pipeline=global_pipeline)\n",
        "\n",
        "pipeline = Pipeline([\n",
        "    ('preprocess', preprocess),\n",
        "    ('model', mdl)\n",
        "])\n",
        "\n",
        "pipeline.fit(X_train, y_train)\n",
        "\n",
        "pred = pipeline.predict(X_train)\n",
        "train_wmae = compute_wmae(y_train, pred, is_holiday=X_train['IsHoliday'])\n",
        "print(f\"Train WMAE: {train_wmae:.2f}\")\n",
        "\n",
        "pred = pipeline.predict(X_valid)\n",
        "valid_wmae = compute_wmae(y_valid, pred, is_holiday=X_valid['IsHoliday'])\n",
        "print(f\"Valid WMAE: {valid_wmae:.2f}\")\n",
        "\n",
        "from configs.basic_config import minimal_config\n",
        "from src.utils import log_to_wandb\n",
        "\n",
        "log_to_wandb(\n",
        "    model=pipeline,\n",
        "    train_score=train_wmae,\n",
        "    val_score=valid_wmae,\n",
        "    config=minimal_config,\n",
        "    run_name='group_stat_04',\n",
        "    artifact_name=\"group_stat_model\",\n",
        ")"
      ],
      "metadata": {
        "colab": {
          "base_uri": "https://localhost:8080/",
          "height": 677
        },
        "id": "6XwYMH-lAhnr",
        "outputId": "0ed50b3b-b1d5-48ff-a682-f0d2f2c95d68"
      },
      "execution_count": null,
      "outputs": [
        {
          "output_type": "stream",
          "name": "stderr",
          "text": [
            "/usr/local/lib/python3.11/dist-packages/sklearn/pipeline.py:62: FutureWarning: This Pipeline instance is not fitted yet. Call 'fit' with appropriate arguments before using other methods such as transform, predict, etc. This will raise an error in 1.8 instead of the current warning.\n",
            "  warnings.warn(\n",
            "/usr/local/lib/python3.11/dist-packages/sklearn/pipeline.py:62: FutureWarning: This Pipeline instance is not fitted yet. Call 'fit' with appropriate arguments before using other methods such as transform, predict, etc. This will raise an error in 1.8 instead of the current warning.\n",
            "  warnings.warn(\n"
          ]
        },
        {
          "output_type": "stream",
          "name": "stdout",
          "text": [
            "Train WMAE: 668.93\n"
          ]
        },
        {
          "output_type": "stream",
          "name": "stderr",
          "text": [
            "/usr/local/lib/python3.11/dist-packages/sklearn/pipeline.py:62: FutureWarning: This Pipeline instance is not fitted yet. Call 'fit' with appropriate arguments before using other methods such as transform, predict, etc. This will raise an error in 1.8 instead of the current warning.\n",
            "  warnings.warn(\n",
            "/usr/local/lib/python3.11/dist-packages/sklearn/pipeline.py:62: FutureWarning: This Pipeline instance is not fitted yet. Call 'fit' with appropriate arguments before using other methods such as transform, predict, etc. This will raise an error in 1.8 instead of the current warning.\n",
            "  warnings.warn(\n"
          ]
        },
        {
          "output_type": "stream",
          "name": "stdout",
          "text": [
            "Valid WMAE: 1661.68\n"
          ]
        },
        {
          "output_type": "stream",
          "name": "stderr",
          "text": [
            "\u001b[34m\u001b[1mwandb\u001b[0m: Currently logged in as: \u001b[33mzhorzholianimate\u001b[0m (\u001b[33mMLBeasts\u001b[0m) to \u001b[32mhttps://api.wandb.ai\u001b[0m. Use \u001b[1m`wandb login --relogin`\u001b[0m to force relogin\n"
          ]
        },
        {
          "output_type": "display_data",
          "data": {
            "text/plain": [
              "<IPython.core.display.HTML object>"
            ],
            "text/html": [
              "Tracking run with wandb version 0.20.1"
            ]
          },
          "metadata": {}
        },
        {
          "output_type": "display_data",
          "data": {
            "text/plain": [
              "<IPython.core.display.HTML object>"
            ],
            "text/html": [
              "Run data is saved locally in <code>/content/Walmart-Recruiting-Store-Sales-Forecasting/wandb/run-20250708_133450-sgyz07j1</code>"
            ]
          },
          "metadata": {}
        },
        {
          "output_type": "display_data",
          "data": {
            "text/plain": [
              "<IPython.core.display.HTML object>"
            ],
            "text/html": [
              "Syncing run <strong><a href='https://wandb.ai/MLBeasts/Walmart%20Recruiting%20-%20Store%20Sales%20Forecasting/runs/sgyz07j1' target=\"_blank\">group_stat_04</a></strong> to <a href='https://wandb.ai/MLBeasts/Walmart%20Recruiting%20-%20Store%20Sales%20Forecasting' target=\"_blank\">Weights & Biases</a> (<a href='https://wandb.me/developer-guide' target=\"_blank\">docs</a>)<br>"
            ]
          },
          "metadata": {}
        },
        {
          "output_type": "display_data",
          "data": {
            "text/plain": [
              "<IPython.core.display.HTML object>"
            ],
            "text/html": [
              " View project at <a href='https://wandb.ai/MLBeasts/Walmart%20Recruiting%20-%20Store%20Sales%20Forecasting' target=\"_blank\">https://wandb.ai/MLBeasts/Walmart%20Recruiting%20-%20Store%20Sales%20Forecasting</a>"
            ]
          },
          "metadata": {}
        },
        {
          "output_type": "display_data",
          "data": {
            "text/plain": [
              "<IPython.core.display.HTML object>"
            ],
            "text/html": [
              " View run at <a href='https://wandb.ai/MLBeasts/Walmart%20Recruiting%20-%20Store%20Sales%20Forecasting/runs/sgyz07j1' target=\"_blank\">https://wandb.ai/MLBeasts/Walmart%20Recruiting%20-%20Store%20Sales%20Forecasting/runs/sgyz07j1</a>"
            ]
          },
          "metadata": {}
        },
        {
          "output_type": "display_data",
          "data": {
            "text/plain": [
              "<IPython.core.display.HTML object>"
            ],
            "text/html": []
          },
          "metadata": {}
        },
        {
          "output_type": "display_data",
          "data": {
            "text/plain": [
              "<IPython.core.display.HTML object>"
            ],
            "text/html": [
              "<br>    <style><br>        .wandb-row {<br>            display: flex;<br>            flex-direction: row;<br>            flex-wrap: wrap;<br>            justify-content: flex-start;<br>            width: 100%;<br>        }<br>        .wandb-col {<br>            display: flex;<br>            flex-direction: column;<br>            flex-basis: 100%;<br>            flex: 1;<br>            padding: 10px;<br>        }<br>    </style><br><div class=\"wandb-row\"><div class=\"wandb-col\"><h3>Run history:</h3><br/><table class=\"wandb\"><tr><td>train_wmae</td><td>▁</td></tr><tr><td>val_wmae</td><td>▁</td></tr></table><br/></div><div class=\"wandb-col\"><h3>Run summary:</h3><br/><table class=\"wandb\"><tr><td>train_wmae</td><td>668.9271</td></tr><tr><td>val_wmae</td><td>1661.67501</td></tr></table><br/></div></div>"
            ]
          },
          "metadata": {}
        },
        {
          "output_type": "display_data",
          "data": {
            "text/plain": [
              "<IPython.core.display.HTML object>"
            ],
            "text/html": [
              " View run <strong style=\"color:#cdcd00\">group_stat_04</strong> at: <a href='https://wandb.ai/MLBeasts/Walmart%20Recruiting%20-%20Store%20Sales%20Forecasting/runs/sgyz07j1' target=\"_blank\">https://wandb.ai/MLBeasts/Walmart%20Recruiting%20-%20Store%20Sales%20Forecasting/runs/sgyz07j1</a><br> View project at: <a href='https://wandb.ai/MLBeasts/Walmart%20Recruiting%20-%20Store%20Sales%20Forecasting' target=\"_blank\">https://wandb.ai/MLBeasts/Walmart%20Recruiting%20-%20Store%20Sales%20Forecasting</a><br>Synced 5 W&B file(s), 0 media file(s), 2 artifact file(s) and 0 other file(s)"
            ]
          },
          "metadata": {}
        },
        {
          "output_type": "display_data",
          "data": {
            "text/plain": [
              "<IPython.core.display.HTML object>"
            ],
            "text/html": [
              "Find logs at: <code>./wandb/run-20250708_133450-sgyz07j1/logs</code>"
            ]
          },
          "metadata": {}
        }
      ]
    },
    {
      "cell_type": "markdown",
      "source": [
        "Based on our analysis above, we have implemented the final version of our group-based model: **`GeneralWalmartGroupSalesModel`**.\n",
        "\n",
        "The full implementation can be found in:\n",
        "\n",
        "```\n",
        "models/walmart_group_salesv2\n",
        "```"
      ],
      "metadata": {
        "id": "KNIrBtcwQvEX"
      }
    },
    {
      "cell_type": "code",
      "source": [
        "columns_to_drop=['MarkDown1', 'MarkDown2', 'MarkDown3', 'MarkDown4', 'MarkDown5']\n",
        "\n",
        "preprocess = Pipeline([\n",
        "    ('feature_adder', time_features.FeatureAdder(\n",
        "        add_week_num=True,\n",
        "        add_holiday_flags=True,\n",
        "        add_holiday_proximity=True,\n",
        "        add_holiday_windows=True,\n",
        "        add_fourier_features=True,\n",
        "        add_month_and_year=True,\n",
        "        replace_time_index=True\n",
        "    )),\n",
        "    ('object_to_cat', feature_transformers.ObjectToCategory()),\n",
        "    ('week_of_year_avg', time_features.WeeklyStoreDept()),\n",
        "    ('make_cat', feature_transformers.MakeCategorical(['Dept', 'Store'])),\n",
        "    ('drop_markdowns', feature_transformers.ChangeColumns(columns_to_drop=columns_to_drop)),\n",
        "])\n",
        "\n",
        "from models.walmart_group_salesv2 import GeneralWalmartGroupSalesModel\n",
        "\n",
        "pipeline = Pipeline([\n",
        "    ('preprocess', preprocess),\n",
        "    ('model', GeneralWalmartGroupSalesModel())\n",
        "])\n",
        "\n",
        "pipeline.fit(X_train, y_train)\n",
        "\n",
        "pred = pipeline.predict(X_train)\n",
        "train_wmae = compute_wmae(y_train, pred, is_holiday=X_train['IsHoliday'])\n",
        "print(f\"Train WMAE: {train_wmae:.2f}\")\n",
        "\n",
        "pred = pipeline.predict(X_valid)\n",
        "valid_wmae = compute_wmae(y_valid, pred, is_holiday=X_valid['IsHoliday'])\n",
        "print(f\"Valid WMAE: {valid_wmae:.2f}\")\n",
        "\n",
        "from configs.basic_config import minimal_config\n",
        "from src.utils import log_to_wandb\n",
        "\n",
        "log_to_wandb(\n",
        "    model=pipeline,\n",
        "    train_score=train_wmae,\n",
        "    val_score=valid_wmae,\n",
        "    config=minimal_config,\n",
        "    run_name='group_stat_05',\n",
        "    artifact_name=\"group_stat_model\",\n",
        ")"
      ],
      "metadata": {
        "colab": {
          "base_uri": "https://localhost:8080/",
          "height": 659
        },
        "id": "742BOq1pQNCY",
        "outputId": "1f11ec54-8915-4683-c9cd-15465a3e8730"
      },
      "execution_count": null,
      "outputs": [
        {
          "output_type": "stream",
          "name": "stderr",
          "text": [
            "/usr/local/lib/python3.11/dist-packages/sklearn/pipeline.py:62: FutureWarning: This Pipeline instance is not fitted yet. Call 'fit' with appropriate arguments before using other methods such as transform, predict, etc. This will raise an error in 1.8 instead of the current warning.\n",
            "  warnings.warn(\n",
            "/usr/local/lib/python3.11/dist-packages/sklearn/pipeline.py:62: FutureWarning: This Pipeline instance is not fitted yet. Call 'fit' with appropriate arguments before using other methods such as transform, predict, etc. This will raise an error in 1.8 instead of the current warning.\n",
            "  warnings.warn(\n"
          ]
        },
        {
          "output_type": "stream",
          "name": "stdout",
          "text": [
            "Train WMAE: 668.93\n"
          ]
        },
        {
          "output_type": "stream",
          "name": "stderr",
          "text": [
            "/usr/local/lib/python3.11/dist-packages/sklearn/pipeline.py:62: FutureWarning: This Pipeline instance is not fitted yet. Call 'fit' with appropriate arguments before using other methods such as transform, predict, etc. This will raise an error in 1.8 instead of the current warning.\n",
            "  warnings.warn(\n",
            "/usr/local/lib/python3.11/dist-packages/sklearn/pipeline.py:62: FutureWarning: This Pipeline instance is not fitted yet. Call 'fit' with appropriate arguments before using other methods such as transform, predict, etc. This will raise an error in 1.8 instead of the current warning.\n",
            "  warnings.warn(\n"
          ]
        },
        {
          "output_type": "stream",
          "name": "stdout",
          "text": [
            "Valid WMAE: 1661.68\n"
          ]
        },
        {
          "output_type": "display_data",
          "data": {
            "text/plain": [
              "<IPython.core.display.HTML object>"
            ],
            "text/html": [
              "Tracking run with wandb version 0.20.1"
            ]
          },
          "metadata": {}
        },
        {
          "output_type": "display_data",
          "data": {
            "text/plain": [
              "<IPython.core.display.HTML object>"
            ],
            "text/html": [
              "Run data is saved locally in <code>/content/Walmart-Recruiting-Store-Sales-Forecasting/wandb/run-20250708_134000-uxsx4lyh</code>"
            ]
          },
          "metadata": {}
        },
        {
          "output_type": "display_data",
          "data": {
            "text/plain": [
              "<IPython.core.display.HTML object>"
            ],
            "text/html": [
              "Syncing run <strong><a href='https://wandb.ai/MLBeasts/Walmart%20Recruiting%20-%20Store%20Sales%20Forecasting/runs/uxsx4lyh' target=\"_blank\">group_stat_05</a></strong> to <a href='https://wandb.ai/MLBeasts/Walmart%20Recruiting%20-%20Store%20Sales%20Forecasting' target=\"_blank\">Weights & Biases</a> (<a href='https://wandb.me/developer-guide' target=\"_blank\">docs</a>)<br>"
            ]
          },
          "metadata": {}
        },
        {
          "output_type": "display_data",
          "data": {
            "text/plain": [
              "<IPython.core.display.HTML object>"
            ],
            "text/html": [
              " View project at <a href='https://wandb.ai/MLBeasts/Walmart%20Recruiting%20-%20Store%20Sales%20Forecasting' target=\"_blank\">https://wandb.ai/MLBeasts/Walmart%20Recruiting%20-%20Store%20Sales%20Forecasting</a>"
            ]
          },
          "metadata": {}
        },
        {
          "output_type": "display_data",
          "data": {
            "text/plain": [
              "<IPython.core.display.HTML object>"
            ],
            "text/html": [
              " View run at <a href='https://wandb.ai/MLBeasts/Walmart%20Recruiting%20-%20Store%20Sales%20Forecasting/runs/uxsx4lyh' target=\"_blank\">https://wandb.ai/MLBeasts/Walmart%20Recruiting%20-%20Store%20Sales%20Forecasting/runs/uxsx4lyh</a>"
            ]
          },
          "metadata": {}
        },
        {
          "output_type": "display_data",
          "data": {
            "text/plain": [
              "<IPython.core.display.HTML object>"
            ],
            "text/html": []
          },
          "metadata": {}
        },
        {
          "output_type": "display_data",
          "data": {
            "text/plain": [
              "<IPython.core.display.HTML object>"
            ],
            "text/html": [
              "<br>    <style><br>        .wandb-row {<br>            display: flex;<br>            flex-direction: row;<br>            flex-wrap: wrap;<br>            justify-content: flex-start;<br>            width: 100%;<br>        }<br>        .wandb-col {<br>            display: flex;<br>            flex-direction: column;<br>            flex-basis: 100%;<br>            flex: 1;<br>            padding: 10px;<br>        }<br>    </style><br><div class=\"wandb-row\"><div class=\"wandb-col\"><h3>Run history:</h3><br/><table class=\"wandb\"><tr><td>train_wmae</td><td>▁</td></tr><tr><td>val_wmae</td><td>▁</td></tr></table><br/></div><div class=\"wandb-col\"><h3>Run summary:</h3><br/><table class=\"wandb\"><tr><td>train_wmae</td><td>668.9271</td></tr><tr><td>val_wmae</td><td>1661.67501</td></tr></table><br/></div></div>"
            ]
          },
          "metadata": {}
        },
        {
          "output_type": "display_data",
          "data": {
            "text/plain": [
              "<IPython.core.display.HTML object>"
            ],
            "text/html": [
              " View run <strong style=\"color:#cdcd00\">group_stat_05</strong> at: <a href='https://wandb.ai/MLBeasts/Walmart%20Recruiting%20-%20Store%20Sales%20Forecasting/runs/uxsx4lyh' target=\"_blank\">https://wandb.ai/MLBeasts/Walmart%20Recruiting%20-%20Store%20Sales%20Forecasting/runs/uxsx4lyh</a><br> View project at: <a href='https://wandb.ai/MLBeasts/Walmart%20Recruiting%20-%20Store%20Sales%20Forecasting' target=\"_blank\">https://wandb.ai/MLBeasts/Walmart%20Recruiting%20-%20Store%20Sales%20Forecasting</a><br>Synced 5 W&B file(s), 0 media file(s), 2 artifact file(s) and 0 other file(s)"
            ]
          },
          "metadata": {}
        },
        {
          "output_type": "display_data",
          "data": {
            "text/plain": [
              "<IPython.core.display.HTML object>"
            ],
            "text/html": [
              "Find logs at: <code>./wandb/run-20250708_134000-uxsx4lyh/logs</code>"
            ]
          },
          "metadata": {}
        }
      ]
    },
    {
      "cell_type": "markdown",
      "source": [
        "# Deep Learning with GroupStat"
      ],
      "metadata": {
        "id": "8RNwMy3DRQrg"
      }
    },
    {
      "cell_type": "markdown",
      "source": [
        "Now, we will combine our developed **deep learning models** with the **GroupStat** model to create an ensemble.\n",
        "\n",
        "This approach makes intuitive sense because:\n",
        "\n",
        "- The **deep learning models** primarily learn from **pure time series trends**, without using any engineered features.\n",
        "- The **GroupStat model**, on the other hand, is based entirely on **feature engineering** and captures patterns from group-level statistics and external variables."
      ],
      "metadata": {
        "id": "E0i6ZZb5RUnz"
      }
    },
    {
      "cell_type": "markdown",
      "source": [
        "First, we will use the model implemented in:\n",
        "\n",
        "```\n",
        "models/deep_walmart_group_sales\n",
        "```\n",
        "\n",
        "Specifically, the `DeepWalmartGroupSales` class.\n",
        "\n",
        "This model is a **hybrid ensemble** that combines a pre-assembled group of **deep neural network models** and the **GroupStat** model."
      ],
      "metadata": {
        "id": "o5CIy_AxHGEg"
      }
    },
    {
      "cell_type": "code",
      "source": [
        "from models import deep_walmart_group_sales\n",
        "import importlib\n",
        "importlib.reload(deep_walmart_group_sales)\n",
        "\n",
        "from models.deep_walmart_group_sales import DeepWalmartGroupSales\n",
        "final_model = DeepWalmartGroupSales()\n",
        "final_model.fit(X_train,y_train)\n",
        "pred = final_model.predict(X_valid)\n",
        "valid_wmae = compute_wmae(y_valid, pred, is_holiday=X_valid['IsHoliday'])\n",
        "print(f\"Valid WMAE: {valid_wmae:.2f}\")"
      ],
      "metadata": {
        "colab": {
          "base_uri": "https://localhost:8080/"
        },
        "id": "-d-OA5gbU02s",
        "outputId": "843cf5e6-55d0-4fca-f56d-256875f57301"
      },
      "execution_count": null,
      "outputs": [
        {
          "output_type": "stream",
          "name": "stderr",
          "text": [
            "/usr/local/lib/python3.11/dist-packages/sklearn/pipeline.py:62: FutureWarning: This Pipeline instance is not fitted yet. Call 'fit' with appropriate arguments before using other methods such as transform, predict, etc. This will raise an error in 1.8 instead of the current warning.\n",
            "  warnings.warn(\n"
          ]
        },
        {
          "output_type": "stream",
          "name": "stdout",
          "text": [
            "Valid WMAE: 1465.58\n"
          ]
        },
        {
          "output_type": "stream",
          "name": "stderr",
          "text": [
            "/usr/local/lib/python3.11/dist-packages/sklearn/pipeline.py:62: FutureWarning: This Pipeline instance is not fitted yet. Call 'fit' with appropriate arguments before using other methods such as transform, predict, etc. This will raise an error in 1.8 instead of the current warning.\n",
            "  warnings.warn(\n"
          ]
        }
      ]
    },
    {
      "cell_type": "code",
      "source": [
        "from models import deep_walmart_group_sales\n",
        "import importlib\n",
        "importlib.reload(deep_walmart_group_sales)\n",
        "\n",
        "from models.deep_walmart_group_sales import DeepWalmartGroupSales\n",
        "final_model = DeepWalmartGroupSales()\n",
        "final_model.fit(df.drop(columns=['Weekly_Sales']), df['Weekly_Sales'])\n",
        "\n",
        "from configs.basic_config import minimal_config\n",
        "from src.utils import log_to_wandb\n",
        "\n",
        "log_to_wandb(\n",
        "    model=final_model,\n",
        "    train_score=-1,\n",
        "    val_score=1465.58,\n",
        "    config=minimal_config,\n",
        "    run_name='group_stat_deep_learning_02',\n",
        "    artifact_name=\"group_stat_model\",\n",
        "    artifact_description=\"Implementation can be found at github. This Model is spacific Have many parameters not logged here.\"\n",
        ")"
      ],
      "metadata": {
        "id": "g3yzULUVXN8n",
        "colab": {
          "base_uri": "https://localhost:8080/",
          "height": 466
        },
        "outputId": "d5db42e7-1d68-430c-f36e-b5cccd3473b1"
      },
      "execution_count": 10,
      "outputs": [
        {
          "output_type": "stream",
          "name": "stderr",
          "text": [
            "\u001b[34m\u001b[1mwandb\u001b[0m: Currently logged in as: \u001b[33mzhorzholianimate\u001b[0m (\u001b[33mMLBeasts\u001b[0m) to \u001b[32mhttps://api.wandb.ai\u001b[0m. Use \u001b[1m`wandb login --relogin`\u001b[0m to force relogin\n"
          ]
        },
        {
          "output_type": "display_data",
          "data": {
            "text/plain": [
              "<IPython.core.display.HTML object>"
            ],
            "text/html": [
              "Tracking run with wandb version 0.20.1"
            ]
          },
          "metadata": {}
        },
        {
          "output_type": "display_data",
          "data": {
            "text/plain": [
              "<IPython.core.display.HTML object>"
            ],
            "text/html": [
              "Run data is saved locally in <code>/content/Walmart-Recruiting-Store-Sales-Forecasting/wandb/run-20250708_154202-gsdbhe0z</code>"
            ]
          },
          "metadata": {}
        },
        {
          "output_type": "display_data",
          "data": {
            "text/plain": [
              "<IPython.core.display.HTML object>"
            ],
            "text/html": [
              "Syncing run <strong><a href='https://wandb.ai/MLBeasts/Walmart%20Recruiting%20-%20Store%20Sales%20Forecasting/runs/gsdbhe0z' target=\"_blank\">group_stat_deep_learning_02</a></strong> to <a href='https://wandb.ai/MLBeasts/Walmart%20Recruiting%20-%20Store%20Sales%20Forecasting' target=\"_blank\">Weights & Biases</a> (<a href='https://wandb.me/developer-guide' target=\"_blank\">docs</a>)<br>"
            ]
          },
          "metadata": {}
        },
        {
          "output_type": "display_data",
          "data": {
            "text/plain": [
              "<IPython.core.display.HTML object>"
            ],
            "text/html": [
              " View project at <a href='https://wandb.ai/MLBeasts/Walmart%20Recruiting%20-%20Store%20Sales%20Forecasting' target=\"_blank\">https://wandb.ai/MLBeasts/Walmart%20Recruiting%20-%20Store%20Sales%20Forecasting</a>"
            ]
          },
          "metadata": {}
        },
        {
          "output_type": "display_data",
          "data": {
            "text/plain": [
              "<IPython.core.display.HTML object>"
            ],
            "text/html": [
              " View run at <a href='https://wandb.ai/MLBeasts/Walmart%20Recruiting%20-%20Store%20Sales%20Forecasting/runs/gsdbhe0z' target=\"_blank\">https://wandb.ai/MLBeasts/Walmart%20Recruiting%20-%20Store%20Sales%20Forecasting/runs/gsdbhe0z</a>"
            ]
          },
          "metadata": {}
        },
        {
          "output_type": "display_data",
          "data": {
            "text/plain": [
              "<IPython.core.display.HTML object>"
            ],
            "text/html": []
          },
          "metadata": {}
        },
        {
          "output_type": "display_data",
          "data": {
            "text/plain": [
              "<IPython.core.display.HTML object>"
            ],
            "text/html": [
              "<br>    <style><br>        .wandb-row {<br>            display: flex;<br>            flex-direction: row;<br>            flex-wrap: wrap;<br>            justify-content: flex-start;<br>            width: 100%;<br>        }<br>        .wandb-col {<br>            display: flex;<br>            flex-direction: column;<br>            flex-basis: 100%;<br>            flex: 1;<br>            padding: 10px;<br>        }<br>    </style><br><div class=\"wandb-row\"><div class=\"wandb-col\"><h3>Run history:</h3><br/><table class=\"wandb\"><tr><td>train_wmae</td><td>▁</td></tr><tr><td>val_wmae</td><td>▁</td></tr></table><br/></div><div class=\"wandb-col\"><h3>Run summary:</h3><br/><table class=\"wandb\"><tr><td>train_wmae</td><td>-1</td></tr><tr><td>val_wmae</td><td>1465.58</td></tr></table><br/></div></div>"
            ]
          },
          "metadata": {}
        },
        {
          "output_type": "display_data",
          "data": {
            "text/plain": [
              "<IPython.core.display.HTML object>"
            ],
            "text/html": [
              " View run <strong style=\"color:#cdcd00\">group_stat_deep_learning_02</strong> at: <a href='https://wandb.ai/MLBeasts/Walmart%20Recruiting%20-%20Store%20Sales%20Forecasting/runs/gsdbhe0z' target=\"_blank\">https://wandb.ai/MLBeasts/Walmart%20Recruiting%20-%20Store%20Sales%20Forecasting/runs/gsdbhe0z</a><br> View project at: <a href='https://wandb.ai/MLBeasts/Walmart%20Recruiting%20-%20Store%20Sales%20Forecasting' target=\"_blank\">https://wandb.ai/MLBeasts/Walmart%20Recruiting%20-%20Store%20Sales%20Forecasting</a><br>Synced 5 W&B file(s), 0 media file(s), 2 artifact file(s) and 0 other file(s)"
            ]
          },
          "metadata": {}
        },
        {
          "output_type": "display_data",
          "data": {
            "text/plain": [
              "<IPython.core.display.HTML object>"
            ],
            "text/html": [
              "Find logs at: <code>./wandb/run-20250708_154202-gsdbhe0z/logs</code>"
            ]
          },
          "metadata": {}
        }
      ]
    },
    {
      "cell_type": "markdown",
      "source": [
        "# Full Implementation"
      ],
      "metadata": {
        "id": "uBggBFW-H1zo"
      }
    },
    {
      "cell_type": "markdown",
      "source": [
        "In this section, we present the **full implementation** of our core idea:  \n",
        "the **assembly of a hybrid model** that combines deep learning architectures with the **GroupStat** model."
      ],
      "metadata": {
        "id": "1UqkSXdKHacm"
      }
    },
    {
      "cell_type": "markdown",
      "source": [
        "The following class will be used to assemble multiple models into a combined ensemble."
      ],
      "metadata": {
        "id": "kALQrG0eR-Jx"
      }
    },
    {
      "cell_type": "code",
      "source": [
        "from sklearn.base import BaseEstimator, RegressorMixin\n",
        "class NNAssemble(BaseEstimator,RegressorMixin):\n",
        "  def __init__(self, models):\n",
        "    self.models = models\n",
        "\n",
        "  def fit(self, X, y):\n",
        "    for model in self.models:\n",
        "      model.fit(X, y)\n",
        "\n",
        "    return self\n",
        "\n",
        "  def predict(self, X):\n",
        "    predictions = [model.predict(X) for model in self.models]\n",
        "    return np.mean(predictions, axis=0)"
      ],
      "metadata": {
        "id": "TEnWZKWHR3BM"
      },
      "execution_count": 14,
      "outputs": []
    },
    {
      "cell_type": "markdown",
      "source": [
        "Recall from the notebook assembly, the top-performing deep learning models we developed:"
      ],
      "metadata": {
        "id": "cekgD4ExSKB3"
      }
    },
    {
      "cell_type": "code",
      "source": [
        "from neuralforecast.models import NBEATS\n",
        "from neuralforecast.models import DLinear\n",
        "from neuralforecast.models import PatchTST\n",
        "from neuralforecast.models import TFT\n",
        "from models.neural_forecast_models import NeuralForecastModels\n",
        "from src.utils import wmae as compute_wmae\n",
        "import logging\n",
        "import torch\n",
        "\n",
        "logging.getLogger().setLevel(logging.WARNING)\n",
        "logging.getLogger(\"neuralforecast\").setLevel(logging.WARNING)\n",
        "logging.getLogger(\"pytorch_lightning\").setLevel(logging.WARNING)\n",
        "logging.getLogger(\"lightning_fabric\").setLevel(logging.WARNING)\n",
        "\n",
        "model = NBEATS(\n",
        "    max_steps= 25 * 104,\n",
        "    h= 53,\n",
        "    random_seed= 42,\n",
        "    input_size=52,\n",
        "    batch_size= 256,\n",
        "    learning_rate= 1e-3,\n",
        "    shared_weights=True,\n",
        "    optimizer= torch.optim.AdamW,\n",
        "    activation = 'ReLU',\n",
        "    enable_progress_bar = False\n",
        ")\n",
        "nbeats_model = NeuralForecastModels(models=[model], model_names=['NBEATS'], freq='W-FRI', one_model=True)\n",
        "\n",
        "\n",
        "model = DLinear(\n",
        "    max_steps= 25 * 104,\n",
        "    h= 53,\n",
        "    random_seed= 42,\n",
        "    input_size=60,\n",
        "    batch_size= 512,\n",
        "    learning_rate= 1e-2,\n",
        "    optimizer= torch.optim.Adagrad,\n",
        "    scaler_type= 'robust',\n",
        "    enable_progress_bar=False,\n",
        "    enable_model_summary=False\n",
        ")\n",
        "dlinear_model = NeuralForecastModels(models=[model], model_names=['DLinear'], freq='W-FRI', one_model=True)\n",
        "\n",
        "\n",
        "model = PatchTST(\n",
        "    input_size=52,\n",
        "    dropout = 0.2,\n",
        "    h=53,\n",
        "    max_steps= 60 * 104,\n",
        "    batch_size=64,\n",
        "    random_seed=42,\n",
        "    activation='relu',\n",
        "    enable_progress_bar=False,\n",
        "    enable_model_summary=False,\n",
        ")\n",
        "patchtst_model = NeuralForecastModels(models=[model], model_names=['PatchTST'], freq='W-FRI', one_model=True)\n",
        "\n",
        "model = TFT(\n",
        "    input_size=60,\n",
        "    dropout = 0.1,\n",
        "    h=53,\n",
        "    max_steps= 20 * 104,\n",
        "    random_seed=42,\n",
        "    enable_progress_bar=False,\n",
        "    enable_model_summary=False,\n",
        ")\n",
        "tft_model = NeuralForecastModels(models=[model], model_names=['TFT'], freq='W-FRI', one_model=True)"
      ],
      "metadata": {
        "id": "7B9fw4jrSKpl"
      },
      "execution_count": 15,
      "outputs": []
    },
    {
      "cell_type": "markdown",
      "source": [
        "In this notebook, we found that the most effective GroupStat model is the one described below."
      ],
      "metadata": {
        "id": "HmYL6bD9H93L"
      }
    },
    {
      "cell_type": "code",
      "source": [
        "from sklearn.pipeline import Pipeline\n",
        "from xgboost import XGBRegressor\n",
        "from lightgbm import LGBMRegressor\n",
        "from feature_engineering import feature_transformers, time_features\n",
        "from models.group_stat import GroupStatModel\n",
        "\n",
        "columns_to_drop=['MarkDown1', 'MarkDown2', 'MarkDown3', 'MarkDown4', 'MarkDown5']\n",
        "\n",
        "preprocess = Pipeline([\n",
        "    ('feature_adder', time_features.FeatureAdder(\n",
        "        add_week_num=True,\n",
        "        add_holiday_flags=True,\n",
        "        add_holiday_proximity=True,\n",
        "        add_holiday_windows=True,\n",
        "        add_fourier_features=True,\n",
        "        add_month_and_year=True,\n",
        "        replace_time_index=True\n",
        "    )),\n",
        "    ('object_to_cat', feature_transformers.ObjectToCategory()),\n",
        "    ('week_of_year_avg', time_features.WeeklyStoreDept()),\n",
        "    ('make_cat', feature_transformers.MakeCategorical(['Dept', 'Store'])),\n",
        "    ('drop_markdowns', feature_transformers.ChangeColumns(columns_to_drop=columns_to_drop)),\n",
        "])\n",
        "\n",
        "from models.walmart_group_salesv2 import GeneralWalmartGroupSalesModel\n",
        "\n",
        "group_stat = Pipeline([\n",
        "    ('preprocess', preprocess),\n",
        "    ('model', GeneralWalmartGroupSalesModel())\n",
        "])"
      ],
      "metadata": {
        "id": "EfDHgs8wSzkG"
      },
      "execution_count": 19,
      "outputs": []
    },
    {
      "cell_type": "markdown",
      "source": [
        "We proceed by combining the selected models into a single ensemble. The composition of this combined model is shown below."
      ],
      "metadata": {
        "id": "WyJq9ASRIXHi"
      }
    },
    {
      "cell_type": "code",
      "source": [
        "amodel = NNAssemble([nbeats_model,patchtst_model,tft_model,dlinear_model])\n",
        "final_model = NNAssemble([amodel, group_stat])\n",
        "final_model.fit(X_train,y_train)\n",
        "pred = final_model.predict(X_valid)\n",
        "valid_wmae = compute_wmae(y_valid, pred, is_holiday=X_valid['IsHoliday'])\n",
        "print(f\"Valid WMAE: {valid_wmae:.2f}\")"
      ],
      "metadata": {
        "id": "NQ1prAosSdPm"
      },
      "execution_count": 39,
      "outputs": []
    },
    {
      "cell_type": "code",
      "source": [
        "from models import deep_walmart_group_sales\n",
        "import importlib\n",
        "importlib.reload(deep_walmart_group_sales)\n",
        "\n",
        "final_model.fit(df.drop(columns=['Weekly_Sales']), df['Weekly_Sales'])\n",
        "\n",
        "from configs.basic_config import minimal_config\n",
        "from src.utils import log_to_wandb\n",
        "\n",
        "log_to_wandb(\n",
        "    model=final_model,\n",
        "    train_score=-1,\n",
        "    val_score=1470.43,\n",
        "    config=minimal_config,\n",
        "    run_name='group_stat_deep_learning_05',\n",
        "    artifact_name=\"group_stat_model\",\n",
        "    artifact_description=\"\"\n",
        ")"
      ],
      "metadata": {
        "colab": {
          "base_uri": "https://localhost:8080/",
          "height": 448
        },
        "id": "HL7NG5iFzVQM",
        "outputId": "a88295d9-0731-4f8f-c6a3-6928b6bcc7e5"
      },
      "execution_count": 40,
      "outputs": [
        {
          "output_type": "display_data",
          "data": {
            "text/plain": [
              "<IPython.core.display.HTML object>"
            ],
            "text/html": [
              "Tracking run with wandb version 0.20.1"
            ]
          },
          "metadata": {}
        },
        {
          "output_type": "display_data",
          "data": {
            "text/plain": [
              "<IPython.core.display.HTML object>"
            ],
            "text/html": [
              "Run data is saved locally in <code>/content/Walmart-Recruiting-Store-Sales-Forecasting/wandb/run-20250708_164913-z7hgt87i</code>"
            ]
          },
          "metadata": {}
        },
        {
          "output_type": "display_data",
          "data": {
            "text/plain": [
              "<IPython.core.display.HTML object>"
            ],
            "text/html": [
              "Syncing run <strong><a href='https://wandb.ai/MLBeasts/Walmart%20Recruiting%20-%20Store%20Sales%20Forecasting/runs/z7hgt87i' target=\"_blank\">group_stat_deep_learning_05</a></strong> to <a href='https://wandb.ai/MLBeasts/Walmart%20Recruiting%20-%20Store%20Sales%20Forecasting' target=\"_blank\">Weights & Biases</a> (<a href='https://wandb.me/developer-guide' target=\"_blank\">docs</a>)<br>"
            ]
          },
          "metadata": {}
        },
        {
          "output_type": "display_data",
          "data": {
            "text/plain": [
              "<IPython.core.display.HTML object>"
            ],
            "text/html": [
              " View project at <a href='https://wandb.ai/MLBeasts/Walmart%20Recruiting%20-%20Store%20Sales%20Forecasting' target=\"_blank\">https://wandb.ai/MLBeasts/Walmart%20Recruiting%20-%20Store%20Sales%20Forecasting</a>"
            ]
          },
          "metadata": {}
        },
        {
          "output_type": "display_data",
          "data": {
            "text/plain": [
              "<IPython.core.display.HTML object>"
            ],
            "text/html": [
              " View run at <a href='https://wandb.ai/MLBeasts/Walmart%20Recruiting%20-%20Store%20Sales%20Forecasting/runs/z7hgt87i' target=\"_blank\">https://wandb.ai/MLBeasts/Walmart%20Recruiting%20-%20Store%20Sales%20Forecasting/runs/z7hgt87i</a>"
            ]
          },
          "metadata": {}
        },
        {
          "output_type": "display_data",
          "data": {
            "text/plain": [
              "<IPython.core.display.HTML object>"
            ],
            "text/html": []
          },
          "metadata": {}
        },
        {
          "output_type": "display_data",
          "data": {
            "text/plain": [
              "<IPython.core.display.HTML object>"
            ],
            "text/html": [
              "<br>    <style><br>        .wandb-row {<br>            display: flex;<br>            flex-direction: row;<br>            flex-wrap: wrap;<br>            justify-content: flex-start;<br>            width: 100%;<br>        }<br>        .wandb-col {<br>            display: flex;<br>            flex-direction: column;<br>            flex-basis: 100%;<br>            flex: 1;<br>            padding: 10px;<br>        }<br>    </style><br><div class=\"wandb-row\"><div class=\"wandb-col\"><h3>Run history:</h3><br/><table class=\"wandb\"><tr><td>train_wmae</td><td>▁</td></tr><tr><td>val_wmae</td><td>▁</td></tr></table><br/></div><div class=\"wandb-col\"><h3>Run summary:</h3><br/><table class=\"wandb\"><tr><td>train_wmae</td><td>-1</td></tr><tr><td>val_wmae</td><td>1470.43</td></tr></table><br/></div></div>"
            ]
          },
          "metadata": {}
        },
        {
          "output_type": "display_data",
          "data": {
            "text/plain": [
              "<IPython.core.display.HTML object>"
            ],
            "text/html": [
              " View run <strong style=\"color:#cdcd00\">group_stat_deep_learning_05</strong> at: <a href='https://wandb.ai/MLBeasts/Walmart%20Recruiting%20-%20Store%20Sales%20Forecasting/runs/z7hgt87i' target=\"_blank\">https://wandb.ai/MLBeasts/Walmart%20Recruiting%20-%20Store%20Sales%20Forecasting/runs/z7hgt87i</a><br> View project at: <a href='https://wandb.ai/MLBeasts/Walmart%20Recruiting%20-%20Store%20Sales%20Forecasting' target=\"_blank\">https://wandb.ai/MLBeasts/Walmart%20Recruiting%20-%20Store%20Sales%20Forecasting</a><br>Synced 5 W&B file(s), 0 media file(s), 2 artifact file(s) and 0 other file(s)"
            ]
          },
          "metadata": {}
        },
        {
          "output_type": "display_data",
          "data": {
            "text/plain": [
              "<IPython.core.display.HTML object>"
            ],
            "text/html": [
              "Find logs at: <code>./wandb/run-20250708_164913-z7hgt87i/logs</code>"
            ]
          },
          "metadata": {}
        }
      ]
    }
  ]
}
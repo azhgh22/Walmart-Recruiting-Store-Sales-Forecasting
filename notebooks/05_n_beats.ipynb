{
 "cells": [
  {
   "cell_type": "markdown",
   "id": "b017ecf7",
   "metadata": {},
   "source": [
    "<a href=\"https://colab.research.google.com/github/azhgh22/Walmart-Recruiting-Store-Sales-Forecasting/blob/main/notebooks/n_beats.ipynb\" target=\"_parent\"><img src=\"https://colab.research.google.com/assets/colab-badge.svg\" alt=\"Open In Colab\"/></a>"
   ]
  },
  {
   "cell_type": "code",
   "execution_count": null,
   "id": "7d15095e",
   "metadata": {},
   "outputs": [],
   "source": [
    "%%capture\n",
    "from google.colab import drive\n",
    "drive.mount('/content/drive')\n",
    "\n",
    "from google.colab import userdata\n",
    "token = userdata.get('GITHUB_TOKEN')\n",
    "user_name = userdata.get('GITHUB_USERNAME')\n",
    "mail = userdata.get('GITHUB_MAIL')\n",
    "\n",
    "!git config --global user.name \"{user_name}\"\n",
    "!git config --global user.email \"{mail}\"\n",
    "!git clone https://{token}@github.com/azhgh22/Walmart-Recruiting-Store-Sales-Forecasting.git\n",
    "\n",
    "%cd Walmart-Recruiting-Store-Sales-Forecasting\n",
    "\n",
    "from google.colab import userdata\n",
    "! pip install -r ./requirements.txt\n",
    "kaggle_json_path = userdata.get('KAGGLE_JSON_PATH')\n",
    "! ./src/data_loader.sh -f {kaggle_json_path}"
   ]
  },
  {
   "cell_type": "markdown",
   "id": "c9d2c2ce",
   "metadata": {},
   "source": [
    "# **Read Data**"
   ]
  },
  {
   "cell_type": "code",
   "execution_count": null,
   "id": "843b7718",
   "metadata": {},
   "outputs": [
    {
     "name": "stdout",
     "output_type": "stream",
     "text": [
      "Data loading complete.\n",
      "Shapes of train_df and valid_df: (337256, 4), (84314, 4)\n"
     ]
    }
   ],
   "source": [
    "# **Torch**\n",
    "\n",
    "import pandas as pd\n",
    "import numpy as np\n",
    "import matplotlib.pyplot as plt\n",
    "import seaborn as sns\n",
    "from sklearn.base import BaseEstimator, TransformerMixin\n",
    "import torch\n",
    "from neuralforecast import NeuralForecast\n",
    "from neuralforecast.models import NBEATS\n",
    "from neuralforecast.losses.pytorch import MSE\n",
    "\n",
    "from src.config import *\n",
    "\n",
    "stores = pd.read_csv(STORES_PATH)\n",
    "features = pd.read_csv(FEATURES_PATH)\n",
    "train = pd.read_csv(TRAIN_PATH)\n",
    "test = pd.read_csv(TEST_PATH)\n",
    "\n",
    "from src import data_loader, processing\n",
    "import importlib\n",
    "importlib.reload(processing)\n",
    "\n",
    "dataframes = data_loader.load_raw_data()\n",
    "df = processing.run_preprocessing(dataframes, process_test=False, merge_features=False, merge_stores=False)['train']\n",
    "X_train, y_train, X_valid, y_valid = processing.split_data_by_ratio(df, separate_target=True)\n",
    "\n",
    "print(f\"Shapes of train_df and valid_df: {X_train.shape}, {X_valid.shape}\")"
   ]
  },
  {
   "cell_type": "markdown",
   "id": "946a406f",
   "metadata": {},
   "source": [
    "# **Custom NBEATS**"
   ]
  },
  {
   "cell_type": "code",
   "execution_count": null,
   "id": "209d3c59",
   "metadata": {},
   "outputs": [],
   "source": [
    "class CustomNBEATS(NBEATS):\n",
    "    def __init__(self, *args, **kwargs):\n",
    "        super().__init__(*args, **kwargs)\n",
    "        self.optimizer = torch.optim.AdamW(self.parameters(), lr=1e-3)\n",
    "        self.scheduler = torch.optim.lr_scheduler.StepLR(self.optimizer, step_size=10, gamma=0.9)\n",
    "\n",
    "    def set_optim(self,optimizer):\n",
    "      self.optimizer = optimizer\n",
    "      return self\n",
    "\n",
    "    def set_scheduler(self,scheduler):\n",
    "      self.scheduler = scheduler\n",
    "      return self\n",
    "\n",
    "    def configure_optimizers(self):\n",
    "        # Define your custom optimizer here\n",
    "        optimizer = self.optimizer #torch.optim.AdamW(self.parameters(), lr=1e-3)\n",
    "\n",
    "        # Optional: add scheduler if needed\n",
    "        scheduler = self.scheduler #torch.optim.lr_scheduler.StepLR(optimizer, step_size=10, gamma=0.9)\n",
    "\n",
    "        return {\n",
    "            'optimizer': optimizer,\n",
    "            'lr_scheduler': {\n",
    "                'scheduler': scheduler,\n",
    "                'interval': 'epoch',\n",
    "                'frequency': 1\n",
    "            }\n",
    "        }"
   ]
  },
  {
   "cell_type": "code",
   "execution_count": null,
   "id": "3df84dad",
   "metadata": {},
   "outputs": [],
   "source": [
    "from itertools import product\n",
    "from neuralforecast.models import PatchTST\n",
    "from models.neural_forecast_models import NeuralForecastModels\n",
    "from src.utils import wmae as compute_wmae\n",
    "import logging\n",
    "\n",
    "logging.getLogger().setLevel(logging.WARNING)\n",
    "logging.getLogger(\"neuralforecast\").setLevel(logging.WARNING)\n",
    "logging.getLogger(\"pytorch_lightning\").setLevel(logging.WARNING)\n",
    "logging.getLogger(\"lightning_fabric\").setLevel(logging.WARNING)\n",
    "\n",
    "def run_nbeats_cv(X_train, y_train, X_valid, y_valid,\n",
    "                            param_grid,\n",
    "                            fixed_params,\n",
    "                            return_all=False):\n",
    "    results = []\n",
    "\n",
    "    keys, values = zip(*param_grid.items())\n",
    "    for vals in product(*values):\n",
    "        params = dict(zip(keys, vals))\n",
    "        params.update(fixed_params)\n",
    "\n",
    "        params['enable_progress_bar'] = False\n",
    "        params['enable_model_summary'] = False\n",
    "\n",
    "        model = NBEATS(**params)\n",
    "\n",
    "        nf_model = NeuralForecastModels(models=[model], model_names=['NBEATS'], freq='W-FRI', one_model=True)\n",
    "        nf_model.fit(X_train, y_train)\n",
    "        y_pred = nf_model.predict(X_valid)\n",
    "        score = compute_wmae(y_valid, y_pred, X_valid['IsHoliday'])\n",
    "\n",
    "        result = {'wmae': score, 'preds': y_pred}\n",
    "        result.update(params)\n",
    "\n",
    "        results.append(result)\n",
    "        print(\" → \".join(f\"{k}={v}\" for k,v in params.items() if k not in ['enable_progress_bar','enable_model_summary']) + f\" → WMAE={score:.4f}\")\n",
    "\n",
    "    if return_all:\n",
    "        return results\n",
    "    else:\n",
    "        return min(results, key=lambda r: r['wmae'])"
   ]
  },
  {
   "cell_type": "markdown",
   "id": "abd8cbae",
   "metadata": {},
   "source": [
    "# **Tune input_size**"
   ]
  },
  {
   "cell_type": "code",
   "execution_count": null,
   "id": "9e7654d8",
   "metadata": {},
   "outputs": [
    {
     "name": "stdout",
     "output_type": "stream",
     "text": [
      "input_size=40 → max_steps=2600 → h=53 → random_seed=42 → batch_size=64 → WMAE=1697.6167\n",
      "input_size=52 → max_steps=2600 → h=53 → random_seed=42 → batch_size=64 → WMAE=1593.9089\n",
      "input_size=60 → max_steps=2600 → h=53 → random_seed=42 → batch_size=64 → WMAE=1619.0920\n",
      "input_size=72 → max_steps=2600 → h=53 → random_seed=42 → batch_size=64 → WMAE=1698.7422\n",
      "\n",
      "Best hyperparameters found:\n",
      "  input_size: 52\n",
      "Best WMAE: 1593.9089\n"
     ]
    }
   ],
   "source": [
    "param_grid = {\n",
    "    'input_size' : [40,52,60,72]\n",
    "}\n",
    "\n",
    "fixed_params = {\n",
    "    'max_steps': 25 * 104,\n",
    "    'h': 53,\n",
    "    'random_seed': 42,\n",
    "    'batch_size' : 64,\n",
    "}\n",
    "\n",
    "best_result = run_nbeats_cv(\n",
    "    X_train, y_train, X_valid, y_valid,\n",
    "    param_grid=param_grid,\n",
    "    fixed_params=fixed_params,\n",
    "    return_all=False\n",
    ")\n",
    "\n",
    "print(\"\\nBest hyperparameters found:\")\n",
    "for param in param_grid.keys():\n",
    "    print(f\"  {param}: {best_result[param]}\")\n",
    "print(f\"Best WMAE: {best_result['wmae']:.4f}\")"
   ]
  },
  {
   "cell_type": "markdown",
   "id": "e677d80c",
   "metadata": {},
   "source": [
    "# **Tune Batch size**"
   ]
  },
  {
   "cell_type": "code",
   "execution_count": null,
   "id": "651d0c60",
   "metadata": {},
   "outputs": [
    {
     "name": "stdout",
     "output_type": "stream",
     "text": [
      "batch_size=32 → max_steps=2600 → h=53 → random_seed=42 → input_size=52 → WMAE=1619.6334\n",
      "batch_size=64 → max_steps=2600 → h=53 → random_seed=42 → input_size=52 → WMAE=1593.9089\n",
      "batch_size=128 → max_steps=2600 → h=53 → random_seed=42 → input_size=52 → WMAE=1586.4884\n",
      "batch_size=256 → max_steps=2600 → h=53 → random_seed=42 → input_size=52 → WMAE=1547.6261\n",
      "batch_size=512 → max_steps=2600 → h=53 → random_seed=42 → input_size=52 → WMAE=1581.5538\n",
      "\n",
      "Best hyperparameters found:\n",
      "  batch_size: 256\n",
      "Best WMAE: 1547.6261\n"
     ]
    }
   ],
   "source": [
    "param_grid = {\n",
    "    'batch_size' : [32,64,128,256,512]\n",
    "}\n",
    "\n",
    "fixed_params = {\n",
    "    'max_steps': 25 * 104,\n",
    "    'h': 53,\n",
    "    'random_seed': 42,\n",
    "    'input_size':52\n",
    "    # 'batch_size' : 64,\n",
    "}\n",
    "\n",
    "best_result = run_nbeats_cv(\n",
    "    X_train, y_train, X_valid, y_valid,\n",
    "    param_grid=param_grid,\n",
    "    fixed_params=fixed_params,\n",
    "    return_all=False\n",
    ")\n",
    "\n",
    "print(\"\\nBest hyperparameters found:\")\n",
    "for param in param_grid.keys():\n",
    "    print(f\"  {param}: {best_result[param]}\")\n",
    "print(f\"Best WMAE: {best_result['wmae']:.4f}\")"
   ]
  },
  {
   "cell_type": "markdown",
   "id": "d895ab43",
   "metadata": {},
   "source": [
    "# **tune learning rate**"
   ]
  },
  {
   "cell_type": "code",
   "execution_count": null,
   "id": "c2c6d776",
   "metadata": {},
   "outputs": [
    {
     "name": "stdout",
     "output_type": "stream",
     "text": [
      "learning_rate=0.001 → max_steps=2600 → h=53 → random_seed=42 → input_size=52 → batch_size=256 → WMAE=1547.6261\n",
      "learning_rate=0.002 → max_steps=2600 → h=53 → random_seed=42 → input_size=52 → batch_size=256 → WMAE=1578.8466\n",
      "learning_rate=0.004 → max_steps=2600 → h=53 → random_seed=42 → input_size=52 → batch_size=256 → WMAE=1590.2231\n",
      "\n",
      "Best hyperparameters found:\n",
      "  learning_rate: 0.001\n",
      "Best WMAE: 1547.6261\n"
     ]
    }
   ],
   "source": [
    "param_grid = {\n",
    "    'learning_rate' : [1e-3,2e-3,4e-3]\n",
    "}\n",
    "\n",
    "fixed_params = {\n",
    "    'max_steps': 25 * 104,\n",
    "    'h': 53,\n",
    "    'random_seed': 42,\n",
    "    'input_size':52,\n",
    "    'batch_size' : 256,\n",
    "}\n",
    "\n",
    "best_result = run_nbeats_cv(\n",
    "    X_train, y_train, X_valid, y_valid,\n",
    "    param_grid=param_grid,\n",
    "    fixed_params=fixed_params,\n",
    "    return_all=False\n",
    ")\n",
    "\n",
    "print(\"\\nBest hyperparameters found:\")\n",
    "for param in param_grid.keys():\n",
    "    print(f\"  {param}: {best_result[param]}\")\n",
    "print(f\"Best WMAE: {best_result['wmae']:.4f}\")"
   ]
  },
  {
   "cell_type": "markdown",
   "id": "71940e2d",
   "metadata": {},
   "source": [
    "# **Tune blocknum in stack with weight decay**"
   ]
  },
  {
   "cell_type": "code",
   "execution_count": null,
   "id": "7f0bdd75",
   "metadata": {},
   "outputs": [
    {
     "name": "stdout",
     "output_type": "stream",
     "text": [
      "n_blocks=[1, 1, 1] → optimizer_kwargs={'weight_decay': 0.001} → max_steps=2600 → h=53 → random_seed=42 → input_size=52 → batch_size=256 → learning_rate=0.001 → optimizer=<class 'torch.optim.adamw.AdamW'> → WMAE=1570.4595\n",
      "n_blocks=[1, 1, 1] → optimizer_kwargs={'weight_decay': 0.0001} → max_steps=2600 → h=53 → random_seed=42 → input_size=52 → batch_size=256 → learning_rate=0.001 → optimizer=<class 'torch.optim.adamw.AdamW'> → WMAE=1563.2994\n",
      "n_blocks=[1, 1, 1] → optimizer_kwargs={'weight_decay': 0.01} → max_steps=2600 → h=53 → random_seed=42 → input_size=52 → batch_size=256 → learning_rate=0.001 → optimizer=<class 'torch.optim.adamw.AdamW'> → WMAE=1587.5859\n",
      "n_blocks=[2, 2, 2] → optimizer_kwargs={'weight_decay': 0.001} → max_steps=2600 → h=53 → random_seed=42 → input_size=52 → batch_size=256 → learning_rate=0.001 → optimizer=<class 'torch.optim.adamw.AdamW'> → WMAE=1619.3125\n",
      "n_blocks=[2, 2, 2] → optimizer_kwargs={'weight_decay': 0.0001} → max_steps=2600 → h=53 → random_seed=42 → input_size=52 → batch_size=256 → learning_rate=0.001 → optimizer=<class 'torch.optim.adamw.AdamW'> → WMAE=1602.7405\n",
      "n_blocks=[2, 2, 2] → optimizer_kwargs={'weight_decay': 0.01} → max_steps=2600 → h=53 → random_seed=42 → input_size=52 → batch_size=256 → learning_rate=0.001 → optimizer=<class 'torch.optim.adamw.AdamW'> → WMAE=1620.0689\n",
      "n_blocks=[3, 3, 3] → optimizer_kwargs={'weight_decay': 0.001} → max_steps=2600 → h=53 → random_seed=42 → input_size=52 → batch_size=256 → learning_rate=0.001 → optimizer=<class 'torch.optim.adamw.AdamW'> → WMAE=1574.7219\n",
      "n_blocks=[3, 3, 3] → optimizer_kwargs={'weight_decay': 0.0001} → max_steps=2600 → h=53 → random_seed=42 → input_size=52 → batch_size=256 → learning_rate=0.001 → optimizer=<class 'torch.optim.adamw.AdamW'> → WMAE=1615.8575\n",
      "n_blocks=[3, 3, 3] → optimizer_kwargs={'weight_decay': 0.01} → max_steps=2600 → h=53 → random_seed=42 → input_size=52 → batch_size=256 → learning_rate=0.001 → optimizer=<class 'torch.optim.adamw.AdamW'> → WMAE=1587.2522\n",
      "\n",
      "Best hyperparameters found:\n",
      "  n_blocks: [1, 1, 1]\n",
      "  optimizer_kwargs: {'weight_decay': 0.0001}\n",
      "Best WMAE: 1563.2994\n"
     ]
    }
   ],
   "source": [
    "param_grid = {\n",
    "    # 'learning_rate' : [2e-3]\n",
    "    # 'nb_blocks_per_stack' : [1,2,3,4,5]\n",
    "    'n_blocks' : [[1,1,1],[2,2,2],[3,3,3]],\n",
    "    'optimizer_kwargs' : [\n",
    "        {'weight_decay' : 1e-3},\n",
    "        {'weight_decay' : 1e-4},\n",
    "        {'weight_decay' : 1e-2}\n",
    "    ]\n",
    "}\n",
    "\n",
    "fixed_params = {\n",
    "    'max_steps': 25 * 104,\n",
    "    'h': 53,\n",
    "    'random_seed': 42,\n",
    "    'input_size':52,\n",
    "    'batch_size' : 256,\n",
    "    'learning_rate': 1e-3,\n",
    "    'optimizer' : torch.optim.AdamW\n",
    "}\n",
    "\n",
    "best_result = run_nbeats_cv(\n",
    "    X_train, y_train, X_valid, y_valid,\n",
    "    param_grid=param_grid,\n",
    "    fixed_params=fixed_params,\n",
    "    return_all=False\n",
    ")\n",
    "\n",
    "print(\"\\nBest hyperparameters found:\")\n",
    "for param in param_grid.keys():\n",
    "    print(f\"  {param}: {best_result[param]}\")\n",
    "print(f\"Best WMAE: {best_result['wmae']:.4f}\")"
   ]
  },
  {
   "cell_type": "markdown",
   "id": "5d42248c",
   "metadata": {},
   "source": [
    "# **Tune activation function**"
   ]
  },
  {
   "cell_type": "code",
   "execution_count": null,
   "id": "cc3abb8e",
   "metadata": {},
   "outputs": [
    {
     "name": "stdout",
     "output_type": "stream",
     "text": [
      "activation=LeakyReLU → max_steps=2600 → h=53 → random_seed=42 → input_size=52 → batch_size=256 → learning_rate=0.001 → optimizer=<class 'torch.optim.adamw.AdamW'> → WMAE=1579.8415\n",
      "activation=ReLU → max_steps=2600 → h=53 → random_seed=42 → input_size=52 → batch_size=256 → learning_rate=0.001 → optimizer=<class 'torch.optim.adamw.AdamW'> → WMAE=1587.5859\n",
      "activation=Tanh → max_steps=2600 → h=53 → random_seed=42 → input_size=52 → batch_size=256 → learning_rate=0.001 → optimizer=<class 'torch.optim.adamw.AdamW'> → WMAE=2986.5779\n",
      "activation=PReLU → max_steps=2600 → h=53 → random_seed=42 → input_size=52 → batch_size=256 → learning_rate=0.001 → optimizer=<class 'torch.optim.adamw.AdamW'> → WMAE=1620.2018\n",
      "\n",
      "Best hyperparameters found:\n",
      "  activation: LeakyReLU\n",
      "Best WMAE: 1579.8415\n"
     ]
    }
   ],
   "source": [
    "param_grid = {\n",
    "    'activation': ['LeakyReLU','ReLU', 'Tanh','PReLU'],\n",
    "    # 'stride': [1, 2, 4],\n",
    "    # 'input_size\n",
    "}\n",
    "\n",
    "fixed_params = {\n",
    "    'max_steps': 25 * 104,\n",
    "    'h': 53,\n",
    "    'random_seed': 42,\n",
    "    'input_size':52,\n",
    "    'batch_size' : 256,\n",
    "    'learning_rate': 1e-3,\n",
    "    'optimizer' : torch.optim.AdamW\n",
    "}\n",
    "\n",
    "best_result = run_nbeats_cv(\n",
    "    X_train, y_train, X_valid, y_valid,\n",
    "    param_grid=param_grid,\n",
    "    fixed_params=fixed_params,\n",
    "    return_all=False\n",
    ")\n",
    "\n",
    "print(\"\\nBest hyperparameters found:\")\n",
    "for param in param_grid.keys():\n",
    "    print(f\"  {param}: {best_result[param]}\")\n",
    "print(f\"Best WMAE: {best_result['wmae']:.4f}\")"
   ]
  },
  {
   "cell_type": "markdown",
   "id": "71e92818",
   "metadata": {},
   "source": [
    "# **Tune polynomial order**"
   ]
  },
  {
   "cell_type": "code",
   "execution_count": null,
   "id": "fde0a8e0",
   "metadata": {},
   "outputs": [
    {
     "name": "stdout",
     "output_type": "stream",
     "text": [
      "n_polynomials=1 → max_steps=2600 → h=53 → random_seed=42 → input_size=52 → batch_size=256 → learning_rate=0.001 → optimizer=<class 'torch.optim.adamw.AdamW'> → activation=ReLU → WMAE=1587.5859\n",
      "n_polynomials=2 → max_steps=2600 → h=53 → random_seed=42 → input_size=52 → batch_size=256 → learning_rate=0.001 → optimizer=<class 'torch.optim.adamw.AdamW'> → activation=ReLU → WMAE=1587.5859\n",
      "n_polynomials=3 → max_steps=2600 → h=53 → random_seed=42 → input_size=52 → batch_size=256 → learning_rate=0.001 → optimizer=<class 'torch.optim.adamw.AdamW'> → activation=ReLU → WMAE=1587.5859\n",
      "n_polynomials=4 → max_steps=2600 → h=53 → random_seed=42 → input_size=52 → batch_size=256 → learning_rate=0.001 → optimizer=<class 'torch.optim.adamw.AdamW'> → activation=ReLU → WMAE=1587.5859\n",
      "n_polynomials=5 → max_steps=2600 → h=53 → random_seed=42 → input_size=52 → batch_size=256 → learning_rate=0.001 → optimizer=<class 'torch.optim.adamw.AdamW'> → activation=ReLU → WMAE=1587.5859\n",
      "\n",
      "Best hyperparameters found:\n",
      "  n_polynomials: 1\n",
      "Best WMAE: 1587.5859\n"
     ]
    }
   ],
   "source": [
    "param_grid = {\n",
    "    # 'activation': ['LeakyReLU','ReLU', 'Tanh','PReLU'],\n",
    "    'n_polynomials' : [1,2,3,4,5]\n",
    "}\n",
    "\n",
    "fixed_params = {\n",
    "    'max_steps': 25 * 104,\n",
    "    'h': 53,\n",
    "    'random_seed': 42,\n",
    "    'input_size':52,\n",
    "    'batch_size' : 256,\n",
    "    'learning_rate': 1e-3,\n",
    "    'optimizer' : torch.optim.AdamW,\n",
    "    'activation' : 'ReLU'\n",
    "}\n",
    "\n",
    "best_result = run_nbeats_cv(\n",
    "    X_train, y_train, X_valid, y_valid,\n",
    "    param_grid=param_grid,\n",
    "    fixed_params=fixed_params,\n",
    "    return_all=False\n",
    ")\n",
    "\n",
    "print(\"\\nBest hyperparameters found:\")\n",
    "for param in param_grid.keys():\n",
    "    print(f\"  {param}: {best_result[param]}\")\n",
    "print(f\"Best WMAE: {best_result['wmae']:.4f}\")"
   ]
  },
  {
   "cell_type": "code",
   "execution_count": null,
   "id": "42065dde",
   "metadata": {},
   "outputs": [],
   "source": []
  },
  {
   "cell_type": "markdown",
   "id": "327d4ded",
   "metadata": {},
   "source": [
    "**Cross Validation**"
   ]
  },
  {
   "cell_type": "code",
   "execution_count": null,
   "id": "279d4e9b",
   "metadata": {},
   "outputs": [
    {
     "name": "stdout",
     "output_type": "stream",
     "text": [
      "\u001b[34m\u001b[1mwandb\u001b[0m: Logging into wandb.ai. (Learn how to deploy a W&B server locally: https://wandb.me/wandb-server)\n",
      "\u001b[34m\u001b[1mwandb\u001b[0m: You can find your API key in your browser here: https://wandb.ai/authorize?ref=models\n",
      "\u001b[34m\u001b[1mwandb\u001b[0m: Paste an API key from your profile and hit enter, or press ctrl+c to quit: \n",
      "\u001b[34m\u001b[1mwandb\u001b[0m: \u001b[33mWARNING\u001b[0m If you're specifying your api key in code, ensure this code is not shared publicly.\n",
      "\u001b[34m\u001b[1mwandb\u001b[0m: \u001b[33mWARNING\u001b[0m Consider setting the WANDB_API_KEY environment variable, or running `wandb login` from the command line.\n",
      "\u001b[34m\u001b[1mwandb\u001b[0m: No netrc file found, creating one.\n",
      "\u001b[34m\u001b[1mwandb\u001b[0m: Appending key for api.wandb.ai to your netrc file: /root/.netrc\n",
      "\u001b[34m\u001b[1mwandb\u001b[0m: Currently logged in as: \u001b[33mazhgh22\u001b[0m (\u001b[33mMLBeasts\u001b[0m) to \u001b[32mhttps://api.wandb.ai\u001b[0m. Use \u001b[1m`wandb login --relogin`\u001b[0m to force relogin\n"
     ]
    }
   ],
   "source": [
    "! wandb login"
   ]
  },
  {
   "cell_type": "markdown",
   "id": "e9ccbd59",
   "metadata": {},
   "source": [
    "# **Model**"
   ]
  },
  {
   "cell_type": "code",
   "execution_count": null,
   "id": "0f8f3192",
   "metadata": {},
   "outputs": [
    {
     "data": {
      "application/vnd.jupyter.widget-view+json": {
       "model_id": "33371ab5e04d45478e06854c713dd6f1",
       "version_major": 2,
       "version_minor": 0
      },
      "text/plain": [
       "Sanity Checking: |          | 0/? [00:00<?, ?it/s]"
      ]
     },
     "metadata": {},
     "output_type": "display_data"
    },
    {
     "data": {
      "application/vnd.jupyter.widget-view+json": {
       "model_id": "6b7fc1b80f6743ed8b42d02a3232129c",
       "version_major": 2,
       "version_minor": 0
      },
      "text/plain": [
       "Training: |          | 0/? [00:00<?, ?it/s]"
      ]
     },
     "metadata": {},
     "output_type": "display_data"
    },
    {
     "data": {
      "application/vnd.jupyter.widget-view+json": {
       "model_id": "c49f451ed7184b4985bd62420f05bd7e",
       "version_major": 2,
       "version_minor": 0
      },
      "text/plain": [
       "Validation: |          | 0/? [00:00<?, ?it/s]"
      ]
     },
     "metadata": {},
     "output_type": "display_data"
    },
    {
     "data": {
      "application/vnd.jupyter.widget-view+json": {
       "model_id": "26f1947f703c4dd6bbda19eb5e585af7",
       "version_major": 2,
       "version_minor": 0
      },
      "text/plain": [
       "Validation: |          | 0/? [00:00<?, ?it/s]"
      ]
     },
     "metadata": {},
     "output_type": "display_data"
    },
    {
     "data": {
      "application/vnd.jupyter.widget-view+json": {
       "model_id": "631eafc63add476182a872427a8ae0fc",
       "version_major": 2,
       "version_minor": 0
      },
      "text/plain": [
       "Validation: |          | 0/? [00:00<?, ?it/s]"
      ]
     },
     "metadata": {},
     "output_type": "display_data"
    },
    {
     "data": {
      "application/vnd.jupyter.widget-view+json": {
       "model_id": "225b9f5c637e4fdb95f650e7e0976706",
       "version_major": 2,
       "version_minor": 0
      },
      "text/plain": [
       "Validation: |          | 0/? [00:00<?, ?it/s]"
      ]
     },
     "metadata": {},
     "output_type": "display_data"
    },
    {
     "data": {
      "application/vnd.jupyter.widget-view+json": {
       "model_id": "a7039bf0e1254a05adb0afe406fa17f7",
       "version_major": 2,
       "version_minor": 0
      },
      "text/plain": [
       "Validation: |          | 0/? [00:00<?, ?it/s]"
      ]
     },
     "metadata": {},
     "output_type": "display_data"
    },
    {
     "data": {
      "application/vnd.jupyter.widget-view+json": {
       "model_id": "229d3148631e45088559bce39cb69bc6",
       "version_major": 2,
       "version_minor": 0
      },
      "text/plain": [
       "Validation: |          | 0/? [00:00<?, ?it/s]"
      ]
     },
     "metadata": {},
     "output_type": "display_data"
    },
    {
     "data": {
      "application/vnd.jupyter.widget-view+json": {
       "model_id": "fbee89b70d534460ade0c4ba2234a75b",
       "version_major": 2,
       "version_minor": 0
      },
      "text/plain": [
       "Validation: |          | 0/? [00:00<?, ?it/s]"
      ]
     },
     "metadata": {},
     "output_type": "display_data"
    },
    {
     "data": {
      "application/vnd.jupyter.widget-view+json": {
       "model_id": "8413f8874b8846548adbc7cd1075122b",
       "version_major": 2,
       "version_minor": 0
      },
      "text/plain": [
       "Validation: |          | 0/? [00:00<?, ?it/s]"
      ]
     },
     "metadata": {},
     "output_type": "display_data"
    },
    {
     "data": {
      "application/vnd.jupyter.widget-view+json": {
       "model_id": "301c92f45ed94b5a93ccd11d966f6440",
       "version_major": 2,
       "version_minor": 0
      },
      "text/plain": [
       "Validation: |          | 0/? [00:00<?, ?it/s]"
      ]
     },
     "metadata": {},
     "output_type": "display_data"
    },
    {
     "data": {
      "application/vnd.jupyter.widget-view+json": {
       "model_id": "3453670c836e4f5cab1ed668a321e407",
       "version_major": 2,
       "version_minor": 0
      },
      "text/plain": [
       "Validation: |          | 0/? [00:00<?, ?it/s]"
      ]
     },
     "metadata": {},
     "output_type": "display_data"
    },
    {
     "data": {
      "application/vnd.jupyter.widget-view+json": {
       "model_id": "2fe468e2992043c186140cb76c4cc0d4",
       "version_major": 2,
       "version_minor": 0
      },
      "text/plain": [
       "Validation: |          | 0/? [00:00<?, ?it/s]"
      ]
     },
     "metadata": {},
     "output_type": "display_data"
    },
    {
     "data": {
      "application/vnd.jupyter.widget-view+json": {
       "model_id": "23f74b7a690c433c81f4523fd7efab6f",
       "version_major": 2,
       "version_minor": 0
      },
      "text/plain": [
       "Validation: |          | 0/? [00:00<?, ?it/s]"
      ]
     },
     "metadata": {},
     "output_type": "display_data"
    },
    {
     "data": {
      "application/vnd.jupyter.widget-view+json": {
       "model_id": "4e334ddd687d4eed8d1e697d5224b3e3",
       "version_major": 2,
       "version_minor": 0
      },
      "text/plain": [
       "Validation: |          | 0/? [00:00<?, ?it/s]"
      ]
     },
     "metadata": {},
     "output_type": "display_data"
    },
    {
     "data": {
      "application/vnd.jupyter.widget-view+json": {
       "model_id": "7aaa727247fa498481130bd912b98e16",
       "version_major": 2,
       "version_minor": 0
      },
      "text/plain": [
       "Validation: |          | 0/? [00:00<?, ?it/s]"
      ]
     },
     "metadata": {},
     "output_type": "display_data"
    },
    {
     "data": {
      "application/vnd.jupyter.widget-view+json": {
       "model_id": "5e52c0090db2459d8ab218bba80fdcf6",
       "version_major": 2,
       "version_minor": 0
      },
      "text/plain": [
       "Validation: |          | 0/? [00:00<?, ?it/s]"
      ]
     },
     "metadata": {},
     "output_type": "display_data"
    },
    {
     "data": {
      "application/vnd.jupyter.widget-view+json": {
       "model_id": "f0e724a42069419eb4d4c98b1d8b4f35",
       "version_major": 2,
       "version_minor": 0
      },
      "text/plain": [
       "Validation: |          | 0/? [00:00<?, ?it/s]"
      ]
     },
     "metadata": {},
     "output_type": "display_data"
    },
    {
     "data": {
      "application/vnd.jupyter.widget-view+json": {
       "model_id": "dc21acb4728e48a5abd7475d1f85e84b",
       "version_major": 2,
       "version_minor": 0
      },
      "text/plain": [
       "Validation: |          | 0/? [00:00<?, ?it/s]"
      ]
     },
     "metadata": {},
     "output_type": "display_data"
    },
    {
     "data": {
      "application/vnd.jupyter.widget-view+json": {
       "model_id": "2e624f2ec2984d70b8ef3c21c1861b68",
       "version_major": 2,
       "version_minor": 0
      },
      "text/plain": [
       "Validation: |          | 0/? [00:00<?, ?it/s]"
      ]
     },
     "metadata": {},
     "output_type": "display_data"
    },
    {
     "data": {
      "application/vnd.jupyter.widget-view+json": {
       "model_id": "adcdc4c959584a6a8e1b4f02828e424f",
       "version_major": 2,
       "version_minor": 0
      },
      "text/plain": [
       "Validation: |          | 0/? [00:00<?, ?it/s]"
      ]
     },
     "metadata": {},
     "output_type": "display_data"
    },
    {
     "data": {
      "application/vnd.jupyter.widget-view+json": {
       "model_id": "41eedfe0399d406da2393acc4b1c7a59",
       "version_major": 2,
       "version_minor": 0
      },
      "text/plain": [
       "Validation: |          | 0/? [00:00<?, ?it/s]"
      ]
     },
     "metadata": {},
     "output_type": "display_data"
    },
    {
     "data": {
      "application/vnd.jupyter.widget-view+json": {
       "model_id": "d3fd492b4dd74eb3a3185ada5f0675a5",
       "version_major": 2,
       "version_minor": 0
      },
      "text/plain": [
       "Validation: |          | 0/? [00:00<?, ?it/s]"
      ]
     },
     "metadata": {},
     "output_type": "display_data"
    },
    {
     "data": {
      "application/vnd.jupyter.widget-view+json": {
       "model_id": "267306e6ecc445f28a75e9b3f85695cb",
       "version_major": 2,
       "version_minor": 0
      },
      "text/plain": [
       "Validation: |          | 0/? [00:00<?, ?it/s]"
      ]
     },
     "metadata": {},
     "output_type": "display_data"
    },
    {
     "data": {
      "application/vnd.jupyter.widget-view+json": {
       "model_id": "3f717e88299a4d11bdb3ace792d2b13c",
       "version_major": 2,
       "version_minor": 0
      },
      "text/plain": [
       "Validation: |          | 0/? [00:00<?, ?it/s]"
      ]
     },
     "metadata": {},
     "output_type": "display_data"
    },
    {
     "data": {
      "application/vnd.jupyter.widget-view+json": {
       "model_id": "9f764445cae64d90a928c4885a5f0d8e",
       "version_major": 2,
       "version_minor": 0
      },
      "text/plain": [
       "Validation: |          | 0/? [00:00<?, ?it/s]"
      ]
     },
     "metadata": {},
     "output_type": "display_data"
    },
    {
     "data": {
      "application/vnd.jupyter.widget-view+json": {
       "model_id": "85219148c3f04e7eb8501a085572f0d6",
       "version_major": 2,
       "version_minor": 0
      },
      "text/plain": [
       "Validation: |          | 0/? [00:00<?, ?it/s]"
      ]
     },
     "metadata": {},
     "output_type": "display_data"
    },
    {
     "data": {
      "application/vnd.jupyter.widget-view+json": {
       "model_id": "789add3d4c5943dfbcea6b07ff65284c",
       "version_major": 2,
       "version_minor": 0
      },
      "text/plain": [
       "Validation: |          | 0/? [00:00<?, ?it/s]"
      ]
     },
     "metadata": {},
     "output_type": "display_data"
    },
    {
     "data": {
      "application/vnd.jupyter.widget-view+json": {
       "model_id": "3cfabf1a4c864e559a63024e29cd7f69",
       "version_major": 2,
       "version_minor": 0
      },
      "text/plain": [
       "Predicting: |          | 0/? [00:00<?, ?it/s]"
      ]
     },
     "metadata": {},
     "output_type": "display_data"
    },
    {
     "name": "stdout",
     "output_type": "stream",
     "text": [
      "1587.5858753093955\n"
     ]
    }
   ],
   "source": [
    "from neuralforecast.models import NBEATS\n",
    "from models.neural_forecast_models import NeuralForecastModels\n",
    "from src.utils import wmae as compute_wmae\n",
    "\n",
    "model = NBEATS(\n",
    "    max_steps= 25 * 104,\n",
    "    h= 53,\n",
    "    random_seed= 42,\n",
    "    input_size=52,\n",
    "    batch_size= 256,\n",
    "    learning_rate= 1e-3,\n",
    "    shared_weights=True,\n",
    "    optimizer= torch.optim.AdamW,\n",
    "    activation = 'ReLU'\n",
    ")\n",
    "nf_model = NeuralForecastModels(models=[model], model_names=['NBEATS'], freq='W-FRI', one_model=True)\n",
    "\n",
    "nf_model.fit(X_train, y_train)\n",
    "y_pred = nf_model.predict(X_valid)\n",
    "wmae = compute_wmae(y_valid, y_pred, X_valid['IsHoliday'])\n",
    "\n",
    "print(wmae)"
   ]
  },
  {
   "cell_type": "code",
   "execution_count": null,
   "id": "bf0393e9",
   "metadata": {},
   "outputs": [
    {
     "data": {
      "application/vnd.jupyter.widget-view+json": {
       "model_id": "2894cd4422d24edd962bfe63d3351d05",
       "version_major": 2,
       "version_minor": 0
      },
      "text/plain": [
       "Sanity Checking: |          | 0/? [00:00<?, ?it/s]"
      ]
     },
     "metadata": {},
     "output_type": "display_data"
    },
    {
     "data": {
      "application/vnd.jupyter.widget-view+json": {
       "model_id": "4199873a7cda433fa7a14a1f623957fd",
       "version_major": 2,
       "version_minor": 0
      },
      "text/plain": [
       "Training: |          | 0/? [00:00<?, ?it/s]"
      ]
     },
     "metadata": {},
     "output_type": "display_data"
    },
    {
     "data": {
      "application/vnd.jupyter.widget-view+json": {
       "model_id": "5a8fd2d8f5a94bca8c85ee537ff5c89e",
       "version_major": 2,
       "version_minor": 0
      },
      "text/plain": [
       "Validation: |          | 0/? [00:00<?, ?it/s]"
      ]
     },
     "metadata": {},
     "output_type": "display_data"
    },
    {
     "data": {
      "application/vnd.jupyter.widget-view+json": {
       "model_id": "453bdaf11f0642d3b4440ba39883b5a2",
       "version_major": 2,
       "version_minor": 0
      },
      "text/plain": [
       "Validation: |          | 0/? [00:00<?, ?it/s]"
      ]
     },
     "metadata": {},
     "output_type": "display_data"
    },
    {
     "data": {
      "application/vnd.jupyter.widget-view+json": {
       "model_id": "e8d9cdabd70740a29209b3c088b2e1d8",
       "version_major": 2,
       "version_minor": 0
      },
      "text/plain": [
       "Validation: |          | 0/? [00:00<?, ?it/s]"
      ]
     },
     "metadata": {},
     "output_type": "display_data"
    },
    {
     "data": {
      "application/vnd.jupyter.widget-view+json": {
       "model_id": "fc5dd46e4cfe44f786eb26bd22e6108a",
       "version_major": 2,
       "version_minor": 0
      },
      "text/plain": [
       "Validation: |          | 0/? [00:00<?, ?it/s]"
      ]
     },
     "metadata": {},
     "output_type": "display_data"
    },
    {
     "data": {
      "application/vnd.jupyter.widget-view+json": {
       "model_id": "748e8ecc7de24ed68e5523219d799b33",
       "version_major": 2,
       "version_minor": 0
      },
      "text/plain": [
       "Validation: |          | 0/? [00:00<?, ?it/s]"
      ]
     },
     "metadata": {},
     "output_type": "display_data"
    },
    {
     "data": {
      "application/vnd.jupyter.widget-view+json": {
       "model_id": "28c5b5f09c834212a258cc73e5787e53",
       "version_major": 2,
       "version_minor": 0
      },
      "text/plain": [
       "Validation: |          | 0/? [00:00<?, ?it/s]"
      ]
     },
     "metadata": {},
     "output_type": "display_data"
    },
    {
     "data": {
      "application/vnd.jupyter.widget-view+json": {
       "model_id": "1aa12a6356724846b7d5d9ebfca75af0",
       "version_major": 2,
       "version_minor": 0
      },
      "text/plain": [
       "Validation: |          | 0/? [00:00<?, ?it/s]"
      ]
     },
     "metadata": {},
     "output_type": "display_data"
    },
    {
     "data": {
      "application/vnd.jupyter.widget-view+json": {
       "model_id": "df8607a59bf2473eb712fd4d4a61193b",
       "version_major": 2,
       "version_minor": 0
      },
      "text/plain": [
       "Validation: |          | 0/? [00:00<?, ?it/s]"
      ]
     },
     "metadata": {},
     "output_type": "display_data"
    },
    {
     "data": {
      "application/vnd.jupyter.widget-view+json": {
       "model_id": "ffa4443878684635a51d97ac564602f3",
       "version_major": 2,
       "version_minor": 0
      },
      "text/plain": [
       "Validation: |          | 0/? [00:00<?, ?it/s]"
      ]
     },
     "metadata": {},
     "output_type": "display_data"
    },
    {
     "data": {
      "application/vnd.jupyter.widget-view+json": {
       "model_id": "2d192cdfc5e248ff9d9c045958f74451",
       "version_major": 2,
       "version_minor": 0
      },
      "text/plain": [
       "Validation: |          | 0/? [00:00<?, ?it/s]"
      ]
     },
     "metadata": {},
     "output_type": "display_data"
    },
    {
     "data": {
      "application/vnd.jupyter.widget-view+json": {
       "model_id": "7e85be17cb8e4e5d99c33a7e982f126e",
       "version_major": 2,
       "version_minor": 0
      },
      "text/plain": [
       "Validation: |          | 0/? [00:00<?, ?it/s]"
      ]
     },
     "metadata": {},
     "output_type": "display_data"
    },
    {
     "data": {
      "application/vnd.jupyter.widget-view+json": {
       "model_id": "344b1df1caef4afabeb954d9800dc3bd",
       "version_major": 2,
       "version_minor": 0
      },
      "text/plain": [
       "Validation: |          | 0/? [00:00<?, ?it/s]"
      ]
     },
     "metadata": {},
     "output_type": "display_data"
    },
    {
     "data": {
      "application/vnd.jupyter.widget-view+json": {
       "model_id": "123962c128a1413f87ccb07e5da48f47",
       "version_major": 2,
       "version_minor": 0
      },
      "text/plain": [
       "Validation: |          | 0/? [00:00<?, ?it/s]"
      ]
     },
     "metadata": {},
     "output_type": "display_data"
    },
    {
     "data": {
      "application/vnd.jupyter.widget-view+json": {
       "model_id": "658b22708ebe44f38ff29cf5a32a1859",
       "version_major": 2,
       "version_minor": 0
      },
      "text/plain": [
       "Validation: |          | 0/? [00:00<?, ?it/s]"
      ]
     },
     "metadata": {},
     "output_type": "display_data"
    },
    {
     "data": {
      "application/vnd.jupyter.widget-view+json": {
       "model_id": "623a633cf5e44daeaa84a1d56b39e398",
       "version_major": 2,
       "version_minor": 0
      },
      "text/plain": [
       "Validation: |          | 0/? [00:00<?, ?it/s]"
      ]
     },
     "metadata": {},
     "output_type": "display_data"
    },
    {
     "data": {
      "application/vnd.jupyter.widget-view+json": {
       "model_id": "1b5b62744d674dcd8e856effb88089b2",
       "version_major": 2,
       "version_minor": 0
      },
      "text/plain": [
       "Validation: |          | 0/? [00:00<?, ?it/s]"
      ]
     },
     "metadata": {},
     "output_type": "display_data"
    },
    {
     "data": {
      "application/vnd.jupyter.widget-view+json": {
       "model_id": "906191e08c024e9b9d8111b23a560912",
       "version_major": 2,
       "version_minor": 0
      },
      "text/plain": [
       "Validation: |          | 0/? [00:00<?, ?it/s]"
      ]
     },
     "metadata": {},
     "output_type": "display_data"
    },
    {
     "data": {
      "application/vnd.jupyter.widget-view+json": {
       "model_id": "ff01ad1b56454210bbdebf955a0cc985",
       "version_major": 2,
       "version_minor": 0
      },
      "text/plain": [
       "Validation: |          | 0/? [00:00<?, ?it/s]"
      ]
     },
     "metadata": {},
     "output_type": "display_data"
    },
    {
     "data": {
      "application/vnd.jupyter.widget-view+json": {
       "model_id": "09638399628c41999fdc94e39404cc3e",
       "version_major": 2,
       "version_minor": 0
      },
      "text/plain": [
       "Validation: |          | 0/? [00:00<?, ?it/s]"
      ]
     },
     "metadata": {},
     "output_type": "display_data"
    },
    {
     "data": {
      "application/vnd.jupyter.widget-view+json": {
       "model_id": "c66431da7d0b450f8e3c972cc3fdd209",
       "version_major": 2,
       "version_minor": 0
      },
      "text/plain": [
       "Validation: |          | 0/? [00:00<?, ?it/s]"
      ]
     },
     "metadata": {},
     "output_type": "display_data"
    },
    {
     "data": {
      "application/vnd.jupyter.widget-view+json": {
       "model_id": "891137c93ce54d96a8ed34ddae57f63b",
       "version_major": 2,
       "version_minor": 0
      },
      "text/plain": [
       "Validation: |          | 0/? [00:00<?, ?it/s]"
      ]
     },
     "metadata": {},
     "output_type": "display_data"
    },
    {
     "data": {
      "application/vnd.jupyter.widget-view+json": {
       "model_id": "88e62e409e9644868eb27037600aba76",
       "version_major": 2,
       "version_minor": 0
      },
      "text/plain": [
       "Validation: |          | 0/? [00:00<?, ?it/s]"
      ]
     },
     "metadata": {},
     "output_type": "display_data"
    },
    {
     "data": {
      "application/vnd.jupyter.widget-view+json": {
       "model_id": "40ebbcf066b146d7b9be4c01b3241cb9",
       "version_major": 2,
       "version_minor": 0
      },
      "text/plain": [
       "Validation: |          | 0/? [00:00<?, ?it/s]"
      ]
     },
     "metadata": {},
     "output_type": "display_data"
    },
    {
     "data": {
      "application/vnd.jupyter.widget-view+json": {
       "model_id": "4e86ef45508d4e49a26963d41a7b4833",
       "version_major": 2,
       "version_minor": 0
      },
      "text/plain": [
       "Validation: |          | 0/? [00:00<?, ?it/s]"
      ]
     },
     "metadata": {},
     "output_type": "display_data"
    },
    {
     "data": {
      "application/vnd.jupyter.widget-view+json": {
       "model_id": "a0dbbcdbe79947419ddd34468075fa18",
       "version_major": 2,
       "version_minor": 0
      },
      "text/plain": [
       "Validation: |          | 0/? [00:00<?, ?it/s]"
      ]
     },
     "metadata": {},
     "output_type": "display_data"
    },
    {
     "data": {
      "application/vnd.jupyter.widget-view+json": {
       "model_id": "eb96cfc6511243378350fa17fb89d3cc",
       "version_major": 2,
       "version_minor": 0
      },
      "text/plain": [
       "Validation: |          | 0/? [00:00<?, ?it/s]"
      ]
     },
     "metadata": {},
     "output_type": "display_data"
    }
   ],
   "source": [
    "from neuralforecast.models import PatchTST\n",
    "from models.neural_forecast_models import NeuralForecastModels\n",
    "from src.utils import wmae as compute_wmae\n",
    "\n",
    "model = NBEATS(\n",
    "    max_steps= 25 * 104,\n",
    "    h= 53,\n",
    "    random_seed= 42,\n",
    "    input_size=52,\n",
    "    batch_size= 256,\n",
    "    learning_rate= 1e-3,\n",
    "    shared_weights=True,\n",
    "    optimizer= torch.optim.AdamW,\n",
    "    activation = 'ReLU'\n",
    ")\n",
    "nf_model = NeuralForecastModels(models=[model], model_names=['NBEATS'], freq='W-FRI', one_model=True)\n",
    "\n",
    "nf_model.fit(df.drop(columns='Weekly_Sales'), df['Weekly_Sales'])"
   ]
  },
  {
   "cell_type": "code",
   "execution_count": null,
   "id": "085d5197",
   "metadata": {},
   "outputs": [
    {
     "name": "stderr",
     "output_type": "stream",
     "text": [
      "\u001b[34m\u001b[1mwandb\u001b[0m: Currently logged in as: \u001b[33mazhgh22\u001b[0m (\u001b[33mMLBeasts\u001b[0m) to \u001b[32mhttps://api.wandb.ai\u001b[0m. Use \u001b[1m`wandb login --relogin`\u001b[0m to force relogin\n"
     ]
    },
    {
     "data": {
      "text/html": [
       "Tracking run with wandb version 0.20.1"
      ],
      "text/plain": [
       "<IPython.core.display.HTML object>"
      ]
     },
     "metadata": {},
     "output_type": "display_data"
    },
    {
     "data": {
      "text/html": [
       "Run data is saved locally in <code>/content/Walmart-Recruiting-Store-Sales-Forecasting/wandb/run-20250707_141645-g7zxhcgs</code>"
      ],
      "text/plain": [
       "<IPython.core.display.HTML object>"
      ]
     },
     "metadata": {},
     "output_type": "display_data"
    },
    {
     "data": {
      "text/html": [
       "Syncing run <strong><a href='https://wandb.ai/MLBeasts/Walmart%20Recruiting%20-%20Store%20Sales%20Forecasting/runs/g7zxhcgs' target=\"_blank\">nbeats:run4</a></strong> to <a href='https://wandb.ai/MLBeasts/Walmart%20Recruiting%20-%20Store%20Sales%20Forecasting' target=\"_blank\">Weights & Biases</a> (<a href='https://wandb.me/developer-guide' target=\"_blank\">docs</a>)<br>"
      ],
      "text/plain": [
       "<IPython.core.display.HTML object>"
      ]
     },
     "metadata": {},
     "output_type": "display_data"
    },
    {
     "data": {
      "text/html": [
       " View project at <a href='https://wandb.ai/MLBeasts/Walmart%20Recruiting%20-%20Store%20Sales%20Forecasting' target=\"_blank\">https://wandb.ai/MLBeasts/Walmart%20Recruiting%20-%20Store%20Sales%20Forecasting</a>"
      ],
      "text/plain": [
       "<IPython.core.display.HTML object>"
      ]
     },
     "metadata": {},
     "output_type": "display_data"
    },
    {
     "data": {
      "text/html": [
       " View run at <a href='https://wandb.ai/MLBeasts/Walmart%20Recruiting%20-%20Store%20Sales%20Forecasting/runs/g7zxhcgs' target=\"_blank\">https://wandb.ai/MLBeasts/Walmart%20Recruiting%20-%20Store%20Sales%20Forecasting/runs/g7zxhcgs</a>"
      ],
      "text/plain": [
       "<IPython.core.display.HTML object>"
      ]
     },
     "metadata": {},
     "output_type": "display_data"
    },
    {
     "data": {
      "text/html": [],
      "text/plain": [
       "<IPython.core.display.HTML object>"
      ]
     },
     "metadata": {},
     "output_type": "display_data"
    },
    {
     "data": {
      "text/html": [
       "<br>    <style><br>        .wandb-row {<br>            display: flex;<br>            flex-direction: row;<br>            flex-wrap: wrap;<br>            justify-content: flex-start;<br>            width: 100%;<br>        }<br>        .wandb-col {<br>            display: flex;<br>            flex-direction: column;<br>            flex-basis: 100%;<br>            flex: 1;<br>            padding: 10px;<br>        }<br>    </style><br><div class=\"wandb-row\"><div class=\"wandb-col\"><h3>Run history:</h3><br/><table class=\"wandb\"><tr><td>val_wmae</td><td>▁</td></tr></table><br/></div><div class=\"wandb-col\"><h3>Run summary:</h3><br/><table class=\"wandb\"><tr><td>val_wmae</td><td>1587.58588</td></tr></table><br/></div></div>"
      ],
      "text/plain": [
       "<IPython.core.display.HTML object>"
      ]
     },
     "metadata": {},
     "output_type": "display_data"
    },
    {
     "data": {
      "text/html": [
       " View run <strong style=\"color:#cdcd00\">nbeats:run4</strong> at: <a href='https://wandb.ai/MLBeasts/Walmart%20Recruiting%20-%20Store%20Sales%20Forecasting/runs/g7zxhcgs' target=\"_blank\">https://wandb.ai/MLBeasts/Walmart%20Recruiting%20-%20Store%20Sales%20Forecasting/runs/g7zxhcgs</a><br> View project at: <a href='https://wandb.ai/MLBeasts/Walmart%20Recruiting%20-%20Store%20Sales%20Forecasting' target=\"_blank\">https://wandb.ai/MLBeasts/Walmart%20Recruiting%20-%20Store%20Sales%20Forecasting</a><br>Synced 5 W&B file(s), 0 media file(s), 2 artifact file(s) and 0 other file(s)"
      ],
      "text/plain": [
       "<IPython.core.display.HTML object>"
      ]
     },
     "metadata": {},
     "output_type": "display_data"
    },
    {
     "data": {
      "text/html": [
       "Find logs at: <code>./wandb/run-20250707_141645-g7zxhcgs/logs</code>"
      ],
      "text/plain": [
       "<IPython.core.display.HTML object>"
      ]
     },
     "metadata": {},
     "output_type": "display_data"
    }
   ],
   "source": [
    "import wandb\n",
    "import joblib\n",
    "\n",
    "# fin_model = pipeline.fit(train.drop(columns=['Weekly_Sales'].copy()),train['Weekly_Sales'].copy())\n",
    "\n",
    "joblib.dump(nf_model, \"nbeats_run4.pkl\")\n",
    "wandb.init(project=\"Walmart Recruiting - Store Sales Forecasting\", name=\"nbeats:run4\")\n",
    "\n",
    "wandb.config.update({\n",
    "    'score_metric' : 'WMAE',\n",
    "    'score_policy' : {\n",
    "        'weight on holidays' : 5,\n",
    "        'weight on non_holidays' : 1\n",
    "    },\n",
    "    'model' : 'nbeats',\n",
    "    'learning_rate' : 0.001,\n",
    "    'weight_decay' : 0,\n",
    "    'batch_size' : 256,\n",
    "    'max_steps' : 25 * 104,\n",
    "    'input_size' : 52,\n",
    "    'horizon': 53,\n",
    "    'architecture' : ['identity', 'trend', 'seasonality'],\n",
    "    'n_blocks' : [1,1,1],\n",
    "    'random_state': 42,\n",
    "    'objective' : 'reg:squarederror',\n",
    "    'activation': 'ReLU',\n",
    "    'optimizer' : 'torch.optim.AdamW'\n",
    "})\n",
    "\n",
    "wandb.log({\n",
    "    'val_wmae': 1587.5858753093955\n",
    "})\n",
    "\n",
    "\n",
    "artifact = wandb.Artifact(\n",
    "    name=\"nbeats_run4\",\n",
    "    type=\"model\",\n",
    ")\n",
    "\n",
    "artifact.add_file(\"nbeats_run4.pkl\")\n",
    "wandb.log_artifact(artifact)\n",
    "\n",
    "wandb.finish()"
   ]
  }
 ],
 "metadata": {
  "kernelspec": {
   "display_name": "Python 3",
   "language": "python",
   "name": "python3"
  },
  "language_info": {
   "name": "python",
   "version": "3.13.3"
  }
 },
 "nbformat": 4,
 "nbformat_minor": 5
}

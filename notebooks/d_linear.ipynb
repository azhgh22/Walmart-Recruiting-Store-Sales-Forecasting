{
  "cells": [
    {
      "cell_type": "markdown",
      "metadata": {
        "id": "view-in-github",
        "colab_type": "text"
      },
      "source": [
        "<a href=\"https://colab.research.google.com/github/azhgh22/Walmart-Recruiting-Store-Sales-Forecasting/blob/main/notebooks/d_linear.ipynb\" target=\"_parent\"><img src=\"https://colab.research.google.com/assets/colab-badge.svg\" alt=\"Open In Colab\"/></a>"
      ]
    },
    {
      "cell_type": "code",
      "execution_count": 1,
      "id": "a8fa96ee",
      "metadata": {
        "id": "a8fa96ee"
      },
      "outputs": [],
      "source": [
        "%%capture\n",
        "from google.colab import drive\n",
        "drive.mount('/content/drive')\n",
        "\n",
        "from google.colab import userdata\n",
        "token = userdata.get('GITHUB_TOKEN')\n",
        "user_name = userdata.get('GITHUB_USERNAME')\n",
        "mail = userdata.get('GITHUB_MAIL')\n",
        "\n",
        "!git config --global user.name \"{user_name}\"\n",
        "!git config --global user.email \"{mail}\"\n",
        "!git clone https://{token}@github.com/azhgh22/Walmart-Recruiting-Store-Sales-Forecasting.git\n",
        "\n",
        "%cd Walmart-Recruiting-Store-Sales-Forecasting\n",
        "\n",
        "from google.colab import userdata\n",
        "! pip install -r ./requirements.txt\n",
        "kaggle_json_path = userdata.get('KAGGLE_JSON_PATH')\n",
        "! ./src/data_loader.sh -f {kaggle_json_path}"
      ]
    },
    {
      "cell_type": "markdown",
      "source": [
        "# **Read Data**"
      ],
      "metadata": {
        "id": "piqavJwtEc1k"
      },
      "id": "piqavJwtEc1k"
    },
    {
      "cell_type": "code",
      "source": [
        "# **Torch**\n",
        "\n",
        "import pandas as pd\n",
        "import numpy as np\n",
        "import matplotlib.pyplot as plt\n",
        "import seaborn as sns\n",
        "from sklearn.base import BaseEstimator, TransformerMixin\n",
        "import torch\n",
        "from neuralforecast import NeuralForecast\n",
        "from neuralforecast.models import NBEATS\n",
        "from neuralforecast.losses.pytorch import MSE\n",
        "\n",
        "from src.config import *\n",
        "\n",
        "stores = pd.read_csv(STORES_PATH)\n",
        "features = pd.read_csv(FEATURES_PATH)\n",
        "train = pd.read_csv(TRAIN_PATH)\n",
        "test = pd.read_csv(TEST_PATH)\n",
        "\n",
        "from src import data_loader, processing\n",
        "import importlib\n",
        "importlib.reload(processing)\n",
        "\n",
        "dataframes = data_loader.load_raw_data()\n",
        "df = processing.run_preprocessing(dataframes, process_test=False, merge_features=False, merge_stores=False)['train']\n",
        "X_train, y_train, X_valid, y_valid = processing.split_data_by_ratio(df, separate_target=True)\n",
        "\n",
        "print(f\"Shapes of train_df and valid_df: {X_train.shape}, {X_valid.shape}\")"
      ],
      "metadata": {
        "id": "ENO6sPcjECk5",
        "outputId": "a8c0581b-20d4-4cc6-df8c-dbeb9bcff8e4",
        "colab": {
          "base_uri": "https://localhost:8080/"
        }
      },
      "id": "ENO6sPcjECk5",
      "execution_count": 2,
      "outputs": [
        {
          "output_type": "stream",
          "name": "stdout",
          "text": [
            "Data loading complete.\n",
            "Shapes of train_df and valid_df: (337256, 4), (84314, 4)\n"
          ]
        }
      ]
    },
    {
      "cell_type": "code",
      "source": [
        "from itertools import product\n",
        "from neuralforecast.models import DLinear\n",
        "from models.neural_forecast_models import NeuralForecastModels\n",
        "from src.utils import wmae as compute_wmae\n",
        "import logging\n",
        "\n",
        "logging.getLogger().setLevel(logging.WARNING)\n",
        "logging.getLogger(\"neuralforecast\").setLevel(logging.WARNING)\n",
        "logging.getLogger(\"pytorch_lightning\").setLevel(logging.WARNING)\n",
        "logging.getLogger(\"lightning_fabric\").setLevel(logging.WARNING)\n",
        "\n",
        "def run_dlinear_cv(X_train, y_train, X_valid, y_valid,\n",
        "                            param_grid,\n",
        "                            fixed_params,\n",
        "                            return_all=False):\n",
        "    results = []\n",
        "\n",
        "    keys, values = zip(*param_grid.items())\n",
        "    for vals in product(*values):\n",
        "        params = dict(zip(keys, vals))\n",
        "        params.update(fixed_params)\n",
        "\n",
        "        params['enable_progress_bar'] = False\n",
        "        params['enable_model_summary'] = False\n",
        "\n",
        "        model = DLinear(**params)\n",
        "\n",
        "        nf_model = NeuralForecastModels(models=[model], model_names=['DLinear'], freq='W-FRI', one_model=True)\n",
        "        nf_model.fit(X_train, y_train)\n",
        "        y_pred = nf_model.predict(X_valid)\n",
        "        score = compute_wmae(y_valid, y_pred, X_valid['IsHoliday'])\n",
        "\n",
        "        result = {'wmae': score, 'preds': y_pred}\n",
        "        result.update(params)\n",
        "\n",
        "        results.append(result)\n",
        "        print(\" → \".join(f\"{k}={v}\" for k,v in params.items() if k not in ['enable_progress_bar','enable_model_summary']) + f\" → WMAE={score:.4f}\")\n",
        "\n",
        "    if return_all:\n",
        "        return results\n",
        "    else:\n",
        "        return min(results, key=lambda r: r['wmae'])"
      ],
      "metadata": {
        "id": "whgqNCdYErC-"
      },
      "id": "whgqNCdYErC-",
      "execution_count": 3,
      "outputs": []
    },
    {
      "cell_type": "markdown",
      "source": [
        "# **Tune input size**"
      ],
      "metadata": {
        "id": "Q2Rmis7QGSe1"
      },
      "id": "Q2Rmis7QGSe1"
    },
    {
      "cell_type": "code",
      "source": [
        "param_grid = {\n",
        "    'input_size' : [40,52,60,72],\n",
        "    # 'batch_size' : [32,64,128,256,512,1024]\n",
        "}\n",
        "\n",
        "fixed_params = {\n",
        "    'max_steps': 25 * 104,\n",
        "    'h': 53,\n",
        "    'random_seed': 42,\n",
        "    'batch_size' : 64,\n",
        "}\n",
        "\n",
        "best_result = run_dlinear_cv(\n",
        "    X_train, y_train, X_valid, y_valid,\n",
        "    param_grid=param_grid,\n",
        "    fixed_params=fixed_params,\n",
        "    return_all=False\n",
        ")\n",
        "\n",
        "print(\"\\nBest hyperparameters found:\")\n",
        "for param in param_grid.keys():\n",
        "    print(f\"  {param}: {best_result[param]}\")\n",
        "print(f\"Best WMAE: {best_result['wmae']:.4f}\")"
      ],
      "metadata": {
        "id": "YftmfyAfGV9p",
        "outputId": "c4bbf863-c1d4-44e6-b4c7-6b1a4b7e43ea",
        "colab": {
          "base_uri": "https://localhost:8080/"
        }
      },
      "id": "YftmfyAfGV9p",
      "execution_count": null,
      "outputs": [
        {
          "output_type": "stream",
          "name": "stdout",
          "text": [
            "input_size=40 → max_steps=2600 → h=53 → random_seed=42 → batch_size=64 → WMAE=1986.8671\n",
            "input_size=52 → max_steps=2600 → h=53 → random_seed=42 → batch_size=64 → WMAE=1697.3507\n",
            "input_size=60 → max_steps=2600 → h=53 → random_seed=42 → batch_size=64 → WMAE=1647.6388\n",
            "input_size=72 → max_steps=2600 → h=53 → random_seed=42 → batch_size=64 → WMAE=1991.4705\n",
            "\n",
            "Best hyperparameters found:\n",
            "  input_size: 60\n",
            "Best WMAE: 1647.6388\n"
          ]
        }
      ]
    },
    {
      "cell_type": "markdown",
      "source": [
        "# **Tune batch size**"
      ],
      "metadata": {
        "id": "oNFPmyIxHuBr"
      },
      "id": "oNFPmyIxHuBr"
    },
    {
      "cell_type": "code",
      "source": [
        "param_grid = {\n",
        "    # 'input_size' : [40,52,60,72],\n",
        "    'batch_size' : [32,64,128,256,512,1024]\n",
        "}\n",
        "\n",
        "fixed_params = {\n",
        "    'max_steps': 25 * 104,\n",
        "    'h': 53,\n",
        "    'random_seed': 42,\n",
        "    'input_size' : 60,\n",
        "    # 'batch_size' : 64,\n",
        "}\n",
        "\n",
        "best_result = run_dlinear_cv(\n",
        "    X_train, y_train, X_valid, y_valid,\n",
        "    param_grid=param_grid,\n",
        "    fixed_params=fixed_params,\n",
        "    return_all=False\n",
        ")\n",
        "\n",
        "print(\"\\nBest hyperparameters found:\")\n",
        "for param in param_grid.keys():\n",
        "    print(f\"  {param}: {best_result[param]}\")\n",
        "print(f\"Best WMAE: {best_result['wmae']:.4f}\")"
      ],
      "metadata": {
        "id": "ck1Aj5t-HtgI",
        "outputId": "4fc0566a-9503-462c-91d8-6046dfd9868c",
        "colab": {
          "base_uri": "https://localhost:8080/"
        }
      },
      "id": "ck1Aj5t-HtgI",
      "execution_count": null,
      "outputs": [
        {
          "output_type": "stream",
          "name": "stdout",
          "text": [
            "batch_size=32 → max_steps=2600 → h=53 → random_seed=42 → input_size=60 → WMAE=1658.2520\n",
            "batch_size=64 → max_steps=2600 → h=53 → random_seed=42 → input_size=60 → WMAE=1647.6388\n",
            "batch_size=128 → max_steps=2600 → h=53 → random_seed=42 → input_size=60 → WMAE=1642.6096\n",
            "batch_size=256 → max_steps=2600 → h=53 → random_seed=42 → input_size=60 → WMAE=1642.8322\n",
            "batch_size=512 → max_steps=2600 → h=53 → random_seed=42 → input_size=60 → WMAE=1641.7895\n",
            "batch_size=1024 → max_steps=2600 → h=53 → random_seed=42 → input_size=60 → WMAE=1643.3484\n",
            "\n",
            "Best hyperparameters found:\n",
            "  batch_size: 512\n",
            "Best WMAE: 1641.7895\n"
          ]
        }
      ]
    },
    {
      "cell_type": "markdown",
      "source": [
        "# **tune learning rate**"
      ],
      "metadata": {
        "id": "FkSV3O0rJGy7"
      },
      "id": "FkSV3O0rJGy7"
    },
    {
      "cell_type": "code",
      "source": [
        "param_grid = {\n",
        "    'learning_rate': [1e-2,1e-3,1e-4,1e-5]\n",
        "}\n",
        "\n",
        "fixed_params = {\n",
        "    'max_steps': 25 * 104,\n",
        "    'h': 53,\n",
        "    'random_seed': 42,\n",
        "    'input_size' : 60,\n",
        "    'batch_size' : 512,\n",
        "}\n",
        "\n",
        "best_result = run_dlinear_cv(\n",
        "    X_train, y_train, X_valid, y_valid,\n",
        "    param_grid=param_grid,\n",
        "    fixed_params=fixed_params,\n",
        "    return_all=False\n",
        ")\n",
        "\n",
        "print(\"\\nBest hyperparameters found:\")\n",
        "for param in param_grid.keys():\n",
        "    print(f\"  {param}: {best_result[param]}\")\n",
        "print(f\"Best WMAE: {best_result['wmae']:.4f}\")"
      ],
      "metadata": {
        "id": "EB3ARBs2JGZR",
        "outputId": "9ba61bbf-2527-411a-8dd1-f7acc6c9683b",
        "colab": {
          "base_uri": "https://localhost:8080/"
        }
      },
      "id": "EB3ARBs2JGZR",
      "execution_count": null,
      "outputs": [
        {
          "output_type": "stream",
          "name": "stdout",
          "text": [
            "learning_rate=0.01 → max_steps=2600 → h=53 → random_seed=42 → input_size=60 → batch_size=512 → WMAE=1661.9293\n",
            "learning_rate=0.001 → max_steps=2600 → h=53 → random_seed=42 → input_size=60 → batch_size=512 → WMAE=1660.3139\n",
            "learning_rate=0.0001 → max_steps=2600 → h=53 → random_seed=42 → input_size=60 → batch_size=512 → WMAE=1641.7895\n",
            "learning_rate=1e-05 → max_steps=2600 → h=53 → random_seed=42 → input_size=60 → batch_size=512 → WMAE=3234.4342\n",
            "\n",
            "Best hyperparameters found:\n",
            "  learning_rate: 0.0001\n",
            "Best WMAE: 1641.7895\n"
          ]
        }
      ]
    },
    {
      "cell_type": "markdown",
      "source": [
        "# **Tune scaler function**"
      ],
      "metadata": {
        "id": "cRtU5ZE2Kmvv"
      },
      "id": "cRtU5ZE2Kmvv"
    },
    {
      "cell_type": "code",
      "source": [
        "param_grid = {\n",
        "    'scaler_type': ['robust','minmax','standard','identity'],\n",
        "}\n",
        "\n",
        "fixed_params = {\n",
        "    'max_steps': 25 * 104,\n",
        "    'h': 53,\n",
        "    'random_seed': 42,\n",
        "    'input_size' : 60,\n",
        "    'batch_size' : 512,\n",
        "    'learning_rate' : 1e-4,\n",
        "}\n",
        "\n",
        "best_result = run_dlinear_cv(\n",
        "    X_train, y_train, X_valid, y_valid,\n",
        "    param_grid=param_grid,\n",
        "    fixed_params=fixed_params,\n",
        "    return_all=False\n",
        ")\n",
        "\n",
        "print(\"\\nBest hyperparameters found:\")\n",
        "for param in param_grid.keys():\n",
        "    print(f\"  {param}: {best_result[param]}\")\n",
        "print(f\"Best WMAE: {best_result['wmae']:.4f}\")"
      ],
      "metadata": {
        "id": "mbMzOzHHKl8t",
        "outputId": "0fcce334-bc79-4337-f219-bc671fcaed65",
        "colab": {
          "base_uri": "https://localhost:8080/"
        }
      },
      "id": "mbMzOzHHKl8t",
      "execution_count": 7,
      "outputs": [
        {
          "output_type": "stream",
          "name": "stdout",
          "text": [
            "scaler_type=robust → max_steps=2600 → h=53 → random_seed=42 → input_size=60 → batch_size=512 → learning_rate=0.0001 → WMAE=1640.2401\n",
            "scaler_type=minmax → max_steps=2600 → h=53 → random_seed=42 → input_size=60 → batch_size=512 → learning_rate=0.0001 → WMAE=1817.3580\n",
            "scaler_type=standard → max_steps=2600 → h=53 → random_seed=42 → input_size=60 → batch_size=512 → learning_rate=0.0001 → WMAE=1631.8249\n",
            "scaler_type=identity → max_steps=2600 → h=53 → random_seed=42 → input_size=60 → batch_size=512 → learning_rate=0.0001 → WMAE=1641.7895\n",
            "\n",
            "Best hyperparameters found:\n",
            "  scaler_type: standard\n",
            "Best WMAE: 1631.8249\n"
          ]
        }
      ]
    },
    {
      "cell_type": "code",
      "source": [
        "param_grid = {\n",
        "    'optimizer': [torch.optim.Adam,torch.optim.Adagrad,torch.optim.SGD,torch.optim.RMSprop,torch.optim.AdamW],\n",
        "    'learning_rate': [1e-2,1e-3,1e-4,1e-5]\n",
        "}\n",
        "\n",
        "fixed_params = {\n",
        "    'max_steps': 25 * 104,\n",
        "    'h': 53,\n",
        "    'random_seed': 42,\n",
        "    'input_size' : 60,\n",
        "    'batch_size' : 512,\n",
        "    # 'learning_rate' : 1e-4,\n",
        "    'scaler_type' : 'robust'\n",
        "}\n",
        "\n",
        "best_result = run_dlinear_cv(\n",
        "    X_train, y_train, X_valid, y_valid,\n",
        "    param_grid=param_grid,\n",
        "    fixed_params=fixed_params,\n",
        "    return_all=False\n",
        ")\n",
        "\n",
        "print(\"\\nBest hyperparameters found:\")\n",
        "for param in param_grid.keys():\n",
        "    print(f\"  {param}: {best_result[param]}\")\n",
        "print(f\"Best WMAE: {best_result['wmae']:.4f}\")"
      ],
      "metadata": {
        "id": "svyqa_8WwmxL",
        "outputId": "6e625d7f-6a74-4f44-8827-8e97fde26799",
        "colab": {
          "base_uri": "https://localhost:8080/"
        }
      },
      "id": "svyqa_8WwmxL",
      "execution_count": 9,
      "outputs": [
        {
          "output_type": "stream",
          "name": "stdout",
          "text": [
            "optimizer=<class 'torch.optim.adam.Adam'> → learning_rate=0.01 → max_steps=2600 → h=53 → random_seed=42 → input_size=60 → batch_size=512 → scaler_type=robust → WMAE=1656.5471\n",
            "optimizer=<class 'torch.optim.adam.Adam'> → learning_rate=0.001 → max_steps=2600 → h=53 → random_seed=42 → input_size=60 → batch_size=512 → scaler_type=robust → WMAE=1624.3064\n",
            "optimizer=<class 'torch.optim.adam.Adam'> → learning_rate=0.0001 → max_steps=2600 → h=53 → random_seed=42 → input_size=60 → batch_size=512 → scaler_type=robust → WMAE=1640.2401\n",
            "optimizer=<class 'torch.optim.adam.Adam'> → learning_rate=1e-05 → max_steps=2600 → h=53 → random_seed=42 → input_size=60 → batch_size=512 → scaler_type=robust → WMAE=2535.2774\n",
            "optimizer=<class 'torch.optim.adagrad.Adagrad'> → learning_rate=0.01 → max_steps=2600 → h=53 → random_seed=42 → input_size=60 → batch_size=512 → scaler_type=robust → WMAE=1592.9379\n",
            "optimizer=<class 'torch.optim.adagrad.Adagrad'> → learning_rate=0.001 → max_steps=2600 → h=53 → random_seed=42 → input_size=60 → batch_size=512 → scaler_type=robust → WMAE=1922.1756\n",
            "optimizer=<class 'torch.optim.adagrad.Adagrad'> → learning_rate=0.0001 → max_steps=2600 → h=53 → random_seed=42 → input_size=60 → batch_size=512 → scaler_type=robust → WMAE=2771.7279\n",
            "optimizer=<class 'torch.optim.adagrad.Adagrad'> → learning_rate=1e-05 → max_steps=2600 → h=53 → random_seed=42 → input_size=60 → batch_size=512 → scaler_type=robust → WMAE=2959.6045\n",
            "optimizer=<class 'torch.optim.sgd.SGD'> → learning_rate=0.01 → max_steps=2600 → h=53 → random_seed=42 → input_size=60 → batch_size=512 → scaler_type=robust → WMAE=1600.8449\n",
            "optimizer=<class 'torch.optim.sgd.SGD'> → learning_rate=0.001 → max_steps=2600 → h=53 → random_seed=42 → input_size=60 → batch_size=512 → scaler_type=robust → WMAE=2374.3590\n",
            "optimizer=<class 'torch.optim.sgd.SGD'> → learning_rate=0.0001 → max_steps=2600 → h=53 → random_seed=42 → input_size=60 → batch_size=512 → scaler_type=robust → WMAE=2889.1450\n",
            "optimizer=<class 'torch.optim.sgd.SGD'> → learning_rate=1e-05 → max_steps=2600 → h=53 → random_seed=42 → input_size=60 → batch_size=512 → scaler_type=robust → WMAE=2972.7313\n",
            "optimizer=<class 'torch.optim.rmsprop.RMSprop'> → learning_rate=0.01 → max_steps=2600 → h=53 → random_seed=42 → input_size=60 → batch_size=512 → scaler_type=robust → WMAE=1635.5272\n",
            "optimizer=<class 'torch.optim.rmsprop.RMSprop'> → learning_rate=0.001 → max_steps=2600 → h=53 → random_seed=42 → input_size=60 → batch_size=512 → scaler_type=robust → WMAE=1610.6386\n",
            "optimizer=<class 'torch.optim.rmsprop.RMSprop'> → learning_rate=0.0001 → max_steps=2600 → h=53 → random_seed=42 → input_size=60 → batch_size=512 → scaler_type=robust → WMAE=1619.2346\n",
            "optimizer=<class 'torch.optim.rmsprop.RMSprop'> → learning_rate=1e-05 → max_steps=2600 → h=53 → random_seed=42 → input_size=60 → batch_size=512 → scaler_type=robust → WMAE=2510.3809\n",
            "optimizer=<class 'torch.optim.adamw.AdamW'> → learning_rate=0.01 → max_steps=2600 → h=53 → random_seed=42 → input_size=60 → batch_size=512 → scaler_type=robust → WMAE=1652.2185\n",
            "optimizer=<class 'torch.optim.adamw.AdamW'> → learning_rate=0.001 → max_steps=2600 → h=53 → random_seed=42 → input_size=60 → batch_size=512 → scaler_type=robust → WMAE=1624.5248\n",
            "optimizer=<class 'torch.optim.adamw.AdamW'> → learning_rate=0.0001 → max_steps=2600 → h=53 → random_seed=42 → input_size=60 → batch_size=512 → scaler_type=robust → WMAE=1640.2911\n",
            "optimizer=<class 'torch.optim.adamw.AdamW'> → learning_rate=1e-05 → max_steps=2600 → h=53 → random_seed=42 → input_size=60 → batch_size=512 → scaler_type=robust → WMAE=2535.0078\n",
            "\n",
            "Best hyperparameters found:\n",
            "  optimizer: <class 'torch.optim.adagrad.Adagrad'>\n",
            "  learning_rate: 0.01\n",
            "Best WMAE: 1592.9379\n"
          ]
        }
      ]
    },
    {
      "cell_type": "code",
      "source": [
        "param_grid = {\n",
        "    'max_steps' : [75*104],\n",
        "    'learning_rate': [1e-2,1e-3,1e-4,1e-5]\n",
        "}\n",
        "\n",
        "fixed_params = {\n",
        "    # 'max_steps': 25 * 104,\n",
        "    'h': 53,\n",
        "    'random_seed': 42,\n",
        "    'input_size' : 60,\n",
        "    'batch_size' : 512,\n",
        "    # 'learning_rate' : 1e-2,\n",
        "    'scaler_type' : 'robust',\n",
        "    'optimizer' : torch.optim.Adagrad,\n",
        "}\n",
        "\n",
        "best_result = run_dlinear_cv(\n",
        "    X_train, y_train, X_valid, y_valid,\n",
        "    param_grid=param_grid,\n",
        "    fixed_params=fixed_params,\n",
        "    return_all=False\n",
        ")\n",
        "\n",
        "print(\"\\nBest hyperparameters found:\")\n",
        "for param in param_grid.keys():\n",
        "    print(f\"  {param}: {best_result[param]}\")\n",
        "print(f\"Best WMAE: {best_result['wmae']:.4f}\")"
      ],
      "metadata": {
        "id": "FqAGCn-91dPj",
        "outputId": "4cba7109-0b2f-4873-d396-2318c4599adb",
        "colab": {
          "base_uri": "https://localhost:8080/"
        }
      },
      "id": "FqAGCn-91dPj",
      "execution_count": 12,
      "outputs": [
        {
          "output_type": "stream",
          "name": "stdout",
          "text": [
            "max_steps=7800 → learning_rate=0.01 → h=53 → random_seed=42 → input_size=60 → batch_size=512 → scaler_type=robust → optimizer=<class 'torch.optim.adagrad.Adagrad'> → WMAE=1598.1066\n",
            "max_steps=7800 → learning_rate=0.001 → h=53 → random_seed=42 → input_size=60 → batch_size=512 → scaler_type=robust → optimizer=<class 'torch.optim.adagrad.Adagrad'> → WMAE=1725.5933\n",
            "max_steps=7800 → learning_rate=0.0001 → h=53 → random_seed=42 → input_size=60 → batch_size=512 → scaler_type=robust → optimizer=<class 'torch.optim.adagrad.Adagrad'> → WMAE=2652.5868\n",
            "max_steps=7800 → learning_rate=1e-05 → h=53 → random_seed=42 → input_size=60 → batch_size=512 → scaler_type=robust → optimizer=<class 'torch.optim.adagrad.Adagrad'> → WMAE=2944.5461\n",
            "\n",
            "Best hyperparameters found:\n",
            "  max_steps: 7800\n",
            "  learning_rate: 0.01\n",
            "Best WMAE: 1598.1066\n"
          ]
        }
      ]
    }
  ],
  "metadata": {
    "language_info": {
      "name": "python"
    },
    "colab": {
      "provenance": [],
      "gpuType": "T4",
      "include_colab_link": true
    },
    "accelerator": "GPU",
    "kernelspec": {
      "name": "python3",
      "display_name": "Python 3"
    }
  },
  "nbformat": 4,
  "nbformat_minor": 5
}
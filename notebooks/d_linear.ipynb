{
  "cells": [
    {
      "cell_type": "markdown",
      "metadata": {
        "id": "view-in-github",
        "colab_type": "text"
      },
      "source": [
        "<a href=\"https://colab.research.google.com/github/azhgh22/Walmart-Recruiting-Store-Sales-Forecasting/blob/main/notebooks/d_linear.ipynb\" target=\"_parent\"><img src=\"https://colab.research.google.com/assets/colab-badge.svg\" alt=\"Open In Colab\"/></a>"
      ]
    },
    {
      "cell_type": "code",
      "execution_count": null,
      "id": "a8fa96ee",
      "metadata": {
        "id": "a8fa96ee"
      },
      "outputs": [],
      "source": [
        "%%capture\n",
        "from google.colab import drive\n",
        "drive.mount('/content/drive')\n",
        "\n",
        "from google.colab import userdata\n",
        "token = userdata.get('GITHUB_TOKEN')\n",
        "user_name = userdata.get('GITHUB_USERNAME')\n",
        "mail = userdata.get('GITHUB_MAIL')\n",
        "\n",
        "!git config --global user.name \"{user_name}\"\n",
        "!git config --global user.email \"{mail}\"\n",
        "!git clone https://{token}@github.com/azhgh22/Walmart-Recruiting-Store-Sales-Forecasting.git\n",
        "\n",
        "%cd Walmart-Recruiting-Store-Sales-Forecasting\n",
        "\n",
        "from google.colab import userdata\n",
        "! pip install -r ./requirements.txt\n",
        "kaggle_json_path = userdata.get('KAGGLE_JSON_PATH')\n",
        "! ./src/data_loader.sh -f {kaggle_json_path}"
      ]
    },
    {
      "cell_type": "markdown",
      "source": [
        "# **Read Data**"
      ],
      "metadata": {
        "id": "piqavJwtEc1k"
      },
      "id": "piqavJwtEc1k"
    },
    {
      "cell_type": "code",
      "source": [
        "# **Torch**\n",
        "\n",
        "import pandas as pd\n",
        "import numpy as np\n",
        "import matplotlib.pyplot as plt\n",
        "import seaborn as sns\n",
        "from sklearn.base import BaseEstimator, TransformerMixin\n",
        "import torch\n",
        "from neuralforecast import NeuralForecast\n",
        "from neuralforecast.models import NBEATS\n",
        "from neuralforecast.losses.pytorch import MSE\n",
        "\n",
        "from src.config import *\n",
        "\n",
        "stores = pd.read_csv(STORES_PATH)\n",
        "features = pd.read_csv(FEATURES_PATH)\n",
        "train = pd.read_csv(TRAIN_PATH)\n",
        "test = pd.read_csv(TEST_PATH)\n",
        "\n",
        "from src import data_loader, processing\n",
        "import importlib\n",
        "importlib.reload(processing)\n",
        "\n",
        "dataframes = data_loader.load_raw_data()\n",
        "df = processing.run_preprocessing(dataframes, process_test=False, merge_features=False, merge_stores=False)['train']\n",
        "X_train, y_train, X_valid, y_valid = processing.split_data_by_ratio(df, separate_target=True)\n",
        "\n",
        "print(f\"Shapes of train_df and valid_df: {X_train.shape}, {X_valid.shape}\")"
      ],
      "metadata": {
        "id": "ENO6sPcjECk5",
        "outputId": "860be3c3-0206-4e56-d901-0c9386c45c5b",
        "colab": {
          "base_uri": "https://localhost:8080/"
        }
      },
      "id": "ENO6sPcjECk5",
      "execution_count": 3,
      "outputs": [
        {
          "output_type": "stream",
          "name": "stdout",
          "text": [
            "Data loading complete.\n",
            "Shapes of train_df and valid_df: (337256, 4), (84314, 4)\n"
          ]
        }
      ]
    },
    {
      "cell_type": "code",
      "source": [
        "from itertools import product\n",
        "from neuralforecast.models import DLinear\n",
        "from models.neural_forecast_models import NeuralForecastModels\n",
        "from src.utils import wmae as compute_wmae\n",
        "import logging\n",
        "\n",
        "logging.getLogger().setLevel(logging.WARNING)\n",
        "logging.getLogger(\"neuralforecast\").setLevel(logging.WARNING)\n",
        "logging.getLogger(\"pytorch_lightning\").setLevel(logging.WARNING)\n",
        "logging.getLogger(\"lightning_fabric\").setLevel(logging.WARNING)\n",
        "\n",
        "def run_dlinear_cv(X_train, y_train, X_valid, y_valid,\n",
        "                            param_grid,\n",
        "                            fixed_params,\n",
        "                            return_all=False):\n",
        "    results = []\n",
        "\n",
        "    keys, values = zip(*param_grid.items())\n",
        "    for vals in product(*values):\n",
        "        params = dict(zip(keys, vals))\n",
        "        params.update(fixed_params)\n",
        "\n",
        "        params['enable_progress_bar'] = False\n",
        "        params['enable_model_summary'] = False\n",
        "\n",
        "        model = DLinear(**params)\n",
        "\n",
        "        nf_model = NeuralForecastModels(models=[model], model_names=['DLinear'], freq='W-FRI', one_model=True)\n",
        "        nf_model.fit(X_train, y_train)\n",
        "        y_pred = nf_model.predict(X_valid)\n",
        "        score = compute_wmae(y_valid, y_pred, X_valid['IsHoliday'])\n",
        "\n",
        "        result = {'wmae': score, 'preds': y_pred}\n",
        "        result.update(params)\n",
        "\n",
        "        results.append(result)\n",
        "        print(\" → \".join(f\"{k}={v}\" for k,v in params.items() if k not in ['enable_progress_bar','enable_model_summary']) + f\" → WMAE={score:.4f}\")\n",
        "\n",
        "    if return_all:\n",
        "        return results\n",
        "    else:\n",
        "        return min(results, key=lambda r: r['wmae'])"
      ],
      "metadata": {
        "id": "whgqNCdYErC-"
      },
      "id": "whgqNCdYErC-",
      "execution_count": 4,
      "outputs": []
    },
    {
      "cell_type": "markdown",
      "source": [
        "# **Tune input size**"
      ],
      "metadata": {
        "id": "Q2Rmis7QGSe1"
      },
      "id": "Q2Rmis7QGSe1"
    },
    {
      "cell_type": "code",
      "source": [
        "param_grid = {\n",
        "    'input_size' : [40,52,60,72],\n",
        "    # 'batch_size' : [32,64,128,256,512,1024]\n",
        "}\n",
        "\n",
        "fixed_params = {\n",
        "    'max_steps': 25 * 104,\n",
        "    'h': 53,\n",
        "    'random_seed': 42,\n",
        "    'batch_size' : 64,\n",
        "}\n",
        "\n",
        "best_result = run_dlinear_cv(\n",
        "    X_train, y_train, X_valid, y_valid,\n",
        "    param_grid=param_grid,\n",
        "    fixed_params=fixed_params,\n",
        "    return_all=False\n",
        ")\n",
        "\n",
        "print(\"\\nBest hyperparameters found:\")\n",
        "for param in param_grid.keys():\n",
        "    print(f\"  {param}: {best_result[param]}\")\n",
        "print(f\"Best WMAE: {best_result['wmae']:.4f}\")"
      ],
      "metadata": {
        "id": "YftmfyAfGV9p",
        "outputId": "c4bbf863-c1d4-44e6-b4c7-6b1a4b7e43ea",
        "colab": {
          "base_uri": "https://localhost:8080/"
        }
      },
      "id": "YftmfyAfGV9p",
      "execution_count": 6,
      "outputs": [
        {
          "output_type": "stream",
          "name": "stdout",
          "text": [
            "input_size=40 → max_steps=2600 → h=53 → random_seed=42 → batch_size=64 → WMAE=1986.8671\n",
            "input_size=52 → max_steps=2600 → h=53 → random_seed=42 → batch_size=64 → WMAE=1697.3507\n",
            "input_size=60 → max_steps=2600 → h=53 → random_seed=42 → batch_size=64 → WMAE=1647.6388\n",
            "input_size=72 → max_steps=2600 → h=53 → random_seed=42 → batch_size=64 → WMAE=1991.4705\n",
            "\n",
            "Best hyperparameters found:\n",
            "  input_size: 60\n",
            "Best WMAE: 1647.6388\n"
          ]
        }
      ]
    },
    {
      "cell_type": "markdown",
      "source": [
        "# **Tune batch size**"
      ],
      "metadata": {
        "id": "oNFPmyIxHuBr"
      },
      "id": "oNFPmyIxHuBr"
    },
    {
      "cell_type": "code",
      "source": [
        "param_grid = {\n",
        "    # 'input_size' : [40,52,60,72],\n",
        "    'batch_size' : [32,64,128,256,512,1024]\n",
        "}\n",
        "\n",
        "fixed_params = {\n",
        "    'max_steps': 25 * 104,\n",
        "    'h': 53,\n",
        "    'random_seed': 42,\n",
        "    'input_size' : 60,\n",
        "    # 'batch_size' : 64,\n",
        "}\n",
        "\n",
        "best_result = run_dlinear_cv(\n",
        "    X_train, y_train, X_valid, y_valid,\n",
        "    param_grid=param_grid,\n",
        "    fixed_params=fixed_params,\n",
        "    return_all=False\n",
        ")\n",
        "\n",
        "print(\"\\nBest hyperparameters found:\")\n",
        "for param in param_grid.keys():\n",
        "    print(f\"  {param}: {best_result[param]}\")\n",
        "print(f\"Best WMAE: {best_result['wmae']:.4f}\")"
      ],
      "metadata": {
        "id": "ck1Aj5t-HtgI",
        "outputId": "4fc0566a-9503-462c-91d8-6046dfd9868c",
        "colab": {
          "base_uri": "https://localhost:8080/"
        }
      },
      "id": "ck1Aj5t-HtgI",
      "execution_count": 7,
      "outputs": [
        {
          "output_type": "stream",
          "name": "stdout",
          "text": [
            "batch_size=32 → max_steps=2600 → h=53 → random_seed=42 → input_size=60 → WMAE=1658.2520\n",
            "batch_size=64 → max_steps=2600 → h=53 → random_seed=42 → input_size=60 → WMAE=1647.6388\n",
            "batch_size=128 → max_steps=2600 → h=53 → random_seed=42 → input_size=60 → WMAE=1642.6096\n",
            "batch_size=256 → max_steps=2600 → h=53 → random_seed=42 → input_size=60 → WMAE=1642.8322\n",
            "batch_size=512 → max_steps=2600 → h=53 → random_seed=42 → input_size=60 → WMAE=1641.7895\n",
            "batch_size=1024 → max_steps=2600 → h=53 → random_seed=42 → input_size=60 → WMAE=1643.3484\n",
            "\n",
            "Best hyperparameters found:\n",
            "  batch_size: 512\n",
            "Best WMAE: 1641.7895\n"
          ]
        }
      ]
    },
    {
      "cell_type": "markdown",
      "source": [
        "# **tune learning rate**"
      ],
      "metadata": {
        "id": "FkSV3O0rJGy7"
      },
      "id": "FkSV3O0rJGy7"
    },
    {
      "cell_type": "code",
      "source": [
        "param_grid = {\n",
        "    'learning_rate': [1e-2,1e-3,1e-4,1e-5]\n",
        "}\n",
        "\n",
        "fixed_params = {\n",
        "    'max_steps': 25 * 104,\n",
        "    'h': 53,\n",
        "    'random_seed': 42,\n",
        "    'input_size' : 60,\n",
        "    'batch_size' : 512,\n",
        "}\n",
        "\n",
        "best_result = run_dlinear_cv(\n",
        "    X_train, y_train, X_valid, y_valid,\n",
        "    param_grid=param_grid,\n",
        "    fixed_params=fixed_params,\n",
        "    return_all=False\n",
        ")\n",
        "\n",
        "print(\"\\nBest hyperparameters found:\")\n",
        "for param in param_grid.keys():\n",
        "    print(f\"  {param}: {best_result[param]}\")\n",
        "print(f\"Best WMAE: {best_result['wmae']:.4f}\")"
      ],
      "metadata": {
        "id": "EB3ARBs2JGZR",
        "outputId": "9ba61bbf-2527-411a-8dd1-f7acc6c9683b",
        "colab": {
          "base_uri": "https://localhost:8080/"
        }
      },
      "id": "EB3ARBs2JGZR",
      "execution_count": 8,
      "outputs": [
        {
          "output_type": "stream",
          "name": "stdout",
          "text": [
            "learning_rate=0.01 → max_steps=2600 → h=53 → random_seed=42 → input_size=60 → batch_size=512 → WMAE=1661.9293\n",
            "learning_rate=0.001 → max_steps=2600 → h=53 → random_seed=42 → input_size=60 → batch_size=512 → WMAE=1660.3139\n",
            "learning_rate=0.0001 → max_steps=2600 → h=53 → random_seed=42 → input_size=60 → batch_size=512 → WMAE=1641.7895\n",
            "learning_rate=1e-05 → max_steps=2600 → h=53 → random_seed=42 → input_size=60 → batch_size=512 → WMAE=3234.4342\n",
            "\n",
            "Best hyperparameters found:\n",
            "  learning_rate: 0.0001\n",
            "Best WMAE: 1641.7895\n"
          ]
        }
      ]
    },
    {
      "cell_type": "markdown",
      "source": [
        "# **Tune activation function**"
      ],
      "metadata": {
        "id": "cRtU5ZE2Kmvv"
      },
      "id": "cRtU5ZE2Kmvv"
    },
    {
      "cell_type": "code",
      "source": [
        "param_grid = {\n",
        "    'activation': ['LeakyReLU','ReLU', 'Tanh','PReLU'],\n",
        "}\n",
        "\n",
        "fixed_params = {\n",
        "    'max_steps': 25 * 104,\n",
        "    'h': 53,\n",
        "    'random_seed': 42,\n",
        "    'input_size' : 60,\n",
        "    'batch_size' : 512,\n",
        "    'learning_rate' : 1e-4,\n",
        "}\n",
        "\n",
        "best_result = run_dlinear_cv(\n",
        "    X_train, y_train, X_valid, y_valid,\n",
        "    param_grid=param_grid,\n",
        "    fixed_params=fixed_params,\n",
        "    return_all=False\n",
        ")\n",
        "\n",
        "print(\"\\nBest hyperparameters found:\")\n",
        "for param in param_grid.keys():\n",
        "    print(f\"  {param}: {best_result[param]}\")\n",
        "print(f\"Best WMAE: {best_result['wmae']:.4f}\")"
      ],
      "metadata": {
        "id": "mbMzOzHHKl8t",
        "outputId": "a9477f0a-7760-42c5-dce7-297fa7b156f8",
        "colab": {
          "base_uri": "https://localhost:8080/",
          "height": 356
        }
      },
      "id": "mbMzOzHHKl8t",
      "execution_count": 20,
      "outputs": [
        {
          "output_type": "error",
          "ename": "TypeError",
          "evalue": "Trainer.__init__() got an unexpected keyword argument 'activation'",
          "traceback": [
            "\u001b[0;31m---------------------------------------------------------------------------\u001b[0m",
            "\u001b[0;31mTypeError\u001b[0m                                 Traceback (most recent call last)",
            "\u001b[0;32m/tmp/ipython-input-20-1739394880.py\u001b[0m in \u001b[0;36m<cell line: 0>\u001b[0;34m()\u001b[0m\n\u001b[1;32m     12\u001b[0m }\n\u001b[1;32m     13\u001b[0m \u001b[0;34m\u001b[0m\u001b[0m\n\u001b[0;32m---> 14\u001b[0;31m best_result = run_dlinear_cv(\n\u001b[0m\u001b[1;32m     15\u001b[0m     \u001b[0mX_train\u001b[0m\u001b[0;34m,\u001b[0m \u001b[0my_train\u001b[0m\u001b[0;34m,\u001b[0m \u001b[0mX_valid\u001b[0m\u001b[0;34m,\u001b[0m \u001b[0my_valid\u001b[0m\u001b[0;34m,\u001b[0m\u001b[0;34m\u001b[0m\u001b[0;34m\u001b[0m\u001b[0m\n\u001b[1;32m     16\u001b[0m     \u001b[0mparam_grid\u001b[0m\u001b[0;34m=\u001b[0m\u001b[0mparam_grid\u001b[0m\u001b[0;34m,\u001b[0m\u001b[0;34m\u001b[0m\u001b[0;34m\u001b[0m\u001b[0m\n",
            "\u001b[0;32m/tmp/ipython-input-4-794858534.py\u001b[0m in \u001b[0;36mrun_dlinear_cv\u001b[0;34m(X_train, y_train, X_valid, y_valid, param_grid, fixed_params, return_all)\u001b[0m\n\u001b[1;32m     27\u001b[0m \u001b[0;34m\u001b[0m\u001b[0m\n\u001b[1;32m     28\u001b[0m         \u001b[0mnf_model\u001b[0m \u001b[0;34m=\u001b[0m \u001b[0mNeuralForecastModels\u001b[0m\u001b[0;34m(\u001b[0m\u001b[0mmodels\u001b[0m\u001b[0;34m=\u001b[0m\u001b[0;34m[\u001b[0m\u001b[0mmodel\u001b[0m\u001b[0;34m]\u001b[0m\u001b[0;34m,\u001b[0m \u001b[0mmodel_names\u001b[0m\u001b[0;34m=\u001b[0m\u001b[0;34m[\u001b[0m\u001b[0;34m'DLinear'\u001b[0m\u001b[0;34m]\u001b[0m\u001b[0;34m,\u001b[0m \u001b[0mfreq\u001b[0m\u001b[0;34m=\u001b[0m\u001b[0;34m'W-FRI'\u001b[0m\u001b[0;34m,\u001b[0m \u001b[0mone_model\u001b[0m\u001b[0;34m=\u001b[0m\u001b[0;32mTrue\u001b[0m\u001b[0;34m)\u001b[0m\u001b[0;34m\u001b[0m\u001b[0;34m\u001b[0m\u001b[0m\n\u001b[0;32m---> 29\u001b[0;31m         \u001b[0mnf_model\u001b[0m\u001b[0;34m.\u001b[0m\u001b[0mfit\u001b[0m\u001b[0;34m(\u001b[0m\u001b[0mX_train\u001b[0m\u001b[0;34m,\u001b[0m \u001b[0my_train\u001b[0m\u001b[0;34m)\u001b[0m\u001b[0;34m\u001b[0m\u001b[0;34m\u001b[0m\u001b[0m\n\u001b[0m\u001b[1;32m     30\u001b[0m         \u001b[0my_pred\u001b[0m \u001b[0;34m=\u001b[0m \u001b[0mnf_model\u001b[0m\u001b[0;34m.\u001b[0m\u001b[0mpredict\u001b[0m\u001b[0;34m(\u001b[0m\u001b[0mX_valid\u001b[0m\u001b[0;34m)\u001b[0m\u001b[0;34m\u001b[0m\u001b[0;34m\u001b[0m\u001b[0m\n\u001b[1;32m     31\u001b[0m         \u001b[0mscore\u001b[0m \u001b[0;34m=\u001b[0m \u001b[0mcompute_wmae\u001b[0m\u001b[0;34m(\u001b[0m\u001b[0my_valid\u001b[0m\u001b[0;34m,\u001b[0m \u001b[0my_pred\u001b[0m\u001b[0;34m,\u001b[0m \u001b[0mX_valid\u001b[0m\u001b[0;34m[\u001b[0m\u001b[0;34m'IsHoliday'\u001b[0m\u001b[0;34m]\u001b[0m\u001b[0;34m)\u001b[0m\u001b[0;34m\u001b[0m\u001b[0;34m\u001b[0m\u001b[0m\n",
            "\u001b[0;32m/content/Walmart-Recruiting-Store-Sales-Forecasting/models/neural_forecast_models.py\u001b[0m in \u001b[0;36mfit\u001b[0;34m(self, X, y)\u001b[0m\n\u001b[1;32m     36\u001b[0m         \u001b[0mdf\u001b[0m \u001b[0;34m=\u001b[0m \u001b[0mself\u001b[0m\u001b[0;34m.\u001b[0m\u001b[0m_prepare_df\u001b[0m\u001b[0;34m(\u001b[0m\u001b[0mX\u001b[0m\u001b[0;34m,\u001b[0m \u001b[0my\u001b[0m\u001b[0;34m)\u001b[0m\u001b[0;34m\u001b[0m\u001b[0;34m\u001b[0m\u001b[0m\n\u001b[1;32m     37\u001b[0m         \u001b[0mself\u001b[0m\u001b[0;34m.\u001b[0m\u001b[0mnf\u001b[0m \u001b[0;34m=\u001b[0m \u001b[0mNeuralForecast\u001b[0m\u001b[0;34m(\u001b[0m\u001b[0mmodels\u001b[0m\u001b[0;34m=\u001b[0m\u001b[0mself\u001b[0m\u001b[0;34m.\u001b[0m\u001b[0mmodels\u001b[0m\u001b[0;34m,\u001b[0m \u001b[0mfreq\u001b[0m\u001b[0;34m=\u001b[0m\u001b[0mself\u001b[0m\u001b[0;34m.\u001b[0m\u001b[0mfreq\u001b[0m\u001b[0;34m)\u001b[0m\u001b[0;34m\u001b[0m\u001b[0;34m\u001b[0m\u001b[0m\n\u001b[0;32m---> 38\u001b[0;31m         \u001b[0mself\u001b[0m\u001b[0;34m.\u001b[0m\u001b[0mnf\u001b[0m\u001b[0;34m.\u001b[0m\u001b[0mfit\u001b[0m\u001b[0;34m(\u001b[0m\u001b[0mdf\u001b[0m\u001b[0;34m)\u001b[0m\u001b[0;34m\u001b[0m\u001b[0;34m\u001b[0m\u001b[0m\n\u001b[0m\u001b[1;32m     39\u001b[0m         \u001b[0mself\u001b[0m\u001b[0;34m.\u001b[0m\u001b[0mfitted\u001b[0m \u001b[0;34m=\u001b[0m \u001b[0;32mTrue\u001b[0m\u001b[0;34m\u001b[0m\u001b[0;34m\u001b[0m\u001b[0m\n\u001b[1;32m     40\u001b[0m \u001b[0;34m\u001b[0m\u001b[0m\n",
            "\u001b[0;32m/usr/local/lib/python3.11/dist-packages/neuralforecast/core.py\u001b[0m in \u001b[0;36mfit\u001b[0;34m(self, df, static_df, val_size, use_init_models, verbose, id_col, time_col, target_col, distributed_config, prediction_intervals)\u001b[0m\n\u001b[1;32m    560\u001b[0m \u001b[0;34m\u001b[0m\u001b[0m\n\u001b[1;32m    561\u001b[0m         \u001b[0;32mfor\u001b[0m \u001b[0mi\u001b[0m\u001b[0;34m,\u001b[0m \u001b[0mmodel\u001b[0m \u001b[0;32min\u001b[0m \u001b[0menumerate\u001b[0m\u001b[0;34m(\u001b[0m\u001b[0mself\u001b[0m\u001b[0;34m.\u001b[0m\u001b[0mmodels\u001b[0m\u001b[0;34m)\u001b[0m\u001b[0;34m:\u001b[0m\u001b[0;34m\u001b[0m\u001b[0;34m\u001b[0m\u001b[0m\n\u001b[0;32m--> 562\u001b[0;31m             self.models[i] = model.fit(\n\u001b[0m\u001b[1;32m    563\u001b[0m                 \u001b[0mself\u001b[0m\u001b[0;34m.\u001b[0m\u001b[0mdataset\u001b[0m\u001b[0;34m,\u001b[0m \u001b[0mval_size\u001b[0m\u001b[0;34m=\u001b[0m\u001b[0mval_size\u001b[0m\u001b[0;34m,\u001b[0m \u001b[0mdistributed_config\u001b[0m\u001b[0;34m=\u001b[0m\u001b[0mdistributed_config\u001b[0m\u001b[0;34m\u001b[0m\u001b[0;34m\u001b[0m\u001b[0m\n\u001b[1;32m    564\u001b[0m             )\n",
            "\u001b[0;32m/usr/local/lib/python3.11/dist-packages/neuralforecast/common/_base_model.py\u001b[0m in \u001b[0;36mfit\u001b[0;34m(self, dataset, val_size, test_size, random_seed, distributed_config)\u001b[0m\n\u001b[1;32m   1484\u001b[0m         \u001b[0;31m`\u001b[0m\u001b[0mtest_size\u001b[0m\u001b[0;31m`\u001b[0m\u001b[0;34m:\u001b[0m \u001b[0mint\u001b[0m\u001b[0;34m,\u001b[0m \u001b[0mtest\u001b[0m \u001b[0msize\u001b[0m \u001b[0;32mfor\u001b[0m \u001b[0mtemporal\u001b[0m \u001b[0mcross\u001b[0m\u001b[0;34m-\u001b[0m\u001b[0mvalidation\u001b[0m\u001b[0;34m.\u001b[0m\u001b[0;34m<\u001b[0m\u001b[0mbr\u001b[0m\u001b[0;34m>\u001b[0m\u001b[0;34m\u001b[0m\u001b[0;34m\u001b[0m\u001b[0m\n\u001b[1;32m   1485\u001b[0m         \"\"\"\n\u001b[0;32m-> 1486\u001b[0;31m         return self._fit(\n\u001b[0m\u001b[1;32m   1487\u001b[0m             \u001b[0mdataset\u001b[0m\u001b[0;34m=\u001b[0m\u001b[0mdataset\u001b[0m\u001b[0;34m,\u001b[0m\u001b[0;34m\u001b[0m\u001b[0;34m\u001b[0m\u001b[0m\n\u001b[1;32m   1488\u001b[0m             \u001b[0mbatch_size\u001b[0m\u001b[0;34m=\u001b[0m\u001b[0mself\u001b[0m\u001b[0;34m.\u001b[0m\u001b[0mbatch_size\u001b[0m\u001b[0;34m,\u001b[0m\u001b[0;34m\u001b[0m\u001b[0;34m\u001b[0m\u001b[0m\n",
            "\u001b[0;32m/usr/local/lib/python3.11/dist-packages/neuralforecast/common/_base_model.py\u001b[0m in \u001b[0;36m_fit\u001b[0;34m(self, dataset, batch_size, valid_batch_size, val_size, test_size, random_seed, shuffle_train, distributed_config)\u001b[0m\n\u001b[1;32m    545\u001b[0m         \u001b[0;32mif\u001b[0m \u001b[0mis_local\u001b[0m\u001b[0;34m:\u001b[0m\u001b[0;34m\u001b[0m\u001b[0;34m\u001b[0m\u001b[0m\n\u001b[1;32m    546\u001b[0m             \u001b[0mmodel\u001b[0m \u001b[0;34m=\u001b[0m \u001b[0mself\u001b[0m\u001b[0;34m\u001b[0m\u001b[0;34m\u001b[0m\u001b[0m\n\u001b[0;32m--> 547\u001b[0;31m             \u001b[0mtrainer\u001b[0m \u001b[0;34m=\u001b[0m \u001b[0mpl\u001b[0m\u001b[0;34m.\u001b[0m\u001b[0mTrainer\u001b[0m\u001b[0;34m(\u001b[0m\u001b[0;34m**\u001b[0m\u001b[0mmodel\u001b[0m\u001b[0;34m.\u001b[0m\u001b[0mtrainer_kwargs\u001b[0m\u001b[0;34m)\u001b[0m\u001b[0;34m\u001b[0m\u001b[0;34m\u001b[0m\u001b[0m\n\u001b[0m\u001b[1;32m    548\u001b[0m             \u001b[0mtrainer\u001b[0m\u001b[0;34m.\u001b[0m\u001b[0mfit\u001b[0m\u001b[0;34m(\u001b[0m\u001b[0mmodel\u001b[0m\u001b[0;34m,\u001b[0m \u001b[0mdatamodule\u001b[0m\u001b[0;34m=\u001b[0m\u001b[0mdatamodule\u001b[0m\u001b[0;34m)\u001b[0m\u001b[0;34m\u001b[0m\u001b[0;34m\u001b[0m\u001b[0m\n\u001b[1;32m    549\u001b[0m             \u001b[0mmodel\u001b[0m\u001b[0;34m.\u001b[0m\u001b[0mmetrics\u001b[0m \u001b[0;34m=\u001b[0m \u001b[0mtrainer\u001b[0m\u001b[0;34m.\u001b[0m\u001b[0mcallback_metrics\u001b[0m\u001b[0;34m\u001b[0m\u001b[0;34m\u001b[0m\u001b[0m\n",
            "\u001b[0;32m/usr/local/lib/python3.11/dist-packages/pytorch_lightning/utilities/argparse.py\u001b[0m in \u001b[0;36minsert_env_defaults\u001b[0;34m(self, *args, **kwargs)\u001b[0m\n\u001b[1;32m     68\u001b[0m \u001b[0;34m\u001b[0m\u001b[0m\n\u001b[1;32m     69\u001b[0m         \u001b[0;31m# all args were already moved to kwargs\u001b[0m\u001b[0;34m\u001b[0m\u001b[0;34m\u001b[0m\u001b[0m\n\u001b[0;32m---> 70\u001b[0;31m         \u001b[0;32mreturn\u001b[0m \u001b[0mfn\u001b[0m\u001b[0;34m(\u001b[0m\u001b[0mself\u001b[0m\u001b[0;34m,\u001b[0m \u001b[0;34m**\u001b[0m\u001b[0mkwargs\u001b[0m\u001b[0;34m)\u001b[0m\u001b[0;34m\u001b[0m\u001b[0;34m\u001b[0m\u001b[0m\n\u001b[0m\u001b[1;32m     71\u001b[0m \u001b[0;34m\u001b[0m\u001b[0m\n\u001b[1;32m     72\u001b[0m     \u001b[0;32mreturn\u001b[0m \u001b[0mcast\u001b[0m\u001b[0;34m(\u001b[0m\u001b[0m_T\u001b[0m\u001b[0;34m,\u001b[0m \u001b[0minsert_env_defaults\u001b[0m\u001b[0;34m)\u001b[0m\u001b[0;34m\u001b[0m\u001b[0;34m\u001b[0m\u001b[0m\n",
            "\u001b[0;31mTypeError\u001b[0m: Trainer.__init__() got an unexpected keyword argument 'activation'"
          ]
        }
      ]
    }
  ],
  "metadata": {
    "language_info": {
      "name": "python"
    },
    "colab": {
      "provenance": [],
      "gpuType": "T4",
      "include_colab_link": true
    },
    "accelerator": "GPU",
    "kernelspec": {
      "name": "python3",
      "display_name": "Python 3"
    }
  },
  "nbformat": 4,
  "nbformat_minor": 5
}
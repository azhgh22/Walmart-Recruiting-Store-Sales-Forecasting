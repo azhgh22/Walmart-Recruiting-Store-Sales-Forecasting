{
 "cells": [
  {
   "cell_type": "code",
   "execution_count": null,
   "id": "7f97a322",
   "metadata": {},
   "outputs": [],
   "source": [
    "from google.colab import drive\n",
    "drive.mount('/content/drive')\n",
    "\n",
    "from google.colab import userdata\n",
    "token = userdata.get('GITHUB_TOKEN')\n",
    "user_name = userdata.get('GITHUB_USERNAME')\n",
    "mail = userdata.get('GITHUB_MAIL')\n",
    "\n",
    "!git config --global user.name \"{user_name}\"\n",
    "!git config --global user.email \"{mail}\"\n",
    "!git clone https://{token}@github.com/azhgh22/Walmart-Recruiting-Store-Sales-Forecasting.git\n",
    "\n",
    "%cd Walmart-Recruiting-Store-Sales-Forecasting\n",
    "\n",
    "from google.colab import userdata\n",
    "! pip install -r ./requirements.txt\n",
    "kaggle_json_path = userdata.get('KAGGLE_JSON_PATH')\n",
    "! ./src/data_loader.sh -f {kaggle_json_path}"
   ]
  },
  {
   "cell_type": "code",
   "execution_count": 1,
   "id": "056809de",
   "metadata": {},
   "outputs": [
    {
     "name": "stderr",
     "output_type": "stream",
     "text": [
      "Matplotlib is building the font cache; this may take a moment.\n"
     ]
    },
    {
     "ename": "ModuleNotFoundError",
     "evalue": "No module named 'seaborn'",
     "output_type": "error",
     "traceback": [
      "\u001b[31m---------------------------------------------------------------------------\u001b[39m",
      "\u001b[31mModuleNotFoundError\u001b[39m                       Traceback (most recent call last)",
      "\u001b[36mCell\u001b[39m\u001b[36m \u001b[39m\u001b[32mIn[1]\u001b[39m\u001b[32m, line 6\u001b[39m\n\u001b[32m      4\u001b[39m \u001b[38;5;28;01mimport\u001b[39;00m\u001b[38;5;250m \u001b[39m\u001b[34;01mnumpy\u001b[39;00m\u001b[38;5;250m \u001b[39m\u001b[38;5;28;01mas\u001b[39;00m\u001b[38;5;250m \u001b[39m\u001b[34;01mnp\u001b[39;00m\n\u001b[32m      5\u001b[39m \u001b[38;5;28;01mimport\u001b[39;00m\u001b[38;5;250m \u001b[39m\u001b[34;01mmatplotlib\u001b[39;00m\u001b[34;01m.\u001b[39;00m\u001b[34;01mpyplot\u001b[39;00m\u001b[38;5;250m \u001b[39m\u001b[38;5;28;01mas\u001b[39;00m\u001b[38;5;250m \u001b[39m\u001b[34;01mplt\u001b[39;00m\n\u001b[32m----> \u001b[39m\u001b[32m6\u001b[39m \u001b[38;5;28;01mimport\u001b[39;00m\u001b[38;5;250m \u001b[39m\u001b[34;01mseaborn\u001b[39;00m\u001b[38;5;250m \u001b[39m\u001b[38;5;28;01mas\u001b[39;00m\u001b[38;5;250m \u001b[39m\u001b[34;01msns\u001b[39;00m\n\u001b[32m      8\u001b[39m \u001b[38;5;28;01mfrom\u001b[39;00m\u001b[38;5;250m \u001b[39m\u001b[34;01msrc\u001b[39;00m\u001b[34;01m.\u001b[39;00m\u001b[34;01mconfig\u001b[39;00m\u001b[38;5;250m \u001b[39m\u001b[38;5;28;01mimport\u001b[39;00m *\n\u001b[32m     10\u001b[39m stores = pd.read_csv(STORES_PATH)\n",
      "\u001b[31mModuleNotFoundError\u001b[39m: No module named 'seaborn'"
     ]
    }
   ],
   "source": [
    "# **Torch**\n",
    "\n",
    "import pandas as pd\n",
    "import numpy as np\n",
    "import matplotlib.pyplot as plt\n",
    "import seaborn as sns\n",
    "\n",
    "from src.config import *\n",
    "\n",
    "stores = pd.read_csv(STORES_PATH)\n",
    "features = pd.read_csv(FEATURES_PATH)\n",
    "train = pd.read_csv(TRAIN_PATH)\n",
    "test = pd.read_csv(TEST_PATH)\n",
    "\n",
    "train['Date'] = pd.to_datetime(train.Date)\n",
    "\n",
    "from src.processing import split_data\n",
    "x_train,y_train,x_val,y_val = split_data(train)\n"
   ]
  },
  {
   "cell_type": "code",
   "execution_count": null,
   "id": "5cbc737c",
   "metadata": {},
   "outputs": [],
   "source": [
    "## **Data creation**\n",
    "\n",
    "def create_data_nbeats(x_train:pd.DataFrame,y_train:pd.DataFrame) -> pd.DataFrame:\n",
    "    df = pd.DataFrame()\n",
    "\n",
    "    df = df.reset_index()\n",
    "    df[\"Date\"] = x_train.Date\n",
    "    df[\"Store\"] = x_train.Store\n",
    "    df[\"Dept\"] = x_train.Dept\n",
    "    df[\"y\"] = y_train.values\n",
    "\n",
    "    df.rename(columns={\"Date\": \"ds\"}, inplace=True)\n",
    "    df[\"unique_id\"] = df[\"Store\"].astype(str) + \"_\" + df[\"Dept\"].astype(str)\n",
    "\n",
    "    df = df[[\"unique_id\", \"ds\", \"y\"]].copy()\n",
    "    df = df.sort_values(by=[\"ds\"])\n",
    "    # df.reset_index(drop=True, inplace=True)\n",
    "    return df\n"
   ]
  },
  {
   "cell_type": "code",
   "execution_count": null,
   "id": "05289ac8",
   "metadata": {},
   "outputs": [],
   "source": [
    "import torch\n",
    "from neuralforecast.models import NBEATS\n",
    "from neuralforecast.losses.pytorch import MSE\n",
    "import logging\n",
    "\n",
    "df = create_data_nbeats(x_train,y_train)\n",
    "\n",
    "model = NBEATS(\n",
    "    h=48,\n",
    "    input_size=52,\n",
    "    loss=MSE(),\n",
    "    max_steps=10*104,\n",
    "    batch_size=32,\n",
    "    learning_rate=0.001,\n",
    "    shared_weights=True,\n",
    "    stack_types=('identity','trend','identity','seasonality', 'identity','identity'),\n",
    "    n_blocks = [3,3,3,3,3,3],\n",
    "    random_seed=42,\n",
    "    accelerator='gpu',     # <--- Correct: This is an NBEATS argument now\n",
    "    devices=1,             # <--- Correct: This is an NBEATS argument now\n",
    "    logger=False,          # <--- Correct: This is an NBEATS argument now\n",
    "    enable_progress_bar=False,\n",
    "    enable_model_summary=False\n",
    "\n",
    ")\n",
    "nf = NeuralForecast(models=[model], freq='W-FRI')\n",
    "nf.fit(df)"
   ]
  },
  {
   "cell_type": "code",
   "execution_count": null,
   "id": "249e813e",
   "metadata": {},
   "outputs": [],
   "source": [
    "preds = nf.predict()\n",
    "\n",
    "print(preds.shape)\n",
    "print(x_val.shape)\n",
    "\n",
    "from src.utils import wmae\n",
    "\n",
    "real = create_data_nbeats(x_val,y_val)\n",
    "merged = pd.merge(real, preds, on=)\n",
    "holidays = x_val['IsHoliday']\n",
    "wmae(y_val,forecast.predict(x_val),holidays)"
   ]
  },
  {
   "cell_type": "code",
   "execution_count": null,
   "id": "ca2dfdcb",
   "metadata": {},
   "outputs": [],
   "source": [
    "# forecast.predict(x_val)\n",
    "\n",
    "plt.figure(figsize=(12, 6))\n",
    "plt.plot(x_val.Date, y_val, label='Weekly Sales val true', color='blue')\n",
    "plt.plot(x_train.Date, y_train, label='Weekly Sales val true', color='red')\n",
    "plt.plot(x_val.Date, forecast.NBEATS, label='Weekly Sales val predicted', color='green')\n",
    "# plt.scatter(holidays['Date'], holidays['Weekly_Sales'], color='red', label='Holiday', zorder=5)\n",
    "\n",
    "plt.title(\"Weekly Sales Over Time (Holidays Highlighted)\")\n",
    "plt.xlabel(\"Time (Weeks)\")\n",
    "plt.ylabel(\"Weekly Sales\")\n",
    "plt.legend()\n",
    "plt.grid(True)\n",
    "plt.show()"
   ]
  }
 ],
 "metadata": {
  "kernelspec": {
   "display_name": "Python 3",
   "language": "python",
   "name": "python3"
  },
  "language_info": {
   "codemirror_mode": {
    "name": "ipython",
    "version": 3
   },
   "file_extension": ".py",
   "mimetype": "text/x-python",
   "name": "python",
   "nbconvert_exporter": "python",
   "pygments_lexer": "ipython3",
   "version": "3.13.3"
  }
 },
 "nbformat": 4,
 "nbformat_minor": 5
}

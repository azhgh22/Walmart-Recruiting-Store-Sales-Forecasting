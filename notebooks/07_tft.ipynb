{
  "cells": [
    {
      "cell_type": "markdown",
      "metadata": {
        "id": "view-in-github",
        "colab_type": "text"
      },
      "source": [
        "<a href=\"https://colab.research.google.com/github/azhgh22/Walmart-Recruiting-Store-Sales-Forecasting/blob/main/notebooks/tft.ipynb\" target=\"_parent\"><img src=\"https://colab.research.google.com/assets/colab-badge.svg\" alt=\"Open In Colab\"/></a>"
      ]
    },
    {
      "cell_type": "markdown",
      "source": [
        "## Notebook Overview\n",
        "\n",
        "\n"
      ],
      "metadata": {
        "id": "E_PRroQiPbIh"
      }
    },
    {
      "cell_type": "markdown",
      "source": [
        "This notebook focuses on assessing the effectiveness of the **Temporal Fusion Transformer (TFT)** neural network model for our forecasting task.\n",
        "\n",
        "Our approach includes:\n",
        "\n",
        "- Applying the TFT model to our dataset.\n",
        "- Conducting hyperparameter tuning to find the optimal model settings.\n",
        "- Training the model exclusively on time series inputs — specifically using only the **store**, **department**, and **date** features — without incorporating additional external variables."
      ],
      "metadata": {
        "id": "1VVQEwFDPdfp"
      }
    },
    {
      "cell_type": "markdown",
      "metadata": {
        "id": "VHiAbF46zcRA"
      },
      "source": [
        "# Notebook Setup"
      ]
    },
    {
      "cell_type": "markdown",
      "metadata": {
        "id": "xVwRoP1Il_-b"
      },
      "source": [
        "The following setup is provided as a basic example for initializing the notebook environment. It includes necessary imports, optional configuration, and a placeholder for data loading or downloading.\n",
        "\n",
        "This section is **not part of the core model logic**, and the code here may vary depending on your environment or data access method."
      ]
    },
    {
      "cell_type": "markdown",
      "metadata": {
        "id": "LjrevTEVmrKE"
      },
      "source": [
        "## Setup Environment\n"
      ]
    },
    {
      "cell_type": "code",
      "execution_count": 1,
      "metadata": {
        "colab": {
          "base_uri": "https://localhost:8080/"
        },
        "id": "eFytplbW1H5E",
        "outputId": "8e77c672-65aa-479c-8352-6cdb01226e38"
      },
      "outputs": [
        {
          "output_type": "stream",
          "name": "stdout",
          "text": [
            "Mounted at /content/drive\n"
          ]
        }
      ],
      "source": [
        "from google.colab import drive\n",
        "drive.mount('/content/drive')"
      ]
    },
    {
      "cell_type": "code",
      "execution_count": 2,
      "metadata": {
        "colab": {
          "base_uri": "https://localhost:8080/"
        },
        "id": "fkYQEp-uzdmm",
        "outputId": "89d95e83-8a23-4235-90b1-bfcb30087fa2"
      },
      "outputs": [
        {
          "output_type": "stream",
          "name": "stdout",
          "text": [
            "Cloning into 'Walmart-Recruiting-Store-Sales-Forecasting'...\n",
            "remote: Enumerating objects: 462, done.\u001b[K\n",
            "remote: Counting objects: 100% (58/58), done.\u001b[K\n",
            "remote: Compressing objects: 100% (47/47), done.\u001b[K\n",
            "remote: Total 462 (delta 31), reused 18 (delta 11), pack-reused 404 (from 1)\u001b[K\n",
            "Receiving objects: 100% (462/462), 9.12 MiB | 13.17 MiB/s, done.\n",
            "Resolving deltas: 100% (249/249), done.\n",
            "/content/Walmart-Recruiting-Store-Sales-Forecasting\n"
          ]
        }
      ],
      "source": [
        "from google.colab import userdata\n",
        "token = userdata.get('GITHUB_TOKEN')\n",
        "user_name = userdata.get('GITHUB_USERNAME')\n",
        "mail = userdata.get('GITHUB_MAIL')\n",
        "\n",
        "!git config --global user.name \"{user_name}\"\n",
        "!git config --global user.email \"{mail}\"\n",
        "!git clone https://{token}@github.com/azhgh22/Walmart-Recruiting-Store-Sales-Forecasting.git\n",
        "\n",
        "%cd Walmart-Recruiting-Store-Sales-Forecasting"
      ]
    },
    {
      "cell_type": "code",
      "execution_count": 3,
      "metadata": {
        "id": "2slMc4nq3esY"
      },
      "outputs": [],
      "source": [
        "%%capture\n",
        "!pip install -r requirements.txt"
      ]
    },
    {
      "cell_type": "code",
      "execution_count": 4,
      "metadata": {
        "id": "_vSvSwpw4Qqj"
      },
      "outputs": [],
      "source": [
        "%%capture\n",
        "from google.colab import userdata\n",
        "kaggle_json_path = userdata.get('KAGGLE_JSON_PATH')\n",
        "! ./src/data_loader.sh -f {kaggle_json_path}"
      ]
    },
    {
      "cell_type": "code",
      "execution_count": 5,
      "metadata": {
        "colab": {
          "base_uri": "https://localhost:8080/"
        },
        "id": "z0W9kKnYkbg7",
        "outputId": "ad418e0e-0ec1-4692-91b4-d4ee2f92edf7"
      },
      "outputs": [
        {
          "output_type": "stream",
          "name": "stdout",
          "text": [
            "\u001b[34m\u001b[1mwandb\u001b[0m: \u001b[33mWARNING\u001b[0m If you're specifying your api key in code, ensure this code is not shared publicly.\n",
            "\u001b[34m\u001b[1mwandb\u001b[0m: \u001b[33mWARNING\u001b[0m Consider setting the WANDB_API_KEY environment variable, or running `wandb login` from the command line.\n",
            "\u001b[34m\u001b[1mwandb\u001b[0m: No netrc file found, creating one.\n",
            "\u001b[34m\u001b[1mwandb\u001b[0m: Appending key for api.wandb.ai to your netrc file: /root/.netrc\n",
            "\u001b[34m\u001b[1mwandb\u001b[0m: W&B API key is configured. Use \u001b[1m`wandb login --relogin`\u001b[0m to force relogin\n"
          ]
        }
      ],
      "source": [
        "from google.colab import userdata\n",
        "wandb_api_key = userdata.get('WANDB_API_LOGIN')\n",
        "!wandb login {wandb_api_key}"
      ]
    },
    {
      "cell_type": "markdown",
      "metadata": {
        "id": "DVbdZIJo199V"
      },
      "source": [
        "## Load and Split Data"
      ]
    },
    {
      "cell_type": "code",
      "execution_count": 6,
      "metadata": {
        "colab": {
          "base_uri": "https://localhost:8080/"
        },
        "id": "QX_ddIHAk7M_",
        "outputId": "1d35e8d9-df2b-46b6-e3fa-db90518a0225"
      },
      "outputs": [
        {
          "output_type": "stream",
          "name": "stdout",
          "text": [
            "Data loading complete.\n",
            "Shapes of train_df and valid_df: (337256, 15), (84314, 15)\n"
          ]
        }
      ],
      "source": [
        "from src import data_loader, processing\n",
        "import importlib\n",
        "importlib.reload(processing)\n",
        "\n",
        "dataframes = data_loader.load_raw_data()\n",
        "df = processing.run_preprocessing(dataframes, process_test=False, merge_features=True, merge_stores=True)['train']\n",
        "X_train, y_train, X_valid, y_valid = processing.split_data_by_ratio(df, separate_target=True)\n",
        "\n",
        "print(f\"Shapes of train_df and valid_df: {X_train.shape}, {X_valid.shape}\")"
      ]
    },
    {
      "cell_type": "code",
      "execution_count": 7,
      "metadata": {
        "colab": {
          "base_uri": "https://localhost:8080/",
          "height": 444
        },
        "id": "l6L-ODoqlb6r",
        "outputId": "fe5886fb-bbce-48a8-939f-4b082a8c34ee"
      },
      "outputs": [
        {
          "output_type": "execute_result",
          "data": {
            "text/plain": [
              "        Store  Dept       Date  IsHoliday  Temperature  Fuel_Price  MarkDown1  \\\n",
              "0           1     1 2010-02-05      False        42.31       2.572        NaN   \n",
              "1           1     2 2010-02-05      False        42.31       2.572        NaN   \n",
              "2           1     3 2010-02-05      False        42.31       2.572        NaN   \n",
              "3           1     4 2010-02-05      False        42.31       2.572        NaN   \n",
              "4           1     5 2010-02-05      False        42.31       2.572        NaN   \n",
              "...       ...   ...        ...        ...          ...         ...        ...   \n",
              "337251     22    27 2012-04-13      False        49.89       4.025     5981.5   \n",
              "337252     22    28 2012-04-13      False        49.89       4.025     5981.5   \n",
              "337253     22    29 2012-04-13      False        49.89       4.025     5981.5   \n",
              "337254     22    30 2012-04-13      False        49.89       4.025     5981.5   \n",
              "337255     22    31 2012-04-13      False        49.89       4.025     5981.5   \n",
              "\n",
              "        MarkDown2  MarkDown3  MarkDown4  MarkDown5         CPI  Unemployment  \\\n",
              "0             NaN        NaN        NaN        NaN  211.096358         8.106   \n",
              "1             NaN        NaN        NaN        NaN  211.096358         8.106   \n",
              "2             NaN        NaN        NaN        NaN  211.096358         8.106   \n",
              "3             NaN        NaN        NaN        NaN  211.096358         8.106   \n",
              "4             NaN        NaN        NaN        NaN  211.096358         8.106   \n",
              "...           ...        ...        ...        ...         ...           ...   \n",
              "337251   10877.85        9.5    1633.96    1932.86  141.843393         7.671   \n",
              "337252   10877.85        9.5    1633.96    1932.86  141.843393         7.671   \n",
              "337253   10877.85        9.5    1633.96    1932.86  141.843393         7.671   \n",
              "337254   10877.85        9.5    1633.96    1932.86  141.843393         7.671   \n",
              "337255   10877.85        9.5    1633.96    1932.86  141.843393         7.671   \n",
              "\n",
              "       Type    Size  \n",
              "0         A  151315  \n",
              "1         A  151315  \n",
              "2         A  151315  \n",
              "3         A  151315  \n",
              "4         A  151315  \n",
              "...     ...     ...  \n",
              "337251    B  119557  \n",
              "337252    B  119557  \n",
              "337253    B  119557  \n",
              "337254    B  119557  \n",
              "337255    B  119557  \n",
              "\n",
              "[337256 rows x 15 columns]"
            ],
            "text/html": [
              "\n",
              "  <div id=\"df-43d2bd36-1679-49ea-a237-846063ec8700\" class=\"colab-df-container\">\n",
              "    <div>\n",
              "<style scoped>\n",
              "    .dataframe tbody tr th:only-of-type {\n",
              "        vertical-align: middle;\n",
              "    }\n",
              "\n",
              "    .dataframe tbody tr th {\n",
              "        vertical-align: top;\n",
              "    }\n",
              "\n",
              "    .dataframe thead th {\n",
              "        text-align: right;\n",
              "    }\n",
              "</style>\n",
              "<table border=\"1\" class=\"dataframe\">\n",
              "  <thead>\n",
              "    <tr style=\"text-align: right;\">\n",
              "      <th></th>\n",
              "      <th>Store</th>\n",
              "      <th>Dept</th>\n",
              "      <th>Date</th>\n",
              "      <th>IsHoliday</th>\n",
              "      <th>Temperature</th>\n",
              "      <th>Fuel_Price</th>\n",
              "      <th>MarkDown1</th>\n",
              "      <th>MarkDown2</th>\n",
              "      <th>MarkDown3</th>\n",
              "      <th>MarkDown4</th>\n",
              "      <th>MarkDown5</th>\n",
              "      <th>CPI</th>\n",
              "      <th>Unemployment</th>\n",
              "      <th>Type</th>\n",
              "      <th>Size</th>\n",
              "    </tr>\n",
              "  </thead>\n",
              "  <tbody>\n",
              "    <tr>\n",
              "      <th>0</th>\n",
              "      <td>1</td>\n",
              "      <td>1</td>\n",
              "      <td>2010-02-05</td>\n",
              "      <td>False</td>\n",
              "      <td>42.31</td>\n",
              "      <td>2.572</td>\n",
              "      <td>NaN</td>\n",
              "      <td>NaN</td>\n",
              "      <td>NaN</td>\n",
              "      <td>NaN</td>\n",
              "      <td>NaN</td>\n",
              "      <td>211.096358</td>\n",
              "      <td>8.106</td>\n",
              "      <td>A</td>\n",
              "      <td>151315</td>\n",
              "    </tr>\n",
              "    <tr>\n",
              "      <th>1</th>\n",
              "      <td>1</td>\n",
              "      <td>2</td>\n",
              "      <td>2010-02-05</td>\n",
              "      <td>False</td>\n",
              "      <td>42.31</td>\n",
              "      <td>2.572</td>\n",
              "      <td>NaN</td>\n",
              "      <td>NaN</td>\n",
              "      <td>NaN</td>\n",
              "      <td>NaN</td>\n",
              "      <td>NaN</td>\n",
              "      <td>211.096358</td>\n",
              "      <td>8.106</td>\n",
              "      <td>A</td>\n",
              "      <td>151315</td>\n",
              "    </tr>\n",
              "    <tr>\n",
              "      <th>2</th>\n",
              "      <td>1</td>\n",
              "      <td>3</td>\n",
              "      <td>2010-02-05</td>\n",
              "      <td>False</td>\n",
              "      <td>42.31</td>\n",
              "      <td>2.572</td>\n",
              "      <td>NaN</td>\n",
              "      <td>NaN</td>\n",
              "      <td>NaN</td>\n",
              "      <td>NaN</td>\n",
              "      <td>NaN</td>\n",
              "      <td>211.096358</td>\n",
              "      <td>8.106</td>\n",
              "      <td>A</td>\n",
              "      <td>151315</td>\n",
              "    </tr>\n",
              "    <tr>\n",
              "      <th>3</th>\n",
              "      <td>1</td>\n",
              "      <td>4</td>\n",
              "      <td>2010-02-05</td>\n",
              "      <td>False</td>\n",
              "      <td>42.31</td>\n",
              "      <td>2.572</td>\n",
              "      <td>NaN</td>\n",
              "      <td>NaN</td>\n",
              "      <td>NaN</td>\n",
              "      <td>NaN</td>\n",
              "      <td>NaN</td>\n",
              "      <td>211.096358</td>\n",
              "      <td>8.106</td>\n",
              "      <td>A</td>\n",
              "      <td>151315</td>\n",
              "    </tr>\n",
              "    <tr>\n",
              "      <th>4</th>\n",
              "      <td>1</td>\n",
              "      <td>5</td>\n",
              "      <td>2010-02-05</td>\n",
              "      <td>False</td>\n",
              "      <td>42.31</td>\n",
              "      <td>2.572</td>\n",
              "      <td>NaN</td>\n",
              "      <td>NaN</td>\n",
              "      <td>NaN</td>\n",
              "      <td>NaN</td>\n",
              "      <td>NaN</td>\n",
              "      <td>211.096358</td>\n",
              "      <td>8.106</td>\n",
              "      <td>A</td>\n",
              "      <td>151315</td>\n",
              "    </tr>\n",
              "    <tr>\n",
              "      <th>...</th>\n",
              "      <td>...</td>\n",
              "      <td>...</td>\n",
              "      <td>...</td>\n",
              "      <td>...</td>\n",
              "      <td>...</td>\n",
              "      <td>...</td>\n",
              "      <td>...</td>\n",
              "      <td>...</td>\n",
              "      <td>...</td>\n",
              "      <td>...</td>\n",
              "      <td>...</td>\n",
              "      <td>...</td>\n",
              "      <td>...</td>\n",
              "      <td>...</td>\n",
              "      <td>...</td>\n",
              "    </tr>\n",
              "    <tr>\n",
              "      <th>337251</th>\n",
              "      <td>22</td>\n",
              "      <td>27</td>\n",
              "      <td>2012-04-13</td>\n",
              "      <td>False</td>\n",
              "      <td>49.89</td>\n",
              "      <td>4.025</td>\n",
              "      <td>5981.5</td>\n",
              "      <td>10877.85</td>\n",
              "      <td>9.5</td>\n",
              "      <td>1633.96</td>\n",
              "      <td>1932.86</td>\n",
              "      <td>141.843393</td>\n",
              "      <td>7.671</td>\n",
              "      <td>B</td>\n",
              "      <td>119557</td>\n",
              "    </tr>\n",
              "    <tr>\n",
              "      <th>337252</th>\n",
              "      <td>22</td>\n",
              "      <td>28</td>\n",
              "      <td>2012-04-13</td>\n",
              "      <td>False</td>\n",
              "      <td>49.89</td>\n",
              "      <td>4.025</td>\n",
              "      <td>5981.5</td>\n",
              "      <td>10877.85</td>\n",
              "      <td>9.5</td>\n",
              "      <td>1633.96</td>\n",
              "      <td>1932.86</td>\n",
              "      <td>141.843393</td>\n",
              "      <td>7.671</td>\n",
              "      <td>B</td>\n",
              "      <td>119557</td>\n",
              "    </tr>\n",
              "    <tr>\n",
              "      <th>337253</th>\n",
              "      <td>22</td>\n",
              "      <td>29</td>\n",
              "      <td>2012-04-13</td>\n",
              "      <td>False</td>\n",
              "      <td>49.89</td>\n",
              "      <td>4.025</td>\n",
              "      <td>5981.5</td>\n",
              "      <td>10877.85</td>\n",
              "      <td>9.5</td>\n",
              "      <td>1633.96</td>\n",
              "      <td>1932.86</td>\n",
              "      <td>141.843393</td>\n",
              "      <td>7.671</td>\n",
              "      <td>B</td>\n",
              "      <td>119557</td>\n",
              "    </tr>\n",
              "    <tr>\n",
              "      <th>337254</th>\n",
              "      <td>22</td>\n",
              "      <td>30</td>\n",
              "      <td>2012-04-13</td>\n",
              "      <td>False</td>\n",
              "      <td>49.89</td>\n",
              "      <td>4.025</td>\n",
              "      <td>5981.5</td>\n",
              "      <td>10877.85</td>\n",
              "      <td>9.5</td>\n",
              "      <td>1633.96</td>\n",
              "      <td>1932.86</td>\n",
              "      <td>141.843393</td>\n",
              "      <td>7.671</td>\n",
              "      <td>B</td>\n",
              "      <td>119557</td>\n",
              "    </tr>\n",
              "    <tr>\n",
              "      <th>337255</th>\n",
              "      <td>22</td>\n",
              "      <td>31</td>\n",
              "      <td>2012-04-13</td>\n",
              "      <td>False</td>\n",
              "      <td>49.89</td>\n",
              "      <td>4.025</td>\n",
              "      <td>5981.5</td>\n",
              "      <td>10877.85</td>\n",
              "      <td>9.5</td>\n",
              "      <td>1633.96</td>\n",
              "      <td>1932.86</td>\n",
              "      <td>141.843393</td>\n",
              "      <td>7.671</td>\n",
              "      <td>B</td>\n",
              "      <td>119557</td>\n",
              "    </tr>\n",
              "  </tbody>\n",
              "</table>\n",
              "<p>337256 rows × 15 columns</p>\n",
              "</div>\n",
              "    <div class=\"colab-df-buttons\">\n",
              "\n",
              "  <div class=\"colab-df-container\">\n",
              "    <button class=\"colab-df-convert\" onclick=\"convertToInteractive('df-43d2bd36-1679-49ea-a237-846063ec8700')\"\n",
              "            title=\"Convert this dataframe to an interactive table.\"\n",
              "            style=\"display:none;\">\n",
              "\n",
              "  <svg xmlns=\"http://www.w3.org/2000/svg\" height=\"24px\" viewBox=\"0 -960 960 960\">\n",
              "    <path d=\"M120-120v-720h720v720H120Zm60-500h600v-160H180v160Zm220 220h160v-160H400v160Zm0 220h160v-160H400v160ZM180-400h160v-160H180v160Zm440 0h160v-160H620v160ZM180-180h160v-160H180v160Zm440 0h160v-160H620v160Z\"/>\n",
              "  </svg>\n",
              "    </button>\n",
              "\n",
              "  <style>\n",
              "    .colab-df-container {\n",
              "      display:flex;\n",
              "      gap: 12px;\n",
              "    }\n",
              "\n",
              "    .colab-df-convert {\n",
              "      background-color: #E8F0FE;\n",
              "      border: none;\n",
              "      border-radius: 50%;\n",
              "      cursor: pointer;\n",
              "      display: none;\n",
              "      fill: #1967D2;\n",
              "      height: 32px;\n",
              "      padding: 0 0 0 0;\n",
              "      width: 32px;\n",
              "    }\n",
              "\n",
              "    .colab-df-convert:hover {\n",
              "      background-color: #E2EBFA;\n",
              "      box-shadow: 0px 1px 2px rgba(60, 64, 67, 0.3), 0px 1px 3px 1px rgba(60, 64, 67, 0.15);\n",
              "      fill: #174EA6;\n",
              "    }\n",
              "\n",
              "    .colab-df-buttons div {\n",
              "      margin-bottom: 4px;\n",
              "    }\n",
              "\n",
              "    [theme=dark] .colab-df-convert {\n",
              "      background-color: #3B4455;\n",
              "      fill: #D2E3FC;\n",
              "    }\n",
              "\n",
              "    [theme=dark] .colab-df-convert:hover {\n",
              "      background-color: #434B5C;\n",
              "      box-shadow: 0px 1px 3px 1px rgba(0, 0, 0, 0.15);\n",
              "      filter: drop-shadow(0px 1px 2px rgba(0, 0, 0, 0.3));\n",
              "      fill: #FFFFFF;\n",
              "    }\n",
              "  </style>\n",
              "\n",
              "    <script>\n",
              "      const buttonEl =\n",
              "        document.querySelector('#df-43d2bd36-1679-49ea-a237-846063ec8700 button.colab-df-convert');\n",
              "      buttonEl.style.display =\n",
              "        google.colab.kernel.accessAllowed ? 'block' : 'none';\n",
              "\n",
              "      async function convertToInteractive(key) {\n",
              "        const element = document.querySelector('#df-43d2bd36-1679-49ea-a237-846063ec8700');\n",
              "        const dataTable =\n",
              "          await google.colab.kernel.invokeFunction('convertToInteractive',\n",
              "                                                    [key], {});\n",
              "        if (!dataTable) return;\n",
              "\n",
              "        const docLinkHtml = 'Like what you see? Visit the ' +\n",
              "          '<a target=\"_blank\" href=https://colab.research.google.com/notebooks/data_table.ipynb>data table notebook</a>'\n",
              "          + ' to learn more about interactive tables.';\n",
              "        element.innerHTML = '';\n",
              "        dataTable['output_type'] = 'display_data';\n",
              "        await google.colab.output.renderOutput(dataTable, element);\n",
              "        const docLink = document.createElement('div');\n",
              "        docLink.innerHTML = docLinkHtml;\n",
              "        element.appendChild(docLink);\n",
              "      }\n",
              "    </script>\n",
              "  </div>\n",
              "\n",
              "\n",
              "    <div id=\"df-5ef7f944-f7a7-4636-807f-acc941f14dea\">\n",
              "      <button class=\"colab-df-quickchart\" onclick=\"quickchart('df-5ef7f944-f7a7-4636-807f-acc941f14dea')\"\n",
              "                title=\"Suggest charts\"\n",
              "                style=\"display:none;\">\n",
              "\n",
              "<svg xmlns=\"http://www.w3.org/2000/svg\" height=\"24px\"viewBox=\"0 0 24 24\"\n",
              "     width=\"24px\">\n",
              "    <g>\n",
              "        <path d=\"M19 3H5c-1.1 0-2 .9-2 2v14c0 1.1.9 2 2 2h14c1.1 0 2-.9 2-2V5c0-1.1-.9-2-2-2zM9 17H7v-7h2v7zm4 0h-2V7h2v10zm4 0h-2v-4h2v4z\"/>\n",
              "    </g>\n",
              "</svg>\n",
              "      </button>\n",
              "\n",
              "<style>\n",
              "  .colab-df-quickchart {\n",
              "      --bg-color: #E8F0FE;\n",
              "      --fill-color: #1967D2;\n",
              "      --hover-bg-color: #E2EBFA;\n",
              "      --hover-fill-color: #174EA6;\n",
              "      --disabled-fill-color: #AAA;\n",
              "      --disabled-bg-color: #DDD;\n",
              "  }\n",
              "\n",
              "  [theme=dark] .colab-df-quickchart {\n",
              "      --bg-color: #3B4455;\n",
              "      --fill-color: #D2E3FC;\n",
              "      --hover-bg-color: #434B5C;\n",
              "      --hover-fill-color: #FFFFFF;\n",
              "      --disabled-bg-color: #3B4455;\n",
              "      --disabled-fill-color: #666;\n",
              "  }\n",
              "\n",
              "  .colab-df-quickchart {\n",
              "    background-color: var(--bg-color);\n",
              "    border: none;\n",
              "    border-radius: 50%;\n",
              "    cursor: pointer;\n",
              "    display: none;\n",
              "    fill: var(--fill-color);\n",
              "    height: 32px;\n",
              "    padding: 0;\n",
              "    width: 32px;\n",
              "  }\n",
              "\n",
              "  .colab-df-quickchart:hover {\n",
              "    background-color: var(--hover-bg-color);\n",
              "    box-shadow: 0 1px 2px rgba(60, 64, 67, 0.3), 0 1px 3px 1px rgba(60, 64, 67, 0.15);\n",
              "    fill: var(--button-hover-fill-color);\n",
              "  }\n",
              "\n",
              "  .colab-df-quickchart-complete:disabled,\n",
              "  .colab-df-quickchart-complete:disabled:hover {\n",
              "    background-color: var(--disabled-bg-color);\n",
              "    fill: var(--disabled-fill-color);\n",
              "    box-shadow: none;\n",
              "  }\n",
              "\n",
              "  .colab-df-spinner {\n",
              "    border: 2px solid var(--fill-color);\n",
              "    border-color: transparent;\n",
              "    border-bottom-color: var(--fill-color);\n",
              "    animation:\n",
              "      spin 1s steps(1) infinite;\n",
              "  }\n",
              "\n",
              "  @keyframes spin {\n",
              "    0% {\n",
              "      border-color: transparent;\n",
              "      border-bottom-color: var(--fill-color);\n",
              "      border-left-color: var(--fill-color);\n",
              "    }\n",
              "    20% {\n",
              "      border-color: transparent;\n",
              "      border-left-color: var(--fill-color);\n",
              "      border-top-color: var(--fill-color);\n",
              "    }\n",
              "    30% {\n",
              "      border-color: transparent;\n",
              "      border-left-color: var(--fill-color);\n",
              "      border-top-color: var(--fill-color);\n",
              "      border-right-color: var(--fill-color);\n",
              "    }\n",
              "    40% {\n",
              "      border-color: transparent;\n",
              "      border-right-color: var(--fill-color);\n",
              "      border-top-color: var(--fill-color);\n",
              "    }\n",
              "    60% {\n",
              "      border-color: transparent;\n",
              "      border-right-color: var(--fill-color);\n",
              "    }\n",
              "    80% {\n",
              "      border-color: transparent;\n",
              "      border-right-color: var(--fill-color);\n",
              "      border-bottom-color: var(--fill-color);\n",
              "    }\n",
              "    90% {\n",
              "      border-color: transparent;\n",
              "      border-bottom-color: var(--fill-color);\n",
              "    }\n",
              "  }\n",
              "</style>\n",
              "\n",
              "      <script>\n",
              "        async function quickchart(key) {\n",
              "          const quickchartButtonEl =\n",
              "            document.querySelector('#' + key + ' button');\n",
              "          quickchartButtonEl.disabled = true;  // To prevent multiple clicks.\n",
              "          quickchartButtonEl.classList.add('colab-df-spinner');\n",
              "          try {\n",
              "            const charts = await google.colab.kernel.invokeFunction(\n",
              "                'suggestCharts', [key], {});\n",
              "          } catch (error) {\n",
              "            console.error('Error during call to suggestCharts:', error);\n",
              "          }\n",
              "          quickchartButtonEl.classList.remove('colab-df-spinner');\n",
              "          quickchartButtonEl.classList.add('colab-df-quickchart-complete');\n",
              "        }\n",
              "        (() => {\n",
              "          let quickchartButtonEl =\n",
              "            document.querySelector('#df-5ef7f944-f7a7-4636-807f-acc941f14dea button');\n",
              "          quickchartButtonEl.style.display =\n",
              "            google.colab.kernel.accessAllowed ? 'block' : 'none';\n",
              "        })();\n",
              "      </script>\n",
              "    </div>\n",
              "\n",
              "  <div id=\"id_d24c261e-67bd-42d4-96ba-fb25dda566f7\">\n",
              "    <style>\n",
              "      .colab-df-generate {\n",
              "        background-color: #E8F0FE;\n",
              "        border: none;\n",
              "        border-radius: 50%;\n",
              "        cursor: pointer;\n",
              "        display: none;\n",
              "        fill: #1967D2;\n",
              "        height: 32px;\n",
              "        padding: 0 0 0 0;\n",
              "        width: 32px;\n",
              "      }\n",
              "\n",
              "      .colab-df-generate:hover {\n",
              "        background-color: #E2EBFA;\n",
              "        box-shadow: 0px 1px 2px rgba(60, 64, 67, 0.3), 0px 1px 3px 1px rgba(60, 64, 67, 0.15);\n",
              "        fill: #174EA6;\n",
              "      }\n",
              "\n",
              "      [theme=dark] .colab-df-generate {\n",
              "        background-color: #3B4455;\n",
              "        fill: #D2E3FC;\n",
              "      }\n",
              "\n",
              "      [theme=dark] .colab-df-generate:hover {\n",
              "        background-color: #434B5C;\n",
              "        box-shadow: 0px 1px 3px 1px rgba(0, 0, 0, 0.15);\n",
              "        filter: drop-shadow(0px 1px 2px rgba(0, 0, 0, 0.3));\n",
              "        fill: #FFFFFF;\n",
              "      }\n",
              "    </style>\n",
              "    <button class=\"colab-df-generate\" onclick=\"generateWithVariable('X_train')\"\n",
              "            title=\"Generate code using this dataframe.\"\n",
              "            style=\"display:none;\">\n",
              "\n",
              "  <svg xmlns=\"http://www.w3.org/2000/svg\" height=\"24px\"viewBox=\"0 0 24 24\"\n",
              "       width=\"24px\">\n",
              "    <path d=\"M7,19H8.4L18.45,9,17,7.55,7,17.6ZM5,21V16.75L18.45,3.32a2,2,0,0,1,2.83,0l1.4,1.43a1.91,1.91,0,0,1,.58,1.4,1.91,1.91,0,0,1-.58,1.4L9.25,21ZM18.45,9,17,7.55Zm-12,3A5.31,5.31,0,0,0,4.9,8.1,5.31,5.31,0,0,0,1,6.5,5.31,5.31,0,0,0,4.9,4.9,5.31,5.31,0,0,0,6.5,1,5.31,5.31,0,0,0,8.1,4.9,5.31,5.31,0,0,0,12,6.5,5.46,5.46,0,0,0,6.5,12Z\"/>\n",
              "  </svg>\n",
              "    </button>\n",
              "    <script>\n",
              "      (() => {\n",
              "      const buttonEl =\n",
              "        document.querySelector('#id_d24c261e-67bd-42d4-96ba-fb25dda566f7 button.colab-df-generate');\n",
              "      buttonEl.style.display =\n",
              "        google.colab.kernel.accessAllowed ? 'block' : 'none';\n",
              "\n",
              "      buttonEl.onclick = () => {\n",
              "        google.colab.notebook.generateWithVariable('X_train');\n",
              "      }\n",
              "      })();\n",
              "    </script>\n",
              "  </div>\n",
              "\n",
              "    </div>\n",
              "  </div>\n"
            ],
            "application/vnd.google.colaboratory.intrinsic+json": {
              "type": "dataframe",
              "variable_name": "X_train"
            }
          },
          "metadata": {},
          "execution_count": 7
        }
      ],
      "source": [
        "X_train"
      ]
    },
    {
      "cell_type": "code",
      "execution_count": 8,
      "metadata": {
        "colab": {
          "base_uri": "https://localhost:8080/",
          "height": 444
        },
        "id": "-Z0UtJEm2Bpg",
        "outputId": "39cd494a-451d-4d6b-f61d-61c79c7a0dc2"
      },
      "outputs": [
        {
          "output_type": "execute_result",
          "data": {
            "text/plain": [
              "        Store  Dept       Date  IsHoliday  Temperature  Fuel_Price  MarkDown1  \\\n",
              "337256     22    32 2012-04-13      False        49.89       4.025    5981.50   \n",
              "337257     22    33 2012-04-13      False        49.89       4.025    5981.50   \n",
              "337258     22    34 2012-04-13      False        49.89       4.025    5981.50   \n",
              "337259     22    35 2012-04-13      False        49.89       4.025    5981.50   \n",
              "337260     22    36 2012-04-13      False        49.89       4.025    5981.50   \n",
              "...       ...   ...        ...        ...          ...         ...        ...   \n",
              "421565     45    93 2012-10-26      False        58.85       3.882    4018.91   \n",
              "421566     45    94 2012-10-26      False        58.85       3.882    4018.91   \n",
              "421567     45    95 2012-10-26      False        58.85       3.882    4018.91   \n",
              "421568     45    97 2012-10-26      False        58.85       3.882    4018.91   \n",
              "421569     45    98 2012-10-26      False        58.85       3.882    4018.91   \n",
              "\n",
              "        MarkDown2  MarkDown3  MarkDown4  MarkDown5         CPI  Unemployment  \\\n",
              "337256   10877.85        9.5    1633.96    1932.86  141.843393         7.671   \n",
              "337257   10877.85        9.5    1633.96    1932.86  141.843393         7.671   \n",
              "337258   10877.85        9.5    1633.96    1932.86  141.843393         7.671   \n",
              "337259   10877.85        9.5    1633.96    1932.86  141.843393         7.671   \n",
              "337260   10877.85        9.5    1633.96    1932.86  141.843393         7.671   \n",
              "...           ...        ...        ...        ...         ...           ...   \n",
              "421565      58.08      100.0     211.94     858.33  192.308899         8.667   \n",
              "421566      58.08      100.0     211.94     858.33  192.308899         8.667   \n",
              "421567      58.08      100.0     211.94     858.33  192.308899         8.667   \n",
              "421568      58.08      100.0     211.94     858.33  192.308899         8.667   \n",
              "421569      58.08      100.0     211.94     858.33  192.308899         8.667   \n",
              "\n",
              "       Type    Size  \n",
              "337256    B  119557  \n",
              "337257    B  119557  \n",
              "337258    B  119557  \n",
              "337259    B  119557  \n",
              "337260    B  119557  \n",
              "...     ...     ...  \n",
              "421565    B  118221  \n",
              "421566    B  118221  \n",
              "421567    B  118221  \n",
              "421568    B  118221  \n",
              "421569    B  118221  \n",
              "\n",
              "[84314 rows x 15 columns]"
            ],
            "text/html": [
              "\n",
              "  <div id=\"df-99ce5a1e-5cdf-42d9-8efe-3a8c93df90a7\" class=\"colab-df-container\">\n",
              "    <div>\n",
              "<style scoped>\n",
              "    .dataframe tbody tr th:only-of-type {\n",
              "        vertical-align: middle;\n",
              "    }\n",
              "\n",
              "    .dataframe tbody tr th {\n",
              "        vertical-align: top;\n",
              "    }\n",
              "\n",
              "    .dataframe thead th {\n",
              "        text-align: right;\n",
              "    }\n",
              "</style>\n",
              "<table border=\"1\" class=\"dataframe\">\n",
              "  <thead>\n",
              "    <tr style=\"text-align: right;\">\n",
              "      <th></th>\n",
              "      <th>Store</th>\n",
              "      <th>Dept</th>\n",
              "      <th>Date</th>\n",
              "      <th>IsHoliday</th>\n",
              "      <th>Temperature</th>\n",
              "      <th>Fuel_Price</th>\n",
              "      <th>MarkDown1</th>\n",
              "      <th>MarkDown2</th>\n",
              "      <th>MarkDown3</th>\n",
              "      <th>MarkDown4</th>\n",
              "      <th>MarkDown5</th>\n",
              "      <th>CPI</th>\n",
              "      <th>Unemployment</th>\n",
              "      <th>Type</th>\n",
              "      <th>Size</th>\n",
              "    </tr>\n",
              "  </thead>\n",
              "  <tbody>\n",
              "    <tr>\n",
              "      <th>337256</th>\n",
              "      <td>22</td>\n",
              "      <td>32</td>\n",
              "      <td>2012-04-13</td>\n",
              "      <td>False</td>\n",
              "      <td>49.89</td>\n",
              "      <td>4.025</td>\n",
              "      <td>5981.50</td>\n",
              "      <td>10877.85</td>\n",
              "      <td>9.5</td>\n",
              "      <td>1633.96</td>\n",
              "      <td>1932.86</td>\n",
              "      <td>141.843393</td>\n",
              "      <td>7.671</td>\n",
              "      <td>B</td>\n",
              "      <td>119557</td>\n",
              "    </tr>\n",
              "    <tr>\n",
              "      <th>337257</th>\n",
              "      <td>22</td>\n",
              "      <td>33</td>\n",
              "      <td>2012-04-13</td>\n",
              "      <td>False</td>\n",
              "      <td>49.89</td>\n",
              "      <td>4.025</td>\n",
              "      <td>5981.50</td>\n",
              "      <td>10877.85</td>\n",
              "      <td>9.5</td>\n",
              "      <td>1633.96</td>\n",
              "      <td>1932.86</td>\n",
              "      <td>141.843393</td>\n",
              "      <td>7.671</td>\n",
              "      <td>B</td>\n",
              "      <td>119557</td>\n",
              "    </tr>\n",
              "    <tr>\n",
              "      <th>337258</th>\n",
              "      <td>22</td>\n",
              "      <td>34</td>\n",
              "      <td>2012-04-13</td>\n",
              "      <td>False</td>\n",
              "      <td>49.89</td>\n",
              "      <td>4.025</td>\n",
              "      <td>5981.50</td>\n",
              "      <td>10877.85</td>\n",
              "      <td>9.5</td>\n",
              "      <td>1633.96</td>\n",
              "      <td>1932.86</td>\n",
              "      <td>141.843393</td>\n",
              "      <td>7.671</td>\n",
              "      <td>B</td>\n",
              "      <td>119557</td>\n",
              "    </tr>\n",
              "    <tr>\n",
              "      <th>337259</th>\n",
              "      <td>22</td>\n",
              "      <td>35</td>\n",
              "      <td>2012-04-13</td>\n",
              "      <td>False</td>\n",
              "      <td>49.89</td>\n",
              "      <td>4.025</td>\n",
              "      <td>5981.50</td>\n",
              "      <td>10877.85</td>\n",
              "      <td>9.5</td>\n",
              "      <td>1633.96</td>\n",
              "      <td>1932.86</td>\n",
              "      <td>141.843393</td>\n",
              "      <td>7.671</td>\n",
              "      <td>B</td>\n",
              "      <td>119557</td>\n",
              "    </tr>\n",
              "    <tr>\n",
              "      <th>337260</th>\n",
              "      <td>22</td>\n",
              "      <td>36</td>\n",
              "      <td>2012-04-13</td>\n",
              "      <td>False</td>\n",
              "      <td>49.89</td>\n",
              "      <td>4.025</td>\n",
              "      <td>5981.50</td>\n",
              "      <td>10877.85</td>\n",
              "      <td>9.5</td>\n",
              "      <td>1633.96</td>\n",
              "      <td>1932.86</td>\n",
              "      <td>141.843393</td>\n",
              "      <td>7.671</td>\n",
              "      <td>B</td>\n",
              "      <td>119557</td>\n",
              "    </tr>\n",
              "    <tr>\n",
              "      <th>...</th>\n",
              "      <td>...</td>\n",
              "      <td>...</td>\n",
              "      <td>...</td>\n",
              "      <td>...</td>\n",
              "      <td>...</td>\n",
              "      <td>...</td>\n",
              "      <td>...</td>\n",
              "      <td>...</td>\n",
              "      <td>...</td>\n",
              "      <td>...</td>\n",
              "      <td>...</td>\n",
              "      <td>...</td>\n",
              "      <td>...</td>\n",
              "      <td>...</td>\n",
              "      <td>...</td>\n",
              "    </tr>\n",
              "    <tr>\n",
              "      <th>421565</th>\n",
              "      <td>45</td>\n",
              "      <td>93</td>\n",
              "      <td>2012-10-26</td>\n",
              "      <td>False</td>\n",
              "      <td>58.85</td>\n",
              "      <td>3.882</td>\n",
              "      <td>4018.91</td>\n",
              "      <td>58.08</td>\n",
              "      <td>100.0</td>\n",
              "      <td>211.94</td>\n",
              "      <td>858.33</td>\n",
              "      <td>192.308899</td>\n",
              "      <td>8.667</td>\n",
              "      <td>B</td>\n",
              "      <td>118221</td>\n",
              "    </tr>\n",
              "    <tr>\n",
              "      <th>421566</th>\n",
              "      <td>45</td>\n",
              "      <td>94</td>\n",
              "      <td>2012-10-26</td>\n",
              "      <td>False</td>\n",
              "      <td>58.85</td>\n",
              "      <td>3.882</td>\n",
              "      <td>4018.91</td>\n",
              "      <td>58.08</td>\n",
              "      <td>100.0</td>\n",
              "      <td>211.94</td>\n",
              "      <td>858.33</td>\n",
              "      <td>192.308899</td>\n",
              "      <td>8.667</td>\n",
              "      <td>B</td>\n",
              "      <td>118221</td>\n",
              "    </tr>\n",
              "    <tr>\n",
              "      <th>421567</th>\n",
              "      <td>45</td>\n",
              "      <td>95</td>\n",
              "      <td>2012-10-26</td>\n",
              "      <td>False</td>\n",
              "      <td>58.85</td>\n",
              "      <td>3.882</td>\n",
              "      <td>4018.91</td>\n",
              "      <td>58.08</td>\n",
              "      <td>100.0</td>\n",
              "      <td>211.94</td>\n",
              "      <td>858.33</td>\n",
              "      <td>192.308899</td>\n",
              "      <td>8.667</td>\n",
              "      <td>B</td>\n",
              "      <td>118221</td>\n",
              "    </tr>\n",
              "    <tr>\n",
              "      <th>421568</th>\n",
              "      <td>45</td>\n",
              "      <td>97</td>\n",
              "      <td>2012-10-26</td>\n",
              "      <td>False</td>\n",
              "      <td>58.85</td>\n",
              "      <td>3.882</td>\n",
              "      <td>4018.91</td>\n",
              "      <td>58.08</td>\n",
              "      <td>100.0</td>\n",
              "      <td>211.94</td>\n",
              "      <td>858.33</td>\n",
              "      <td>192.308899</td>\n",
              "      <td>8.667</td>\n",
              "      <td>B</td>\n",
              "      <td>118221</td>\n",
              "    </tr>\n",
              "    <tr>\n",
              "      <th>421569</th>\n",
              "      <td>45</td>\n",
              "      <td>98</td>\n",
              "      <td>2012-10-26</td>\n",
              "      <td>False</td>\n",
              "      <td>58.85</td>\n",
              "      <td>3.882</td>\n",
              "      <td>4018.91</td>\n",
              "      <td>58.08</td>\n",
              "      <td>100.0</td>\n",
              "      <td>211.94</td>\n",
              "      <td>858.33</td>\n",
              "      <td>192.308899</td>\n",
              "      <td>8.667</td>\n",
              "      <td>B</td>\n",
              "      <td>118221</td>\n",
              "    </tr>\n",
              "  </tbody>\n",
              "</table>\n",
              "<p>84314 rows × 15 columns</p>\n",
              "</div>\n",
              "    <div class=\"colab-df-buttons\">\n",
              "\n",
              "  <div class=\"colab-df-container\">\n",
              "    <button class=\"colab-df-convert\" onclick=\"convertToInteractive('df-99ce5a1e-5cdf-42d9-8efe-3a8c93df90a7')\"\n",
              "            title=\"Convert this dataframe to an interactive table.\"\n",
              "            style=\"display:none;\">\n",
              "\n",
              "  <svg xmlns=\"http://www.w3.org/2000/svg\" height=\"24px\" viewBox=\"0 -960 960 960\">\n",
              "    <path d=\"M120-120v-720h720v720H120Zm60-500h600v-160H180v160Zm220 220h160v-160H400v160Zm0 220h160v-160H400v160ZM180-400h160v-160H180v160Zm440 0h160v-160H620v160ZM180-180h160v-160H180v160Zm440 0h160v-160H620v160Z\"/>\n",
              "  </svg>\n",
              "    </button>\n",
              "\n",
              "  <style>\n",
              "    .colab-df-container {\n",
              "      display:flex;\n",
              "      gap: 12px;\n",
              "    }\n",
              "\n",
              "    .colab-df-convert {\n",
              "      background-color: #E8F0FE;\n",
              "      border: none;\n",
              "      border-radius: 50%;\n",
              "      cursor: pointer;\n",
              "      display: none;\n",
              "      fill: #1967D2;\n",
              "      height: 32px;\n",
              "      padding: 0 0 0 0;\n",
              "      width: 32px;\n",
              "    }\n",
              "\n",
              "    .colab-df-convert:hover {\n",
              "      background-color: #E2EBFA;\n",
              "      box-shadow: 0px 1px 2px rgba(60, 64, 67, 0.3), 0px 1px 3px 1px rgba(60, 64, 67, 0.15);\n",
              "      fill: #174EA6;\n",
              "    }\n",
              "\n",
              "    .colab-df-buttons div {\n",
              "      margin-bottom: 4px;\n",
              "    }\n",
              "\n",
              "    [theme=dark] .colab-df-convert {\n",
              "      background-color: #3B4455;\n",
              "      fill: #D2E3FC;\n",
              "    }\n",
              "\n",
              "    [theme=dark] .colab-df-convert:hover {\n",
              "      background-color: #434B5C;\n",
              "      box-shadow: 0px 1px 3px 1px rgba(0, 0, 0, 0.15);\n",
              "      filter: drop-shadow(0px 1px 2px rgba(0, 0, 0, 0.3));\n",
              "      fill: #FFFFFF;\n",
              "    }\n",
              "  </style>\n",
              "\n",
              "    <script>\n",
              "      const buttonEl =\n",
              "        document.querySelector('#df-99ce5a1e-5cdf-42d9-8efe-3a8c93df90a7 button.colab-df-convert');\n",
              "      buttonEl.style.display =\n",
              "        google.colab.kernel.accessAllowed ? 'block' : 'none';\n",
              "\n",
              "      async function convertToInteractive(key) {\n",
              "        const element = document.querySelector('#df-99ce5a1e-5cdf-42d9-8efe-3a8c93df90a7');\n",
              "        const dataTable =\n",
              "          await google.colab.kernel.invokeFunction('convertToInteractive',\n",
              "                                                    [key], {});\n",
              "        if (!dataTable) return;\n",
              "\n",
              "        const docLinkHtml = 'Like what you see? Visit the ' +\n",
              "          '<a target=\"_blank\" href=https://colab.research.google.com/notebooks/data_table.ipynb>data table notebook</a>'\n",
              "          + ' to learn more about interactive tables.';\n",
              "        element.innerHTML = '';\n",
              "        dataTable['output_type'] = 'display_data';\n",
              "        await google.colab.output.renderOutput(dataTable, element);\n",
              "        const docLink = document.createElement('div');\n",
              "        docLink.innerHTML = docLinkHtml;\n",
              "        element.appendChild(docLink);\n",
              "      }\n",
              "    </script>\n",
              "  </div>\n",
              "\n",
              "\n",
              "    <div id=\"df-c24d9c3b-d6a5-4563-a343-70d8e099d227\">\n",
              "      <button class=\"colab-df-quickchart\" onclick=\"quickchart('df-c24d9c3b-d6a5-4563-a343-70d8e099d227')\"\n",
              "                title=\"Suggest charts\"\n",
              "                style=\"display:none;\">\n",
              "\n",
              "<svg xmlns=\"http://www.w3.org/2000/svg\" height=\"24px\"viewBox=\"0 0 24 24\"\n",
              "     width=\"24px\">\n",
              "    <g>\n",
              "        <path d=\"M19 3H5c-1.1 0-2 .9-2 2v14c0 1.1.9 2 2 2h14c1.1 0 2-.9 2-2V5c0-1.1-.9-2-2-2zM9 17H7v-7h2v7zm4 0h-2V7h2v10zm4 0h-2v-4h2v4z\"/>\n",
              "    </g>\n",
              "</svg>\n",
              "      </button>\n",
              "\n",
              "<style>\n",
              "  .colab-df-quickchart {\n",
              "      --bg-color: #E8F0FE;\n",
              "      --fill-color: #1967D2;\n",
              "      --hover-bg-color: #E2EBFA;\n",
              "      --hover-fill-color: #174EA6;\n",
              "      --disabled-fill-color: #AAA;\n",
              "      --disabled-bg-color: #DDD;\n",
              "  }\n",
              "\n",
              "  [theme=dark] .colab-df-quickchart {\n",
              "      --bg-color: #3B4455;\n",
              "      --fill-color: #D2E3FC;\n",
              "      --hover-bg-color: #434B5C;\n",
              "      --hover-fill-color: #FFFFFF;\n",
              "      --disabled-bg-color: #3B4455;\n",
              "      --disabled-fill-color: #666;\n",
              "  }\n",
              "\n",
              "  .colab-df-quickchart {\n",
              "    background-color: var(--bg-color);\n",
              "    border: none;\n",
              "    border-radius: 50%;\n",
              "    cursor: pointer;\n",
              "    display: none;\n",
              "    fill: var(--fill-color);\n",
              "    height: 32px;\n",
              "    padding: 0;\n",
              "    width: 32px;\n",
              "  }\n",
              "\n",
              "  .colab-df-quickchart:hover {\n",
              "    background-color: var(--hover-bg-color);\n",
              "    box-shadow: 0 1px 2px rgba(60, 64, 67, 0.3), 0 1px 3px 1px rgba(60, 64, 67, 0.15);\n",
              "    fill: var(--button-hover-fill-color);\n",
              "  }\n",
              "\n",
              "  .colab-df-quickchart-complete:disabled,\n",
              "  .colab-df-quickchart-complete:disabled:hover {\n",
              "    background-color: var(--disabled-bg-color);\n",
              "    fill: var(--disabled-fill-color);\n",
              "    box-shadow: none;\n",
              "  }\n",
              "\n",
              "  .colab-df-spinner {\n",
              "    border: 2px solid var(--fill-color);\n",
              "    border-color: transparent;\n",
              "    border-bottom-color: var(--fill-color);\n",
              "    animation:\n",
              "      spin 1s steps(1) infinite;\n",
              "  }\n",
              "\n",
              "  @keyframes spin {\n",
              "    0% {\n",
              "      border-color: transparent;\n",
              "      border-bottom-color: var(--fill-color);\n",
              "      border-left-color: var(--fill-color);\n",
              "    }\n",
              "    20% {\n",
              "      border-color: transparent;\n",
              "      border-left-color: var(--fill-color);\n",
              "      border-top-color: var(--fill-color);\n",
              "    }\n",
              "    30% {\n",
              "      border-color: transparent;\n",
              "      border-left-color: var(--fill-color);\n",
              "      border-top-color: var(--fill-color);\n",
              "      border-right-color: var(--fill-color);\n",
              "    }\n",
              "    40% {\n",
              "      border-color: transparent;\n",
              "      border-right-color: var(--fill-color);\n",
              "      border-top-color: var(--fill-color);\n",
              "    }\n",
              "    60% {\n",
              "      border-color: transparent;\n",
              "      border-right-color: var(--fill-color);\n",
              "    }\n",
              "    80% {\n",
              "      border-color: transparent;\n",
              "      border-right-color: var(--fill-color);\n",
              "      border-bottom-color: var(--fill-color);\n",
              "    }\n",
              "    90% {\n",
              "      border-color: transparent;\n",
              "      border-bottom-color: var(--fill-color);\n",
              "    }\n",
              "  }\n",
              "</style>\n",
              "\n",
              "      <script>\n",
              "        async function quickchart(key) {\n",
              "          const quickchartButtonEl =\n",
              "            document.querySelector('#' + key + ' button');\n",
              "          quickchartButtonEl.disabled = true;  // To prevent multiple clicks.\n",
              "          quickchartButtonEl.classList.add('colab-df-spinner');\n",
              "          try {\n",
              "            const charts = await google.colab.kernel.invokeFunction(\n",
              "                'suggestCharts', [key], {});\n",
              "          } catch (error) {\n",
              "            console.error('Error during call to suggestCharts:', error);\n",
              "          }\n",
              "          quickchartButtonEl.classList.remove('colab-df-spinner');\n",
              "          quickchartButtonEl.classList.add('colab-df-quickchart-complete');\n",
              "        }\n",
              "        (() => {\n",
              "          let quickchartButtonEl =\n",
              "            document.querySelector('#df-c24d9c3b-d6a5-4563-a343-70d8e099d227 button');\n",
              "          quickchartButtonEl.style.display =\n",
              "            google.colab.kernel.accessAllowed ? 'block' : 'none';\n",
              "        })();\n",
              "      </script>\n",
              "    </div>\n",
              "\n",
              "  <div id=\"id_8dd06a58-efab-43db-b69f-1303cce8ba48\">\n",
              "    <style>\n",
              "      .colab-df-generate {\n",
              "        background-color: #E8F0FE;\n",
              "        border: none;\n",
              "        border-radius: 50%;\n",
              "        cursor: pointer;\n",
              "        display: none;\n",
              "        fill: #1967D2;\n",
              "        height: 32px;\n",
              "        padding: 0 0 0 0;\n",
              "        width: 32px;\n",
              "      }\n",
              "\n",
              "      .colab-df-generate:hover {\n",
              "        background-color: #E2EBFA;\n",
              "        box-shadow: 0px 1px 2px rgba(60, 64, 67, 0.3), 0px 1px 3px 1px rgba(60, 64, 67, 0.15);\n",
              "        fill: #174EA6;\n",
              "      }\n",
              "\n",
              "      [theme=dark] .colab-df-generate {\n",
              "        background-color: #3B4455;\n",
              "        fill: #D2E3FC;\n",
              "      }\n",
              "\n",
              "      [theme=dark] .colab-df-generate:hover {\n",
              "        background-color: #434B5C;\n",
              "        box-shadow: 0px 1px 3px 1px rgba(0, 0, 0, 0.15);\n",
              "        filter: drop-shadow(0px 1px 2px rgba(0, 0, 0, 0.3));\n",
              "        fill: #FFFFFF;\n",
              "      }\n",
              "    </style>\n",
              "    <button class=\"colab-df-generate\" onclick=\"generateWithVariable('X_valid')\"\n",
              "            title=\"Generate code using this dataframe.\"\n",
              "            style=\"display:none;\">\n",
              "\n",
              "  <svg xmlns=\"http://www.w3.org/2000/svg\" height=\"24px\"viewBox=\"0 0 24 24\"\n",
              "       width=\"24px\">\n",
              "    <path d=\"M7,19H8.4L18.45,9,17,7.55,7,17.6ZM5,21V16.75L18.45,3.32a2,2,0,0,1,2.83,0l1.4,1.43a1.91,1.91,0,0,1,.58,1.4,1.91,1.91,0,0,1-.58,1.4L9.25,21ZM18.45,9,17,7.55Zm-12,3A5.31,5.31,0,0,0,4.9,8.1,5.31,5.31,0,0,0,1,6.5,5.31,5.31,0,0,0,4.9,4.9,5.31,5.31,0,0,0,6.5,1,5.31,5.31,0,0,0,8.1,4.9,5.31,5.31,0,0,0,12,6.5,5.46,5.46,0,0,0,6.5,12Z\"/>\n",
              "  </svg>\n",
              "    </button>\n",
              "    <script>\n",
              "      (() => {\n",
              "      const buttonEl =\n",
              "        document.querySelector('#id_8dd06a58-efab-43db-b69f-1303cce8ba48 button.colab-df-generate');\n",
              "      buttonEl.style.display =\n",
              "        google.colab.kernel.accessAllowed ? 'block' : 'none';\n",
              "\n",
              "      buttonEl.onclick = () => {\n",
              "        google.colab.notebook.generateWithVariable('X_valid');\n",
              "      }\n",
              "      })();\n",
              "    </script>\n",
              "  </div>\n",
              "\n",
              "    </div>\n",
              "  </div>\n"
            ],
            "application/vnd.google.colaboratory.intrinsic+json": {
              "type": "dataframe",
              "variable_name": "X_valid",
              "summary": "{\n  \"name\": \"X_valid\",\n  \"rows\": 84314,\n  \"fields\": [\n    {\n      \"column\": \"Store\",\n      \"properties\": {\n        \"dtype\": \"number\",\n        \"std\": 12,\n        \"min\": 1,\n        \"max\": 45,\n        \"num_unique_values\": 45,\n        \"samples\": [\n          16,\n          2,\n          3\n        ],\n        \"semantic_type\": \"\",\n        \"description\": \"\"\n      }\n    },\n    {\n      \"column\": \"Dept\",\n      \"properties\": {\n        \"dtype\": \"number\",\n        \"std\": 30,\n        \"min\": 1,\n        \"max\": 99,\n        \"num_unique_values\": 81,\n        \"samples\": [\n          87,\n          32,\n          72\n        ],\n        \"semantic_type\": \"\",\n        \"description\": \"\"\n      }\n    },\n    {\n      \"column\": \"Date\",\n      \"properties\": {\n        \"dtype\": \"date\",\n        \"min\": \"2012-04-13 00:00:00\",\n        \"max\": \"2012-10-26 00:00:00\",\n        \"num_unique_values\": 29,\n        \"samples\": [\n          \"2012-10-19 00:00:00\",\n          \"2012-08-03 00:00:00\",\n          \"2012-07-06 00:00:00\"\n        ],\n        \"semantic_type\": \"\",\n        \"description\": \"\"\n      }\n    },\n    {\n      \"column\": \"IsHoliday\",\n      \"properties\": {\n        \"dtype\": \"boolean\",\n        \"num_unique_values\": 2,\n        \"samples\": [\n          true,\n          false\n        ],\n        \"semantic_type\": \"\",\n        \"description\": \"\"\n      }\n    },\n    {\n      \"column\": \"Temperature\",\n      \"properties\": {\n        \"dtype\": \"number\",\n        \"std\": 11.771164221733477,\n        \"min\": 36.9,\n        \"max\": 100.07,\n        \"num_unique_values\": 886,\n        \"samples\": [\n          50.81,\n          84.2\n        ],\n        \"semantic_type\": \"\",\n        \"description\": \"\"\n      }\n    },\n    {\n      \"column\": \"Fuel_Price\",\n      \"properties\": {\n        \"dtype\": \"number\",\n        \"std\": 0.24844121376386458,\n        \"min\": 3.187,\n        \"max\": 4.468,\n        \"num_unique_values\": 229,\n        \"samples\": [\n          3.594,\n          3.85\n        ],\n        \"semantic_type\": \"\",\n        \"description\": \"\"\n      }\n    },\n    {\n      \"column\": \"MarkDown1\",\n      \"properties\": {\n        \"dtype\": \"number\",\n        \"std\": 6532.775605541016,\n        \"min\": 0.27,\n        \"max\": 48280.91,\n        \"num_unique_values\": 1275,\n        \"samples\": [\n          2360.14,\n          4488.47\n        ],\n        \"semantic_type\": \"\",\n        \"description\": \"\"\n      }\n    },\n    {\n      \"column\": \"MarkDown2\",\n      \"properties\": {\n        \"dtype\": \"number\",\n        \"std\": 1099.1219135497565,\n        \"min\": -265.76,\n        \"max\": 11361.33,\n        \"num_unique_values\": 691,\n        \"samples\": [\n          102.5,\n          2.98\n        ],\n        \"semantic_type\": \"\",\n        \"description\": \"\"\n      }\n    },\n    {\n      \"column\": \"MarkDown3\",\n      \"properties\": {\n        \"dtype\": \"number\",\n        \"std\": 118.47811776792365,\n        \"min\": -29.1,\n        \"max\": 1095.85,\n        \"num_unique_values\": 951,\n        \"samples\": [\n          9.46,\n          13.1\n        ],\n        \"semantic_type\": \"\",\n        \"description\": \"\"\n      }\n    },\n    {\n      \"column\": \"MarkDown4\",\n      \"properties\": {\n        \"dtype\": \"number\",\n        \"std\": 3479.139322321313,\n        \"min\": 0.22,\n        \"max\": 25656.34,\n        \"num_unique_values\": 1098,\n        \"samples\": [\n          657.56,\n          10055.75\n        ],\n        \"semantic_type\": \"\",\n        \"description\": \"\"\n      }\n    },\n    {\n      \"column\": \"MarkDown5\",\n      \"properties\": {\n        \"dtype\": \"number\",\n        \"std\": 6479.512541370954,\n        \"min\": 164.08,\n        \"max\": 108519.28,\n        \"num_unique_values\": 1283,\n        \"samples\": [\n          598.74,\n          1691.31\n        ],\n        \"semantic_type\": \"\",\n        \"description\": \"\"\n      }\n    },\n    {\n      \"column\": \"CPI\",\n      \"properties\": {\n        \"dtype\": \"number\",\n        \"std\": 40.550088885781136,\n        \"min\": 130.683,\n        \"max\": 227.2328068,\n        \"num_unique_values\": 429,\n        \"samples\": [\n          227.0369359,\n          197.5553137\n        ],\n        \"semantic_type\": \"\",\n        \"description\": \"\"\n      }\n    },\n    {\n      \"column\": \"Unemployment\",\n      \"properties\": {\n        \"dtype\": \"number\",\n        \"std\": 1.6850525995839225,\n        \"min\": 3.879,\n        \"max\": 11.627,\n        \"num_unique_values\": 88,\n        \"samples\": [\n          7.293,\n          7.671\n        ],\n        \"semantic_type\": \"\",\n        \"description\": \"\"\n      }\n    },\n    {\n      \"column\": \"Type\",\n      \"properties\": {\n        \"dtype\": \"category\",\n        \"num_unique_values\": 3,\n        \"samples\": [\n          \"B\",\n          \"A\"\n        ],\n        \"semantic_type\": \"\",\n        \"description\": \"\"\n      }\n    },\n    {\n      \"column\": \"Size\",\n      \"properties\": {\n        \"dtype\": \"number\",\n        \"std\": 61191,\n        \"min\": 34875,\n        \"max\": 219622,\n        \"num_unique_values\": 40,\n        \"samples\": [\n          118221,\n          155083\n        ],\n        \"semantic_type\": \"\",\n        \"description\": \"\"\n      }\n    }\n  ]\n}"
            }
          },
          "metadata": {},
          "execution_count": 8
        }
      ],
      "source": [
        "X_valid"
      ]
    },
    {
      "cell_type": "markdown",
      "metadata": {
        "id": "Gsk3kxUHPoOB"
      },
      "source": [
        "# Train"
      ]
    },
    {
      "cell_type": "markdown",
      "source": [
        "We begin by defining the `run_patchtst_cv` method, which will be used throughout this notebook to perform cross-validation for the PatchTST model.\n",
        "\n",
        "Note that the `NeuralForecastModels` framework is used and can be found in the `models/neural_forecast_models` directory."
      ],
      "metadata": {
        "id": "QNf2k30lPz3N"
      }
    },
    {
      "cell_type": "code",
      "execution_count": 9,
      "metadata": {
        "id": "Sld7avoVkMbi"
      },
      "outputs": [],
      "source": [
        "from itertools import product\n",
        "from neuralforecast import NeuralForecast\n",
        "from neuralforecast.models import TFT\n",
        "from src.utils import wmae as compute_wmae\n",
        "\n",
        "import logging\n",
        "logging.getLogger().setLevel(logging.WARNING)\n",
        "logging.getLogger(\"neuralforecast\").setLevel(logging.WARNING)\n",
        "logging.getLogger(\"pytorch_lightning\").setLevel(logging.WARNING)\n",
        "logging.getLogger(\"lightning_fabric\").setLevel(logging.WARNING)\n",
        "\n",
        "def run_tft_cv(X_train, y_train, X_valid, y_valid,\n",
        "                            param_grid,\n",
        "                            fixed_params,\n",
        "                            return_all=False):\n",
        "\n",
        "    results = []\n",
        "\n",
        "    keys, values = zip(*param_grid.items())\n",
        "    for vals in product(*values):\n",
        "        params = dict(zip(keys, vals))\n",
        "        params.update(fixed_params)\n",
        "\n",
        "        params['enable_progress_bar'] = False\n",
        "        params['enable_model_summary'] = False\n",
        "\n",
        "        model = TFT(**params)\n",
        "\n",
        "        nf_model = NeuralForecastModels(models=[model], model_names=['TFT'], freq='W-FRI', one_model=True)\n",
        "        nf_model.fit(X_train, y_train)\n",
        "        y_pred = nf_model.predict(X_valid)\n",
        "        score = compute_wmae(y_valid, y_pred, X_valid['IsHoliday'])\n",
        "\n",
        "        result = {'wmae': score, 'preds': y_pred}\n",
        "        result.update(params)\n",
        "\n",
        "        results.append(result)\n",
        "        print(\" → \".join(f\"{k}={v}\" for k,v in params.items() if k not in ['enable_progress_bar','enable_model_summary']) + f\" → WMAE={score:.4f}\")\n",
        "\n",
        "    if return_all:\n",
        "        return results\n",
        "    else:\n",
        "        return min(results, key=lambda r: r['wmae'])\n"
      ]
    },
    {
      "cell_type": "markdown",
      "source": [
        "## Input Size and Batch Size\n",
        "\n",
        "\n"
      ],
      "metadata": {
        "id": "eUcnTVh7RJA5"
      }
    },
    {
      "cell_type": "markdown",
      "source": [
        "We will tune **input size** and **batch size** jointly because these two hyperparameters are closely related and impact training dynamics in complementary ways.\n",
        "\n",
        "Tuning them together helps balance the amount of information the model sees per training step and the efficiency and stability of learning."
      ],
      "metadata": {
        "id": "eq7ScYHGRMR4"
      }
    },
    {
      "cell_type": "code",
      "execution_count": null,
      "metadata": {
        "colab": {
          "base_uri": "https://localhost:8080/"
        },
        "id": "7QEmzaYVPqnm",
        "outputId": "62bfb847-fa5a-41d5-fdef-41e3bba53198"
      },
      "outputs": [
        {
          "output_type": "stream",
          "name": "stdout",
          "text": [
            "input_size=36 → max_steps=1040 → h=53 → random_seed=42 → WMAE=1945.6900\n",
            "input_size=52 → max_steps=1040 → h=53 → random_seed=42 → WMAE=1768.0978\n",
            "input_size=60 → max_steps=1040 → h=53 → random_seed=42 → WMAE=1673.1952\n",
            "\n",
            "Best hyperparameters found:\n",
            "  input_size: 60\n",
            "Best WMAE: 1673.1952\n"
          ]
        }
      ],
      "source": [
        "from neuralforecast import NeuralForecast\n",
        "from neuralforecast.models import PatchTST\n",
        "from models.neural_forecast_models import NeuralForecastModels\n",
        "from src.utils import wmae as compute_wmae\n",
        "\n",
        "param_grid = {\n",
        "    'input_size' : [36, 52, 60],\n",
        "}\n",
        "\n",
        "fixed_params = {\n",
        "    'max_steps': 10 * 104,\n",
        "    'h': 53,\n",
        "    'random_seed': 42,\n",
        "}\n",
        "\n",
        "\n",
        "best_result = run_tft_cv(\n",
        "    X_train, y_train, X_valid, y_valid,\n",
        "    param_grid=param_grid,\n",
        "    fixed_params=fixed_params,\n",
        "    return_all=False\n",
        ")\n",
        "\n",
        "print(\"\\nBest hyperparameters found:\")\n",
        "for param in param_grid.keys():\n",
        "    print(f\"  {param}: {best_result[param]}\")\n",
        "print(f\"Best WMAE: {best_result['wmae']:.4f}\")\n"
      ]
    },
    {
      "cell_type": "code",
      "execution_count": null,
      "metadata": {
        "colab": {
          "base_uri": "https://localhost:8080/"
        },
        "id": "Ee530k-cYv87",
        "outputId": "cd345b4f-07ae-4b18-d414-e16992a5d2ec"
      },
      "outputs": [
        {
          "output_type": "stream",
          "name": "stdout",
          "text": [
            "input_size=70 → max_steps=1040 → h=53 → random_seed=42 → WMAE=1832.7233\n",
            "input_size=80 → max_steps=1040 → h=53 → random_seed=42 → WMAE=1978.9080\n",
            "\n",
            "Best hyperparameters found:\n",
            "  input_size: 70\n",
            "Best WMAE: 1832.7233\n"
          ]
        }
      ],
      "source": [
        "from neuralforecast import NeuralForecast\n",
        "from neuralforecast.models import PatchTST\n",
        "from models.neural_forecast_models import NeuralForecastModels\n",
        "from src.utils import wmae as compute_wmae\n",
        "\n",
        "param_grid = {\n",
        "    'input_size' : [70, 80],\n",
        "}\n",
        "\n",
        "fixed_params = {\n",
        "    'max_steps': 10 * 104,\n",
        "    'h': 53,\n",
        "    'random_seed': 42,\n",
        "}\n",
        "\n",
        "\n",
        "best_result = run_tft_cv(\n",
        "    X_train, y_train, X_valid, y_valid,\n",
        "    param_grid=param_grid,\n",
        "    fixed_params=fixed_params,\n",
        "    return_all=False\n",
        ")\n",
        "\n",
        "print(\"\\nBest hyperparameters found:\")\n",
        "for param in param_grid.keys():\n",
        "    print(f\"  {param}: {best_result[param]}\")\n",
        "print(f\"Best WMAE: {best_result['wmae']:.4f}\")\n"
      ]
    },
    {
      "cell_type": "code",
      "execution_count": 10,
      "metadata": {
        "colab": {
          "base_uri": "https://localhost:8080/"
        },
        "id": "zfKcEsfhbH6y",
        "outputId": "49c2ff1d-7308-41f7-c365-1f1b60979e56"
      },
      "outputs": [
        {
          "output_type": "stream",
          "name": "stdout",
          "text": [
            "batch_size=32 → max_steps=1040 → h=53 → input_size=60 → random_seed=42 → WMAE=1673.1952\n",
            "batch_size=64 → max_steps=1040 → h=53 → input_size=60 → random_seed=42 → WMAE=1701.3881\n",
            "batch_size=128 → max_steps=1040 → h=53 → input_size=60 → random_seed=42 → WMAE=1701.0284\n",
            "\n",
            "Best hyperparameters found:\n",
            "  batch_size: 32\n",
            "Best WMAE: 1673.1952\n"
          ]
        }
      ],
      "source": [
        "from neuralforecast import NeuralForecast\n",
        "from neuralforecast.models import PatchTST\n",
        "from models.neural_forecast_models import NeuralForecastModels\n",
        "from src.utils import wmae as compute_wmae\n",
        "\n",
        "param_grid = {\n",
        "    'batch_size' : [32, 64, 128],\n",
        "}\n",
        "\n",
        "fixed_params = {\n",
        "    'max_steps': 10 * 104,\n",
        "    'h': 53,\n",
        "    'input_size': 60,\n",
        "    'random_seed': 42,\n",
        "}\n",
        "\n",
        "best_result = run_tft_cv(\n",
        "    X_train, y_train, X_valid, y_valid,\n",
        "    param_grid=param_grid,\n",
        "    fixed_params=fixed_params,\n",
        "    return_all=False\n",
        ")\n",
        "\n",
        "print(\"\\nBest hyperparameters found:\")\n",
        "for param in param_grid.keys():\n",
        "    print(f\"  {param}: {best_result[param]}\")\n",
        "print(f\"Best WMAE: {best_result['wmae']:.4f}\")"
      ]
    },
    {
      "cell_type": "markdown",
      "source": [
        "## Dropout\n",
        "\n",
        "\n"
      ],
      "metadata": {
        "id": "NSdzc8M8RXal"
      }
    },
    {
      "cell_type": "markdown",
      "source": [
        "After tuning input size and batch size, we will focus on tuning **dropout**.Adjusting dropout after setting input and batch sizes allows us to fine-tune the regularization strength based on the chosen model complexity and training dynamics."
      ],
      "metadata": {
        "id": "b93ur3KoRhRA"
      }
    },
    {
      "cell_type": "code",
      "execution_count": 11,
      "metadata": {
        "id": "mHpWlTW1sFlt",
        "colab": {
          "base_uri": "https://localhost:8080/"
        },
        "outputId": "30a0400c-1062-4d82-8cd7-2e744dc63f1b"
      },
      "outputs": [
        {
          "output_type": "stream",
          "name": "stdout",
          "text": [
            "dropout=0 → max_steps=1040 → h=53 → input_size=60 → random_seed=42 → WMAE=1756.2631\n",
            "dropout=0.1 → max_steps=1040 → h=53 → input_size=60 → random_seed=42 → WMAE=1673.1952\n",
            "dropout=0.2 → max_steps=1040 → h=53 → input_size=60 → random_seed=42 → WMAE=1749.9156\n",
            "\n",
            "Best hyperparameters found:\n",
            "  dropout: 0.1\n",
            "Best WMAE: 1673.1952\n"
          ]
        }
      ],
      "source": [
        "from neuralforecast import NeuralForecast\n",
        "from neuralforecast.models import PatchTST\n",
        "from models.neural_forecast_models import NeuralForecastModels\n",
        "from src.utils import wmae as compute_wmae\n",
        "\n",
        "param_grid = {\n",
        "    'dropout' : [0, 0.1, 0.2],\n",
        "}\n",
        "\n",
        "fixed_params = {\n",
        "    'max_steps': 10 * 104,\n",
        "    'h': 53,\n",
        "    'input_size': 60,\n",
        "    'random_seed': 42,\n",
        "}\n",
        "\n",
        "best_result = run_tft_cv(\n",
        "    X_train, y_train, X_valid, y_valid,\n",
        "    param_grid=param_grid,\n",
        "    fixed_params=fixed_params,\n",
        "    return_all=False\n",
        ")\n",
        "\n",
        "print(\"\\nBest hyperparameters found:\")\n",
        "for param in param_grid.keys():\n",
        "    print(f\"  {param}: {best_result[param]}\")\n",
        "print(f\"Best WMAE: {best_result['wmae']:.4f}\")"
      ]
    },
    {
      "cell_type": "code",
      "execution_count": 12,
      "metadata": {
        "id": "ksO_x-g7vpmz",
        "colab": {
          "base_uri": "https://localhost:8080/"
        },
        "outputId": "78072d9d-ee86-4aee-d1e8-065c5bf587dd"
      },
      "outputs": [
        {
          "output_type": "stream",
          "name": "stdout",
          "text": [
            "hidden_size=64 → max_steps=1040 → h=53 → input_size=60 → random_seed=42 → dropout=0.1 → WMAE=1792.6363\n",
            "hidden_size=128 → max_steps=1040 → h=53 → input_size=60 → random_seed=42 → dropout=0.1 → WMAE=1673.1952\n",
            "\n",
            "Best hyperparameters found:\n",
            "  hidden_size: 128\n",
            "Best WMAE: 1673.1952\n"
          ]
        }
      ],
      "source": [
        "from neuralforecast import NeuralForecast\n",
        "from neuralforecast.models import PatchTST\n",
        "from models.neural_forecast_models import NeuralForecastModels\n",
        "from src.utils import wmae as compute_wmae\n",
        "\n",
        "param_grid = {\n",
        "    'hidden_size': [64, 128],\n",
        "}\n",
        "\n",
        "fixed_params = {\n",
        "    'max_steps': 10 * 104,\n",
        "    'h': 53,\n",
        "    'input_size': 60,\n",
        "    'random_seed': 42,\n",
        "    'dropout' : 0.1\n",
        "}\n",
        "\n",
        "best_result = run_tft_cv(\n",
        "    X_train, y_train, X_valid, y_valid,\n",
        "    param_grid=param_grid,\n",
        "    fixed_params=fixed_params,\n",
        "    return_all=False\n",
        ")\n",
        "\n",
        "print(\"\\nBest hyperparameters found:\")\n",
        "for param in param_grid.keys():\n",
        "    print(f\"  {param}: {best_result[param]}\")\n",
        "print(f\"Best WMAE: {best_result['wmae']:.4f}\")"
      ]
    },
    {
      "cell_type": "markdown",
      "source": [
        "## Optional Tuning of Optimizer\n",
        "\n",
        "\n"
      ],
      "metadata": {
        "id": "akSGtITuRr1P"
      }
    },
    {
      "cell_type": "markdown",
      "source": [
        "We will also tune the **optimizer** used during training, although this is not strictly necessary. Trying different optimizers can sometimes lead to improvements in training speed and model performance, but often the default choice works well."
      ],
      "metadata": {
        "id": "iyGZq5luRty1"
      }
    },
    {
      "cell_type": "code",
      "execution_count": 13,
      "metadata": {
        "id": "MJpUjIkJyA1f",
        "colab": {
          "base_uri": "https://localhost:8080/"
        },
        "outputId": "33fd1ecf-0820-448c-976c-295f852ef9a1"
      },
      "outputs": [
        {
          "output_type": "stream",
          "name": "stdout",
          "text": [
            "optimizer=<class 'torch.optim.adam.Adam'> → max_steps=1040 → h=53 → input_size=60 → random_seed=42 → dropout=0.1 → WMAE=1673.1952\n",
            "optimizer=<class 'torch.optim.rmsprop.RMSprop'> → max_steps=1040 → h=53 → input_size=60 → random_seed=42 → dropout=0.1 → WMAE=1733.5558\n",
            "\n",
            "Best hyperparameters found:\n",
            "  optimizer: <class 'torch.optim.adam.Adam'>\n",
            "Best WMAE: 1673.1952\n"
          ]
        }
      ],
      "source": [
        "from neuralforecast import NeuralForecast\n",
        "from neuralforecast.models import PatchTST\n",
        "from models.neural_forecast_models import NeuralForecastModels\n",
        "from src.utils import wmae as compute_wmae\n",
        "import torch.optim as optim\n",
        "\n",
        "param_grid = {\n",
        "    'optimizer': [optim.Adam, optim.RMSprop],\n",
        "}\n",
        "\n",
        "fixed_params = {\n",
        "    'max_steps': 10 * 104,\n",
        "    'h': 53,\n",
        "    'input_size': 60,\n",
        "    'random_seed': 42,\n",
        "    'dropout' : 0.1\n",
        "}\n",
        "\n",
        "best_result = run_tft_cv(\n",
        "    X_train, y_train, X_valid, y_valid,\n",
        "    param_grid=param_grid,\n",
        "    fixed_params=fixed_params,\n",
        "    return_all=False\n",
        ")\n",
        "\n",
        "print(\"\\nBest hyperparameters found:\")\n",
        "for param in param_grid.keys():\n",
        "    print(f\"  {param}: {best_result[param]}\")\n",
        "print(f\"Best WMAE: {best_result['wmae']:.4f}\")"
      ]
    },
    {
      "cell_type": "markdown",
      "metadata": {
        "id": "KzfBHVl44vo_"
      },
      "source": [
        "# Best Model"
      ]
    },
    {
      "cell_type": "markdown",
      "source": [
        "\n",
        "The best TFT model selected through cross-validation has the following parameters:\n",
        "\n",
        "| Parameter               | Value          |\n",
        "|-------------------------|----------------|\n",
        "| **input_size**          | 60             |\n",
        "| **dropout**             | 0.1            |\n",
        "| **h (forecast horizon)**| 53             |\n",
        "| **max_steps**           | 2080 (20 * 104)|\n",
        "| **random_seed**         | 42             |\n"
      ],
      "metadata": {
        "id": "QbBS4z-AR6yR"
      }
    },
    {
      "cell_type": "code",
      "execution_count": 15,
      "metadata": {
        "colab": {
          "base_uri": "https://localhost:8080/"
        },
        "id": "XjlInYEP44_a",
        "outputId": "946af3b3-3719-4842-e707-a8f432b4e7ac"
      },
      "outputs": [
        {
          "output_type": "stream",
          "name": "stdout",
          "text": [
            "1717.1530206837165\n"
          ]
        }
      ],
      "source": [
        "from neuralforecast.models import TFT\n",
        "from models.neural_forecast_models import NeuralForecastModels\n",
        "from src.utils import wmae as compute_wmae\n",
        "\n",
        "model = TFT(\n",
        "    input_size=60,\n",
        "    dropout = 0.1,\n",
        "    h=53,\n",
        "    max_steps= 20 * 104,\n",
        "    random_seed=42,\n",
        "    enable_progress_bar = False,\n",
        "    enable_model_summary = False\n",
        ")\n",
        "nf_model = NeuralForecastModels(models=[model], model_names=['TFT'], freq='W-FRI', one_model=True)\n",
        "nf_model.fit(X_train, y_train)\n",
        "y_pred = nf_model.predict(X_valid)\n",
        "wmae = compute_wmae(y_valid, y_pred, X_valid['IsHoliday'])\n",
        "\n",
        "print(wmae)"
      ]
    },
    {
      "cell_type": "markdown",
      "source": [
        "Now, we will train the selected best model on the entire dataset to leverage all available data. Additionally, we will log the training process and metrics using **Weights & Biases (wandb)** for experiment tracking."
      ],
      "metadata": {
        "id": "qEzSFPXiSAmw"
      }
    },
    {
      "cell_type": "code",
      "execution_count": 16,
      "metadata": {
        "id": "IksIMdg-6qoa"
      },
      "outputs": [],
      "source": [
        "from neuralforecast.models import TFT\n",
        "from models.neural_forecast_models import NeuralForecastModels\n",
        "from src.utils import wmae as compute_wmae\n",
        "\n",
        "model = TFT(\n",
        "    input_size=60,\n",
        "    dropout = 0.1,\n",
        "    h=53,\n",
        "    max_steps= 20 * 104,\n",
        "    random_seed=42,\n",
        "    enable_progress_bar = False,\n",
        "    enable_model_summary = False\n",
        ")\n",
        "nf_model = NeuralForecastModels(models=[model], model_names=['TFT'], freq='W-FRI', one_model=True)\n",
        "nf_model.fit(df.drop(columns='Weekly_Sales'), df['Weekly_Sales'])"
      ]
    },
    {
      "cell_type": "code",
      "execution_count": 17,
      "metadata": {
        "colab": {
          "base_uri": "https://localhost:8080/",
          "height": 466
        },
        "id": "RaDkQjK_8L8y",
        "outputId": "2cfee30c-229f-4553-efba-b78c05278ee1"
      },
      "outputs": [
        {
          "output_type": "stream",
          "name": "stderr",
          "text": [
            "\u001b[34m\u001b[1mwandb\u001b[0m: Currently logged in as: \u001b[33mzhorzholianimate\u001b[0m (\u001b[33mMLBeasts\u001b[0m) to \u001b[32mhttps://api.wandb.ai\u001b[0m. Use \u001b[1m`wandb login --relogin`\u001b[0m to force relogin\n"
          ]
        },
        {
          "output_type": "display_data",
          "data": {
            "text/plain": [
              "<IPython.core.display.HTML object>"
            ],
            "text/html": [
              "Tracking run with wandb version 0.20.1"
            ]
          },
          "metadata": {}
        },
        {
          "output_type": "display_data",
          "data": {
            "text/plain": [
              "<IPython.core.display.HTML object>"
            ],
            "text/html": [
              "Run data is saved locally in <code>/content/Walmart-Recruiting-Store-Sales-Forecasting/wandb/run-20250708_102510-c5ij36n1</code>"
            ]
          },
          "metadata": {}
        },
        {
          "output_type": "display_data",
          "data": {
            "text/plain": [
              "<IPython.core.display.HTML object>"
            ],
            "text/html": [
              "Syncing run <strong><a href='https://wandb.ai/MLBeasts/Walmart%20Recruiting%20-%20Store%20Sales%20Forecasting/runs/c5ij36n1' target=\"_blank\">tft_02</a></strong> to <a href='https://wandb.ai/MLBeasts/Walmart%20Recruiting%20-%20Store%20Sales%20Forecasting' target=\"_blank\">Weights & Biases</a> (<a href='https://wandb.me/developer-guide' target=\"_blank\">docs</a>)<br>"
            ]
          },
          "metadata": {}
        },
        {
          "output_type": "display_data",
          "data": {
            "text/plain": [
              "<IPython.core.display.HTML object>"
            ],
            "text/html": [
              " View project at <a href='https://wandb.ai/MLBeasts/Walmart%20Recruiting%20-%20Store%20Sales%20Forecasting' target=\"_blank\">https://wandb.ai/MLBeasts/Walmart%20Recruiting%20-%20Store%20Sales%20Forecasting</a>"
            ]
          },
          "metadata": {}
        },
        {
          "output_type": "display_data",
          "data": {
            "text/plain": [
              "<IPython.core.display.HTML object>"
            ],
            "text/html": [
              " View run at <a href='https://wandb.ai/MLBeasts/Walmart%20Recruiting%20-%20Store%20Sales%20Forecasting/runs/c5ij36n1' target=\"_blank\">https://wandb.ai/MLBeasts/Walmart%20Recruiting%20-%20Store%20Sales%20Forecasting/runs/c5ij36n1</a>"
            ]
          },
          "metadata": {}
        },
        {
          "output_type": "display_data",
          "data": {
            "text/plain": [
              "<IPython.core.display.HTML object>"
            ],
            "text/html": []
          },
          "metadata": {}
        },
        {
          "output_type": "display_data",
          "data": {
            "text/plain": [
              "<IPython.core.display.HTML object>"
            ],
            "text/html": [
              "<br>    <style><br>        .wandb-row {<br>            display: flex;<br>            flex-direction: row;<br>            flex-wrap: wrap;<br>            justify-content: flex-start;<br>            width: 100%;<br>        }<br>        .wandb-col {<br>            display: flex;<br>            flex-direction: column;<br>            flex-basis: 100%;<br>            flex: 1;<br>            padding: 10px;<br>        }<br>    </style><br><div class=\"wandb-row\"><div class=\"wandb-col\"><h3>Run history:</h3><br/><table class=\"wandb\"><tr><td>train_wmae</td><td>▁</td></tr><tr><td>val_wmae</td><td>▁</td></tr></table><br/></div><div class=\"wandb-col\"><h3>Run summary:</h3><br/><table class=\"wandb\"><tr><td>train_wmae</td><td>-1</td></tr><tr><td>val_wmae</td><td>1717.15302</td></tr></table><br/></div></div>"
            ]
          },
          "metadata": {}
        },
        {
          "output_type": "display_data",
          "data": {
            "text/plain": [
              "<IPython.core.display.HTML object>"
            ],
            "text/html": [
              " View run <strong style=\"color:#cdcd00\">tft_02</strong> at: <a href='https://wandb.ai/MLBeasts/Walmart%20Recruiting%20-%20Store%20Sales%20Forecasting/runs/c5ij36n1' target=\"_blank\">https://wandb.ai/MLBeasts/Walmart%20Recruiting%20-%20Store%20Sales%20Forecasting/runs/c5ij36n1</a><br> View project at: <a href='https://wandb.ai/MLBeasts/Walmart%20Recruiting%20-%20Store%20Sales%20Forecasting' target=\"_blank\">https://wandb.ai/MLBeasts/Walmart%20Recruiting%20-%20Store%20Sales%20Forecasting</a><br>Synced 5 W&B file(s), 0 media file(s), 2 artifact file(s) and 0 other file(s)"
            ]
          },
          "metadata": {}
        },
        {
          "output_type": "display_data",
          "data": {
            "text/plain": [
              "<IPython.core.display.HTML object>"
            ],
            "text/html": [
              "Find logs at: <code>./wandb/run-20250708_102510-c5ij36n1/logs</code>"
            ]
          },
          "metadata": {}
        }
      ],
      "source": [
        "from configs import basic_config\n",
        "from configs import nn_models_config\n",
        "\n",
        "import importlib\n",
        "importlib.reload(basic_config)\n",
        "importlib.reload(nn_models_config)\n",
        "\n",
        "from sklearn.pipeline import Pipeline\n",
        "from configs.basic_config import minimal_config as cfg\n",
        "from configs.nn_models_config import tft_config\n",
        "from src.utils import log_to_wandb\n",
        "\n",
        "log_to_wandb(\n",
        "    model=nf_model,\n",
        "    train_score=-1,\n",
        "    val_score=wmae,\n",
        "    config=cfg | tft_config,\n",
        "    run_name='tft_02',\n",
        "    artifact_name=\"tft\",\n",
        ")"
      ]
    }
  ],
  "metadata": {
    "accelerator": "GPU",
    "colab": {
      "collapsed_sections": [
        "VHiAbF46zcRA",
        "LjrevTEVmrKE",
        "DVbdZIJo199V",
        "KzfBHVl44vo_"
      ],
      "gpuType": "T4",
      "provenance": [],
      "include_colab_link": true
    },
    "kernelspec": {
      "display_name": "Python 3",
      "name": "python3"
    },
    "language_info": {
      "name": "python"
    }
  },
  "nbformat": 4,
  "nbformat_minor": 0
}
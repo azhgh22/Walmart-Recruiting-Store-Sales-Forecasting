{
  "nbformat": 4,
  "nbformat_minor": 0,
  "metadata": {
    "colab": {
      "provenance": [],
      "gpuType": "T4",
      "collapsed_sections": [
        "LjrevTEVmrKE",
        "DVbdZIJo199V"
      ],
      "authorship_tag": "ABX9TyMzqTeySgJel1r/QDKUKMX0",
      "include_colab_link": true
    },
    "kernelspec": {
      "name": "python3",
      "display_name": "Python 3"
    },
    "language_info": {
      "name": "python"
    },
    "accelerator": "GPU"
  },
  "cells": [
    {
      "cell_type": "markdown",
      "metadata": {
        "id": "view-in-github",
        "colab_type": "text"
      },
      "source": [
        "<a href=\"https://colab.research.google.com/github/azhgh22/Walmart-Recruiting-Store-Sales-Forecasting/blob/main/notebooks/03_patch_tst.ipynb\" target=\"_parent\"><img src=\"https://colab.research.google.com/assets/colab-badge.svg\" alt=\"Open In Colab\"/></a>"
      ]
    },
    {
      "cell_type": "markdown",
      "source": [
        "# Notebook Overview\n",
        "\n",
        "\n"
      ],
      "metadata": {
        "id": "6qu4CIWNGQmm"
      }
    },
    {
      "cell_type": "markdown",
      "source": [
        "The main objective of this notebook is to evaluate how well the Neural Network model — specifically **PatchTST** — performs on our problem.\n",
        "\n",
        "To achieve this, we will:\n",
        "\n",
        "- Experiment with the PatchTST model.\n",
        "- Tune its hyperparameters to identify the best-performing configuration.\n",
        "- Use a slightly **different data splitting strategy**. Unlike the usual approach, we will split the data such that the **validation set better reflects the real-world score**, as this has proven to yield more accurate assessments for this model.\n",
        "- Train the model **only on the time series data**, excluding any additional features. That is, we will predict based solely on the **store**, **department**, and **date** information.\n",
        "\n",
        "We will be using our own implementation of the `NeuralForecastModels` framework, located in:\n",
        "\n",
        "```\n",
        "models/neural_forecast_models\n",
        "```"
      ],
      "metadata": {
        "id": "OKmbvvZtHAal"
      }
    },
    {
      "cell_type": "markdown",
      "source": [
        "# Notebook Setup"
      ],
      "metadata": {
        "id": "VHiAbF46zcRA"
      }
    },
    {
      "cell_type": "markdown",
      "source": [
        "The following setup is provided as a basic example for initializing the notebook environment. It includes necessary imports, optional configuration, and a placeholder for data loading or downloading.\n",
        "\n",
        "This section is **not part of the core model logic**, and the code here may vary depending on your environment or data access method."
      ],
      "metadata": {
        "id": "xVwRoP1Il_-b"
      }
    },
    {
      "cell_type": "markdown",
      "source": [
        "## Setup Environment\n"
      ],
      "metadata": {
        "id": "LjrevTEVmrKE"
      }
    },
    {
      "cell_type": "code",
      "source": [
        "from google.colab import drive\n",
        "drive.mount('/content/drive')"
      ],
      "metadata": {
        "colab": {
          "base_uri": "https://localhost:8080/"
        },
        "id": "eFytplbW1H5E",
        "outputId": "942400d3-854d-4840-e48b-73e48cf63442"
      },
      "execution_count": null,
      "outputs": [
        {
          "output_type": "stream",
          "name": "stdout",
          "text": [
            "Mounted at /content/drive\n"
          ]
        }
      ]
    },
    {
      "cell_type": "code",
      "source": [
        "from google.colab import userdata\n",
        "token = userdata.get('GITHUB_TOKEN')\n",
        "user_name = userdata.get('GITHUB_USERNAME')\n",
        "mail = userdata.get('GITHUB_MAIL')\n",
        "\n",
        "!git config --global user.name \"{user_name}\"\n",
        "!git config --global user.email \"{mail}\"\n",
        "!git clone https://{token}@github.com/azhgh22/Walmart-Recruiting-Store-Sales-Forecasting.git\n",
        "\n",
        "%cd Walmart-Recruiting-Store-Sales-Forecasting"
      ],
      "metadata": {
        "colab": {
          "base_uri": "https://localhost:8080/"
        },
        "id": "fkYQEp-uzdmm",
        "outputId": "943bcaa4-0434-4cf7-9825-8c91f6b05929"
      },
      "execution_count": null,
      "outputs": [
        {
          "output_type": "stream",
          "name": "stdout",
          "text": [
            "Cloning into 'Walmart-Recruiting-Store-Sales-Forecasting'...\n",
            "remote: Enumerating objects: 367, done.\u001b[K\n",
            "remote: Counting objects: 100% (158/158), done.\u001b[K\n",
            "remote: Compressing objects: 100% (136/136), done.\u001b[K\n",
            "remote: Total 367 (delta 88), reused 52 (delta 22), pack-reused 209 (from 1)\u001b[K\n",
            "Receiving objects: 100% (367/367), 6.92 MiB | 4.03 MiB/s, done.\n",
            "Resolving deltas: 100% (185/185), done.\n",
            "/content/Walmart-Recruiting-Store-Sales-Forecasting\n"
          ]
        }
      ]
    },
    {
      "cell_type": "code",
      "source": [
        "%%capture\n",
        "!pip install -r requirements.txt"
      ],
      "metadata": {
        "id": "2slMc4nq3esY"
      },
      "execution_count": null,
      "outputs": []
    },
    {
      "cell_type": "code",
      "source": [
        "%%capture\n",
        "from google.colab import userdata\n",
        "kaggle_json_path = userdata.get('KAGGLE_JSON_PATH')\n",
        "! ./src/data_loader.sh -f {kaggle_json_path}"
      ],
      "metadata": {
        "id": "_vSvSwpw4Qqj"
      },
      "execution_count": null,
      "outputs": []
    },
    {
      "cell_type": "code",
      "source": [
        "from google.colab import userdata\n",
        "wandb_api_key = userdata.get('WANDB_API_LOGIN')\n",
        "!wandb login {wandb_api_key}"
      ],
      "metadata": {
        "colab": {
          "base_uri": "https://localhost:8080/"
        },
        "id": "z0W9kKnYkbg7",
        "outputId": "3999bcb0-d48e-44dd-b389-11d1809c91aa"
      },
      "execution_count": null,
      "outputs": [
        {
          "output_type": "stream",
          "name": "stdout",
          "text": [
            "\u001b[34m\u001b[1mwandb\u001b[0m: \u001b[33mWARNING\u001b[0m If you're specifying your api key in code, ensure this code is not shared publicly.\n",
            "\u001b[34m\u001b[1mwandb\u001b[0m: \u001b[33mWARNING\u001b[0m Consider setting the WANDB_API_KEY environment variable, or running `wandb login` from the command line.\n",
            "\u001b[34m\u001b[1mwandb\u001b[0m: No netrc file found, creating one.\n",
            "\u001b[34m\u001b[1mwandb\u001b[0m: Appending key for api.wandb.ai to your netrc file: /root/.netrc\n",
            "\u001b[34m\u001b[1mwandb\u001b[0m: W&B API key is configured. Use \u001b[1m`wandb login --relogin`\u001b[0m to force relogin\n"
          ]
        }
      ]
    },
    {
      "cell_type": "markdown",
      "source": [
        "## Load and Split Data"
      ],
      "metadata": {
        "id": "DVbdZIJo199V"
      }
    },
    {
      "cell_type": "code",
      "source": [
        "from src import data_loader, processing\n",
        "import importlib\n",
        "importlib.reload(processing)\n",
        "\n",
        "dataframes = data_loader.load_raw_data()\n",
        "df = processing.run_preprocessing(dataframes, process_test=False, merge_features=True, merge_stores=True)['train']\n",
        "X_train, y_train, X_valid, y_valid = processing.split_data_by_ratio(df, separate_target=True)\n",
        "\n",
        "print(f\"Shapes of train_df and valid_df: {X_train.shape}, {X_valid.shape}\")"
      ],
      "metadata": {
        "colab": {
          "base_uri": "https://localhost:8080/"
        },
        "id": "QX_ddIHAk7M_",
        "outputId": "e16352f5-567f-401e-d5f3-9b8d10a18ec1"
      },
      "execution_count": null,
      "outputs": [
        {
          "output_type": "stream",
          "name": "stdout",
          "text": [
            "Data loading complete.\n",
            "Shapes of train_df and valid_df: (337256, 15), (84314, 15)\n"
          ]
        }
      ]
    },
    {
      "cell_type": "code",
      "source": [
        "X_train"
      ],
      "metadata": {
        "colab": {
          "base_uri": "https://localhost:8080/",
          "height": 424
        },
        "id": "l6L-ODoqlb6r",
        "outputId": "4029815e-1bb1-4957-b874-f4d561fef8b7"
      },
      "execution_count": null,
      "outputs": [
        {
          "output_type": "execute_result",
          "data": {
            "text/plain": [
              "        Store  Dept       Date  IsHoliday  Temperature  Fuel_Price  MarkDown1  \\\n",
              "0           1     1 2010-02-05      False        42.31       2.572        NaN   \n",
              "1           1     2 2010-02-05      False        42.31       2.572        NaN   \n",
              "2           1     3 2010-02-05      False        42.31       2.572        NaN   \n",
              "3           1     4 2010-02-05      False        42.31       2.572        NaN   \n",
              "4           1     5 2010-02-05      False        42.31       2.572        NaN   \n",
              "...       ...   ...        ...        ...          ...         ...        ...   \n",
              "337251     22    27 2012-04-13      False        49.89       4.025     5981.5   \n",
              "337252     22    28 2012-04-13      False        49.89       4.025     5981.5   \n",
              "337253     22    29 2012-04-13      False        49.89       4.025     5981.5   \n",
              "337254     22    30 2012-04-13      False        49.89       4.025     5981.5   \n",
              "337255     22    31 2012-04-13      False        49.89       4.025     5981.5   \n",
              "\n",
              "        MarkDown2  MarkDown3  MarkDown4  MarkDown5         CPI  Unemployment  \\\n",
              "0             NaN        NaN        NaN        NaN  211.096358         8.106   \n",
              "1             NaN        NaN        NaN        NaN  211.096358         8.106   \n",
              "2             NaN        NaN        NaN        NaN  211.096358         8.106   \n",
              "3             NaN        NaN        NaN        NaN  211.096358         8.106   \n",
              "4             NaN        NaN        NaN        NaN  211.096358         8.106   \n",
              "...           ...        ...        ...        ...         ...           ...   \n",
              "337251   10877.85        9.5    1633.96    1932.86  141.843393         7.671   \n",
              "337252   10877.85        9.5    1633.96    1932.86  141.843393         7.671   \n",
              "337253   10877.85        9.5    1633.96    1932.86  141.843393         7.671   \n",
              "337254   10877.85        9.5    1633.96    1932.86  141.843393         7.671   \n",
              "337255   10877.85        9.5    1633.96    1932.86  141.843393         7.671   \n",
              "\n",
              "       Type    Size  \n",
              "0         A  151315  \n",
              "1         A  151315  \n",
              "2         A  151315  \n",
              "3         A  151315  \n",
              "4         A  151315  \n",
              "...     ...     ...  \n",
              "337251    B  119557  \n",
              "337252    B  119557  \n",
              "337253    B  119557  \n",
              "337254    B  119557  \n",
              "337255    B  119557  \n",
              "\n",
              "[337256 rows x 15 columns]"
            ],
            "text/html": [
              "\n",
              "  <div id=\"df-f63ff536-9be2-48a2-b781-5a3776b21774\" class=\"colab-df-container\">\n",
              "    <div>\n",
              "<style scoped>\n",
              "    .dataframe tbody tr th:only-of-type {\n",
              "        vertical-align: middle;\n",
              "    }\n",
              "\n",
              "    .dataframe tbody tr th {\n",
              "        vertical-align: top;\n",
              "    }\n",
              "\n",
              "    .dataframe thead th {\n",
              "        text-align: right;\n",
              "    }\n",
              "</style>\n",
              "<table border=\"1\" class=\"dataframe\">\n",
              "  <thead>\n",
              "    <tr style=\"text-align: right;\">\n",
              "      <th></th>\n",
              "      <th>Store</th>\n",
              "      <th>Dept</th>\n",
              "      <th>Date</th>\n",
              "      <th>IsHoliday</th>\n",
              "      <th>Temperature</th>\n",
              "      <th>Fuel_Price</th>\n",
              "      <th>MarkDown1</th>\n",
              "      <th>MarkDown2</th>\n",
              "      <th>MarkDown3</th>\n",
              "      <th>MarkDown4</th>\n",
              "      <th>MarkDown5</th>\n",
              "      <th>CPI</th>\n",
              "      <th>Unemployment</th>\n",
              "      <th>Type</th>\n",
              "      <th>Size</th>\n",
              "    </tr>\n",
              "  </thead>\n",
              "  <tbody>\n",
              "    <tr>\n",
              "      <th>0</th>\n",
              "      <td>1</td>\n",
              "      <td>1</td>\n",
              "      <td>2010-02-05</td>\n",
              "      <td>False</td>\n",
              "      <td>42.31</td>\n",
              "      <td>2.572</td>\n",
              "      <td>NaN</td>\n",
              "      <td>NaN</td>\n",
              "      <td>NaN</td>\n",
              "      <td>NaN</td>\n",
              "      <td>NaN</td>\n",
              "      <td>211.096358</td>\n",
              "      <td>8.106</td>\n",
              "      <td>A</td>\n",
              "      <td>151315</td>\n",
              "    </tr>\n",
              "    <tr>\n",
              "      <th>1</th>\n",
              "      <td>1</td>\n",
              "      <td>2</td>\n",
              "      <td>2010-02-05</td>\n",
              "      <td>False</td>\n",
              "      <td>42.31</td>\n",
              "      <td>2.572</td>\n",
              "      <td>NaN</td>\n",
              "      <td>NaN</td>\n",
              "      <td>NaN</td>\n",
              "      <td>NaN</td>\n",
              "      <td>NaN</td>\n",
              "      <td>211.096358</td>\n",
              "      <td>8.106</td>\n",
              "      <td>A</td>\n",
              "      <td>151315</td>\n",
              "    </tr>\n",
              "    <tr>\n",
              "      <th>2</th>\n",
              "      <td>1</td>\n",
              "      <td>3</td>\n",
              "      <td>2010-02-05</td>\n",
              "      <td>False</td>\n",
              "      <td>42.31</td>\n",
              "      <td>2.572</td>\n",
              "      <td>NaN</td>\n",
              "      <td>NaN</td>\n",
              "      <td>NaN</td>\n",
              "      <td>NaN</td>\n",
              "      <td>NaN</td>\n",
              "      <td>211.096358</td>\n",
              "      <td>8.106</td>\n",
              "      <td>A</td>\n",
              "      <td>151315</td>\n",
              "    </tr>\n",
              "    <tr>\n",
              "      <th>3</th>\n",
              "      <td>1</td>\n",
              "      <td>4</td>\n",
              "      <td>2010-02-05</td>\n",
              "      <td>False</td>\n",
              "      <td>42.31</td>\n",
              "      <td>2.572</td>\n",
              "      <td>NaN</td>\n",
              "      <td>NaN</td>\n",
              "      <td>NaN</td>\n",
              "      <td>NaN</td>\n",
              "      <td>NaN</td>\n",
              "      <td>211.096358</td>\n",
              "      <td>8.106</td>\n",
              "      <td>A</td>\n",
              "      <td>151315</td>\n",
              "    </tr>\n",
              "    <tr>\n",
              "      <th>4</th>\n",
              "      <td>1</td>\n",
              "      <td>5</td>\n",
              "      <td>2010-02-05</td>\n",
              "      <td>False</td>\n",
              "      <td>42.31</td>\n",
              "      <td>2.572</td>\n",
              "      <td>NaN</td>\n",
              "      <td>NaN</td>\n",
              "      <td>NaN</td>\n",
              "      <td>NaN</td>\n",
              "      <td>NaN</td>\n",
              "      <td>211.096358</td>\n",
              "      <td>8.106</td>\n",
              "      <td>A</td>\n",
              "      <td>151315</td>\n",
              "    </tr>\n",
              "    <tr>\n",
              "      <th>...</th>\n",
              "      <td>...</td>\n",
              "      <td>...</td>\n",
              "      <td>...</td>\n",
              "      <td>...</td>\n",
              "      <td>...</td>\n",
              "      <td>...</td>\n",
              "      <td>...</td>\n",
              "      <td>...</td>\n",
              "      <td>...</td>\n",
              "      <td>...</td>\n",
              "      <td>...</td>\n",
              "      <td>...</td>\n",
              "      <td>...</td>\n",
              "      <td>...</td>\n",
              "      <td>...</td>\n",
              "    </tr>\n",
              "    <tr>\n",
              "      <th>337251</th>\n",
              "      <td>22</td>\n",
              "      <td>27</td>\n",
              "      <td>2012-04-13</td>\n",
              "      <td>False</td>\n",
              "      <td>49.89</td>\n",
              "      <td>4.025</td>\n",
              "      <td>5981.5</td>\n",
              "      <td>10877.85</td>\n",
              "      <td>9.5</td>\n",
              "      <td>1633.96</td>\n",
              "      <td>1932.86</td>\n",
              "      <td>141.843393</td>\n",
              "      <td>7.671</td>\n",
              "      <td>B</td>\n",
              "      <td>119557</td>\n",
              "    </tr>\n",
              "    <tr>\n",
              "      <th>337252</th>\n",
              "      <td>22</td>\n",
              "      <td>28</td>\n",
              "      <td>2012-04-13</td>\n",
              "      <td>False</td>\n",
              "      <td>49.89</td>\n",
              "      <td>4.025</td>\n",
              "      <td>5981.5</td>\n",
              "      <td>10877.85</td>\n",
              "      <td>9.5</td>\n",
              "      <td>1633.96</td>\n",
              "      <td>1932.86</td>\n",
              "      <td>141.843393</td>\n",
              "      <td>7.671</td>\n",
              "      <td>B</td>\n",
              "      <td>119557</td>\n",
              "    </tr>\n",
              "    <tr>\n",
              "      <th>337253</th>\n",
              "      <td>22</td>\n",
              "      <td>29</td>\n",
              "      <td>2012-04-13</td>\n",
              "      <td>False</td>\n",
              "      <td>49.89</td>\n",
              "      <td>4.025</td>\n",
              "      <td>5981.5</td>\n",
              "      <td>10877.85</td>\n",
              "      <td>9.5</td>\n",
              "      <td>1633.96</td>\n",
              "      <td>1932.86</td>\n",
              "      <td>141.843393</td>\n",
              "      <td>7.671</td>\n",
              "      <td>B</td>\n",
              "      <td>119557</td>\n",
              "    </tr>\n",
              "    <tr>\n",
              "      <th>337254</th>\n",
              "      <td>22</td>\n",
              "      <td>30</td>\n",
              "      <td>2012-04-13</td>\n",
              "      <td>False</td>\n",
              "      <td>49.89</td>\n",
              "      <td>4.025</td>\n",
              "      <td>5981.5</td>\n",
              "      <td>10877.85</td>\n",
              "      <td>9.5</td>\n",
              "      <td>1633.96</td>\n",
              "      <td>1932.86</td>\n",
              "      <td>141.843393</td>\n",
              "      <td>7.671</td>\n",
              "      <td>B</td>\n",
              "      <td>119557</td>\n",
              "    </tr>\n",
              "    <tr>\n",
              "      <th>337255</th>\n",
              "      <td>22</td>\n",
              "      <td>31</td>\n",
              "      <td>2012-04-13</td>\n",
              "      <td>False</td>\n",
              "      <td>49.89</td>\n",
              "      <td>4.025</td>\n",
              "      <td>5981.5</td>\n",
              "      <td>10877.85</td>\n",
              "      <td>9.5</td>\n",
              "      <td>1633.96</td>\n",
              "      <td>1932.86</td>\n",
              "      <td>141.843393</td>\n",
              "      <td>7.671</td>\n",
              "      <td>B</td>\n",
              "      <td>119557</td>\n",
              "    </tr>\n",
              "  </tbody>\n",
              "</table>\n",
              "<p>337256 rows × 15 columns</p>\n",
              "</div>\n",
              "    <div class=\"colab-df-buttons\">\n",
              "\n",
              "  <div class=\"colab-df-container\">\n",
              "    <button class=\"colab-df-convert\" onclick=\"convertToInteractive('df-f63ff536-9be2-48a2-b781-5a3776b21774')\"\n",
              "            title=\"Convert this dataframe to an interactive table.\"\n",
              "            style=\"display:none;\">\n",
              "\n",
              "  <svg xmlns=\"http://www.w3.org/2000/svg\" height=\"24px\" viewBox=\"0 -960 960 960\">\n",
              "    <path d=\"M120-120v-720h720v720H120Zm60-500h600v-160H180v160Zm220 220h160v-160H400v160Zm0 220h160v-160H400v160ZM180-400h160v-160H180v160Zm440 0h160v-160H620v160ZM180-180h160v-160H180v160Zm440 0h160v-160H620v160Z\"/>\n",
              "  </svg>\n",
              "    </button>\n",
              "\n",
              "  <style>\n",
              "    .colab-df-container {\n",
              "      display:flex;\n",
              "      gap: 12px;\n",
              "    }\n",
              "\n",
              "    .colab-df-convert {\n",
              "      background-color: #E8F0FE;\n",
              "      border: none;\n",
              "      border-radius: 50%;\n",
              "      cursor: pointer;\n",
              "      display: none;\n",
              "      fill: #1967D2;\n",
              "      height: 32px;\n",
              "      padding: 0 0 0 0;\n",
              "      width: 32px;\n",
              "    }\n",
              "\n",
              "    .colab-df-convert:hover {\n",
              "      background-color: #E2EBFA;\n",
              "      box-shadow: 0px 1px 2px rgba(60, 64, 67, 0.3), 0px 1px 3px 1px rgba(60, 64, 67, 0.15);\n",
              "      fill: #174EA6;\n",
              "    }\n",
              "\n",
              "    .colab-df-buttons div {\n",
              "      margin-bottom: 4px;\n",
              "    }\n",
              "\n",
              "    [theme=dark] .colab-df-convert {\n",
              "      background-color: #3B4455;\n",
              "      fill: #D2E3FC;\n",
              "    }\n",
              "\n",
              "    [theme=dark] .colab-df-convert:hover {\n",
              "      background-color: #434B5C;\n",
              "      box-shadow: 0px 1px 3px 1px rgba(0, 0, 0, 0.15);\n",
              "      filter: drop-shadow(0px 1px 2px rgba(0, 0, 0, 0.3));\n",
              "      fill: #FFFFFF;\n",
              "    }\n",
              "  </style>\n",
              "\n",
              "    <script>\n",
              "      const buttonEl =\n",
              "        document.querySelector('#df-f63ff536-9be2-48a2-b781-5a3776b21774 button.colab-df-convert');\n",
              "      buttonEl.style.display =\n",
              "        google.colab.kernel.accessAllowed ? 'block' : 'none';\n",
              "\n",
              "      async function convertToInteractive(key) {\n",
              "        const element = document.querySelector('#df-f63ff536-9be2-48a2-b781-5a3776b21774');\n",
              "        const dataTable =\n",
              "          await google.colab.kernel.invokeFunction('convertToInteractive',\n",
              "                                                    [key], {});\n",
              "        if (!dataTable) return;\n",
              "\n",
              "        const docLinkHtml = 'Like what you see? Visit the ' +\n",
              "          '<a target=\"_blank\" href=https://colab.research.google.com/notebooks/data_table.ipynb>data table notebook</a>'\n",
              "          + ' to learn more about interactive tables.';\n",
              "        element.innerHTML = '';\n",
              "        dataTable['output_type'] = 'display_data';\n",
              "        await google.colab.output.renderOutput(dataTable, element);\n",
              "        const docLink = document.createElement('div');\n",
              "        docLink.innerHTML = docLinkHtml;\n",
              "        element.appendChild(docLink);\n",
              "      }\n",
              "    </script>\n",
              "  </div>\n",
              "\n",
              "\n",
              "    <div id=\"df-d124504d-6404-4c70-93f0-68c3678df6db\">\n",
              "      <button class=\"colab-df-quickchart\" onclick=\"quickchart('df-d124504d-6404-4c70-93f0-68c3678df6db')\"\n",
              "                title=\"Suggest charts\"\n",
              "                style=\"display:none;\">\n",
              "\n",
              "<svg xmlns=\"http://www.w3.org/2000/svg\" height=\"24px\"viewBox=\"0 0 24 24\"\n",
              "     width=\"24px\">\n",
              "    <g>\n",
              "        <path d=\"M19 3H5c-1.1 0-2 .9-2 2v14c0 1.1.9 2 2 2h14c1.1 0 2-.9 2-2V5c0-1.1-.9-2-2-2zM9 17H7v-7h2v7zm4 0h-2V7h2v10zm4 0h-2v-4h2v4z\"/>\n",
              "    </g>\n",
              "</svg>\n",
              "      </button>\n",
              "\n",
              "<style>\n",
              "  .colab-df-quickchart {\n",
              "      --bg-color: #E8F0FE;\n",
              "      --fill-color: #1967D2;\n",
              "      --hover-bg-color: #E2EBFA;\n",
              "      --hover-fill-color: #174EA6;\n",
              "      --disabled-fill-color: #AAA;\n",
              "      --disabled-bg-color: #DDD;\n",
              "  }\n",
              "\n",
              "  [theme=dark] .colab-df-quickchart {\n",
              "      --bg-color: #3B4455;\n",
              "      --fill-color: #D2E3FC;\n",
              "      --hover-bg-color: #434B5C;\n",
              "      --hover-fill-color: #FFFFFF;\n",
              "      --disabled-bg-color: #3B4455;\n",
              "      --disabled-fill-color: #666;\n",
              "  }\n",
              "\n",
              "  .colab-df-quickchart {\n",
              "    background-color: var(--bg-color);\n",
              "    border: none;\n",
              "    border-radius: 50%;\n",
              "    cursor: pointer;\n",
              "    display: none;\n",
              "    fill: var(--fill-color);\n",
              "    height: 32px;\n",
              "    padding: 0;\n",
              "    width: 32px;\n",
              "  }\n",
              "\n",
              "  .colab-df-quickchart:hover {\n",
              "    background-color: var(--hover-bg-color);\n",
              "    box-shadow: 0 1px 2px rgba(60, 64, 67, 0.3), 0 1px 3px 1px rgba(60, 64, 67, 0.15);\n",
              "    fill: var(--button-hover-fill-color);\n",
              "  }\n",
              "\n",
              "  .colab-df-quickchart-complete:disabled,\n",
              "  .colab-df-quickchart-complete:disabled:hover {\n",
              "    background-color: var(--disabled-bg-color);\n",
              "    fill: var(--disabled-fill-color);\n",
              "    box-shadow: none;\n",
              "  }\n",
              "\n",
              "  .colab-df-spinner {\n",
              "    border: 2px solid var(--fill-color);\n",
              "    border-color: transparent;\n",
              "    border-bottom-color: var(--fill-color);\n",
              "    animation:\n",
              "      spin 1s steps(1) infinite;\n",
              "  }\n",
              "\n",
              "  @keyframes spin {\n",
              "    0% {\n",
              "      border-color: transparent;\n",
              "      border-bottom-color: var(--fill-color);\n",
              "      border-left-color: var(--fill-color);\n",
              "    }\n",
              "    20% {\n",
              "      border-color: transparent;\n",
              "      border-left-color: var(--fill-color);\n",
              "      border-top-color: var(--fill-color);\n",
              "    }\n",
              "    30% {\n",
              "      border-color: transparent;\n",
              "      border-left-color: var(--fill-color);\n",
              "      border-top-color: var(--fill-color);\n",
              "      border-right-color: var(--fill-color);\n",
              "    }\n",
              "    40% {\n",
              "      border-color: transparent;\n",
              "      border-right-color: var(--fill-color);\n",
              "      border-top-color: var(--fill-color);\n",
              "    }\n",
              "    60% {\n",
              "      border-color: transparent;\n",
              "      border-right-color: var(--fill-color);\n",
              "    }\n",
              "    80% {\n",
              "      border-color: transparent;\n",
              "      border-right-color: var(--fill-color);\n",
              "      border-bottom-color: var(--fill-color);\n",
              "    }\n",
              "    90% {\n",
              "      border-color: transparent;\n",
              "      border-bottom-color: var(--fill-color);\n",
              "    }\n",
              "  }\n",
              "</style>\n",
              "\n",
              "      <script>\n",
              "        async function quickchart(key) {\n",
              "          const quickchartButtonEl =\n",
              "            document.querySelector('#' + key + ' button');\n",
              "          quickchartButtonEl.disabled = true;  // To prevent multiple clicks.\n",
              "          quickchartButtonEl.classList.add('colab-df-spinner');\n",
              "          try {\n",
              "            const charts = await google.colab.kernel.invokeFunction(\n",
              "                'suggestCharts', [key], {});\n",
              "          } catch (error) {\n",
              "            console.error('Error during call to suggestCharts:', error);\n",
              "          }\n",
              "          quickchartButtonEl.classList.remove('colab-df-spinner');\n",
              "          quickchartButtonEl.classList.add('colab-df-quickchart-complete');\n",
              "        }\n",
              "        (() => {\n",
              "          let quickchartButtonEl =\n",
              "            document.querySelector('#df-d124504d-6404-4c70-93f0-68c3678df6db button');\n",
              "          quickchartButtonEl.style.display =\n",
              "            google.colab.kernel.accessAllowed ? 'block' : 'none';\n",
              "        })();\n",
              "      </script>\n",
              "    </div>\n",
              "\n",
              "  <div id=\"id_2f134837-ed90-4668-9ea8-c02cab2f270b\">\n",
              "    <style>\n",
              "      .colab-df-generate {\n",
              "        background-color: #E8F0FE;\n",
              "        border: none;\n",
              "        border-radius: 50%;\n",
              "        cursor: pointer;\n",
              "        display: none;\n",
              "        fill: #1967D2;\n",
              "        height: 32px;\n",
              "        padding: 0 0 0 0;\n",
              "        width: 32px;\n",
              "      }\n",
              "\n",
              "      .colab-df-generate:hover {\n",
              "        background-color: #E2EBFA;\n",
              "        box-shadow: 0px 1px 2px rgba(60, 64, 67, 0.3), 0px 1px 3px 1px rgba(60, 64, 67, 0.15);\n",
              "        fill: #174EA6;\n",
              "      }\n",
              "\n",
              "      [theme=dark] .colab-df-generate {\n",
              "        background-color: #3B4455;\n",
              "        fill: #D2E3FC;\n",
              "      }\n",
              "\n",
              "      [theme=dark] .colab-df-generate:hover {\n",
              "        background-color: #434B5C;\n",
              "        box-shadow: 0px 1px 3px 1px rgba(0, 0, 0, 0.15);\n",
              "        filter: drop-shadow(0px 1px 2px rgba(0, 0, 0, 0.3));\n",
              "        fill: #FFFFFF;\n",
              "      }\n",
              "    </style>\n",
              "    <button class=\"colab-df-generate\" onclick=\"generateWithVariable('X_train')\"\n",
              "            title=\"Generate code using this dataframe.\"\n",
              "            style=\"display:none;\">\n",
              "\n",
              "  <svg xmlns=\"http://www.w3.org/2000/svg\" height=\"24px\"viewBox=\"0 0 24 24\"\n",
              "       width=\"24px\">\n",
              "    <path d=\"M7,19H8.4L18.45,9,17,7.55,7,17.6ZM5,21V16.75L18.45,3.32a2,2,0,0,1,2.83,0l1.4,1.43a1.91,1.91,0,0,1,.58,1.4,1.91,1.91,0,0,1-.58,1.4L9.25,21ZM18.45,9,17,7.55Zm-12,3A5.31,5.31,0,0,0,4.9,8.1,5.31,5.31,0,0,0,1,6.5,5.31,5.31,0,0,0,4.9,4.9,5.31,5.31,0,0,0,6.5,1,5.31,5.31,0,0,0,8.1,4.9,5.31,5.31,0,0,0,12,6.5,5.46,5.46,0,0,0,6.5,12Z\"/>\n",
              "  </svg>\n",
              "    </button>\n",
              "    <script>\n",
              "      (() => {\n",
              "      const buttonEl =\n",
              "        document.querySelector('#id_2f134837-ed90-4668-9ea8-c02cab2f270b button.colab-df-generate');\n",
              "      buttonEl.style.display =\n",
              "        google.colab.kernel.accessAllowed ? 'block' : 'none';\n",
              "\n",
              "      buttonEl.onclick = () => {\n",
              "        google.colab.notebook.generateWithVariable('X_train');\n",
              "      }\n",
              "      })();\n",
              "    </script>\n",
              "  </div>\n",
              "\n",
              "    </div>\n",
              "  </div>\n"
            ],
            "application/vnd.google.colaboratory.intrinsic+json": {
              "type": "dataframe",
              "variable_name": "X_train"
            }
          },
          "metadata": {},
          "execution_count": 64
        }
      ]
    },
    {
      "cell_type": "code",
      "source": [
        "X_valid"
      ],
      "metadata": {
        "colab": {
          "base_uri": "https://localhost:8080/",
          "height": 424
        },
        "id": "-Z0UtJEm2Bpg",
        "outputId": "b3bd2127-eb4c-454c-e0e1-1de5368278ee"
      },
      "execution_count": null,
      "outputs": [
        {
          "output_type": "execute_result",
          "data": {
            "text/plain": [
              "        Store  Dept       Date  IsHoliday\n",
              "337256     22    32 2012-04-13      False\n",
              "337257     22    33 2012-04-13      False\n",
              "337258     22    34 2012-04-13      False\n",
              "337259     22    35 2012-04-13      False\n",
              "337260     22    36 2012-04-13      False\n",
              "...       ...   ...        ...        ...\n",
              "421565     45    93 2012-10-26      False\n",
              "421566     45    94 2012-10-26      False\n",
              "421567     45    95 2012-10-26      False\n",
              "421568     45    97 2012-10-26      False\n",
              "421569     45    98 2012-10-26      False\n",
              "\n",
              "[84314 rows x 4 columns]"
            ],
            "text/html": [
              "\n",
              "  <div id=\"df-4bb82594-adad-432d-a18c-2010b1aa0b7f\" class=\"colab-df-container\">\n",
              "    <div>\n",
              "<style scoped>\n",
              "    .dataframe tbody tr th:only-of-type {\n",
              "        vertical-align: middle;\n",
              "    }\n",
              "\n",
              "    .dataframe tbody tr th {\n",
              "        vertical-align: top;\n",
              "    }\n",
              "\n",
              "    .dataframe thead th {\n",
              "        text-align: right;\n",
              "    }\n",
              "</style>\n",
              "<table border=\"1\" class=\"dataframe\">\n",
              "  <thead>\n",
              "    <tr style=\"text-align: right;\">\n",
              "      <th></th>\n",
              "      <th>Store</th>\n",
              "      <th>Dept</th>\n",
              "      <th>Date</th>\n",
              "      <th>IsHoliday</th>\n",
              "    </tr>\n",
              "  </thead>\n",
              "  <tbody>\n",
              "    <tr>\n",
              "      <th>337256</th>\n",
              "      <td>22</td>\n",
              "      <td>32</td>\n",
              "      <td>2012-04-13</td>\n",
              "      <td>False</td>\n",
              "    </tr>\n",
              "    <tr>\n",
              "      <th>337257</th>\n",
              "      <td>22</td>\n",
              "      <td>33</td>\n",
              "      <td>2012-04-13</td>\n",
              "      <td>False</td>\n",
              "    </tr>\n",
              "    <tr>\n",
              "      <th>337258</th>\n",
              "      <td>22</td>\n",
              "      <td>34</td>\n",
              "      <td>2012-04-13</td>\n",
              "      <td>False</td>\n",
              "    </tr>\n",
              "    <tr>\n",
              "      <th>337259</th>\n",
              "      <td>22</td>\n",
              "      <td>35</td>\n",
              "      <td>2012-04-13</td>\n",
              "      <td>False</td>\n",
              "    </tr>\n",
              "    <tr>\n",
              "      <th>337260</th>\n",
              "      <td>22</td>\n",
              "      <td>36</td>\n",
              "      <td>2012-04-13</td>\n",
              "      <td>False</td>\n",
              "    </tr>\n",
              "    <tr>\n",
              "      <th>...</th>\n",
              "      <td>...</td>\n",
              "      <td>...</td>\n",
              "      <td>...</td>\n",
              "      <td>...</td>\n",
              "    </tr>\n",
              "    <tr>\n",
              "      <th>421565</th>\n",
              "      <td>45</td>\n",
              "      <td>93</td>\n",
              "      <td>2012-10-26</td>\n",
              "      <td>False</td>\n",
              "    </tr>\n",
              "    <tr>\n",
              "      <th>421566</th>\n",
              "      <td>45</td>\n",
              "      <td>94</td>\n",
              "      <td>2012-10-26</td>\n",
              "      <td>False</td>\n",
              "    </tr>\n",
              "    <tr>\n",
              "      <th>421567</th>\n",
              "      <td>45</td>\n",
              "      <td>95</td>\n",
              "      <td>2012-10-26</td>\n",
              "      <td>False</td>\n",
              "    </tr>\n",
              "    <tr>\n",
              "      <th>421568</th>\n",
              "      <td>45</td>\n",
              "      <td>97</td>\n",
              "      <td>2012-10-26</td>\n",
              "      <td>False</td>\n",
              "    </tr>\n",
              "    <tr>\n",
              "      <th>421569</th>\n",
              "      <td>45</td>\n",
              "      <td>98</td>\n",
              "      <td>2012-10-26</td>\n",
              "      <td>False</td>\n",
              "    </tr>\n",
              "  </tbody>\n",
              "</table>\n",
              "<p>84314 rows × 4 columns</p>\n",
              "</div>\n",
              "    <div class=\"colab-df-buttons\">\n",
              "\n",
              "  <div class=\"colab-df-container\">\n",
              "    <button class=\"colab-df-convert\" onclick=\"convertToInteractive('df-4bb82594-adad-432d-a18c-2010b1aa0b7f')\"\n",
              "            title=\"Convert this dataframe to an interactive table.\"\n",
              "            style=\"display:none;\">\n",
              "\n",
              "  <svg xmlns=\"http://www.w3.org/2000/svg\" height=\"24px\" viewBox=\"0 -960 960 960\">\n",
              "    <path d=\"M120-120v-720h720v720H120Zm60-500h600v-160H180v160Zm220 220h160v-160H400v160Zm0 220h160v-160H400v160ZM180-400h160v-160H180v160Zm440 0h160v-160H620v160ZM180-180h160v-160H180v160Zm440 0h160v-160H620v160Z\"/>\n",
              "  </svg>\n",
              "    </button>\n",
              "\n",
              "  <style>\n",
              "    .colab-df-container {\n",
              "      display:flex;\n",
              "      gap: 12px;\n",
              "    }\n",
              "\n",
              "    .colab-df-convert {\n",
              "      background-color: #E8F0FE;\n",
              "      border: none;\n",
              "      border-radius: 50%;\n",
              "      cursor: pointer;\n",
              "      display: none;\n",
              "      fill: #1967D2;\n",
              "      height: 32px;\n",
              "      padding: 0 0 0 0;\n",
              "      width: 32px;\n",
              "    }\n",
              "\n",
              "    .colab-df-convert:hover {\n",
              "      background-color: #E2EBFA;\n",
              "      box-shadow: 0px 1px 2px rgba(60, 64, 67, 0.3), 0px 1px 3px 1px rgba(60, 64, 67, 0.15);\n",
              "      fill: #174EA6;\n",
              "    }\n",
              "\n",
              "    .colab-df-buttons div {\n",
              "      margin-bottom: 4px;\n",
              "    }\n",
              "\n",
              "    [theme=dark] .colab-df-convert {\n",
              "      background-color: #3B4455;\n",
              "      fill: #D2E3FC;\n",
              "    }\n",
              "\n",
              "    [theme=dark] .colab-df-convert:hover {\n",
              "      background-color: #434B5C;\n",
              "      box-shadow: 0px 1px 3px 1px rgba(0, 0, 0, 0.15);\n",
              "      filter: drop-shadow(0px 1px 2px rgba(0, 0, 0, 0.3));\n",
              "      fill: #FFFFFF;\n",
              "    }\n",
              "  </style>\n",
              "\n",
              "    <script>\n",
              "      const buttonEl =\n",
              "        document.querySelector('#df-4bb82594-adad-432d-a18c-2010b1aa0b7f button.colab-df-convert');\n",
              "      buttonEl.style.display =\n",
              "        google.colab.kernel.accessAllowed ? 'block' : 'none';\n",
              "\n",
              "      async function convertToInteractive(key) {\n",
              "        const element = document.querySelector('#df-4bb82594-adad-432d-a18c-2010b1aa0b7f');\n",
              "        const dataTable =\n",
              "          await google.colab.kernel.invokeFunction('convertToInteractive',\n",
              "                                                    [key], {});\n",
              "        if (!dataTable) return;\n",
              "\n",
              "        const docLinkHtml = 'Like what you see? Visit the ' +\n",
              "          '<a target=\"_blank\" href=https://colab.research.google.com/notebooks/data_table.ipynb>data table notebook</a>'\n",
              "          + ' to learn more about interactive tables.';\n",
              "        element.innerHTML = '';\n",
              "        dataTable['output_type'] = 'display_data';\n",
              "        await google.colab.output.renderOutput(dataTable, element);\n",
              "        const docLink = document.createElement('div');\n",
              "        docLink.innerHTML = docLinkHtml;\n",
              "        element.appendChild(docLink);\n",
              "      }\n",
              "    </script>\n",
              "  </div>\n",
              "\n",
              "\n",
              "    <div id=\"df-b61e1134-92ff-4af3-b1d7-b56ca3c484c7\">\n",
              "      <button class=\"colab-df-quickchart\" onclick=\"quickchart('df-b61e1134-92ff-4af3-b1d7-b56ca3c484c7')\"\n",
              "                title=\"Suggest charts\"\n",
              "                style=\"display:none;\">\n",
              "\n",
              "<svg xmlns=\"http://www.w3.org/2000/svg\" height=\"24px\"viewBox=\"0 0 24 24\"\n",
              "     width=\"24px\">\n",
              "    <g>\n",
              "        <path d=\"M19 3H5c-1.1 0-2 .9-2 2v14c0 1.1.9 2 2 2h14c1.1 0 2-.9 2-2V5c0-1.1-.9-2-2-2zM9 17H7v-7h2v7zm4 0h-2V7h2v10zm4 0h-2v-4h2v4z\"/>\n",
              "    </g>\n",
              "</svg>\n",
              "      </button>\n",
              "\n",
              "<style>\n",
              "  .colab-df-quickchart {\n",
              "      --bg-color: #E8F0FE;\n",
              "      --fill-color: #1967D2;\n",
              "      --hover-bg-color: #E2EBFA;\n",
              "      --hover-fill-color: #174EA6;\n",
              "      --disabled-fill-color: #AAA;\n",
              "      --disabled-bg-color: #DDD;\n",
              "  }\n",
              "\n",
              "  [theme=dark] .colab-df-quickchart {\n",
              "      --bg-color: #3B4455;\n",
              "      --fill-color: #D2E3FC;\n",
              "      --hover-bg-color: #434B5C;\n",
              "      --hover-fill-color: #FFFFFF;\n",
              "      --disabled-bg-color: #3B4455;\n",
              "      --disabled-fill-color: #666;\n",
              "  }\n",
              "\n",
              "  .colab-df-quickchart {\n",
              "    background-color: var(--bg-color);\n",
              "    border: none;\n",
              "    border-radius: 50%;\n",
              "    cursor: pointer;\n",
              "    display: none;\n",
              "    fill: var(--fill-color);\n",
              "    height: 32px;\n",
              "    padding: 0;\n",
              "    width: 32px;\n",
              "  }\n",
              "\n",
              "  .colab-df-quickchart:hover {\n",
              "    background-color: var(--hover-bg-color);\n",
              "    box-shadow: 0 1px 2px rgba(60, 64, 67, 0.3), 0 1px 3px 1px rgba(60, 64, 67, 0.15);\n",
              "    fill: var(--button-hover-fill-color);\n",
              "  }\n",
              "\n",
              "  .colab-df-quickchart-complete:disabled,\n",
              "  .colab-df-quickchart-complete:disabled:hover {\n",
              "    background-color: var(--disabled-bg-color);\n",
              "    fill: var(--disabled-fill-color);\n",
              "    box-shadow: none;\n",
              "  }\n",
              "\n",
              "  .colab-df-spinner {\n",
              "    border: 2px solid var(--fill-color);\n",
              "    border-color: transparent;\n",
              "    border-bottom-color: var(--fill-color);\n",
              "    animation:\n",
              "      spin 1s steps(1) infinite;\n",
              "  }\n",
              "\n",
              "  @keyframes spin {\n",
              "    0% {\n",
              "      border-color: transparent;\n",
              "      border-bottom-color: var(--fill-color);\n",
              "      border-left-color: var(--fill-color);\n",
              "    }\n",
              "    20% {\n",
              "      border-color: transparent;\n",
              "      border-left-color: var(--fill-color);\n",
              "      border-top-color: var(--fill-color);\n",
              "    }\n",
              "    30% {\n",
              "      border-color: transparent;\n",
              "      border-left-color: var(--fill-color);\n",
              "      border-top-color: var(--fill-color);\n",
              "      border-right-color: var(--fill-color);\n",
              "    }\n",
              "    40% {\n",
              "      border-color: transparent;\n",
              "      border-right-color: var(--fill-color);\n",
              "      border-top-color: var(--fill-color);\n",
              "    }\n",
              "    60% {\n",
              "      border-color: transparent;\n",
              "      border-right-color: var(--fill-color);\n",
              "    }\n",
              "    80% {\n",
              "      border-color: transparent;\n",
              "      border-right-color: var(--fill-color);\n",
              "      border-bottom-color: var(--fill-color);\n",
              "    }\n",
              "    90% {\n",
              "      border-color: transparent;\n",
              "      border-bottom-color: var(--fill-color);\n",
              "    }\n",
              "  }\n",
              "</style>\n",
              "\n",
              "      <script>\n",
              "        async function quickchart(key) {\n",
              "          const quickchartButtonEl =\n",
              "            document.querySelector('#' + key + ' button');\n",
              "          quickchartButtonEl.disabled = true;  // To prevent multiple clicks.\n",
              "          quickchartButtonEl.classList.add('colab-df-spinner');\n",
              "          try {\n",
              "            const charts = await google.colab.kernel.invokeFunction(\n",
              "                'suggestCharts', [key], {});\n",
              "          } catch (error) {\n",
              "            console.error('Error during call to suggestCharts:', error);\n",
              "          }\n",
              "          quickchartButtonEl.classList.remove('colab-df-spinner');\n",
              "          quickchartButtonEl.classList.add('colab-df-quickchart-complete');\n",
              "        }\n",
              "        (() => {\n",
              "          let quickchartButtonEl =\n",
              "            document.querySelector('#df-b61e1134-92ff-4af3-b1d7-b56ca3c484c7 button');\n",
              "          quickchartButtonEl.style.display =\n",
              "            google.colab.kernel.accessAllowed ? 'block' : 'none';\n",
              "        })();\n",
              "      </script>\n",
              "    </div>\n",
              "\n",
              "  <div id=\"id_7748eb10-61e1-465e-b24a-eb49661ee073\">\n",
              "    <style>\n",
              "      .colab-df-generate {\n",
              "        background-color: #E8F0FE;\n",
              "        border: none;\n",
              "        border-radius: 50%;\n",
              "        cursor: pointer;\n",
              "        display: none;\n",
              "        fill: #1967D2;\n",
              "        height: 32px;\n",
              "        padding: 0 0 0 0;\n",
              "        width: 32px;\n",
              "      }\n",
              "\n",
              "      .colab-df-generate:hover {\n",
              "        background-color: #E2EBFA;\n",
              "        box-shadow: 0px 1px 2px rgba(60, 64, 67, 0.3), 0px 1px 3px 1px rgba(60, 64, 67, 0.15);\n",
              "        fill: #174EA6;\n",
              "      }\n",
              "\n",
              "      [theme=dark] .colab-df-generate {\n",
              "        background-color: #3B4455;\n",
              "        fill: #D2E3FC;\n",
              "      }\n",
              "\n",
              "      [theme=dark] .colab-df-generate:hover {\n",
              "        background-color: #434B5C;\n",
              "        box-shadow: 0px 1px 3px 1px rgba(0, 0, 0, 0.15);\n",
              "        filter: drop-shadow(0px 1px 2px rgba(0, 0, 0, 0.3));\n",
              "        fill: #FFFFFF;\n",
              "      }\n",
              "    </style>\n",
              "    <button class=\"colab-df-generate\" onclick=\"generateWithVariable('X_valid')\"\n",
              "            title=\"Generate code using this dataframe.\"\n",
              "            style=\"display:none;\">\n",
              "\n",
              "  <svg xmlns=\"http://www.w3.org/2000/svg\" height=\"24px\"viewBox=\"0 0 24 24\"\n",
              "       width=\"24px\">\n",
              "    <path d=\"M7,19H8.4L18.45,9,17,7.55,7,17.6ZM5,21V16.75L18.45,3.32a2,2,0,0,1,2.83,0l1.4,1.43a1.91,1.91,0,0,1,.58,1.4,1.91,1.91,0,0,1-.58,1.4L9.25,21ZM18.45,9,17,7.55Zm-12,3A5.31,5.31,0,0,0,4.9,8.1,5.31,5.31,0,0,0,1,6.5,5.31,5.31,0,0,0,4.9,4.9,5.31,5.31,0,0,0,6.5,1,5.31,5.31,0,0,0,8.1,4.9,5.31,5.31,0,0,0,12,6.5,5.46,5.46,0,0,0,6.5,12Z\"/>\n",
              "  </svg>\n",
              "    </button>\n",
              "    <script>\n",
              "      (() => {\n",
              "      const buttonEl =\n",
              "        document.querySelector('#id_7748eb10-61e1-465e-b24a-eb49661ee073 button.colab-df-generate');\n",
              "      buttonEl.style.display =\n",
              "        google.colab.kernel.accessAllowed ? 'block' : 'none';\n",
              "\n",
              "      buttonEl.onclick = () => {\n",
              "        google.colab.notebook.generateWithVariable('X_valid');\n",
              "      }\n",
              "      })();\n",
              "    </script>\n",
              "  </div>\n",
              "\n",
              "    </div>\n",
              "  </div>\n"
            ],
            "application/vnd.google.colaboratory.intrinsic+json": {
              "type": "dataframe",
              "variable_name": "X_valid",
              "summary": "{\n  \"name\": \"X_valid\",\n  \"rows\": 84314,\n  \"fields\": [\n    {\n      \"column\": \"Store\",\n      \"properties\": {\n        \"dtype\": \"number\",\n        \"std\": 12,\n        \"min\": 1,\n        \"max\": 45,\n        \"num_unique_values\": 45,\n        \"samples\": [\n          16,\n          2,\n          3\n        ],\n        \"semantic_type\": \"\",\n        \"description\": \"\"\n      }\n    },\n    {\n      \"column\": \"Dept\",\n      \"properties\": {\n        \"dtype\": \"number\",\n        \"std\": 30,\n        \"min\": 1,\n        \"max\": 99,\n        \"num_unique_values\": 81,\n        \"samples\": [\n          87,\n          32,\n          72\n        ],\n        \"semantic_type\": \"\",\n        \"description\": \"\"\n      }\n    },\n    {\n      \"column\": \"Date\",\n      \"properties\": {\n        \"dtype\": \"date\",\n        \"min\": \"2012-04-13 00:00:00\",\n        \"max\": \"2012-10-26 00:00:00\",\n        \"num_unique_values\": 29,\n        \"samples\": [\n          \"2012-10-19 00:00:00\",\n          \"2012-08-03 00:00:00\",\n          \"2012-07-06 00:00:00\"\n        ],\n        \"semantic_type\": \"\",\n        \"description\": \"\"\n      }\n    },\n    {\n      \"column\": \"IsHoliday\",\n      \"properties\": {\n        \"dtype\": \"boolean\",\n        \"num_unique_values\": 2,\n        \"samples\": [\n          true,\n          false\n        ],\n        \"semantic_type\": \"\",\n        \"description\": \"\"\n      }\n    }\n  ]\n}"
            }
          },
          "metadata": {},
          "execution_count": 62
        }
      ]
    },
    {
      "cell_type": "markdown",
      "source": [
        "# Train"
      ],
      "metadata": {
        "id": "Gsk3kxUHPoOB"
      }
    },
    {
      "cell_type": "markdown",
      "source": [
        "We begin by defining the `run_patchtst_cv` method, which will be used throughout this notebook to perform cross-validation for the PatchTST model."
      ],
      "metadata": {
        "id": "vnywosCeN2Si"
      }
    },
    {
      "cell_type": "code",
      "source": [
        "from itertools import product\n",
        "from neuralforecast.models import PatchTST\n",
        "from models.neural_forecast_models import NeuralForecastModels\n",
        "from src.utils import wmae as compute_wmae\n",
        "import logging\n",
        "\n",
        "logging.getLogger().setLevel(logging.WARNING)\n",
        "logging.getLogger(\"neuralforecast\").setLevel(logging.WARNING)\n",
        "logging.getLogger(\"pytorch_lightning\").setLevel(logging.WARNING)\n",
        "logging.getLogger(\"lightning_fabric\").setLevel(logging.WARNING)\n",
        "\n",
        "def run_patchtst_cv(X_train, y_train, X_valid, y_valid,\n",
        "                            param_grid,\n",
        "                            fixed_params,\n",
        "                            return_all=False):\n",
        "    results = []\n",
        "\n",
        "    keys, values = zip(*param_grid.items())\n",
        "    for vals in product(*values):\n",
        "        params = dict(zip(keys, vals))\n",
        "        params.update(fixed_params)\n",
        "\n",
        "        params['enable_progress_bar'] = False\n",
        "        params['enable_model_summary'] = False\n",
        "\n",
        "        model = PatchTST(**params)\n",
        "\n",
        "        nf_model = NeuralForecastModels(models=[model], model_names=['PatchTST'], freq='W-FRI', one_model=True)\n",
        "        nf_model.fit(X_train, y_train)\n",
        "        y_pred = nf_model.predict(X_valid)\n",
        "        score = compute_wmae(y_valid, y_pred, X_valid['IsHoliday'])\n",
        "\n",
        "        result = {'wmae': score, 'preds': y_pred}\n",
        "        result.update(params)\n",
        "\n",
        "        results.append(result)\n",
        "        print(\" → \".join(f\"{k}={v}\" for k,v in params.items() if k not in ['enable_progress_bar','enable_model_summary']) + f\" → WMAE={score:.4f}\")\n",
        "\n",
        "    if return_all:\n",
        "        return results\n",
        "    else:\n",
        "        return min(results, key=lambda r: r['wmae'])\n"
      ],
      "metadata": {
        "id": "Sld7avoVkMbi"
      },
      "execution_count": null,
      "outputs": []
    },
    {
      "cell_type": "markdown",
      "source": [
        "## Input Size and Batch Size\n",
        "\n",
        "\n"
      ],
      "metadata": {
        "id": "IECwJObCLTOp"
      }
    },
    {
      "cell_type": "markdown",
      "source": [
        "The first hyperparameters we will tune are:\n",
        "\n",
        "- **Input Size**: This determines how many past time steps the model uses to make a prediction. Choosing an appropriate input size is crucial because too small a window may miss important patterns, while too large may introduce noise and increase computational cost.\n",
        "\n",
        "- **Batch Size**: This controls how many samples the model processes before updating its internal weights. The batch size affects training stability and speed. Smaller batches offer more frequent updates but can be noisy; larger batches provide smoother gradients but require more memory."
      ],
      "metadata": {
        "id": "vjfZxdkxNyEZ"
      }
    },
    {
      "cell_type": "code",
      "source": [
        "from neuralforecast import NeuralForecast\n",
        "from neuralforecast.models import PatchTST\n",
        "from models.neural_forecast_models import NeuralForecastModels\n",
        "from src.utils import wmae as compute_wmae\n",
        "\n",
        "param_grid = {\n",
        "    'input_size' : [40, 52, 70],\n",
        "    'batch_size' : [32, 64, 128]\n",
        "}\n",
        "\n",
        "fixed_params = {\n",
        "    'max_steps': 25 * 104,\n",
        "    'h': 53,\n",
        "    'random_seed': 42,\n",
        "}\n",
        "\n",
        "best_result = run_patchtst_cv(\n",
        "    X_train, y_train, X_valid, y_valid,\n",
        "    param_grid=param_grid,\n",
        "    fixed_params=fixed_params,\n",
        "    return_all=False\n",
        ")\n",
        "\n",
        "print(\"\\nBest hyperparameters found:\")\n",
        "for param in param_grid.keys():\n",
        "    print(f\"  {param}: {best_result[param]}\")\n",
        "print(f\"Best WMAE: {best_result['wmae']:.4f}\")\n"
      ],
      "metadata": {
        "colab": {
          "base_uri": "https://localhost:8080/"
        },
        "id": "7QEmzaYVPqnm",
        "outputId": "c4d9c82a-22f2-4fb3-8986-e449d540e45e"
      },
      "execution_count": null,
      "outputs": [
        {
          "output_type": "stream",
          "name": "stdout",
          "text": [
            "input_size=40, batch_size=32 → WMAE=1727.5545\n",
            "input_size=40, batch_size=64 → WMAE=1702.6652\n",
            "input_size=40, batch_size=128 → WMAE=1716.7269\n",
            "input_size=52, batch_size=32 → WMAE=1562.4860\n",
            "input_size=52, batch_size=64 → WMAE=1538.3386\n",
            "input_size=52, batch_size=128 → WMAE=1549.5148\n",
            "input_size=70, batch_size=32 → WMAE=1637.8330\n",
            "input_size=70, batch_size=64 → WMAE=1670.5391\n",
            "input_size=70, batch_size=128 → WMAE=1643.3104\n"
          ]
        }
      ]
    },
    {
      "cell_type": "code",
      "source": [
        "param_grid = {\n",
        "    'dropout': [0.0, 0.1, 0.2],\n",
        "    # 'patch_len': [2, 4],\n",
        "    # 'stride': [1, 2, 4],\n",
        "}\n",
        "\n",
        "fixed_params = {\n",
        "    'max_steps': 25 * 104,\n",
        "    'h': 53,\n",
        "    'random_seed': 42,\n",
        "    'input_size': 52,\n",
        "    'batch_size' : 64,\n",
        "}\n",
        "\n",
        "best_result = run_patchtst_cv(\n",
        "    X_train, y_train, X_valid, y_valid,\n",
        "    param_grid=param_grid,\n",
        "    fixed_params=fixed_params,\n",
        "    return_all=False\n",
        ")\n",
        "\n",
        "print(\"\\nBest hyperparameters found:\")\n",
        "for param in param_grid.keys():\n",
        "    print(f\"  {param}: {best_result[param]}\")\n",
        "print(f\"Best WMAE: {best_result['wmae']:.4f}\")\n"
      ],
      "metadata": {
        "colab": {
          "base_uri": "https://localhost:8080/"
        },
        "id": "mHpWlTW1sFlt",
        "outputId": "39f6c05d-8db5-49ab-d590-662805f97b11"
      },
      "execution_count": null,
      "outputs": [
        {
          "output_type": "stream",
          "name": "stdout",
          "text": [
            "dropout=0.0 → max_steps=2600 → h=53 → random_seed=42 → input_size=52 → batch_size=64 → WMAE=1573.5200\n",
            "dropout=0.1 → max_steps=2600 → h=53 → random_seed=42 → input_size=52 → batch_size=64 → WMAE=1540.9934\n",
            "dropout=0.2 → max_steps=2600 → h=53 → random_seed=42 → input_size=52 → batch_size=64 → WMAE=1538.3386\n",
            "\n",
            "Best hyperparameters found:\n",
            "  dropout: 0.2\n",
            "Best WMAE: 1538.3386\n"
          ]
        }
      ]
    },
    {
      "cell_type": "markdown",
      "source": [
        "## Regularization\n",
        "\n"
      ],
      "metadata": {
        "id": "qlrKROMGMROV"
      }
    },
    {
      "cell_type": "markdown",
      "source": [
        "We will tune dropout rates among the values **0.0**, **0.1**, and **0.2**, in order to deal with potential overfitting."
      ],
      "metadata": {
        "id": "ygKbNKDmNvJT"
      }
    },
    {
      "cell_type": "code",
      "source": [
        "param_grid = {\n",
        "    'dropout': [0.2, 0.4],\n",
        "    'patch_len': [2, 4],\n",
        "}\n",
        "\n",
        "fixed_params = {\n",
        "    'max_steps': 25 * 104,\n",
        "    'h': 53,\n",
        "    'random_seed': 42,\n",
        "    'input_size': 52,\n",
        "    'batch_size' : 64,\n",
        "}\n",
        "\n",
        "best_result = run_patchtst_cv(\n",
        "    X_train, y_train, X_valid, y_valid,\n",
        "    param_grid=param_grid,\n",
        "    fixed_params=fixed_params,\n",
        "    return_all=False\n",
        ")\n",
        "\n",
        "print(\"\\nBest hyperparameters found:\")\n",
        "for param in param_grid.keys():\n",
        "    print(f\"  {param}: {best_result[param]}\")\n",
        "print(f\"Best WMAE: {best_result['wmae']:.4f}\")\n"
      ],
      "metadata": {
        "colab": {
          "base_uri": "https://localhost:8080/"
        },
        "id": "ksO_x-g7vpmz",
        "outputId": "021642be-790b-4e69-cbb9-e7dce5e10d98"
      },
      "execution_count": null,
      "outputs": [
        {
          "output_type": "stream",
          "name": "stdout",
          "text": [
            "dropout=0.2 → patch_len=2 → max_steps=2600 → h=53 → random_seed=42 → input_size=52 → batch_size=64 → WMAE=1769.1498\n",
            "dropout=0.2 → patch_len=4 → max_steps=2600 → h=53 → random_seed=42 → input_size=52 → batch_size=64 → WMAE=1657.5459\n",
            "dropout=0.4 → patch_len=2 → max_steps=2600 → h=53 → random_seed=42 → input_size=52 → batch_size=64 → WMAE=1823.3388\n",
            "dropout=0.4 → patch_len=4 → max_steps=2600 → h=53 → random_seed=42 → input_size=52 → batch_size=64 → WMAE=1692.0812\n",
            "\n",
            "Best hyperparameters found:\n",
            "  dropout: 0.2\n",
            "  patch_len: 4\n",
            "Best WMAE: 1657.5459\n"
          ]
        }
      ]
    },
    {
      "cell_type": "markdown",
      "source": [
        "## Other Hyperparameters\n",
        "\n"
      ],
      "metadata": {
        "id": "tqAMkTmVMYgp"
      }
    },
    {
      "cell_type": "markdown",
      "source": [
        "Although the model appears to capture the information quite well, we will still tune the **stride** and **patch length** parameters. However, we will focus on using moderately smaller values to balance model complexity and computational efficiency.\n"
      ],
      "metadata": {
        "id": "APOzxDhYNsI1"
      }
    },
    {
      "cell_type": "code",
      "source": [
        "param_grid = {\n",
        "    'patch_len': [16, 32],\n",
        "    'stride' : [8, 16]\n",
        "}\n",
        "\n",
        "fixed_params = {\n",
        "    'max_steps': 25 * 104,\n",
        "    'h': 53,\n",
        "    'dropout' : 0.2,\n",
        "    'random_seed': 42,\n",
        "    'input_size': 52,\n",
        "    'batch_size' : 64,\n",
        "}\n",
        "\n",
        "best_result = run_patchtst_cv(\n",
        "    X_train, y_train, X_valid, y_valid,\n",
        "    param_grid=param_grid,\n",
        "    fixed_params=fixed_params,\n",
        "    return_all=False\n",
        ")\n",
        "\n",
        "print(\"\\nBest hyperparameters found:\")\n",
        "for param in param_grid.keys():\n",
        "    print(f\"  {param}: {best_result[param]}\")\n",
        "print(f\"Best WMAE: {best_result['wmae']:.4f}\")\n"
      ],
      "metadata": {
        "colab": {
          "base_uri": "https://localhost:8080/"
        },
        "id": "MJpUjIkJyA1f",
        "outputId": "877834a4-1f80-4e22-c67b-68d1c76b9a5f"
      },
      "execution_count": null,
      "outputs": [
        {
          "output_type": "stream",
          "name": "stdout",
          "text": [
            "patch_len=16 → stride=8 → max_steps=2600 → h=53 → dropout=0.2 → random_seed=42 → input_size=52 → batch_size=64 → WMAE=1538.3386\n",
            "patch_len=16 → stride=16 → max_steps=2600 → h=53 → dropout=0.2 → random_seed=42 → input_size=52 → batch_size=64 → WMAE=1558.7274\n",
            "patch_len=32 → stride=8 → max_steps=2600 → h=53 → dropout=0.2 → random_seed=42 → input_size=52 → batch_size=64 → WMAE=1554.5784\n",
            "patch_len=32 → stride=16 → max_steps=2600 → h=53 → dropout=0.2 → random_seed=42 → input_size=52 → batch_size=64 → WMAE=1560.6312\n",
            "\n",
            "Best hyperparameters found:\n",
            "  patch_len: 16\n",
            "  stride: 8\n",
            "Best WMAE: 1538.3386\n"
          ]
        }
      ]
    },
    {
      "cell_type": "markdown",
      "source": [
        "Finally, it is a good idea to experiment with learning variables like learning rate, optimizer, and activation function because it’s interesting to see if we can help the model learn more effectively and extract better information from the data.\n"
      ],
      "metadata": {
        "id": "vYNnEWvLONB3"
      }
    },
    {
      "cell_type": "code",
      "source": [
        "import torch.optim as optim\n",
        "\n",
        "param_grid = {\n",
        "    'optimizer': [optim.Adam, optim.AdamW],\n",
        "    'learning_rate': [5e-3, 1e-3, 5e-4]\n",
        "}\n",
        "\n",
        "fixed_params = {\n",
        "    'max_steps': 25 * 104,\n",
        "    'h': 53,\n",
        "    'dropout' : 0.2,\n",
        "    'random_seed': 42,\n",
        "    'input_size': 52,\n",
        "    'batch_size' : 64,\n",
        "}\n",
        "\n",
        "best_result = run_patchtst_cv(\n",
        "    X_train, y_train, X_valid, y_valid,\n",
        "    param_grid=param_grid,\n",
        "    fixed_params=fixed_params,\n",
        "    return_all=False\n",
        ")\n",
        "\n",
        "print(\"\\nBest hyperparameters found:\")\n",
        "for param in param_grid.keys():\n",
        "    print(f\"  {param}: {best_result[param]}\")\n",
        "print(f\"Best WMAE: {best_result['wmae']:.4f}\")\n"
      ],
      "metadata": {
        "colab": {
          "base_uri": "https://localhost:8080/"
        },
        "id": "QXTbscIQy7qb",
        "outputId": "4b67b0f6-f795-4be1-fb0b-d3dfe49950cb"
      },
      "execution_count": null,
      "outputs": [
        {
          "output_type": "stream",
          "name": "stdout",
          "text": [
            "optimizer=<class 'torch.optim.adam.Adam'> → learning_rate=0.005 → max_steps=2600 → h=53 → dropout=0.2 → random_seed=42 → input_size=52 → batch_size=64 → WMAE=1813.3649\n",
            "optimizer=<class 'torch.optim.adam.Adam'> → learning_rate=0.001 → max_steps=2600 → h=53 → dropout=0.2 → random_seed=42 → input_size=52 → batch_size=64 → WMAE=1580.1102\n",
            "optimizer=<class 'torch.optim.adam.Adam'> → learning_rate=0.0005 → max_steps=2600 → h=53 → dropout=0.2 → random_seed=42 → input_size=52 → batch_size=64 → WMAE=1568.4398\n",
            "optimizer=<class 'torch.optim.adamw.AdamW'> → learning_rate=0.005 → max_steps=2600 → h=53 → dropout=0.2 → random_seed=42 → input_size=52 → batch_size=64 → WMAE=1764.6460\n",
            "optimizer=<class 'torch.optim.adamw.AdamW'> → learning_rate=0.001 → max_steps=2600 → h=53 → dropout=0.2 → random_seed=42 → input_size=52 → batch_size=64 → WMAE=1576.4206\n",
            "optimizer=<class 'torch.optim.adamw.AdamW'> → learning_rate=0.0005 → max_steps=2600 → h=53 → dropout=0.2 → random_seed=42 → input_size=52 → batch_size=64 → WMAE=1572.6651\n",
            "\n",
            "Best hyperparameters found:\n",
            "  optimizer: <class 'torch.optim.adam.Adam'>\n",
            "  learning_rate: 0.0005\n",
            "Best WMAE: 1568.4398\n"
          ]
        }
      ]
    },
    {
      "cell_type": "code",
      "source": [
        "import torch.optim as optim\n",
        "\n",
        "param_grid = {\n",
        "    'learning_rate': [1e-4, 5e-4, 1e-5]\n",
        "}\n",
        "\n",
        "fixed_params = {\n",
        "    'max_steps': 25 * 104,\n",
        "    'h': 53,\n",
        "    'dropout' : 0.2,\n",
        "    'random_seed': 42,\n",
        "    'input_size': 52,\n",
        "    'batch_size' : 64,\n",
        "}\n",
        "\n",
        "best_result = run_patchtst_cv(\n",
        "    X_train, y_train, X_valid, y_valid,\n",
        "    param_grid=param_grid,\n",
        "    fixed_params=fixed_params,\n",
        "    return_all=False\n",
        ")\n",
        "\n",
        "print(\"\\nBest hyperparameters found:\")\n",
        "for param in param_grid.keys():\n",
        "    print(f\"  {param}: {best_result[param]}\")\n",
        "print(f\"Best WMAE: {best_result['wmae']:.4f}\")\n"
      ],
      "metadata": {
        "colab": {
          "base_uri": "https://localhost:8080/"
        },
        "id": "g3v08Nj71wKk",
        "outputId": "8856892c-3340-43ba-e10d-29e82f95a3b9"
      },
      "execution_count": null,
      "outputs": [
        {
          "output_type": "stream",
          "name": "stdout",
          "text": [
            "learning_rate=0.0001 → max_steps=2600 → h=53 → dropout=0.2 → random_seed=42 → input_size=52 → batch_size=64 → WMAE=1538.3386\n",
            "learning_rate=0.0005 → max_steps=2600 → h=53 → dropout=0.2 → random_seed=42 → input_size=52 → batch_size=64 → WMAE=1568.4398\n",
            "learning_rate=1e-05 → max_steps=2600 → h=53 → dropout=0.2 → random_seed=42 → input_size=52 → batch_size=64 → WMAE=1626.1420\n",
            "\n",
            "Best hyperparameters found:\n",
            "  learning_rate: 0.0001\n",
            "Best WMAE: 1538.3386\n"
          ]
        }
      ]
    },
    {
      "cell_type": "code",
      "source": [
        "param_grid = {\n",
        "    'activation': ['relu', 'gelu']\n",
        "}\n",
        "\n",
        "\n",
        "fixed_params = {\n",
        "    'max_steps': 25 * 104,\n",
        "    'h': 53,\n",
        "    'dropout' : 0.2,\n",
        "    'random_seed': 42,\n",
        "    'input_size': 52,\n",
        "    'batch_size' : 64,\n",
        "}\n",
        "\n",
        "best_result = run_patchtst_cv(\n",
        "    X_train, y_train, X_valid, y_valid,\n",
        "    param_grid=param_grid,\n",
        "    fixed_params=fixed_params,\n",
        "    return_all=False\n",
        ")\n",
        "\n",
        "print(\"\\nBest hyperparameters found:\")\n",
        "for param in param_grid.keys():\n",
        "    print(f\"  {param}: {best_result[param]}\")\n",
        "print(f\"Best WMAE: {best_result['wmae']:.4f}\")\n"
      ],
      "metadata": {
        "colab": {
          "base_uri": "https://localhost:8080/"
        },
        "id": "20H_9ZhX22T5",
        "outputId": "b160bb55-fe16-47fb-9196-00d519b94214"
      },
      "execution_count": null,
      "outputs": [
        {
          "output_type": "stream",
          "name": "stdout",
          "text": [
            "activation=relu → max_steps=2600 → h=53 → dropout=0.2 → random_seed=42 → input_size=52 → batch_size=64 → WMAE=1537.9701\n",
            "activation=gelu → max_steps=2600 → h=53 → dropout=0.2 → random_seed=42 → input_size=52 → batch_size=64 → WMAE=1538.3386\n",
            "\n",
            "Best hyperparameters found:\n",
            "  activation: relu\n",
            "Best WMAE: 1537.9701\n"
          ]
        }
      ]
    },
    {
      "cell_type": "markdown",
      "source": [
        "# Final Model"
      ],
      "metadata": {
        "id": "KzfBHVl44vo_"
      }
    },
    {
      "cell_type": "markdown",
      "source": [
        "\n",
        "The best model found via cross-validation is shown below:\n",
        "\n",
        "| Parameter            | Value          |\n",
        "|----------------------|----------------|\n",
        "| **input_size**       | 52             |\n",
        "| **dropout**          | 0.2            |\n",
        "| **h (forecast horizon)** | 53         |\n",
        "| **max_steps**        | 6240 (60 * 104)|\n",
        "| **batch_size**       | 64             |\n",
        "| **random_seed**      | 42             |\n",
        "| **activation**       | relu           |\n",
        "\n",
        "\n",
        "Validation score (WMAE): **1526.46**\n"
      ],
      "metadata": {
        "id": "LFQW3ja2Oy69"
      }
    },
    {
      "cell_type": "code",
      "source": [
        "from neuralforecast.models import PatchTST\n",
        "from models.neural_forecast_models import NeuralForecastModels\n",
        "from src.utils import wmae as compute_wmae\n",
        "\n",
        "model = PatchTST(\n",
        "    input_size=52,\n",
        "    dropout = 0.2,\n",
        "    h=53,\n",
        "    max_steps= 60 * 104,\n",
        "    batch_size=64,\n",
        "    random_seed=42,\n",
        "    activation='relu',\n",
        "    enable_progress_bar=False,\n",
        "    enable_model_summary=False,\n",
        ")\n",
        "nf_model = NeuralForecastModels(models=[model], model_names=['PatchTST'], freq='W-FRI', one_model=True)\n",
        "\n",
        "nf_model.fit(X_train, y_train)\n",
        "y_pred = nf_model.predict(X_valid)\n",
        "wmae = compute_wmae(y_valid, y_pred, X_valid['IsHoliday'])\n",
        "\n",
        "print(wmae)"
      ],
      "metadata": {
        "colab": {
          "base_uri": "https://localhost:8080/"
        },
        "id": "XjlInYEP44_a",
        "outputId": "3ea6d3b5-d7ec-4b42-9ac4-6bb63fde87f7"
      },
      "execution_count": null,
      "outputs": [
        {
          "output_type": "stream",
          "name": "stdout",
          "text": [
            "1526.4649587770039\n"
          ]
        }
      ]
    },
    {
      "cell_type": "markdown",
      "source": [
        "Now, we will train the selected best model on the entire dataset to leverage all available data. Additionally, we will log the training process and metrics using **Weights & Biases (wandb)** for experiment tracking."
      ],
      "metadata": {
        "id": "3L5YaaMLO8qt"
      }
    },
    {
      "cell_type": "code",
      "source": [
        "from neuralforecast.models import PatchTST\n",
        "from models.neural_forecast_models import NeuralForecastModels\n",
        "from src.utils import wmae as compute_wmae\n",
        "\n",
        "model = PatchTST(\n",
        "    input_size=52,\n",
        "    dropout = 0.2,\n",
        "    h=53,\n",
        "    max_steps= 60 * 104,\n",
        "    batch_size=64,\n",
        "    random_seed=42,\n",
        "    activation='relu',\n",
        "    enable_progress_bar=False,\n",
        "    enable_model_summary=False,\n",
        ")\n",
        "nf_model = NeuralForecastModels(models=[model], model_names=['PatchTST'], freq='W-FRI', one_model=True)\n",
        "\n",
        "nf_model.fit(df.drop(columns='Weekly_Sales'), df['Weekly_Sales'])"
      ],
      "metadata": {
        "id": "IksIMdg-6qoa"
      },
      "execution_count": null,
      "outputs": []
    },
    {
      "cell_type": "code",
      "source": [
        "from configs import basic_config\n",
        "from configs import nn_models_config\n",
        "\n",
        "import importlib\n",
        "importlib.reload(basic_config)\n",
        "importlib.reload(nn_models_config)\n",
        "\n",
        "from sklearn.pipeline import Pipeline\n",
        "from configs.basic_config import minimal_config as cfg\n",
        "from configs.nn_models_config import patchtst_config\n",
        "from src.utils import log_to_wandb\n",
        "\n",
        "log_to_wandb(\n",
        "    model=nf_model,\n",
        "    train_score=-1,\n",
        "    val_score=wmae,\n",
        "    config=cfg | patchtst_config,\n",
        "    run_name='patch_tst_01',\n",
        "    artifact_name=\"patch_tst\",\n",
        ")"
      ],
      "metadata": {
        "colab": {
          "base_uri": "https://localhost:8080/",
          "height": 466
        },
        "id": "RaDkQjK_8L8y",
        "outputId": "6f5485f6-d2a3-42fe-ae12-bd7004a9c043"
      },
      "execution_count": null,
      "outputs": [
        {
          "output_type": "stream",
          "name": "stderr",
          "text": [
            "\u001b[34m\u001b[1mwandb\u001b[0m: Currently logged in as: \u001b[33mzhorzholianimate\u001b[0m (\u001b[33mMLBeasts\u001b[0m) to \u001b[32mhttps://api.wandb.ai\u001b[0m. Use \u001b[1m`wandb login --relogin`\u001b[0m to force relogin\n"
          ]
        },
        {
          "output_type": "display_data",
          "data": {
            "text/plain": [
              "<IPython.core.display.HTML object>"
            ],
            "text/html": [
              "Tracking run with wandb version 0.20.1"
            ]
          },
          "metadata": {}
        },
        {
          "output_type": "display_data",
          "data": {
            "text/plain": [
              "<IPython.core.display.HTML object>"
            ],
            "text/html": [
              "Run data is saved locally in <code>/content/Walmart-Recruiting-Store-Sales-Forecasting/wandb/run-20250707_125618-4k79q4n3</code>"
            ]
          },
          "metadata": {}
        },
        {
          "output_type": "display_data",
          "data": {
            "text/plain": [
              "<IPython.core.display.HTML object>"
            ],
            "text/html": [
              "Syncing run <strong><a href='https://wandb.ai/MLBeasts/Walmart%20Recruiting%20-%20Store%20Sales%20Forecasting/runs/4k79q4n3' target=\"_blank\">patch_tst_01</a></strong> to <a href='https://wandb.ai/MLBeasts/Walmart%20Recruiting%20-%20Store%20Sales%20Forecasting' target=\"_blank\">Weights & Biases</a> (<a href='https://wandb.me/developer-guide' target=\"_blank\">docs</a>)<br>"
            ]
          },
          "metadata": {}
        },
        {
          "output_type": "display_data",
          "data": {
            "text/plain": [
              "<IPython.core.display.HTML object>"
            ],
            "text/html": [
              " View project at <a href='https://wandb.ai/MLBeasts/Walmart%20Recruiting%20-%20Store%20Sales%20Forecasting' target=\"_blank\">https://wandb.ai/MLBeasts/Walmart%20Recruiting%20-%20Store%20Sales%20Forecasting</a>"
            ]
          },
          "metadata": {}
        },
        {
          "output_type": "display_data",
          "data": {
            "text/plain": [
              "<IPython.core.display.HTML object>"
            ],
            "text/html": [
              " View run at <a href='https://wandb.ai/MLBeasts/Walmart%20Recruiting%20-%20Store%20Sales%20Forecasting/runs/4k79q4n3' target=\"_blank\">https://wandb.ai/MLBeasts/Walmart%20Recruiting%20-%20Store%20Sales%20Forecasting/runs/4k79q4n3</a>"
            ]
          },
          "metadata": {}
        },
        {
          "output_type": "display_data",
          "data": {
            "text/plain": [
              "<IPython.core.display.HTML object>"
            ],
            "text/html": []
          },
          "metadata": {}
        },
        {
          "output_type": "display_data",
          "data": {
            "text/plain": [
              "<IPython.core.display.HTML object>"
            ],
            "text/html": [
              "<br>    <style><br>        .wandb-row {<br>            display: flex;<br>            flex-direction: row;<br>            flex-wrap: wrap;<br>            justify-content: flex-start;<br>            width: 100%;<br>        }<br>        .wandb-col {<br>            display: flex;<br>            flex-direction: column;<br>            flex-basis: 100%;<br>            flex: 1;<br>            padding: 10px;<br>        }<br>    </style><br><div class=\"wandb-row\"><div class=\"wandb-col\"><h3>Run history:</h3><br/><table class=\"wandb\"><tr><td>train_wmae</td><td>▁</td></tr><tr><td>val_wmae</td><td>▁</td></tr></table><br/></div><div class=\"wandb-col\"><h3>Run summary:</h3><br/><table class=\"wandb\"><tr><td>train_wmae</td><td>-1</td></tr><tr><td>val_wmae</td><td>1526.46496</td></tr></table><br/></div></div>"
            ]
          },
          "metadata": {}
        },
        {
          "output_type": "display_data",
          "data": {
            "text/plain": [
              "<IPython.core.display.HTML object>"
            ],
            "text/html": [
              " View run <strong style=\"color:#cdcd00\">patch_tst_01</strong> at: <a href='https://wandb.ai/MLBeasts/Walmart%20Recruiting%20-%20Store%20Sales%20Forecasting/runs/4k79q4n3' target=\"_blank\">https://wandb.ai/MLBeasts/Walmart%20Recruiting%20-%20Store%20Sales%20Forecasting/runs/4k79q4n3</a><br> View project at: <a href='https://wandb.ai/MLBeasts/Walmart%20Recruiting%20-%20Store%20Sales%20Forecasting' target=\"_blank\">https://wandb.ai/MLBeasts/Walmart%20Recruiting%20-%20Store%20Sales%20Forecasting</a><br>Synced 5 W&B file(s), 0 media file(s), 2 artifact file(s) and 0 other file(s)"
            ]
          },
          "metadata": {}
        },
        {
          "output_type": "display_data",
          "data": {
            "text/plain": [
              "<IPython.core.display.HTML object>"
            ],
            "text/html": [
              "Find logs at: <code>./wandb/run-20250707_125618-4k79q4n3/logs</code>"
            ]
          },
          "metadata": {}
        }
      ]
    }
  ]
}